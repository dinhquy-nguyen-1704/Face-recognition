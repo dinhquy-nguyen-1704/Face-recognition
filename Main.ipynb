{
  "cells": [
    {
      "cell_type": "markdown",
      "metadata": {
        "id": "view-in-github",
        "colab_type": "text"
      },
      "source": [
        "<a href=\"https://colab.research.google.com/github/dinhquy-nguyen-1704/NguyenDinhQuy_01/blob/main/Main.ipynb\" target=\"_parent\"><img src=\"https://colab.research.google.com/assets/colab-badge.svg\" alt=\"Open In Colab\"/></a>"
      ]
    },
    {
      "cell_type": "code",
      "execution_count": null,
      "metadata": {
        "colab": {
          "base_uri": "https://localhost:8080/"
        },
        "id": "hek48zksVjBN",
        "outputId": "58878e08-a2f1-4fd2-9d2a-3437e101bcb7"
      },
      "outputs": [
        {
          "output_type": "stream",
          "name": "stdout",
          "text": [
            "Mounted at /content/drive\n"
          ]
        }
      ],
      "source": [
        "from google.colab import drive\n",
        "drive.mount('/content/drive')"
      ]
    },
    {
      "cell_type": "code",
      "execution_count": null,
      "metadata": {
        "colab": {
          "base_uri": "https://localhost:8080/"
        },
        "id": "m-Rv3wn5dU_W",
        "outputId": "f1ba4e77-8acc-476e-c253-0b2e197fe115"
      },
      "outputs": [
        {
          "output_type": "stream",
          "name": "stdout",
          "text": [
            "/content/drive/.shortcut-targets-by-id/1tBK5XJpQsi5a1f_SCa_4sBf7pdjQ5oc6/Đình Quý_Coursework_AI4E\n"
          ]
        }
      ],
      "source": [
        "%cd '/content/drive/MyDrive/Đình Quý_Coursework_AI4E'"
      ]
    },
    {
      "cell_type": "code",
      "execution_count": null,
      "metadata": {
        "colab": {
          "base_uri": "https://localhost:8080/"
        },
        "id": "hr02qFF8xYVw",
        "outputId": "e28fe9f5-d38f-4512-db78-787d68941749"
      },
      "outputs": [
        {
          "output_type": "stream",
          "name": "stdout",
          "text": [
            "Looking in indexes: https://pypi.org/simple, https://us-python.pkg.dev/colab-wheels/public/simple/\n",
            "Collecting facenet-pytorch\n",
            "  Downloading facenet_pytorch-2.5.3-py3-none-any.whl (1.9 MB)\n",
            "\u001b[2K     \u001b[90m━━━━━━━━━━━━━━━━━━━━━━━━━━━━━━━━━━━━━━━━\u001b[0m \u001b[32m1.9/1.9 MB\u001b[0m \u001b[31m32.8 MB/s\u001b[0m eta \u001b[36m0:00:00\u001b[0m\n",
            "\u001b[?25hRequirement already satisfied: numpy in /usr/local/lib/python3.10/dist-packages (from facenet-pytorch) (1.22.4)\n",
            "Requirement already satisfied: requests in /usr/local/lib/python3.10/dist-packages (from facenet-pytorch) (2.27.1)\n",
            "Requirement already satisfied: torchvision in /usr/local/lib/python3.10/dist-packages (from facenet-pytorch) (0.15.1+cu118)\n",
            "Requirement already satisfied: pillow in /usr/local/lib/python3.10/dist-packages (from facenet-pytorch) (8.4.0)\n",
            "Requirement already satisfied: urllib3<1.27,>=1.21.1 in /usr/local/lib/python3.10/dist-packages (from requests->facenet-pytorch) (1.26.15)\n",
            "Requirement already satisfied: certifi>=2017.4.17 in /usr/local/lib/python3.10/dist-packages (from requests->facenet-pytorch) (2022.12.7)\n",
            "Requirement already satisfied: charset-normalizer~=2.0.0 in /usr/local/lib/python3.10/dist-packages (from requests->facenet-pytorch) (2.0.12)\n",
            "Requirement already satisfied: idna<4,>=2.5 in /usr/local/lib/python3.10/dist-packages (from requests->facenet-pytorch) (3.4)\n",
            "Requirement already satisfied: torch==2.0.0 in /usr/local/lib/python3.10/dist-packages (from torchvision->facenet-pytorch) (2.0.0+cu118)\n",
            "Requirement already satisfied: filelock in /usr/local/lib/python3.10/dist-packages (from torch==2.0.0->torchvision->facenet-pytorch) (3.12.0)\n",
            "Requirement already satisfied: typing-extensions in /usr/local/lib/python3.10/dist-packages (from torch==2.0.0->torchvision->facenet-pytorch) (4.5.0)\n",
            "Requirement already satisfied: sympy in /usr/local/lib/python3.10/dist-packages (from torch==2.0.0->torchvision->facenet-pytorch) (1.11.1)\n",
            "Requirement already satisfied: networkx in /usr/local/lib/python3.10/dist-packages (from torch==2.0.0->torchvision->facenet-pytorch) (3.1)\n",
            "Requirement already satisfied: jinja2 in /usr/local/lib/python3.10/dist-packages (from torch==2.0.0->torchvision->facenet-pytorch) (3.1.2)\n",
            "Requirement already satisfied: triton==2.0.0 in /usr/local/lib/python3.10/dist-packages (from torch==2.0.0->torchvision->facenet-pytorch) (2.0.0)\n",
            "Requirement already satisfied: cmake in /usr/local/lib/python3.10/dist-packages (from triton==2.0.0->torch==2.0.0->torchvision->facenet-pytorch) (3.25.2)\n",
            "Requirement already satisfied: lit in /usr/local/lib/python3.10/dist-packages (from triton==2.0.0->torch==2.0.0->torchvision->facenet-pytorch) (16.0.3)\n",
            "Requirement already satisfied: MarkupSafe>=2.0 in /usr/local/lib/python3.10/dist-packages (from jinja2->torch==2.0.0->torchvision->facenet-pytorch) (2.1.2)\n",
            "Requirement already satisfied: mpmath>=0.19 in /usr/local/lib/python3.10/dist-packages (from sympy->torch==2.0.0->torchvision->facenet-pytorch) (1.3.0)\n",
            "Installing collected packages: facenet-pytorch\n",
            "Successfully installed facenet-pytorch-2.5.3\n"
          ]
        }
      ],
      "source": [
        "! pip install facenet-pytorch"
      ]
    },
    {
      "cell_type": "code",
      "execution_count": null,
      "metadata": {
        "id": "gowLOQlCfSjS"
      },
      "outputs": [],
      "source": [
        "import os\n",
        "import random\n",
        "import torch\n",
        "import torch.nn as nn\n",
        "import torch.optim as optim\n",
        "import torchvision.transforms as transforms\n",
        "import torchvision.models as models\n",
        "import torch.utils.data as dutils\n",
        "from facenet_pytorch import MTCNN, InceptionResnetV1\n",
        "import time\n",
        "import numpy as np\n",
        "import matplotlib.pyplot as plt\n",
        "from PIL import Image\n",
        "import cv2\n",
        "from sklearn.model_selection import train_test_split\n",
        "from sklearn import preprocessing\n",
        "from tqdm import tqdm"
      ]
    },
    {
      "cell_type": "code",
      "execution_count": null,
      "metadata": {
        "id": "h7Yu4ohluPYv"
      },
      "outputs": [],
      "source": [
        "mtcnn = MTCNN(image_size=160, margin = 0, min_face_size=20) # initializing mtcnn for face detection"
      ]
    },
    {
      "cell_type": "code",
      "execution_count": null,
      "metadata": {
        "id": "cC6FWnguUFCB"
      },
      "outputs": [],
      "source": [
        "X_train, X_val, X_test = [], [], []\n",
        "y_train, y_val, y_test = [], [], []\n",
        "data_folder = \"/content/drive/MyDrive/Đình Quý_Coursework_AI4E/Pictures\"\n",
        "\n",
        "for folder in os.listdir(data_folder):\n",
        "  curr_path = os.path.join(data_folder, folder)\n",
        "  X_temp = []\n",
        "  y_temp = []\n",
        "  for pic_file in os.listdir(curr_path):\n",
        "    curr_file = os.path.join(curr_path, pic_file)\n",
        "    X_temp.append(curr_file)\n",
        "    y_temp.append(folder)\n",
        "\n",
        "  # for each folder, split the images in it into train, test, split set\n",
        "  X_train_val_temp, X_test_temp, y_train_val_temp, y_test_temp = train_test_split(X_temp, y_temp, test_size = 0.2, shuffle = True)\n",
        "  X_train_temp, X_val_temp, y_train_temp, y_val_temp = train_test_split(X_train_val_temp, y_train_val_temp, test_size = 0.375, shuffle = True)\n",
        "\n",
        "  X_train += X_train_temp\n",
        "  X_val += X_val_temp\n",
        "  X_test += X_test_temp\n",
        "\n",
        "  y_train += y_train_temp\n",
        "  y_val += y_val_temp\n",
        "  y_test += y_test_temp"
      ]
    },
    {
      "cell_type": "code",
      "execution_count": null,
      "metadata": {
        "id": "zJebILZ2S1AN"
      },
      "outputs": [],
      "source": [
        "# Encode label\n",
        "label_encoder = preprocessing.LabelEncoder()\n",
        "y_train_encode = label_encoder.fit_transform(y_train)\n",
        "y_val_encode = label_encoder.transform(y_val)\n",
        "y_test_encode = label_encoder.transform(y_test)\n",
        "\n",
        "y_train_encode = torch.Tensor(y_train_encode)\n",
        "y_val_encode = torch.Tensor(y_val_encode)\n",
        "y_test_encode = torch.Tensor(y_test_encode)"
      ]
    },
    {
      "cell_type": "code",
      "execution_count": null,
      "metadata": {
        "colab": {
          "base_uri": "https://localhost:8080/"
        },
        "id": "U_0zdeK7oHx5",
        "outputId": "e7a236c9-3c64-4963-ff67-52d6c51eb4d3"
      },
      "outputs": [
        {
          "name": "stdout",
          "output_type": "stream",
          "text": [
            "['/content/drive/MyDrive/Đình Quý_Coursework_AI4E/Pictures/Tan/295.png', '/content/drive/MyDrive/Đình Quý_Coursework_AI4E/Pictures/Tan/151.png', '/content/drive/MyDrive/Đình Quý_Coursework_AI4E/Pictures/Tan/220.png', '/content/drive/MyDrive/Đình Quý_Coursework_AI4E/Pictures/Tan/311.png', '/content/drive/MyDrive/Đình Quý_Coursework_AI4E/Pictures/Tan/57.png', '/content/drive/MyDrive/Đình Quý_Coursework_AI4E/Pictures/Tan/301.png', '/content/drive/MyDrive/Đình Quý_Coursework_AI4E/Pictures/Tan/294.png', '/content/drive/MyDrive/Đình Quý_Coursework_AI4E/Pictures/Tan/279.png', '/content/drive/MyDrive/Đình Quý_Coursework_AI4E/Pictures/Tan/111.png', '/content/drive/MyDrive/Đình Quý_Coursework_AI4E/Pictures/Tan/216.png', '/content/drive/MyDrive/Đình Quý_Coursework_AI4E/Pictures/Tan/15.png', '/content/drive/MyDrive/Đình Quý_Coursework_AI4E/Pictures/Tan/211.png', '/content/drive/MyDrive/Đình Quý_Coursework_AI4E/Pictures/Tan/318.png', '/content/drive/MyDrive/Đình Quý_Coursework_AI4E/Pictures/Tan/255.png', '/content/drive/MyDrive/Đình Quý_Coursework_AI4E/Pictures/Tan/312.png', '/content/drive/MyDrive/Đình Quý_Coursework_AI4E/Pictures/Tan/54.png', '/content/drive/MyDrive/Đình Quý_Coursework_AI4E/Pictures/Tan/137.png', '/content/drive/MyDrive/Đình Quý_Coursework_AI4E/Pictures/Tan/37.png', '/content/drive/MyDrive/Đình Quý_Coursework_AI4E/Pictures/Tan/38.png', '/content/drive/MyDrive/Đình Quý_Coursework_AI4E/Pictures/Tan/91.png', '/content/drive/MyDrive/Đình Quý_Coursework_AI4E/Pictures/Tan/271.png', '/content/drive/MyDrive/Đình Quý_Coursework_AI4E/Pictures/Tan/147.png', '/content/drive/MyDrive/Đình Quý_Coursework_AI4E/Pictures/Tan/219.png', '/content/drive/MyDrive/Đình Quý_Coursework_AI4E/Pictures/Tan/212.png', '/content/drive/MyDrive/Đình Quý_Coursework_AI4E/Pictures/Tan/273.png', '/content/drive/MyDrive/Đình Quý_Coursework_AI4E/Pictures/Tan/119.png', '/content/drive/MyDrive/Đình Quý_Coursework_AI4E/Pictures/Tan/41.png', '/content/drive/MyDrive/Đình Quý_Coursework_AI4E/Pictures/Tan/256.png', '/content/drive/MyDrive/Đình Quý_Coursework_AI4E/Pictures/Tan/120.png', '/content/drive/MyDrive/Đình Quý_Coursework_AI4E/Pictures/Tan/286.png', '/content/drive/MyDrive/Đình Quý_Coursework_AI4E/Pictures/Tan/307.png', '/content/drive/MyDrive/Đình Quý_Coursework_AI4E/Pictures/Tan/215.png', '/content/drive/MyDrive/Đình Quý_Coursework_AI4E/Pictures/Tan/200.png', '/content/drive/MyDrive/Đình Quý_Coursework_AI4E/Pictures/Tan/316.png', '/content/drive/MyDrive/Đình Quý_Coursework_AI4E/Pictures/Tan/289.png', '/content/drive/MyDrive/Đình Quý_Coursework_AI4E/Pictures/Tan/258.png', '/content/drive/MyDrive/Đình Quý_Coursework_AI4E/Pictures/Tan/298.png', '/content/drive/MyDrive/Đình Quý_Coursework_AI4E/Pictures/Tan/319.png', '/content/drive/MyDrive/Đình Quý_Coursework_AI4E/Pictures/Tan/74.png', '/content/drive/MyDrive/Đình Quý_Coursework_AI4E/Pictures/Tan/302.png', '/content/drive/MyDrive/Đình Quý_Coursework_AI4E/Pictures/Tan/21.png', '/content/drive/MyDrive/Đình Quý_Coursework_AI4E/Pictures/Tan/209.png', '/content/drive/MyDrive/Đình Quý_Coursework_AI4E/Pictures/Tan/203.png', '/content/drive/MyDrive/Đình Quý_Coursework_AI4E/Pictures/Tan/259.png', '/content/drive/MyDrive/Đình Quý_Coursework_AI4E/Pictures/Tan/253.png', '/content/drive/MyDrive/Đình Quý_Coursework_AI4E/Pictures/Tan/14.png', '/content/drive/MyDrive/Đình Quý_Coursework_AI4E/Pictures/Tan/186.png', '/content/drive/MyDrive/Đình Quý_Coursework_AI4E/Pictures/Tan/195.png', '/content/drive/MyDrive/Đình Quý_Coursework_AI4E/Pictures/Tan/267.png', '/content/drive/MyDrive/Đình Quý_Coursework_AI4E/Pictures/Tan/189.png', '/content/drive/MyDrive/Đình Quý_Coursework_AI4E/Pictures/Tan/313.png', '/content/drive/MyDrive/Đình Quý_Coursework_AI4E/Pictures/Tan/300.png', '/content/drive/MyDrive/Đình Quý_Coursework_AI4E/Pictures/Tan/25.png', '/content/drive/MyDrive/Đình Quý_Coursework_AI4E/Pictures/Tan/248.png', '/content/drive/MyDrive/Đình Quý_Coursework_AI4E/Pictures/Tan/5.png', '/content/drive/MyDrive/Đình Quý_Coursework_AI4E/Pictures/Tan/274.png', '/content/drive/MyDrive/Đình Quý_Coursework_AI4E/Pictures/Tan/246.png', '/content/drive/MyDrive/Đình Quý_Coursework_AI4E/Pictures/Tan/48.png', '/content/drive/MyDrive/Đình Quý_Coursework_AI4E/Pictures/Tan/56.png', '/content/drive/MyDrive/Đình Quý_Coursework_AI4E/Pictures/Tan/169.png', '/content/drive/MyDrive/Đình Quý_Coursework_AI4E/Pictures/Tan/162.png', '/content/drive/MyDrive/Đình Quý_Coursework_AI4E/Pictures/Tan/115.png', '/content/drive/MyDrive/Đình Quý_Coursework_AI4E/Pictures/Tan/194.png', '/content/drive/MyDrive/Đình Quý_Coursework_AI4E/Pictures/Tan/105.png', '/content/drive/MyDrive/Đình Quý_Coursework_AI4E/Pictures/Tan/134.png', '/content/drive/MyDrive/Đình Quý_Coursework_AI4E/Pictures/Truong/37.png', '/content/drive/MyDrive/Đình Quý_Coursework_AI4E/Pictures/Truong/156.png', '/content/drive/MyDrive/Đình Quý_Coursework_AI4E/Pictures/Truong/375.png', '/content/drive/MyDrive/Đình Quý_Coursework_AI4E/Pictures/Truong/192.png', '/content/drive/MyDrive/Đình Quý_Coursework_AI4E/Pictures/Truong/137.png', '/content/drive/MyDrive/Đình Quý_Coursework_AI4E/Pictures/Truong/371.png', '/content/drive/MyDrive/Đình Quý_Coursework_AI4E/Pictures/Truong/32.png', '/content/drive/MyDrive/Đình Quý_Coursework_AI4E/Pictures/Truong/219.png', '/content/drive/MyDrive/Đình Quý_Coursework_AI4E/Pictures/Truong/345.png', '/content/drive/MyDrive/Đình Quý_Coursework_AI4E/Pictures/Truong/129.png', '/content/drive/MyDrive/Đình Quý_Coursework_AI4E/Pictures/Truong/20.png', '/content/drive/MyDrive/Đình Quý_Coursework_AI4E/Pictures/Truong/350.png', '/content/drive/MyDrive/Đình Quý_Coursework_AI4E/Pictures/Truong/346.png', '/content/drive/MyDrive/Đình Quý_Coursework_AI4E/Pictures/Truong/147.png', '/content/drive/MyDrive/Đình Quý_Coursework_AI4E/Pictures/Truong/151.png', '/content/drive/MyDrive/Đình Quý_Coursework_AI4E/Pictures/Truong/376.png', '/content/drive/MyDrive/Đình Quý_Coursework_AI4E/Pictures/Truong/341.png', '/content/drive/MyDrive/Đình Quý_Coursework_AI4E/Pictures/Truong/410.png', '/content/drive/MyDrive/Đình Quý_Coursework_AI4E/Pictures/Truong/260.png', '/content/drive/MyDrive/Đình Quý_Coursework_AI4E/Pictures/Truong/226.png', '/content/drive/MyDrive/Đình Quý_Coursework_AI4E/Pictures/Truong/329.png', '/content/drive/MyDrive/Đình Quý_Coursework_AI4E/Pictures/Truong/50.png', '/content/drive/MyDrive/Đình Quý_Coursework_AI4E/Pictures/Truong/237.png', '/content/drive/MyDrive/Đình Quý_Coursework_AI4E/Pictures/Truong/82.png', '/content/drive/MyDrive/Đình Quý_Coursework_AI4E/Pictures/Truong/280.png', '/content/drive/MyDrive/Đình Quý_Coursework_AI4E/Pictures/Truong/5.png', '/content/drive/MyDrive/Đình Quý_Coursework_AI4E/Pictures/Truong/94.png', '/content/drive/MyDrive/Đình Quý_Coursework_AI4E/Pictures/Truong/4.png', '/content/drive/MyDrive/Đình Quý_Coursework_AI4E/Pictures/Truong/105.png', '/content/drive/MyDrive/Đình Quý_Coursework_AI4E/Pictures/Truong/36.png', '/content/drive/MyDrive/Đình Quý_Coursework_AI4E/Pictures/Truong/403.png', '/content/drive/MyDrive/Đình Quý_Coursework_AI4E/Pictures/Truong/265.png', '/content/drive/MyDrive/Đình Quý_Coursework_AI4E/Pictures/Truong/18.png', '/content/drive/MyDrive/Đình Quý_Coursework_AI4E/Pictures/Truong/3.png', '/content/drive/MyDrive/Đình Quý_Coursework_AI4E/Pictures/Truong/103.png', '/content/drive/MyDrive/Đình Quý_Coursework_AI4E/Pictures/Truong/303.png', '/content/drive/MyDrive/Đình Quý_Coursework_AI4E/Pictures/Truong/14.png', '/content/drive/MyDrive/Đình Quý_Coursework_AI4E/Pictures/Truong/31.png', '/content/drive/MyDrive/Đình Quý_Coursework_AI4E/Pictures/Truong/144.png', '/content/drive/MyDrive/Đình Quý_Coursework_AI4E/Pictures/Truong/299.png', '/content/drive/MyDrive/Đình Quý_Coursework_AI4E/Pictures/Truong/284.png', '/content/drive/MyDrive/Đình Quý_Coursework_AI4E/Pictures/Truong/227.png', '/content/drive/MyDrive/Đình Quý_Coursework_AI4E/Pictures/Truong/388.png', '/content/drive/MyDrive/Đình Quý_Coursework_AI4E/Pictures/Truong/54.png', '/content/drive/MyDrive/Đình Quý_Coursework_AI4E/Pictures/Truong/279.png', '/content/drive/MyDrive/Đình Quý_Coursework_AI4E/Pictures/Truong/8.png', '/content/drive/MyDrive/Đình Quý_Coursework_AI4E/Pictures/Truong/10.png', '/content/drive/MyDrive/Đình Quý_Coursework_AI4E/Pictures/Truong/90.png', '/content/drive/MyDrive/Đình Quý_Coursework_AI4E/Pictures/Truong/344.png', '/content/drive/MyDrive/Đình Quý_Coursework_AI4E/Pictures/Truong/295.png', '/content/drive/MyDrive/Đình Quý_Coursework_AI4E/Pictures/Truong/153.png', '/content/drive/MyDrive/Đình Quý_Coursework_AI4E/Pictures/Truong/256.png', '/content/drive/MyDrive/Đình Quý_Coursework_AI4E/Pictures/Truong/150.png', '/content/drive/MyDrive/Đình Quý_Coursework_AI4E/Pictures/Truong/401.png', '/content/drive/MyDrive/Đình Quý_Coursework_AI4E/Pictures/Truong/216.png', '/content/drive/MyDrive/Đình Quý_Coursework_AI4E/Pictures/Truong/196.png', '/content/drive/MyDrive/Đình Quý_Coursework_AI4E/Pictures/Truong/121.png', '/content/drive/MyDrive/Đình Quý_Coursework_AI4E/Pictures/Truong/305.png', '/content/drive/MyDrive/Đình Quý_Coursework_AI4E/Pictures/Truong/39.png', '/content/drive/MyDrive/Đình Quý_Coursework_AI4E/Pictures/Truong/80.png', '/content/drive/MyDrive/Đình Quý_Coursework_AI4E/Pictures/Truong/154.png', '/content/drive/MyDrive/Đình Quý_Coursework_AI4E/Pictures/Truong/221.png', '/content/drive/MyDrive/Đình Quý_Coursework_AI4E/Pictures/Truong/222.png', '/content/drive/MyDrive/Đình Quý_Coursework_AI4E/Pictures/Truong/130.png', '/content/drive/MyDrive/Đình Quý_Coursework_AI4E/Pictures/Truong/180.png', '/content/drive/MyDrive/Đình Quý_Coursework_AI4E/Pictures/Truong/242.png', '/content/drive/MyDrive/Đình Quý_Coursework_AI4E/Pictures/Truong/290.png', '/content/drive/MyDrive/Đình Quý_Coursework_AI4E/Pictures/Truong/328.png', '/content/drive/MyDrive/Đình Quý_Coursework_AI4E/Pictures/Truong/169.png', '/content/drive/MyDrive/Đình Quý_Coursework_AI4E/Pictures/Truong/378.png', '/content/drive/MyDrive/Đình Quý_Coursework_AI4E/Pictures/Truong/99.png', '/content/drive/MyDrive/Đình Quý_Coursework_AI4E/Pictures/Truong/331.png', '/content/drive/MyDrive/Đình Quý_Coursework_AI4E/Pictures/Truong/155.png', '/content/drive/MyDrive/Đình Quý_Coursework_AI4E/Pictures/Truong/198.png', '/content/drive/MyDrive/Đình Quý_Coursework_AI4E/Pictures/Truong/51.png', '/content/drive/MyDrive/Đình Quý_Coursework_AI4E/Pictures/Truong/22.png', '/content/drive/MyDrive/Đình Quý_Coursework_AI4E/Pictures/Truong/44.png', '/content/drive/MyDrive/Đình Quý_Coursework_AI4E/Pictures/Truong/373.png', '/content/drive/MyDrive/Đình Quý_Coursework_AI4E/Pictures/Truong/291.png', '/content/drive/MyDrive/Đình Quý_Coursework_AI4E/Pictures/Truong/40.png', '/content/drive/MyDrive/Đình Quý_Coursework_AI4E/Pictures/Truong/207.png', '/content/drive/MyDrive/Đình Quý_Coursework_AI4E/Pictures/Truong/63.png', '/content/drive/MyDrive/Đình Quý_Coursework_AI4E/Pictures/Truong/172.png', '/content/drive/MyDrive/Đình Quý_Coursework_AI4E/Pictures/Thang/309.png', '/content/drive/MyDrive/Đình Quý_Coursework_AI4E/Pictures/Thang/282.png', '/content/drive/MyDrive/Đình Quý_Coursework_AI4E/Pictures/Thang/101.png', '/content/drive/MyDrive/Đình Quý_Coursework_AI4E/Pictures/Thang/150.png', '/content/drive/MyDrive/Đình Quý_Coursework_AI4E/Pictures/Thang/227.png', '/content/drive/MyDrive/Đình Quý_Coursework_AI4E/Pictures/Thang/172.png', '/content/drive/MyDrive/Đình Quý_Coursework_AI4E/Pictures/Thang/274.png', '/content/drive/MyDrive/Đình Quý_Coursework_AI4E/Pictures/Thang/228.png', '/content/drive/MyDrive/Đình Quý_Coursework_AI4E/Pictures/Thang/103.png', '/content/drive/MyDrive/Đình Quý_Coursework_AI4E/Pictures/Thang/80.png', '/content/drive/MyDrive/Đình Quý_Coursework_AI4E/Pictures/Thang/210.png', '/content/drive/MyDrive/Đình Quý_Coursework_AI4E/Pictures/Thang/142.png', '/content/drive/MyDrive/Đình Quý_Coursework_AI4E/Pictures/Thang/89.png', '/content/drive/MyDrive/Đình Quý_Coursework_AI4E/Pictures/Thang/131.png', '/content/drive/MyDrive/Đình Quý_Coursework_AI4E/Pictures/Thang/253.png', '/content/drive/MyDrive/Đình Quý_Coursework_AI4E/Pictures/Thang/86.png', '/content/drive/MyDrive/Đình Quý_Coursework_AI4E/Pictures/Thang/127.png', '/content/drive/MyDrive/Đình Quý_Coursework_AI4E/Pictures/Thang/107.png', '/content/drive/MyDrive/Đình Quý_Coursework_AI4E/Pictures/Thang/179.png', '/content/drive/MyDrive/Đình Quý_Coursework_AI4E/Pictures/Thang/188.png', '/content/drive/MyDrive/Đình Quý_Coursework_AI4E/Pictures/Thang/186.png', '/content/drive/MyDrive/Đình Quý_Coursework_AI4E/Pictures/Thang/326.png', '/content/drive/MyDrive/Đình Quý_Coursework_AI4E/Pictures/Thang/319.png', '/content/drive/MyDrive/Đình Quý_Coursework_AI4E/Pictures/Thang/304.png', '/content/drive/MyDrive/Đình Quý_Coursework_AI4E/Pictures/Thang/176.png', '/content/drive/MyDrive/Đình Quý_Coursework_AI4E/Pictures/Thang/30.png', '/content/drive/MyDrive/Đình Quý_Coursework_AI4E/Pictures/Thang/98.png', '/content/drive/MyDrive/Đình Quý_Coursework_AI4E/Pictures/Thang/138 (1).png', '/content/drive/MyDrive/Đình Quý_Coursework_AI4E/Pictures/Thang/83.png', '/content/drive/MyDrive/Đình Quý_Coursework_AI4E/Pictures/Thang/239.png', '/content/drive/MyDrive/Đình Quý_Coursework_AI4E/Pictures/Thang/212.png', '/content/drive/MyDrive/Đình Quý_Coursework_AI4E/Pictures/Thang/109.png', '/content/drive/MyDrive/Đình Quý_Coursework_AI4E/Pictures/Thang/258.png', '/content/drive/MyDrive/Đình Quý_Coursework_AI4E/Pictures/Thang/248.png', '/content/drive/MyDrive/Đình Quý_Coursework_AI4E/Pictures/Thang/131 (1).png', '/content/drive/MyDrive/Đình Quý_Coursework_AI4E/Pictures/Thang/321.png', '/content/drive/MyDrive/Đình Quý_Coursework_AI4E/Pictures/Thang/54.png', '/content/drive/MyDrive/Đình Quý_Coursework_AI4E/Pictures/Thang/93.png', '/content/drive/MyDrive/Đình Quý_Coursework_AI4E/Pictures/Thang/209.png', '/content/drive/MyDrive/Đình Quý_Coursework_AI4E/Pictures/Thang/238.png', '/content/drive/MyDrive/Đình Quý_Coursework_AI4E/Pictures/Thang/226.png', '/content/drive/MyDrive/Đình Quý_Coursework_AI4E/Pictures/Thang/308.png', '/content/drive/MyDrive/Đình Quý_Coursework_AI4E/Pictures/Thang/335.png', '/content/drive/MyDrive/Đình Quý_Coursework_AI4E/Pictures/Thang/317.png', '/content/drive/MyDrive/Đình Quý_Coursework_AI4E/Pictures/Thang/13.png', '/content/drive/MyDrive/Đình Quý_Coursework_AI4E/Pictures/Thang/50.png', '/content/drive/MyDrive/Đình Quý_Coursework_AI4E/Pictures/Thang/11.png', '/content/drive/MyDrive/Đình Quý_Coursework_AI4E/Pictures/Thang/234.png', '/content/drive/MyDrive/Đình Quý_Coursework_AI4E/Pictures/Thang/135 (1).png', '/content/drive/MyDrive/Đình Quý_Coursework_AI4E/Pictures/Thang/214.png', '/content/drive/MyDrive/Đình Quý_Coursework_AI4E/Pictures/Thang/252.png', '/content/drive/MyDrive/Đình Quý_Coursework_AI4E/Pictures/Thang/177.png', '/content/drive/MyDrive/Đình Quý_Coursework_AI4E/Pictures/Thang/200.png', '/content/drive/MyDrive/Đình Quý_Coursework_AI4E/Pictures/Thang/202.png', '/content/drive/MyDrive/Đình Quý_Coursework_AI4E/Pictures/Thang/62.png', '/content/drive/MyDrive/Đình Quý_Coursework_AI4E/Pictures/Thang/67.png', '/content/drive/MyDrive/Đình Quý_Coursework_AI4E/Pictures/Thang/206.png', '/content/drive/MyDrive/Đình Quý_Coursework_AI4E/Pictures/Thang/55.png', '/content/drive/MyDrive/Đình Quý_Coursework_AI4E/Pictures/Thang/279.png', '/content/drive/MyDrive/Đình Quý_Coursework_AI4E/Pictures/Thang/24.png', '/content/drive/MyDrive/Đình Quý_Coursework_AI4E/Pictures/Thang/330.png', '/content/drive/MyDrive/Đình Quý_Coursework_AI4E/Pictures/Thang/160.png', '/content/drive/MyDrive/Đình Quý_Coursework_AI4E/Pictures/Thang/14.png', '/content/drive/MyDrive/Đình Quý_Coursework_AI4E/Pictures/Thang/90.png', '/content/drive/MyDrive/Đình Quý_Coursework_AI4E/Pictures/Thang/290.png', '/content/drive/MyDrive/Đình Quý_Coursework_AI4E/Pictures/Thang/164.png', '/content/drive/MyDrive/Đình Quý_Coursework_AI4E/Pictures/Thang/17.png', '/content/drive/MyDrive/Đình Quý_Coursework_AI4E/Pictures/Thang/298.png', '/content/drive/MyDrive/Đình Quý_Coursework_AI4E/Pictures/Thang/170.png', '/content/drive/MyDrive/Đình Quý_Coursework_AI4E/Pictures/Thang/263.png', '/content/drive/MyDrive/Đình Quý_Coursework_AI4E/Pictures/Linh/308.png', '/content/drive/MyDrive/Đình Quý_Coursework_AI4E/Pictures/Linh/27.png', '/content/drive/MyDrive/Đình Quý_Coursework_AI4E/Pictures/Linh/210.png', '/content/drive/MyDrive/Đình Quý_Coursework_AI4E/Pictures/Linh/4.png', '/content/drive/MyDrive/Đình Quý_Coursework_AI4E/Pictures/Linh/204.png', '/content/drive/MyDrive/Đình Quý_Coursework_AI4E/Pictures/Linh/112.png', '/content/drive/MyDrive/Đình Quý_Coursework_AI4E/Pictures/Linh/96.png', '/content/drive/MyDrive/Đình Quý_Coursework_AI4E/Pictures/Linh/36.png', '/content/drive/MyDrive/Đình Quý_Coursework_AI4E/Pictures/Linh/191.png', '/content/drive/MyDrive/Đình Quý_Coursework_AI4E/Pictures/Linh/329.png', '/content/drive/MyDrive/Đình Quý_Coursework_AI4E/Pictures/Linh/114.png', '/content/drive/MyDrive/Đình Quý_Coursework_AI4E/Pictures/Linh/318.png', '/content/drive/MyDrive/Đình Quý_Coursework_AI4E/Pictures/Linh/94.png', '/content/drive/MyDrive/Đình Quý_Coursework_AI4E/Pictures/Linh/117.png', '/content/drive/MyDrive/Đình Quý_Coursework_AI4E/Pictures/Linh/345.png', '/content/drive/MyDrive/Đình Quý_Coursework_AI4E/Pictures/Linh/272.png', '/content/drive/MyDrive/Đình Quý_Coursework_AI4E/Pictures/Linh/57.png', '/content/drive/MyDrive/Đình Quý_Coursework_AI4E/Pictures/Linh/40.png', '/content/drive/MyDrive/Đình Quý_Coursework_AI4E/Pictures/Linh/99.png', '/content/drive/MyDrive/Đình Quý_Coursework_AI4E/Pictures/Linh/252.png', '/content/drive/MyDrive/Đình Quý_Coursework_AI4E/Pictures/Linh/45.png', '/content/drive/MyDrive/Đình Quý_Coursework_AI4E/Pictures/Linh/225.png', '/content/drive/MyDrive/Đình Quý_Coursework_AI4E/Pictures/Linh/271.png', '/content/drive/MyDrive/Đình Quý_Coursework_AI4E/Pictures/Linh/137.png', '/content/drive/MyDrive/Đình Quý_Coursework_AI4E/Pictures/Linh/22.png', '/content/drive/MyDrive/Đình Quý_Coursework_AI4E/Pictures/Linh/49.png', '/content/drive/MyDrive/Đình Quý_Coursework_AI4E/Pictures/Linh/143.png', '/content/drive/MyDrive/Đình Quý_Coursework_AI4E/Pictures/Linh/141.png', '/content/drive/MyDrive/Đình Quý_Coursework_AI4E/Pictures/Linh/288.png', '/content/drive/MyDrive/Đình Quý_Coursework_AI4E/Pictures/Linh/279.png', '/content/drive/MyDrive/Đình Quý_Coursework_AI4E/Pictures/Linh/163.png', '/content/drive/MyDrive/Đình Quý_Coursework_AI4E/Pictures/Linh/17.png', '/content/drive/MyDrive/Đình Quý_Coursework_AI4E/Pictures/Linh/304.png', '/content/drive/MyDrive/Đình Quý_Coursework_AI4E/Pictures/Linh/301.png', '/content/drive/MyDrive/Đình Quý_Coursework_AI4E/Pictures/Linh/251.png', '/content/drive/MyDrive/Đình Quý_Coursework_AI4E/Pictures/Linh/262.png', '/content/drive/MyDrive/Đình Quý_Coursework_AI4E/Pictures/Linh/207.png', '/content/drive/MyDrive/Đình Quý_Coursework_AI4E/Pictures/Linh/122.png', '/content/drive/MyDrive/Đình Quý_Coursework_AI4E/Pictures/Linh/56.png', '/content/drive/MyDrive/Đình Quý_Coursework_AI4E/Pictures/Linh/303.png', '/content/drive/MyDrive/Đình Quý_Coursework_AI4E/Pictures/Linh/104.png', '/content/drive/MyDrive/Đình Quý_Coursework_AI4E/Pictures/Linh/198.png', '/content/drive/MyDrive/Đình Quý_Coursework_AI4E/Pictures/Linh/109.png', '/content/drive/MyDrive/Đình Quý_Coursework_AI4E/Pictures/Linh/144.png', '/content/drive/MyDrive/Đình Quý_Coursework_AI4E/Pictures/Linh/25.png', '/content/drive/MyDrive/Đình Quý_Coursework_AI4E/Pictures/Linh/331.png', '/content/drive/MyDrive/Đình Quý_Coursework_AI4E/Pictures/Linh/83.png', '/content/drive/MyDrive/Đình Quý_Coursework_AI4E/Pictures/Linh/186.png', '/content/drive/MyDrive/Đình Quý_Coursework_AI4E/Pictures/Linh/145.png', '/content/drive/MyDrive/Đình Quý_Coursework_AI4E/Pictures/Linh/138.png', '/content/drive/MyDrive/Đình Quý_Coursework_AI4E/Pictures/Linh/344.png', '/content/drive/MyDrive/Đình Quý_Coursework_AI4E/Pictures/Linh/260.png', '/content/drive/MyDrive/Đình Quý_Coursework_AI4E/Pictures/Linh/275.png', '/content/drive/MyDrive/Đình Quý_Coursework_AI4E/Pictures/Linh/38.png', '/content/drive/MyDrive/Đình Quý_Coursework_AI4E/Pictures/Linh/13.png', '/content/drive/MyDrive/Đình Quý_Coursework_AI4E/Pictures/Linh/221.png', '/content/drive/MyDrive/Đình Quý_Coursework_AI4E/Pictures/Linh/47.png', '/content/drive/MyDrive/Đình Quý_Coursework_AI4E/Pictures/Linh/101.png', '/content/drive/MyDrive/Đình Quý_Coursework_AI4E/Pictures/Linh/353.png', '/content/drive/MyDrive/Đình Quý_Coursework_AI4E/Pictures/Linh/15.png', '/content/drive/MyDrive/Đình Quý_Coursework_AI4E/Pictures/Linh/319.png', '/content/drive/MyDrive/Đình Quý_Coursework_AI4E/Pictures/Linh/167.png', '/content/drive/MyDrive/Đình Quý_Coursework_AI4E/Pictures/Linh/69.png', '/content/drive/MyDrive/Đình Quý_Coursework_AI4E/Pictures/Linh/175.png', '/content/drive/MyDrive/Đình Quý_Coursework_AI4E/Pictures/Linh/139.png', '/content/drive/MyDrive/Đình Quý_Coursework_AI4E/Pictures/Linh/282.png', '/content/drive/MyDrive/Đình Quý_Coursework_AI4E/Pictures/Linh/335.png', '/content/drive/MyDrive/Đình Quý_Coursework_AI4E/Pictures/Linh/298.png', '/content/drive/MyDrive/Đình Quý_Coursework_AI4E/Pictures/Linh/53.png', '/content/drive/MyDrive/Đình Quý_Coursework_AI4E/Pictures/Linh/111.png', '/content/drive/MyDrive/Đình Quý_Coursework_AI4E/Pictures/Linh/208.png', '/content/drive/MyDrive/Đình Quý_Coursework_AI4E/Pictures/Duc/215.png', '/content/drive/MyDrive/Đình Quý_Coursework_AI4E/Pictures/Duc/343.png', '/content/drive/MyDrive/Đình Quý_Coursework_AI4E/Pictures/Duc/455.png', '/content/drive/MyDrive/Đình Quý_Coursework_AI4E/Pictures/Duc/64.png', '/content/drive/MyDrive/Đình Quý_Coursework_AI4E/Pictures/Duc/438.png', '/content/drive/MyDrive/Đình Quý_Coursework_AI4E/Pictures/Duc/265.png', '/content/drive/MyDrive/Đình Quý_Coursework_AI4E/Pictures/Duc/248.png', '/content/drive/MyDrive/Đình Quý_Coursework_AI4E/Pictures/Duc/158.png', '/content/drive/MyDrive/Đình Quý_Coursework_AI4E/Pictures/Duc/368.png', '/content/drive/MyDrive/Đình Quý_Coursework_AI4E/Pictures/Duc/227.png', '/content/drive/MyDrive/Đình Quý_Coursework_AI4E/Pictures/Duc/112.png', '/content/drive/MyDrive/Đình Quý_Coursework_AI4E/Pictures/Duc/258.png', '/content/drive/MyDrive/Đình Quý_Coursework_AI4E/Pictures/Duc/355.png', '/content/drive/MyDrive/Đình Quý_Coursework_AI4E/Pictures/Duc/539.png', '/content/drive/MyDrive/Đình Quý_Coursework_AI4E/Pictures/Duc/108.png', '/content/drive/MyDrive/Đình Quý_Coursework_AI4E/Pictures/Duc/42.png', '/content/drive/MyDrive/Đình Quý_Coursework_AI4E/Pictures/Duc/552.png', '/content/drive/MyDrive/Đình Quý_Coursework_AI4E/Pictures/Duc/99.png', '/content/drive/MyDrive/Đình Quý_Coursework_AI4E/Pictures/Duc/13.png', '/content/drive/MyDrive/Đình Quý_Coursework_AI4E/Pictures/Duc/12.png', '/content/drive/MyDrive/Đình Quý_Coursework_AI4E/Pictures/Duc/60.png', '/content/drive/MyDrive/Đình Quý_Coursework_AI4E/Pictures/Duc/177.png', '/content/drive/MyDrive/Đình Quý_Coursework_AI4E/Pictures/Duc/335.png', '/content/drive/MyDrive/Đình Quý_Coursework_AI4E/Pictures/Duc/332.png', '/content/drive/MyDrive/Đình Quý_Coursework_AI4E/Pictures/Duc/203.png', '/content/drive/MyDrive/Đình Quý_Coursework_AI4E/Pictures/Duc/104.png', '/content/drive/MyDrive/Đình Quý_Coursework_AI4E/Pictures/Duc/347.png', '/content/drive/MyDrive/Đình Quý_Coursework_AI4E/Pictures/Duc/564.png', '/content/drive/MyDrive/Đình Quý_Coursework_AI4E/Pictures/Duc/121.png', '/content/drive/MyDrive/Đình Quý_Coursework_AI4E/Pictures/Duc/374.png', '/content/drive/MyDrive/Đình Quý_Coursework_AI4E/Pictures/Duc/79.png', '/content/drive/MyDrive/Đình Quý_Coursework_AI4E/Pictures/Duc/56.png', '/content/drive/MyDrive/Đình Quý_Coursework_AI4E/Pictures/Duc/333.png', '/content/drive/MyDrive/Đình Quý_Coursework_AI4E/Pictures/Duc/147.png', '/content/drive/MyDrive/Đình Quý_Coursework_AI4E/Pictures/Duc/57.png', '/content/drive/MyDrive/Đình Quý_Coursework_AI4E/Pictures/Duc/277.png', '/content/drive/MyDrive/Đình Quý_Coursework_AI4E/Pictures/Duc/216.png', '/content/drive/MyDrive/Đình Quý_Coursework_AI4E/Pictures/Duc/483.png', '/content/drive/MyDrive/Đình Quý_Coursework_AI4E/Pictures/Duc/76.png', '/content/drive/MyDrive/Đình Quý_Coursework_AI4E/Pictures/Duc/346.png', '/content/drive/MyDrive/Đình Quý_Coursework_AI4E/Pictures/Duc/85.png', '/content/drive/MyDrive/Đình Quý_Coursework_AI4E/Pictures/Duc/457.png', '/content/drive/MyDrive/Đình Quý_Coursework_AI4E/Pictures/Duc/494.png', '/content/drive/MyDrive/Đình Quý_Coursework_AI4E/Pictures/Duc/164.png', '/content/drive/MyDrive/Đình Quý_Coursework_AI4E/Pictures/Duc/431.png', '/content/drive/MyDrive/Đình Quý_Coursework_AI4E/Pictures/Duc/240.png', '/content/drive/MyDrive/Đình Quý_Coursework_AI4E/Pictures/Duc/476.png', '/content/drive/MyDrive/Đình Quý_Coursework_AI4E/Pictures/Duc/62.png', '/content/drive/MyDrive/Đình Quý_Coursework_AI4E/Pictures/Duc/477.png', '/content/drive/MyDrive/Đình Quý_Coursework_AI4E/Pictures/Duc/44.png', '/content/drive/MyDrive/Đình Quý_Coursework_AI4E/Pictures/Duc/401.png', '/content/drive/MyDrive/Đình Quý_Coursework_AI4E/Pictures/Duc/446.png', '/content/drive/MyDrive/Đình Quý_Coursework_AI4E/Pictures/Duc/548.png', '/content/drive/MyDrive/Đình Quý_Coursework_AI4E/Pictures/Duc/148.png', '/content/drive/MyDrive/Đình Quý_Coursework_AI4E/Pictures/Duc/509.png', '/content/drive/MyDrive/Đình Quý_Coursework_AI4E/Pictures/Duc/267.png', '/content/drive/MyDrive/Đình Quý_Coursework_AI4E/Pictures/Duc/468.png', '/content/drive/MyDrive/Đình Quý_Coursework_AI4E/Pictures/Duc/389.png', '/content/drive/MyDrive/Đình Quý_Coursework_AI4E/Pictures/Duc/312.png', '/content/drive/MyDrive/Đình Quý_Coursework_AI4E/Pictures/Duc/294.png', '/content/drive/MyDrive/Đình Quý_Coursework_AI4E/Pictures/Duc/290.png', '/content/drive/MyDrive/Đình Quý_Coursework_AI4E/Pictures/Duc/512.png', '/content/drive/MyDrive/Đình Quý_Coursework_AI4E/Pictures/Duc/146.png', '/content/drive/MyDrive/Đình Quý_Coursework_AI4E/Pictures/Duc/541.png', '/content/drive/MyDrive/Đình Quý_Coursework_AI4E/Pictures/Duc/114.png', '/content/drive/MyDrive/Đình Quý_Coursework_AI4E/Pictures/Duc/551.png', '/content/drive/MyDrive/Đình Quý_Coursework_AI4E/Pictures/Duc/308.png', '/content/drive/MyDrive/Đình Quý_Coursework_AI4E/Pictures/Duc/307.png', '/content/drive/MyDrive/Đình Quý_Coursework_AI4E/Pictures/Duc/320.png', '/content/drive/MyDrive/Đình Quý_Coursework_AI4E/Pictures/Duc/448.png', '/content/drive/MyDrive/Đình Quý_Coursework_AI4E/Pictures/Duc/287.png', '/content/drive/MyDrive/Đình Quý_Coursework_AI4E/Pictures/Duc/423.png', '/content/drive/MyDrive/Đình Quý_Coursework_AI4E/Pictures/Duc/205.png', '/content/drive/MyDrive/Đình Quý_Coursework_AI4E/Pictures/Duc/88.png', '/content/drive/MyDrive/Đình Quý_Coursework_AI4E/Pictures/Duc/339.png', '/content/drive/MyDrive/Đình Quý_Coursework_AI4E/Pictures/Duc/165.png', '/content/drive/MyDrive/Đình Quý_Coursework_AI4E/Pictures/Duc/90.png', '/content/drive/MyDrive/Đình Quý_Coursework_AI4E/Pictures/Duc/272.png', '/content/drive/MyDrive/Đình Quý_Coursework_AI4E/Pictures/Duc/398.png', '/content/drive/MyDrive/Đình Quý_Coursework_AI4E/Pictures/Duc/428.png', '/content/drive/MyDrive/Đình Quý_Coursework_AI4E/Pictures/Duc/50.png', '/content/drive/MyDrive/Đình Quý_Coursework_AI4E/Pictures/Duc/532.png', '/content/drive/MyDrive/Đình Quý_Coursework_AI4E/Pictures/Duc/191.png', '/content/drive/MyDrive/Đình Quý_Coursework_AI4E/Pictures/Duc/149.png', '/content/drive/MyDrive/Đình Quý_Coursework_AI4E/Pictures/Duc/533.png', '/content/drive/MyDrive/Đình Quý_Coursework_AI4E/Pictures/Duc/403.png', '/content/drive/MyDrive/Đình Quý_Coursework_AI4E/Pictures/Duc/84.png', '/content/drive/MyDrive/Đình Quý_Coursework_AI4E/Pictures/Duc/115.png', '/content/drive/MyDrive/Đình Quý_Coursework_AI4E/Pictures/Duc/105.png', '/content/drive/MyDrive/Đình Quý_Coursework_AI4E/Pictures/Duc/6.png', '/content/drive/MyDrive/Đình Quý_Coursework_AI4E/Pictures/Duc/66.png', '/content/drive/MyDrive/Đình Quý_Coursework_AI4E/Pictures/Duc/451.png', '/content/drive/MyDrive/Đình Quý_Coursework_AI4E/Pictures/Duc/118.png', '/content/drive/MyDrive/Đình Quý_Coursework_AI4E/Pictures/Duc/65.png', '/content/drive/MyDrive/Đình Quý_Coursework_AI4E/Pictures/Duc/222.png', '/content/drive/MyDrive/Đình Quý_Coursework_AI4E/Pictures/Duc/495.png', '/content/drive/MyDrive/Đình Quý_Coursework_AI4E/Pictures/Duc/151.png', '/content/drive/MyDrive/Đình Quý_Coursework_AI4E/Pictures/Duc/130.png', '/content/drive/MyDrive/Đình Quý_Coursework_AI4E/Pictures/Duc/230.png', '/content/drive/MyDrive/Đình Quý_Coursework_AI4E/Pictures/Duc/492.png', '/content/drive/MyDrive/Đình Quý_Coursework_AI4E/Pictures/Duc/313.png', '/content/drive/MyDrive/Đình Quý_Coursework_AI4E/Pictures/Duc/515.png', '/content/drive/MyDrive/Đình Quý_Coursework_AI4E/Pictures/Duc/235.png', '/content/drive/MyDrive/Đình Quý_Coursework_AI4E/Pictures/Duc/535.png', '/content/drive/MyDrive/Đình Quý_Coursework_AI4E/Pictures/Duc/351.png', '/content/drive/MyDrive/Đình Quý_Coursework_AI4E/Pictures/Duc/406.png', '/content/drive/MyDrive/Đình Quý_Coursework_AI4E/Pictures/Duc/187.png', '/content/drive/MyDrive/Đình Quý_Coursework_AI4E/Pictures/Duc/449.png', '/content/drive/MyDrive/Đình Quý_Coursework_AI4E/Pictures/Duc/517.png', '/content/drive/MyDrive/Đình Quý_Coursework_AI4E/Pictures/Duc/11.png', '/content/drive/MyDrive/Đình Quý_Coursework_AI4E/Pictures/Duc/170.png', '/content/drive/MyDrive/Đình Quý_Coursework_AI4E/Pictures/Duc/67.png', '/content/drive/MyDrive/Đình Quý_Coursework_AI4E/Pictures/Duc/367.png', '/content/drive/MyDrive/Đình Quý_Coursework_AI4E/Pictures/Duc/274.png', '/content/drive/MyDrive/Đình Quý_Coursework_AI4E/Pictures/Duc/241.png', '/content/drive/MyDrive/Đình Quý_Coursework_AI4E/Pictures/Hieu/377.png', '/content/drive/MyDrive/Đình Quý_Coursework_AI4E/Pictures/Hieu/215.png', '/content/drive/MyDrive/Đình Quý_Coursework_AI4E/Pictures/Hieu/181.png', '/content/drive/MyDrive/Đình Quý_Coursework_AI4E/Pictures/Hieu/176.png', '/content/drive/MyDrive/Đình Quý_Coursework_AI4E/Pictures/Hieu/313.png', '/content/drive/MyDrive/Đình Quý_Coursework_AI4E/Pictures/Hieu/185.png', '/content/drive/MyDrive/Đình Quý_Coursework_AI4E/Pictures/Hieu/394.png', '/content/drive/MyDrive/Đình Quý_Coursework_AI4E/Pictures/Hieu/271.png', '/content/drive/MyDrive/Đình Quý_Coursework_AI4E/Pictures/Hieu/333.png', '/content/drive/MyDrive/Đình Quý_Coursework_AI4E/Pictures/Hieu/291.png', '/content/drive/MyDrive/Đình Quý_Coursework_AI4E/Pictures/Hieu/511.png', '/content/drive/MyDrive/Đình Quý_Coursework_AI4E/Pictures/Hieu/2.png', '/content/drive/MyDrive/Đình Quý_Coursework_AI4E/Pictures/Hieu/256.png', '/content/drive/MyDrive/Đình Quý_Coursework_AI4E/Pictures/Hieu/470.png', '/content/drive/MyDrive/Đình Quý_Coursework_AI4E/Pictures/Hieu/471.png', '/content/drive/MyDrive/Đình Quý_Coursework_AI4E/Pictures/Hieu/306.png', '/content/drive/MyDrive/Đình Quý_Coursework_AI4E/Pictures/Hieu/0.png', '/content/drive/MyDrive/Đình Quý_Coursework_AI4E/Pictures/Hieu/149.png', '/content/drive/MyDrive/Đình Quý_Coursework_AI4E/Pictures/Hieu/143.png', '/content/drive/MyDrive/Đình Quý_Coursework_AI4E/Pictures/Hieu/154.png', '/content/drive/MyDrive/Đình Quý_Coursework_AI4E/Pictures/Hieu/145.png', '/content/drive/MyDrive/Đình Quý_Coursework_AI4E/Pictures/Hieu/195.png', '/content/drive/MyDrive/Đình Quý_Coursework_AI4E/Pictures/Hieu/134.png', '/content/drive/MyDrive/Đình Quý_Coursework_AI4E/Pictures/Hieu/408.png', '/content/drive/MyDrive/Đình Quý_Coursework_AI4E/Pictures/Hieu/202.png', '/content/drive/MyDrive/Đình Quý_Coursework_AI4E/Pictures/Hieu/18.png', '/content/drive/MyDrive/Đình Quý_Coursework_AI4E/Pictures/Hieu/391.png', '/content/drive/MyDrive/Đình Quý_Coursework_AI4E/Pictures/Hieu/71.png', '/content/drive/MyDrive/Đình Quý_Coursework_AI4E/Pictures/Hieu/458.png', '/content/drive/MyDrive/Đình Quý_Coursework_AI4E/Pictures/Hieu/96.png', '/content/drive/MyDrive/Đình Quý_Coursework_AI4E/Pictures/Hieu/170.png', '/content/drive/MyDrive/Đình Quý_Coursework_AI4E/Pictures/Hieu/9.png', '/content/drive/MyDrive/Đình Quý_Coursework_AI4E/Pictures/Hieu/31.png', '/content/drive/MyDrive/Đình Quý_Coursework_AI4E/Pictures/Hieu/22.png', '/content/drive/MyDrive/Đình Quý_Coursework_AI4E/Pictures/Hieu/509.png', '/content/drive/MyDrive/Đình Quý_Coursework_AI4E/Pictures/Hieu/66.png', '/content/drive/MyDrive/Đình Quý_Coursework_AI4E/Pictures/Hieu/106.png', '/content/drive/MyDrive/Đình Quý_Coursework_AI4E/Pictures/Hieu/116.png', '/content/drive/MyDrive/Đình Quý_Coursework_AI4E/Pictures/Hieu/459.png', '/content/drive/MyDrive/Đình Quý_Coursework_AI4E/Pictures/Hieu/262.png', '/content/drive/MyDrive/Đình Quý_Coursework_AI4E/Pictures/Hieu/366.png', '/content/drive/MyDrive/Đình Quý_Coursework_AI4E/Pictures/Hieu/129.png', '/content/drive/MyDrive/Đình Quý_Coursework_AI4E/Pictures/Hieu/13.png', '/content/drive/MyDrive/Đình Quý_Coursework_AI4E/Pictures/Hieu/362.png', '/content/drive/MyDrive/Đình Quý_Coursework_AI4E/Pictures/Hieu/447.png', '/content/drive/MyDrive/Đình Quý_Coursework_AI4E/Pictures/Hieu/347.png', '/content/drive/MyDrive/Đình Quý_Coursework_AI4E/Pictures/Hieu/316.png', '/content/drive/MyDrive/Đình Quý_Coursework_AI4E/Pictures/Hieu/263.png', '/content/drive/MyDrive/Đình Quý_Coursework_AI4E/Pictures/Hieu/275.png', '/content/drive/MyDrive/Đình Quý_Coursework_AI4E/Pictures/Hieu/37.png', '/content/drive/MyDrive/Đình Quý_Coursework_AI4E/Pictures/Hieu/260.png', '/content/drive/MyDrive/Đình Quý_Coursework_AI4E/Pictures/Hieu/403.png', '/content/drive/MyDrive/Đình Quý_Coursework_AI4E/Pictures/Hieu/184.png', '/content/drive/MyDrive/Đình Quý_Coursework_AI4E/Pictures/Hieu/379.png', '/content/drive/MyDrive/Đình Quý_Coursework_AI4E/Pictures/Hieu/157.png', '/content/drive/MyDrive/Đình Quý_Coursework_AI4E/Pictures/Hieu/36.png', '/content/drive/MyDrive/Đình Quý_Coursework_AI4E/Pictures/Hieu/163.png', '/content/drive/MyDrive/Đình Quý_Coursework_AI4E/Pictures/Hieu/141.png', '/content/drive/MyDrive/Đình Quý_Coursework_AI4E/Pictures/Hieu/236.png', '/content/drive/MyDrive/Đình Quý_Coursework_AI4E/Pictures/Hieu/370.png', '/content/drive/MyDrive/Đình Quý_Coursework_AI4E/Pictures/Hieu/166.png', '/content/drive/MyDrive/Đình Quý_Coursework_AI4E/Pictures/Hieu/19.png', '/content/drive/MyDrive/Đình Quý_Coursework_AI4E/Pictures/Hieu/358.png', '/content/drive/MyDrive/Đình Quý_Coursework_AI4E/Pictures/Hieu/384.png', '/content/drive/MyDrive/Đình Quý_Coursework_AI4E/Pictures/Hieu/302.png', '/content/drive/MyDrive/Đình Quý_Coursework_AI4E/Pictures/Hieu/171.png', '/content/drive/MyDrive/Đình Quý_Coursework_AI4E/Pictures/Hieu/346.png', '/content/drive/MyDrive/Đình Quý_Coursework_AI4E/Pictures/Hieu/192.png', '/content/drive/MyDrive/Đình Quý_Coursework_AI4E/Pictures/Hieu/26.png', '/content/drive/MyDrive/Đình Quý_Coursework_AI4E/Pictures/Hieu/177.png', '/content/drive/MyDrive/Đình Quý_Coursework_AI4E/Pictures/Hieu/127.png', '/content/drive/MyDrive/Đình Quý_Coursework_AI4E/Pictures/Hieu/454.png', '/content/drive/MyDrive/Đình Quý_Coursework_AI4E/Pictures/Hieu/360.png', '/content/drive/MyDrive/Đình Quý_Coursework_AI4E/Pictures/Hieu/465.png', '/content/drive/MyDrive/Đình Quý_Coursework_AI4E/Pictures/Hieu/225.png', '/content/drive/MyDrive/Đình Quý_Coursework_AI4E/Pictures/Hieu/478.png', '/content/drive/MyDrive/Đình Quý_Coursework_AI4E/Pictures/Hieu/74.png', '/content/drive/MyDrive/Đình Quý_Coursework_AI4E/Pictures/Hieu/200.png', '/content/drive/MyDrive/Đình Quý_Coursework_AI4E/Pictures/Hieu/172.png', '/content/drive/MyDrive/Đình Quý_Coursework_AI4E/Pictures/Hieu/109.png', '/content/drive/MyDrive/Đình Quý_Coursework_AI4E/Pictures/Hieu/38.png', '/content/drive/MyDrive/Đình Quý_Coursework_AI4E/Pictures/Hieu/151.png', '/content/drive/MyDrive/Đình Quý_Coursework_AI4E/Pictures/Hieu/95.png', '/content/drive/MyDrive/Đình Quý_Coursework_AI4E/Pictures/Hieu/494.png', '/content/drive/MyDrive/Đình Quý_Coursework_AI4E/Pictures/Hieu/131.png', '/content/drive/MyDrive/Đình Quý_Coursework_AI4E/Pictures/Hieu/86.png', '/content/drive/MyDrive/Đình Quý_Coursework_AI4E/Pictures/Hieu/276.png', '/content/drive/MyDrive/Đình Quý_Coursework_AI4E/Pictures/Hieu/112.png', '/content/drive/MyDrive/Đình Quý_Coursework_AI4E/Pictures/Hieu/298.png', '/content/drive/MyDrive/Đình Quý_Coursework_AI4E/Pictures/Hieu/190.png', '/content/drive/MyDrive/Đình Quý_Coursework_AI4E/Pictures/Hieu/90.png', '/content/drive/MyDrive/Đình Quý_Coursework_AI4E/Pictures/Hieu/357.png', '/content/drive/MyDrive/Đình Quý_Coursework_AI4E/Pictures/Hieu/388.png', '/content/drive/MyDrive/Đình Quý_Coursework_AI4E/Pictures/Hieu/337.png', '/content/drive/MyDrive/Đình Quý_Coursework_AI4E/Pictures/Hieu/118.png', '/content/drive/MyDrive/Đình Quý_Coursework_AI4E/Pictures/Hieu/315.png', '/content/drive/MyDrive/Đình Quý_Coursework_AI4E/Pictures/Hieu/479.png', '/content/drive/MyDrive/Đình Quý_Coursework_AI4E/Pictures/Hieu/97.png', '/content/drive/MyDrive/Đình Quý_Coursework_AI4E/Pictures/Hieu/27.png', '/content/drive/MyDrive/Đình Quý_Coursework_AI4E/Pictures/Hieu/186.png', '/content/drive/MyDrive/Đình Quý_Coursework_AI4E/Pictures/Hieu/180.png', '/content/drive/MyDrive/Đình Quý_Coursework_AI4E/Pictures/Hieu/135.png', '/content/drive/MyDrive/Đình Quý_Coursework_AI4E/Pictures/Hieu/5.png', '/content/drive/MyDrive/Đình Quý_Coursework_AI4E/Pictures/Hieu/249.png', '/content/drive/MyDrive/Đình Quý_Coursework_AI4E/Pictures/Kien/38.png', '/content/drive/MyDrive/Đình Quý_Coursework_AI4E/Pictures/Kien/400.png', '/content/drive/MyDrive/Đình Quý_Coursework_AI4E/Pictures/Kien/175.png', '/content/drive/MyDrive/Đình Quý_Coursework_AI4E/Pictures/Kien/6.png', '/content/drive/MyDrive/Đình Quý_Coursework_AI4E/Pictures/Kien/8.png', '/content/drive/MyDrive/Đình Quý_Coursework_AI4E/Pictures/Kien/228.png', '/content/drive/MyDrive/Đình Quý_Coursework_AI4E/Pictures/Kien/288.png', '/content/drive/MyDrive/Đình Quý_Coursework_AI4E/Pictures/Kien/330.png', '/content/drive/MyDrive/Đình Quý_Coursework_AI4E/Pictures/Kien/198.png', '/content/drive/MyDrive/Đình Quý_Coursework_AI4E/Pictures/Kien/279.png', '/content/drive/MyDrive/Đình Quý_Coursework_AI4E/Pictures/Kien/187.png', '/content/drive/MyDrive/Đình Quý_Coursework_AI4E/Pictures/Kien/467.png', '/content/drive/MyDrive/Đình Quý_Coursework_AI4E/Pictures/Kien/412.png', '/content/drive/MyDrive/Đình Quý_Coursework_AI4E/Pictures/Kien/253.png', '/content/drive/MyDrive/Đình Quý_Coursework_AI4E/Pictures/Kien/332.png', '/content/drive/MyDrive/Đình Quý_Coursework_AI4E/Pictures/Kien/260.png', '/content/drive/MyDrive/Đình Quý_Coursework_AI4E/Pictures/Kien/189.png', '/content/drive/MyDrive/Đình Quý_Coursework_AI4E/Pictures/Kien/124.png', '/content/drive/MyDrive/Đình Quý_Coursework_AI4E/Pictures/Kien/329.png', '/content/drive/MyDrive/Đình Quý_Coursework_AI4E/Pictures/Kien/129.png', '/content/drive/MyDrive/Đình Quý_Coursework_AI4E/Pictures/Kien/380.png', '/content/drive/MyDrive/Đình Quý_Coursework_AI4E/Pictures/Kien/287.png', '/content/drive/MyDrive/Đình Quý_Coursework_AI4E/Pictures/Kien/442.png', '/content/drive/MyDrive/Đình Quý_Coursework_AI4E/Pictures/Kien/155.png', '/content/drive/MyDrive/Đình Quý_Coursework_AI4E/Pictures/Kien/342.png', '/content/drive/MyDrive/Đình Quý_Coursework_AI4E/Pictures/Kien/222.png', '/content/drive/MyDrive/Đình Quý_Coursework_AI4E/Pictures/Kien/312.png', '/content/drive/MyDrive/Đình Quý_Coursework_AI4E/Pictures/Kien/139.png', '/content/drive/MyDrive/Đình Quý_Coursework_AI4E/Pictures/Kien/104.png', '/content/drive/MyDrive/Đình Quý_Coursework_AI4E/Pictures/Kien/183.png', '/content/drive/MyDrive/Đình Quý_Coursework_AI4E/Pictures/Kien/35.png', '/content/drive/MyDrive/Đình Quý_Coursework_AI4E/Pictures/Kien/98.png', '/content/drive/MyDrive/Đình Quý_Coursework_AI4E/Pictures/Kien/269.png', '/content/drive/MyDrive/Đình Quý_Coursework_AI4E/Pictures/Kien/454.png', '/content/drive/MyDrive/Đình Quý_Coursework_AI4E/Pictures/Kien/396.png', '/content/drive/MyDrive/Đình Quý_Coursework_AI4E/Pictures/Kien/82.png', '/content/drive/MyDrive/Đình Quý_Coursework_AI4E/Pictures/Kien/425.png', '/content/drive/MyDrive/Đình Quý_Coursework_AI4E/Pictures/Kien/206.png', '/content/drive/MyDrive/Đình Quý_Coursework_AI4E/Pictures/Kien/193.png', '/content/drive/MyDrive/Đình Quý_Coursework_AI4E/Pictures/Kien/144.png', '/content/drive/MyDrive/Đình Quý_Coursework_AI4E/Pictures/Kien/384.png', '/content/drive/MyDrive/Đình Quý_Coursework_AI4E/Pictures/Kien/91.png', '/content/drive/MyDrive/Đình Quý_Coursework_AI4E/Pictures/Kien/89.png', '/content/drive/MyDrive/Đình Quý_Coursework_AI4E/Pictures/Kien/482.png', '/content/drive/MyDrive/Đình Quý_Coursework_AI4E/Pictures/Kien/133.png', '/content/drive/MyDrive/Đình Quý_Coursework_AI4E/Pictures/Kien/11.png', '/content/drive/MyDrive/Đình Quý_Coursework_AI4E/Pictures/Kien/28.png', '/content/drive/MyDrive/Đình Quý_Coursework_AI4E/Pictures/Kien/262.png', '/content/drive/MyDrive/Đình Quý_Coursework_AI4E/Pictures/Kien/487.png', '/content/drive/MyDrive/Đình Quý_Coursework_AI4E/Pictures/Kien/257.png', '/content/drive/MyDrive/Đình Quý_Coursework_AI4E/Pictures/Kien/26.png', '/content/drive/MyDrive/Đình Quý_Coursework_AI4E/Pictures/Kien/276.png', '/content/drive/MyDrive/Đình Quý_Coursework_AI4E/Pictures/Kien/346.png', '/content/drive/MyDrive/Đình Quý_Coursework_AI4E/Pictures/Kien/471.png', '/content/drive/MyDrive/Đình Quý_Coursework_AI4E/Pictures/Kien/373.png', '/content/drive/MyDrive/Đình Quý_Coursework_AI4E/Pictures/Kien/205.png', '/content/drive/MyDrive/Đình Quý_Coursework_AI4E/Pictures/Kien/404.png', '/content/drive/MyDrive/Đình Quý_Coursework_AI4E/Pictures/Kien/87.png', '/content/drive/MyDrive/Đình Quý_Coursework_AI4E/Pictures/Kien/125.png', '/content/drive/MyDrive/Đình Quý_Coursework_AI4E/Pictures/Kien/264.png', '/content/drive/MyDrive/Đình Quý_Coursework_AI4E/Pictures/Kien/290.png', '/content/drive/MyDrive/Đình Quý_Coursework_AI4E/Pictures/Kien/48.png', '/content/drive/MyDrive/Đình Quý_Coursework_AI4E/Pictures/Kien/308.png', '/content/drive/MyDrive/Đình Quý_Coursework_AI4E/Pictures/Kien/284.png', '/content/drive/MyDrive/Đình Quý_Coursework_AI4E/Pictures/Kien/356.png', '/content/drive/MyDrive/Đình Quý_Coursework_AI4E/Pictures/Kien/148.png', '/content/drive/MyDrive/Đình Quý_Coursework_AI4E/Pictures/Kien/474.png', '/content/drive/MyDrive/Đình Quý_Coursework_AI4E/Pictures/Kien/476.png', '/content/drive/MyDrive/Đình Quý_Coursework_AI4E/Pictures/Kien/18.png', '/content/drive/MyDrive/Đình Quý_Coursework_AI4E/Pictures/Kien/156.png', '/content/drive/MyDrive/Đình Quý_Coursework_AI4E/Pictures/Kien/33.png', '/content/drive/MyDrive/Đình Quý_Coursework_AI4E/Pictures/Kien/430.png', '/content/drive/MyDrive/Đình Quý_Coursework_AI4E/Pictures/Kien/343.png', '/content/drive/MyDrive/Đình Quý_Coursework_AI4E/Pictures/Kien/16.png', '/content/drive/MyDrive/Đình Quý_Coursework_AI4E/Pictures/Kien/13.png', '/content/drive/MyDrive/Đình Quý_Coursework_AI4E/Pictures/Kien/349.png', '/content/drive/MyDrive/Đình Quý_Coursework_AI4E/Pictures/Kien/221.png', '/content/drive/MyDrive/Đình Quý_Coursework_AI4E/Pictures/Kien/238.png', '/content/drive/MyDrive/Đình Quý_Coursework_AI4E/Pictures/Kien/505.png', '/content/drive/MyDrive/Đình Quý_Coursework_AI4E/Pictures/Kien/307.png', '/content/drive/MyDrive/Đình Quý_Coursework_AI4E/Pictures/Kien/227.png', '/content/drive/MyDrive/Đình Quý_Coursework_AI4E/Pictures/Kien/68.png', '/content/drive/MyDrive/Đình Quý_Coursework_AI4E/Pictures/Kien/74.png', '/content/drive/MyDrive/Đình Quý_Coursework_AI4E/Pictures/Kien/420.png', '/content/drive/MyDrive/Đình Quý_Coursework_AI4E/Pictures/Kien/424.png', '/content/drive/MyDrive/Đình Quý_Coursework_AI4E/Pictures/Kien/157.png', '/content/drive/MyDrive/Đình Quý_Coursework_AI4E/Pictures/Kien/181.png', '/content/drive/MyDrive/Đình Quý_Coursework_AI4E/Pictures/Kien/105.png', '/content/drive/MyDrive/Đình Quý_Coursework_AI4E/Pictures/Kien/161.png', '/content/drive/MyDrive/Đình Quý_Coursework_AI4E/Pictures/Kien/500.png', '/content/drive/MyDrive/Đình Quý_Coursework_AI4E/Pictures/Kien/55.png', '/content/drive/MyDrive/Đình Quý_Coursework_AI4E/Pictures/Kien/405.png', '/content/drive/MyDrive/Đình Quý_Coursework_AI4E/Pictures/Kien/427.png', '/content/drive/MyDrive/Đình Quý_Coursework_AI4E/Pictures/Kien/190.png', '/content/drive/MyDrive/Đình Quý_Coursework_AI4E/Pictures/Kien/334.png', '/content/drive/MyDrive/Đình Quý_Coursework_AI4E/Pictures/Kien/234.png', '/content/drive/MyDrive/Đình Quý_Coursework_AI4E/Pictures/Kien/94.png', '/content/drive/MyDrive/Đình Quý_Coursework_AI4E/Pictures/Kien/109.png', '/content/drive/MyDrive/Đình Quý_Coursework_AI4E/Pictures/Kien/331.png', '/content/drive/MyDrive/Đình Quý_Coursework_AI4E/Pictures/Kien/432.png', '/content/drive/MyDrive/Đình Quý_Coursework_AI4E/Pictures/Kien/336.png', '/content/drive/MyDrive/Đình Quý_Coursework_AI4E/Pictures/Kien/489.png', '/content/drive/MyDrive/Đình Quý_Coursework_AI4E/Pictures/HDuc/187.png', '/content/drive/MyDrive/Đình Quý_Coursework_AI4E/Pictures/HDuc/151.png', '/content/drive/MyDrive/Đình Quý_Coursework_AI4E/Pictures/HDuc/102.png', '/content/drive/MyDrive/Đình Quý_Coursework_AI4E/Pictures/HDuc/184.png', '/content/drive/MyDrive/Đình Quý_Coursework_AI4E/Pictures/HDuc/145.png', '/content/drive/MyDrive/Đình Quý_Coursework_AI4E/Pictures/HDuc/10.png', '/content/drive/MyDrive/Đình Quý_Coursework_AI4E/Pictures/HDuc/20.png', '/content/drive/MyDrive/Đình Quý_Coursework_AI4E/Pictures/HDuc/38.png', '/content/drive/MyDrive/Đình Quý_Coursework_AI4E/Pictures/HDuc/51.png', '/content/drive/MyDrive/Đình Quý_Coursework_AI4E/Pictures/HDuc/80.png', '/content/drive/MyDrive/Đình Quý_Coursework_AI4E/Pictures/HDuc/153.png', '/content/drive/MyDrive/Đình Quý_Coursework_AI4E/Pictures/HDuc/167.png', '/content/drive/MyDrive/Đình Quý_Coursework_AI4E/Pictures/HDuc/83.png', '/content/drive/MyDrive/Đình Quý_Coursework_AI4E/Pictures/HDuc/116.png', '/content/drive/MyDrive/Đình Quý_Coursework_AI4E/Pictures/HDuc/158.png', '/content/drive/MyDrive/Đình Quý_Coursework_AI4E/Pictures/HDuc/23.png', '/content/drive/MyDrive/Đình Quý_Coursework_AI4E/Pictures/HDuc/105.png', '/content/drive/MyDrive/Đình Quý_Coursework_AI4E/Pictures/HDuc/134.png', '/content/drive/MyDrive/Đình Quý_Coursework_AI4E/Pictures/HDuc/177.png', '/content/drive/MyDrive/Đình Quý_Coursework_AI4E/Pictures/HDuc/59.png', '/content/drive/MyDrive/Đình Quý_Coursework_AI4E/Pictures/HDuc/44.png', '/content/drive/MyDrive/Đình Quý_Coursework_AI4E/Pictures/HDuc/179.png', '/content/drive/MyDrive/Đình Quý_Coursework_AI4E/Pictures/HDuc/126.png', '/content/drive/MyDrive/Đình Quý_Coursework_AI4E/Pictures/HDuc/121.png', '/content/drive/MyDrive/Đình Quý_Coursework_AI4E/Pictures/HDuc/22.png', '/content/drive/MyDrive/Đình Quý_Coursework_AI4E/Pictures/HDuc/77.png', '/content/drive/MyDrive/Đình Quý_Coursework_AI4E/Pictures/HDuc/192.png', '/content/drive/MyDrive/Đình Quý_Coursework_AI4E/Pictures/HDuc/188.png', '/content/drive/MyDrive/Đình Quý_Coursework_AI4E/Pictures/HDuc/5.png', '/content/drive/MyDrive/Đình Quý_Coursework_AI4E/Pictures/HDuc/173.png', '/content/drive/MyDrive/Đình Quý_Coursework_AI4E/Pictures/HDuc/35.png', '/content/drive/MyDrive/Đình Quý_Coursework_AI4E/Pictures/HDuc/52.png', '/content/drive/MyDrive/Đình Quý_Coursework_AI4E/Pictures/HDuc/33.png', '/content/drive/MyDrive/Đình Quý_Coursework_AI4E/Pictures/HDuc/2.png', '/content/drive/MyDrive/Đình Quý_Coursework_AI4E/Pictures/HDuc/122.png', '/content/drive/MyDrive/Đình Quý_Coursework_AI4E/Pictures/HDuc/165.png', '/content/drive/MyDrive/Đình Quý_Coursework_AI4E/Pictures/HDuc/64.png', '/content/drive/MyDrive/Đình Quý_Coursework_AI4E/Pictures/HDuc/132.png', '/content/drive/MyDrive/Đình Quý_Coursework_AI4E/Pictures/HDuc/14.png', '/content/drive/MyDrive/Đình Quý_Coursework_AI4E/Pictures/Hung/196.png', '/content/drive/MyDrive/Đình Quý_Coursework_AI4E/Pictures/Hung/152.png', '/content/drive/MyDrive/Đình Quý_Coursework_AI4E/Pictures/Hung/656.png', '/content/drive/MyDrive/Đình Quý_Coursework_AI4E/Pictures/Hung/314.png', '/content/drive/MyDrive/Đình Quý_Coursework_AI4E/Pictures/Hung/115.png', '/content/drive/MyDrive/Đình Quý_Coursework_AI4E/Pictures/Hung/577.png', '/content/drive/MyDrive/Đình Quý_Coursework_AI4E/Pictures/Hung/458.png', '/content/drive/MyDrive/Đình Quý_Coursework_AI4E/Pictures/Hung/585.png', '/content/drive/MyDrive/Đình Quý_Coursework_AI4E/Pictures/Hung/491.png', '/content/drive/MyDrive/Đình Quý_Coursework_AI4E/Pictures/Hung/546.png', '/content/drive/MyDrive/Đình Quý_Coursework_AI4E/Pictures/Hung/177.png', '/content/drive/MyDrive/Đình Quý_Coursework_AI4E/Pictures/Hung/417.png', '/content/drive/MyDrive/Đình Quý_Coursework_AI4E/Pictures/Hung/553.png', '/content/drive/MyDrive/Đình Quý_Coursework_AI4E/Pictures/Hung/627.png', '/content/drive/MyDrive/Đình Quý_Coursework_AI4E/Pictures/Hung/529.png', '/content/drive/MyDrive/Đình Quý_Coursework_AI4E/Pictures/Hung/351.png', '/content/drive/MyDrive/Đình Quý_Coursework_AI4E/Pictures/Hung/635.png', '/content/drive/MyDrive/Đình Quý_Coursework_AI4E/Pictures/Hung/172.png', '/content/drive/MyDrive/Đình Quý_Coursework_AI4E/Pictures/Hung/280.png', '/content/drive/MyDrive/Đình Quý_Coursework_AI4E/Pictures/Hung/328.png', '/content/drive/MyDrive/Đình Quý_Coursework_AI4E/Pictures/Hung/511.png', '/content/drive/MyDrive/Đình Quý_Coursework_AI4E/Pictures/Hung/478.png', '/content/drive/MyDrive/Đình Quý_Coursework_AI4E/Pictures/Hung/665.png', '/content/drive/MyDrive/Đình Quý_Coursework_AI4E/Pictures/Hung/353.png', '/content/drive/MyDrive/Đình Quý_Coursework_AI4E/Pictures/Hung/721.png', '/content/drive/MyDrive/Đình Quý_Coursework_AI4E/Pictures/Hung/474.png', '/content/drive/MyDrive/Đình Quý_Coursework_AI4E/Pictures/Hung/68.png', '/content/drive/MyDrive/Đình Quý_Coursework_AI4E/Pictures/Hung/541.png', '/content/drive/MyDrive/Đình Quý_Coursework_AI4E/Pictures/Hung/293.png', '/content/drive/MyDrive/Đình Quý_Coursework_AI4E/Pictures/Hung/180.png', '/content/drive/MyDrive/Đình Quý_Coursework_AI4E/Pictures/Hung/715.png', '/content/drive/MyDrive/Đình Quý_Coursework_AI4E/Pictures/Hung/212.png', '/content/drive/MyDrive/Đình Quý_Coursework_AI4E/Pictures/Hung/607.png', '/content/drive/MyDrive/Đình Quý_Coursework_AI4E/Pictures/Hung/23.png', '/content/drive/MyDrive/Đình Quý_Coursework_AI4E/Pictures/Hung/202.png', '/content/drive/MyDrive/Đình Quý_Coursework_AI4E/Pictures/Hung/311.png', '/content/drive/MyDrive/Đình Quý_Coursework_AI4E/Pictures/Hung/233.png', '/content/drive/MyDrive/Đình Quý_Coursework_AI4E/Pictures/Hung/471.png', '/content/drive/MyDrive/Đình Quý_Coursework_AI4E/Pictures/Hung/408.png', '/content/drive/MyDrive/Đình Quý_Coursework_AI4E/Pictures/Hung/401.png', '/content/drive/MyDrive/Đình Quý_Coursework_AI4E/Pictures/Hung/153.png', '/content/drive/MyDrive/Đình Quý_Coursework_AI4E/Pictures/Hung/193.png', '/content/drive/MyDrive/Đình Quý_Coursework_AI4E/Pictures/Hung/285.png', '/content/drive/MyDrive/Đình Quý_Coursework_AI4E/Pictures/Hung/722.png', '/content/drive/MyDrive/Đình Quý_Coursework_AI4E/Pictures/Hung/677.png', '/content/drive/MyDrive/Đình Quý_Coursework_AI4E/Pictures/Hung/344.png', '/content/drive/MyDrive/Đình Quý_Coursework_AI4E/Pictures/Hung/198.png', '/content/drive/MyDrive/Đình Quý_Coursework_AI4E/Pictures/Hung/632.png', '/content/drive/MyDrive/Đình Quý_Coursework_AI4E/Pictures/Hung/549.png', '/content/drive/MyDrive/Đình Quý_Coursework_AI4E/Pictures/Hung/683.png', '/content/drive/MyDrive/Đình Quý_Coursework_AI4E/Pictures/Hung/590.png', '/content/drive/MyDrive/Đình Quý_Coursework_AI4E/Pictures/Hung/165.png', '/content/drive/MyDrive/Đình Quý_Coursework_AI4E/Pictures/Hung/421.png', '/content/drive/MyDrive/Đình Quý_Coursework_AI4E/Pictures/Hung/124.png', '/content/drive/MyDrive/Đình Quý_Coursework_AI4E/Pictures/Hung/723.png', '/content/drive/MyDrive/Đình Quý_Coursework_AI4E/Pictures/Hung/505.png', '/content/drive/MyDrive/Đình Quý_Coursework_AI4E/Pictures/Hung/413.png', '/content/drive/MyDrive/Đình Quý_Coursework_AI4E/Pictures/Hung/149.png', '/content/drive/MyDrive/Đình Quý_Coursework_AI4E/Pictures/Hung/599.png', '/content/drive/MyDrive/Đình Quý_Coursework_AI4E/Pictures/Hung/175.png', '/content/drive/MyDrive/Đình Quý_Coursework_AI4E/Pictures/Hung/676.png', '/content/drive/MyDrive/Đình Quý_Coursework_AI4E/Pictures/Hung/486.png', '/content/drive/MyDrive/Đình Quý_Coursework_AI4E/Pictures/Hung/46.png', '/content/drive/MyDrive/Đình Quý_Coursework_AI4E/Pictures/Hung/601.png', '/content/drive/MyDrive/Đình Quý_Coursework_AI4E/Pictures/Hung/714.png', '/content/drive/MyDrive/Đình Quý_Coursework_AI4E/Pictures/Hung/457.png', '/content/drive/MyDrive/Đình Quý_Coursework_AI4E/Pictures/Hung/593.png', '/content/drive/MyDrive/Đình Quý_Coursework_AI4E/Pictures/Hung/361.png', '/content/drive/MyDrive/Đình Quý_Coursework_AI4E/Pictures/Hung/443.png', '/content/drive/MyDrive/Đình Quý_Coursework_AI4E/Pictures/Hung/354.png', '/content/drive/MyDrive/Đình Quý_Coursework_AI4E/Pictures/Hung/29.png', '/content/drive/MyDrive/Đình Quý_Coursework_AI4E/Pictures/Hung/469.png', '/content/drive/MyDrive/Đình Quý_Coursework_AI4E/Pictures/Hung/203.png', '/content/drive/MyDrive/Đình Quý_Coursework_AI4E/Pictures/Hung/498.png', '/content/drive/MyDrive/Đình Quý_Coursework_AI4E/Pictures/Hung/670.png', '/content/drive/MyDrive/Đình Quý_Coursework_AI4E/Pictures/Hung/106.png', '/content/drive/MyDrive/Đình Quý_Coursework_AI4E/Pictures/Hung/321.png', '/content/drive/MyDrive/Đình Quý_Coursework_AI4E/Pictures/Hung/241.png', '/content/drive/MyDrive/Đình Quý_Coursework_AI4E/Pictures/Hung/39.png', '/content/drive/MyDrive/Đình Quý_Coursework_AI4E/Pictures/Hung/399.png', '/content/drive/MyDrive/Đình Quý_Coursework_AI4E/Pictures/Hung/566.png', '/content/drive/MyDrive/Đình Quý_Coursework_AI4E/Pictures/Hung/588.png', '/content/drive/MyDrive/Đình Quý_Coursework_AI4E/Pictures/Hung/539.png', '/content/drive/MyDrive/Đình Quý_Coursework_AI4E/Pictures/Hung/645.png', '/content/drive/MyDrive/Đình Quý_Coursework_AI4E/Pictures/Hung/178.png', '/content/drive/MyDrive/Đình Quý_Coursework_AI4E/Pictures/Hung/372.png', '/content/drive/MyDrive/Đình Quý_Coursework_AI4E/Pictures/Hung/610.png', '/content/drive/MyDrive/Đình Quý_Coursework_AI4E/Pictures/Hung/299.png', '/content/drive/MyDrive/Đình Quý_Coursework_AI4E/Pictures/Hung/107.png', '/content/drive/MyDrive/Đình Quý_Coursework_AI4E/Pictures/Hung/289.png', '/content/drive/MyDrive/Đình Quý_Coursework_AI4E/Pictures/Hung/634.png', '/content/drive/MyDrive/Đình Quý_Coursework_AI4E/Pictures/Hung/453.png', '/content/drive/MyDrive/Đình Quý_Coursework_AI4E/Pictures/Hung/612.png', '/content/drive/MyDrive/Đình Quý_Coursework_AI4E/Pictures/Hung/374.png', '/content/drive/MyDrive/Đình Quý_Coursework_AI4E/Pictures/Hung/442.png', '/content/drive/MyDrive/Đình Quý_Coursework_AI4E/Pictures/Hung/229.png', '/content/drive/MyDrive/Đình Quý_Coursework_AI4E/Pictures/Hung/118.png', '/content/drive/MyDrive/Đình Quý_Coursework_AI4E/Pictures/Hung/521.png', '/content/drive/MyDrive/Đình Quý_Coursework_AI4E/Pictures/Hung/21.png', '/content/drive/MyDrive/Đình Quý_Coursework_AI4E/Pictures/Hung/14.png', '/content/drive/MyDrive/Đình Quý_Coursework_AI4E/Pictures/Hung/699.png', '/content/drive/MyDrive/Đình Quý_Coursework_AI4E/Pictures/Hung/1.png', '/content/drive/MyDrive/Đình Quý_Coursework_AI4E/Pictures/Hung/270.png', '/content/drive/MyDrive/Đình Quý_Coursework_AI4E/Pictures/Hung/622.png', '/content/drive/MyDrive/Đình Quý_Coursework_AI4E/Pictures/Hung/160.png', '/content/drive/MyDrive/Đình Quý_Coursework_AI4E/Pictures/Hung/693.png', '/content/drive/MyDrive/Đình Quý_Coursework_AI4E/Pictures/Hung/239.png', '/content/drive/MyDrive/Đình Quý_Coursework_AI4E/Pictures/Hung/197.png', '/content/drive/MyDrive/Đình Quý_Coursework_AI4E/Pictures/Hung/38.png', '/content/drive/MyDrive/Đình Quý_Coursework_AI4E/Pictures/Hung/700.png', '/content/drive/MyDrive/Đình Quý_Coursework_AI4E/Pictures/Hung/251.png', '/content/drive/MyDrive/Đình Quý_Coursework_AI4E/Pictures/Hung/348.png', '/content/drive/MyDrive/Đình Quý_Coursework_AI4E/Pictures/Hung/123.png', '/content/drive/MyDrive/Đình Quý_Coursework_AI4E/Pictures/Hung/65.png', '/content/drive/MyDrive/Đình Quý_Coursework_AI4E/Pictures/Hung/427.png', '/content/drive/MyDrive/Đình Quý_Coursework_AI4E/Pictures/Hung/426.png', '/content/drive/MyDrive/Đình Quý_Coursework_AI4E/Pictures/Hung/33.png', '/content/drive/MyDrive/Đình Quý_Coursework_AI4E/Pictures/Hung/274.png', '/content/drive/MyDrive/Đình Quý_Coursework_AI4E/Pictures/Hung/526.png', '/content/drive/MyDrive/Đình Quý_Coursework_AI4E/Pictures/Hung/324.png', '/content/drive/MyDrive/Đình Quý_Coursework_AI4E/Pictures/Hung/406.png', '/content/drive/MyDrive/Đình Quý_Coursework_AI4E/Pictures/Hung/387.png', '/content/drive/MyDrive/Đình Quý_Coursework_AI4E/Pictures/Hung/530.png', '/content/drive/MyDrive/Đình Quý_Coursework_AI4E/Pictures/Hung/654.png', '/content/drive/MyDrive/Đình Quý_Coursework_AI4E/Pictures/Hung/195.png', '/content/drive/MyDrive/Đình Quý_Coursework_AI4E/Pictures/Hung/366.png', '/content/drive/MyDrive/Đình Quý_Coursework_AI4E/Pictures/Hung/465.png', '/content/drive/MyDrive/Đình Quý_Coursework_AI4E/Pictures/Hung/583.png', '/content/drive/MyDrive/Đình Quý_Coursework_AI4E/Pictures/Hung/488.png', '/content/drive/MyDrive/Đình Quý_Coursework_AI4E/Pictures/Hung/557.png', '/content/drive/MyDrive/Đình Quý_Coursework_AI4E/Pictures/Hung/265.png', '/content/drive/MyDrive/Đình Quý_Coursework_AI4E/Pictures/Hung/400.png', '/content/drive/MyDrive/Đình Quý_Coursework_AI4E/Pictures/Hung/76.png', '/content/drive/MyDrive/Đình Quý_Coursework_AI4E/Pictures/Hung/509.png', '/content/drive/MyDrive/Đình Quý_Coursework_AI4E/Pictures/Hung/345.png', '/content/drive/MyDrive/Đình Quý_Coursework_AI4E/Pictures/Hung/637.png', '/content/drive/MyDrive/Đình Quý_Coursework_AI4E/Pictures/Hung/571.png', '/content/drive/MyDrive/Đình Quý_Coursework_AI4E/Pictures/Hung/404.png', '/content/drive/MyDrive/Đình Quý_Coursework_AI4E/Pictures/Hung/446.png', '/content/drive/MyDrive/Đình Quý_Coursework_AI4E/Pictures/Hung/412.png', '/content/drive/MyDrive/Đình Quý_Coursework_AI4E/Pictures/Hung/497.png', '/content/drive/MyDrive/Đình Quý_Coursework_AI4E/Pictures/Hung/528.png', '/content/drive/MyDrive/Đình Quý_Coursework_AI4E/Pictures/Hung/67.png', '/content/drive/MyDrive/Đình Quý_Coursework_AI4E/Pictures/Hung/99.png', '/content/drive/MyDrive/Đình Quý_Coursework_AI4E/Pictures/Hung/236.png', '/content/drive/MyDrive/Đình Quý_Coursework_AI4E/Pictures/Hung/213.png', '/content/drive/MyDrive/Đình Quý_Coursework_AI4E/Pictures/Quan/904.png', '/content/drive/MyDrive/Đình Quý_Coursework_AI4E/Pictures/Quan/822.png', '/content/drive/MyDrive/Đình Quý_Coursework_AI4E/Pictures/Quan/91.png', '/content/drive/MyDrive/Đình Quý_Coursework_AI4E/Pictures/Quan/511.png', '/content/drive/MyDrive/Đình Quý_Coursework_AI4E/Pictures/Quan/332.png', '/content/drive/MyDrive/Đình Quý_Coursework_AI4E/Pictures/Quan/15.png', '/content/drive/MyDrive/Đình Quý_Coursework_AI4E/Pictures/Quan/128.png', '/content/drive/MyDrive/Đình Quý_Coursework_AI4E/Pictures/Quan/283.png', '/content/drive/MyDrive/Đình Quý_Coursework_AI4E/Pictures/Quan/331.png', '/content/drive/MyDrive/Đình Quý_Coursework_AI4E/Pictures/Quan/327.png', '/content/drive/MyDrive/Đình Quý_Coursework_AI4E/Pictures/Quan/513.png', '/content/drive/MyDrive/Đình Quý_Coursework_AI4E/Pictures/Quan/39.png', '/content/drive/MyDrive/Đình Quý_Coursework_AI4E/Pictures/Quan/229.png', '/content/drive/MyDrive/Đình Quý_Coursework_AI4E/Pictures/Quan/539.png', '/content/drive/MyDrive/Đình Quý_Coursework_AI4E/Pictures/Quan/726.png', '/content/drive/MyDrive/Đình Quý_Coursework_AI4E/Pictures/Quan/502.png', '/content/drive/MyDrive/Đình Quý_Coursework_AI4E/Pictures/Quan/249.png', '/content/drive/MyDrive/Đình Quý_Coursework_AI4E/Pictures/Quan/477.png', '/content/drive/MyDrive/Đình Quý_Coursework_AI4E/Pictures/Quan/3.png', '/content/drive/MyDrive/Đình Quý_Coursework_AI4E/Pictures/Quan/354.png', '/content/drive/MyDrive/Đình Quý_Coursework_AI4E/Pictures/Quan/611.png', '/content/drive/MyDrive/Đình Quý_Coursework_AI4E/Pictures/Quan/524.png', '/content/drive/MyDrive/Đình Quý_Coursework_AI4E/Pictures/Quan/580.png', '/content/drive/MyDrive/Đình Quý_Coursework_AI4E/Pictures/Quan/78.png', '/content/drive/MyDrive/Đình Quý_Coursework_AI4E/Pictures/Quan/847.png', '/content/drive/MyDrive/Đình Quý_Coursework_AI4E/Pictures/Quan/25.png', '/content/drive/MyDrive/Đình Quý_Coursework_AI4E/Pictures/Quan/633.png', '/content/drive/MyDrive/Đình Quý_Coursework_AI4E/Pictures/Quan/375.png', '/content/drive/MyDrive/Đình Quý_Coursework_AI4E/Pictures/Quan/528.png', '/content/drive/MyDrive/Đình Quý_Coursework_AI4E/Pictures/Quan/242.png', '/content/drive/MyDrive/Đình Quý_Coursework_AI4E/Pictures/Quan/827.png', '/content/drive/MyDrive/Đình Quý_Coursework_AI4E/Pictures/Quan/111.png', '/content/drive/MyDrive/Đình Quý_Coursework_AI4E/Pictures/Quan/263.png', '/content/drive/MyDrive/Đình Quý_Coursework_AI4E/Pictures/Quan/376.png', '/content/drive/MyDrive/Đình Quý_Coursework_AI4E/Pictures/Quan/680.png', '/content/drive/MyDrive/Đình Quý_Coursework_AI4E/Pictures/Quan/481.png', '/content/drive/MyDrive/Đình Quý_Coursework_AI4E/Pictures/Quan/848.png', '/content/drive/MyDrive/Đình Quý_Coursework_AI4E/Pictures/Quan/53.png', '/content/drive/MyDrive/Đình Quý_Coursework_AI4E/Pictures/Quan/869.png', '/content/drive/MyDrive/Đình Quý_Coursework_AI4E/Pictures/Quan/435.png', '/content/drive/MyDrive/Đình Quý_Coursework_AI4E/Pictures/Quan/287.png', '/content/drive/MyDrive/Đình Quý_Coursework_AI4E/Pictures/Quan/141.png', '/content/drive/MyDrive/Đình Quý_Coursework_AI4E/Pictures/Quan/131.png', '/content/drive/MyDrive/Đình Quý_Coursework_AI4E/Pictures/Quan/330.png', '/content/drive/MyDrive/Đình Quý_Coursework_AI4E/Pictures/Quan/837.png', '/content/drive/MyDrive/Đình Quý_Coursework_AI4E/Pictures/Quan/46.png', '/content/drive/MyDrive/Đình Quý_Coursework_AI4E/Pictures/Quan/860.png', '/content/drive/MyDrive/Đình Quý_Coursework_AI4E/Pictures/Quan/547.png', '/content/drive/MyDrive/Đình Quý_Coursework_AI4E/Pictures/Quan/640.png', '/content/drive/MyDrive/Đình Quý_Coursework_AI4E/Pictures/Quan/909.png', '/content/drive/MyDrive/Đình Quý_Coursework_AI4E/Pictures/Quan/724.png', '/content/drive/MyDrive/Đình Quý_Coursework_AI4E/Pictures/Quan/742.png', '/content/drive/MyDrive/Đình Quý_Coursework_AI4E/Pictures/Quan/172.png', '/content/drive/MyDrive/Đình Quý_Coursework_AI4E/Pictures/Quan/830.png', '/content/drive/MyDrive/Đình Quý_Coursework_AI4E/Pictures/Quan/919.png', '/content/drive/MyDrive/Đình Quý_Coursework_AI4E/Pictures/Quan/279.png', '/content/drive/MyDrive/Đình Quý_Coursework_AI4E/Pictures/Quan/709.png', '/content/drive/MyDrive/Đình Quý_Coursework_AI4E/Pictures/Quan/576.png', '/content/drive/MyDrive/Đình Quý_Coursework_AI4E/Pictures/Quan/666.png', '/content/drive/MyDrive/Đình Quý_Coursework_AI4E/Pictures/Quan/251.png', '/content/drive/MyDrive/Đình Quý_Coursework_AI4E/Pictures/Quan/361.png', '/content/drive/MyDrive/Đình Quý_Coursework_AI4E/Pictures/Quan/877.png', '/content/drive/MyDrive/Đình Quý_Coursework_AI4E/Pictures/Quan/428.png', '/content/drive/MyDrive/Đình Quý_Coursework_AI4E/Pictures/Quan/684.png', '/content/drive/MyDrive/Đình Quý_Coursework_AI4E/Pictures/Quan/290.png', '/content/drive/MyDrive/Đình Quý_Coursework_AI4E/Pictures/Quan/637.png', '/content/drive/MyDrive/Đình Quý_Coursework_AI4E/Pictures/Quan/606.png', '/content/drive/MyDrive/Đình Quý_Coursework_AI4E/Pictures/Quan/899.png', '/content/drive/MyDrive/Đình Quý_Coursework_AI4E/Pictures/Quan/954.png', '/content/drive/MyDrive/Đình Quý_Coursework_AI4E/Pictures/Quan/589.png', '/content/drive/MyDrive/Đình Quý_Coursework_AI4E/Pictures/Quan/769.png', '/content/drive/MyDrive/Đình Quý_Coursework_AI4E/Pictures/Quan/655.png', '/content/drive/MyDrive/Đình Quý_Coursework_AI4E/Pictures/Quan/273.png', '/content/drive/MyDrive/Đình Quý_Coursework_AI4E/Pictures/Quan/948.png', '/content/drive/MyDrive/Đình Quý_Coursework_AI4E/Pictures/Quan/872.png', '/content/drive/MyDrive/Đình Quý_Coursework_AI4E/Pictures/Quan/886.png', '/content/drive/MyDrive/Đình Quý_Coursework_AI4E/Pictures/Quan/758.png', '/content/drive/MyDrive/Đình Quý_Coursework_AI4E/Pictures/Quan/855.png', '/content/drive/MyDrive/Đình Quý_Coursework_AI4E/Pictures/Quan/718.png', '/content/drive/MyDrive/Đình Quý_Coursework_AI4E/Pictures/Quan/786.png', '/content/drive/MyDrive/Đình Quý_Coursework_AI4E/Pictures/Quan/296.png', '/content/drive/MyDrive/Đình Quý_Coursework_AI4E/Pictures/Quan/441.png', '/content/drive/MyDrive/Đình Quý_Coursework_AI4E/Pictures/Quan/466.png', '/content/drive/MyDrive/Đình Quý_Coursework_AI4E/Pictures/Quan/184.png', '/content/drive/MyDrive/Đình Quý_Coursework_AI4E/Pictures/Quan/687.png', '/content/drive/MyDrive/Đình Quý_Coursework_AI4E/Pictures/Quan/798.png', '/content/drive/MyDrive/Đình Quý_Coursework_AI4E/Pictures/Quan/756.png', '/content/drive/MyDrive/Đình Quý_Coursework_AI4E/Pictures/Quan/442.png', '/content/drive/MyDrive/Đình Quý_Coursework_AI4E/Pictures/Quan/535.png', '/content/drive/MyDrive/Đình Quý_Coursework_AI4E/Pictures/Quan/217.png', '/content/drive/MyDrive/Đình Quý_Coursework_AI4E/Pictures/Quan/581.png', '/content/drive/MyDrive/Đình Quý_Coursework_AI4E/Pictures/Quan/372.png', '/content/drive/MyDrive/Đình Quý_Coursework_AI4E/Pictures/Quan/505.png', '/content/drive/MyDrive/Đình Quý_Coursework_AI4E/Pictures/Quan/239.png', '/content/drive/MyDrive/Đình Quý_Coursework_AI4E/Pictures/Quan/736.png', '/content/drive/MyDrive/Đình Quý_Coursework_AI4E/Pictures/Quan/305.png', '/content/drive/MyDrive/Đình Quý_Coursework_AI4E/Pictures/Quan/90.png', '/content/drive/MyDrive/Đình Quý_Coursework_AI4E/Pictures/Quan/779.png', '/content/drive/MyDrive/Đình Quý_Coursework_AI4E/Pictures/Quan/741.png', '/content/drive/MyDrive/Đình Quý_Coursework_AI4E/Pictures/Quan/320.png', '/content/drive/MyDrive/Đình Quý_Coursework_AI4E/Pictures/Quan/789.png', '/content/drive/MyDrive/Đình Quý_Coursework_AI4E/Pictures/Quan/523.png', '/content/drive/MyDrive/Đình Quý_Coursework_AI4E/Pictures/Quan/840.png', '/content/drive/MyDrive/Đình Quý_Coursework_AI4E/Pictures/Quan/949.png', '/content/drive/MyDrive/Đình Quý_Coursework_AI4E/Pictures/Quan/927.png', '/content/drive/MyDrive/Đình Quý_Coursework_AI4E/Pictures/Quan/133.png', '/content/drive/MyDrive/Đình Quý_Coursework_AI4E/Pictures/Quan/595.png', '/content/drive/MyDrive/Đình Quý_Coursework_AI4E/Pictures/Quan/857.png', '/content/drive/MyDrive/Đình Quý_Coursework_AI4E/Pictures/Quan/399.png', '/content/drive/MyDrive/Đình Quý_Coursework_AI4E/Pictures/Quan/334.png', '/content/drive/MyDrive/Đình Quý_Coursework_AI4E/Pictures/Quan/424.png', '/content/drive/MyDrive/Đình Quý_Coursework_AI4E/Pictures/Quan/74.png', '/content/drive/MyDrive/Đình Quý_Coursework_AI4E/Pictures/Quan/325.png', '/content/drive/MyDrive/Đình Quý_Coursework_AI4E/Pictures/Quan/916.png', '/content/drive/MyDrive/Đình Quý_Coursework_AI4E/Pictures/Quan/265.png', '/content/drive/MyDrive/Đình Quý_Coursework_AI4E/Pictures/Quan/118.png', '/content/drive/MyDrive/Đình Quý_Coursework_AI4E/Pictures/Quan/677.png', '/content/drive/MyDrive/Đình Quý_Coursework_AI4E/Pictures/Quan/333.png', '/content/drive/MyDrive/Đình Quý_Coursework_AI4E/Pictures/Quan/89.png', '/content/drive/MyDrive/Đình Quý_Coursework_AI4E/Pictures/Quan/681.png', '/content/drive/MyDrive/Đình Quý_Coursework_AI4E/Pictures/Quan/99.png', '/content/drive/MyDrive/Đình Quý_Coursework_AI4E/Pictures/Quan/631.png', '/content/drive/MyDrive/Đình Quý_Coursework_AI4E/Pictures/Quan/23.png', '/content/drive/MyDrive/Đình Quý_Coursework_AI4E/Pictures/Quan/791.png', '/content/drive/MyDrive/Đình Quý_Coursework_AI4E/Pictures/Quan/859.png', '/content/drive/MyDrive/Đình Quý_Coursework_AI4E/Pictures/Quan/298.png', '/content/drive/MyDrive/Đình Quý_Coursework_AI4E/Pictures/Quan/567.png', '/content/drive/MyDrive/Đình Quý_Coursework_AI4E/Pictures/Quan/755.png', '/content/drive/MyDrive/Đình Quý_Coursework_AI4E/Pictures/Quan/314.png', '/content/drive/MyDrive/Đình Quý_Coursework_AI4E/Pictures/Quan/173.png', '/content/drive/MyDrive/Đình Quý_Coursework_AI4E/Pictures/Quan/893.png', '/content/drive/MyDrive/Đình Quý_Coursework_AI4E/Pictures/Quan/546.png', '/content/drive/MyDrive/Đình Quý_Coursework_AI4E/Pictures/Quan/796.png', '/content/drive/MyDrive/Đình Quý_Coursework_AI4E/Pictures/Quan/176.png', '/content/drive/MyDrive/Đình Quý_Coursework_AI4E/Pictures/Quan/432.png', '/content/drive/MyDrive/Đình Quý_Coursework_AI4E/Pictures/Quan/733.png', '/content/drive/MyDrive/Đình Quý_Coursework_AI4E/Pictures/Quan/458.png', '/content/drive/MyDrive/Đình Quý_Coursework_AI4E/Pictures/Quan/360.png', '/content/drive/MyDrive/Đình Quý_Coursework_AI4E/Pictures/Quan/804.png', '/content/drive/MyDrive/Đình Quý_Coursework_AI4E/Pictures/Quan/934.png', '/content/drive/MyDrive/Đình Quý_Coursework_AI4E/Pictures/Quan/672.png', '/content/drive/MyDrive/Đình Quý_Coursework_AI4E/Pictures/Quan/304.png', '/content/drive/MyDrive/Đình Quý_Coursework_AI4E/Pictures/Quan/843.png', '/content/drive/MyDrive/Đình Quý_Coursework_AI4E/Pictures/Quan/204.png', '/content/drive/MyDrive/Đình Quý_Coursework_AI4E/Pictures/Quan/930.png', '/content/drive/MyDrive/Đình Quý_Coursework_AI4E/Pictures/Quan/293.png', '/content/drive/MyDrive/Đình Quý_Coursework_AI4E/Pictures/Quan/673.png', '/content/drive/MyDrive/Đình Quý_Coursework_AI4E/Pictures/Quan/443.png', '/content/drive/MyDrive/Đình Quý_Coursework_AI4E/Pictures/Quan/757.png', '/content/drive/MyDrive/Đình Quý_Coursework_AI4E/Pictures/Quan/303.png', '/content/drive/MyDrive/Đình Quý_Coursework_AI4E/Pictures/Quan/747.png', '/content/drive/MyDrive/Đình Quý_Coursework_AI4E/Pictures/Quan/662.png', '/content/drive/MyDrive/Đình Quý_Coursework_AI4E/Pictures/Quan/530.png', '/content/drive/MyDrive/Đình Quý_Coursework_AI4E/Pictures/Quan/236.png', '/content/drive/MyDrive/Đình Quý_Coursework_AI4E/Pictures/Quan/205.png', '/content/drive/MyDrive/Đình Quý_Coursework_AI4E/Pictures/Quan/345.png', '/content/drive/MyDrive/Đình Quý_Coursework_AI4E/Pictures/Quan/638.png', '/content/drive/MyDrive/Đình Quý_Coursework_AI4E/Pictures/Quan/941.png', '/content/drive/MyDrive/Đình Quý_Coursework_AI4E/Pictures/Quan/105.png', '/content/drive/MyDrive/Đình Quý_Coursework_AI4E/Pictures/Quan/506.png', '/content/drive/MyDrive/Đình Quý_Coursework_AI4E/Pictures/Quan/445.png', '/content/drive/MyDrive/Đình Quý_Coursework_AI4E/Pictures/Quan/478.png', '/content/drive/MyDrive/Đình Quý_Coursework_AI4E/Pictures/Quan/20.png', '/content/drive/MyDrive/Đình Quý_Coursework_AI4E/Pictures/Quan/67.png', '/content/drive/MyDrive/Đình Quý_Coursework_AI4E/Pictures/Quan/838.png', '/content/drive/MyDrive/Đình Quý_Coursework_AI4E/Pictures/Quan/343.png', '/content/drive/MyDrive/Đình Quý_Coursework_AI4E/Pictures/Quan/191.png', '/content/drive/MyDrive/Đình Quý_Coursework_AI4E/Pictures/Quan/785.png', '/content/drive/MyDrive/Đình Quý_Coursework_AI4E/Pictures/Quan/388.png', '/content/drive/MyDrive/Đình Quý_Coursework_AI4E/Pictures/Quan/231.png', '/content/drive/MyDrive/Đình Quý_Coursework_AI4E/Pictures/Quan/356.png', '/content/drive/MyDrive/Đình Quý_Coursework_AI4E/Pictures/Quan/705.png', '/content/drive/MyDrive/Đình Quý_Coursework_AI4E/Pictures/Quan/522.png', '/content/drive/MyDrive/Đình Quý_Coursework_AI4E/Pictures/Quan/795.png', '/content/drive/MyDrive/Đình Quý_Coursework_AI4E/Pictures/Quan/787.png', '/content/drive/MyDrive/Đình Quý_Coursework_AI4E/Pictures/Quan/12.png', '/content/drive/MyDrive/Đình Quý_Coursework_AI4E/Pictures/Quan/936.png', '/content/drive/MyDrive/Đình Quý_Coursework_AI4E/Pictures/Quan/431.png', '/content/drive/MyDrive/Đình Quý_Coursework_AI4E/Pictures/Quan/275.png', '/content/drive/MyDrive/Đình Quý_Coursework_AI4E/Pictures/Quan/548.png', '/content/drive/MyDrive/Đình Quý_Coursework_AI4E/Pictures/Quan/262.png', '/content/drive/MyDrive/Đình Quý_Coursework_AI4E/Pictures/Quan/58.png', '/content/drive/MyDrive/Đình Quý_Coursework_AI4E/Pictures/Quan/727.png', '/content/drive/MyDrive/Đình Quý_Coursework_AI4E/Pictures/Quan/866.png', '/content/drive/MyDrive/Đình Quý_Coursework_AI4E/Pictures/Quan/799.png', '/content/drive/MyDrive/Đình Quý_Coursework_AI4E/Pictures/Quan/138.png', '/content/drive/MyDrive/Đình Quý_Coursework_AI4E/Pictures/Quan/252.png', '/content/drive/MyDrive/Đình Quý_Coursework_AI4E/Pictures/Quan/865.png', '/content/drive/MyDrive/Đình Quý_Coursework_AI4E/Pictures/Quan/379.png', '/content/drive/MyDrive/Đình Quý_Coursework_AI4E/Pictures/Quan/51.png', '/content/drive/MyDrive/Đình Quý_Coursework_AI4E/Pictures/Quan/555.png', '/content/drive/MyDrive/Đình Quý_Coursework_AI4E/Pictures/Quan/238.png', '/content/drive/MyDrive/Đình Quý_Coursework_AI4E/Pictures/Van/425.png', '/content/drive/MyDrive/Đình Quý_Coursework_AI4E/Pictures/Van/158.png', '/content/drive/MyDrive/Đình Quý_Coursework_AI4E/Pictures/Van/129.png', '/content/drive/MyDrive/Đình Quý_Coursework_AI4E/Pictures/Van/16.png', '/content/drive/MyDrive/Đình Quý_Coursework_AI4E/Pictures/Van/396.png', '/content/drive/MyDrive/Đình Quý_Coursework_AI4E/Pictures/Van/327.png', '/content/drive/MyDrive/Đình Quý_Coursework_AI4E/Pictures/Van/161.png', '/content/drive/MyDrive/Đình Quý_Coursework_AI4E/Pictures/Van/388.png', '/content/drive/MyDrive/Đình Quý_Coursework_AI4E/Pictures/Van/230.png', '/content/drive/MyDrive/Đình Quý_Coursework_AI4E/Pictures/Van/112.png', '/content/drive/MyDrive/Đình Quý_Coursework_AI4E/Pictures/Van/21.png', '/content/drive/MyDrive/Đình Quý_Coursework_AI4E/Pictures/Van/316.png', '/content/drive/MyDrive/Đình Quý_Coursework_AI4E/Pictures/Van/25.png', '/content/drive/MyDrive/Đình Quý_Coursework_AI4E/Pictures/Van/144.png', '/content/drive/MyDrive/Đình Quý_Coursework_AI4E/Pictures/Van/150.png', '/content/drive/MyDrive/Đình Quý_Coursework_AI4E/Pictures/Van/249.png', '/content/drive/MyDrive/Đình Quý_Coursework_AI4E/Pictures/Van/46.png', '/content/drive/MyDrive/Đình Quý_Coursework_AI4E/Pictures/Van/310.png', '/content/drive/MyDrive/Đình Quý_Coursework_AI4E/Pictures/Van/386.png', '/content/drive/MyDrive/Đình Quý_Coursework_AI4E/Pictures/Van/277.png', '/content/drive/MyDrive/Đình Quý_Coursework_AI4E/Pictures/Van/181.png', '/content/drive/MyDrive/Đình Quý_Coursework_AI4E/Pictures/Van/270.png', '/content/drive/MyDrive/Đình Quý_Coursework_AI4E/Pictures/Van/41.png', '/content/drive/MyDrive/Đình Quý_Coursework_AI4E/Pictures/Van/251.png', '/content/drive/MyDrive/Đình Quý_Coursework_AI4E/Pictures/Van/440.png', '/content/drive/MyDrive/Đình Quý_Coursework_AI4E/Pictures/Van/180.png', '/content/drive/MyDrive/Đình Quý_Coursework_AI4E/Pictures/Van/333.png', '/content/drive/MyDrive/Đình Quý_Coursework_AI4E/Pictures/Van/69.png', '/content/drive/MyDrive/Đình Quý_Coursework_AI4E/Pictures/Van/229.png', '/content/drive/MyDrive/Đình Quý_Coursework_AI4E/Pictures/Van/0.png', '/content/drive/MyDrive/Đình Quý_Coursework_AI4E/Pictures/Van/349.png', '/content/drive/MyDrive/Đình Quý_Coursework_AI4E/Pictures/Van/148.png', '/content/drive/MyDrive/Đình Quý_Coursework_AI4E/Pictures/Van/288.png', '/content/drive/MyDrive/Đình Quý_Coursework_AI4E/Pictures/Van/418.png', '/content/drive/MyDrive/Đình Quý_Coursework_AI4E/Pictures/Van/160.png', '/content/drive/MyDrive/Đình Quý_Coursework_AI4E/Pictures/Van/291.png', '/content/drive/MyDrive/Đình Quý_Coursework_AI4E/Pictures/Van/72.png', '/content/drive/MyDrive/Đình Quý_Coursework_AI4E/Pictures/Van/201.png', '/content/drive/MyDrive/Đình Quý_Coursework_AI4E/Pictures/Van/186.png', '/content/drive/MyDrive/Đình Quý_Coursework_AI4E/Pictures/Van/377.png', '/content/drive/MyDrive/Đình Quý_Coursework_AI4E/Pictures/Van/363.png', '/content/drive/MyDrive/Đình Quý_Coursework_AI4E/Pictures/Van/241.png', '/content/drive/MyDrive/Đình Quý_Coursework_AI4E/Pictures/Van/153.png', '/content/drive/MyDrive/Đình Quý_Coursework_AI4E/Pictures/Van/123.png', '/content/drive/MyDrive/Đình Quý_Coursework_AI4E/Pictures/Van/259.png', '/content/drive/MyDrive/Đình Quý_Coursework_AI4E/Pictures/Van/352.png', '/content/drive/MyDrive/Đình Quý_Coursework_AI4E/Pictures/Van/178.png', '/content/drive/MyDrive/Đình Quý_Coursework_AI4E/Pictures/Van/127.png', '/content/drive/MyDrive/Đình Quý_Coursework_AI4E/Pictures/Van/133.png', '/content/drive/MyDrive/Đình Quý_Coursework_AI4E/Pictures/Van/53.png', '/content/drive/MyDrive/Đình Quý_Coursework_AI4E/Pictures/Van/336.png', '/content/drive/MyDrive/Đình Quý_Coursework_AI4E/Pictures/Van/193.png', '/content/drive/MyDrive/Đình Quý_Coursework_AI4E/Pictures/Van/59.png', '/content/drive/MyDrive/Đình Quý_Coursework_AI4E/Pictures/Van/198.png', '/content/drive/MyDrive/Đình Quý_Coursework_AI4E/Pictures/Van/240.png', '/content/drive/MyDrive/Đình Quý_Coursework_AI4E/Pictures/Van/111.png', '/content/drive/MyDrive/Đình Quý_Coursework_AI4E/Pictures/Van/90.png', '/content/drive/MyDrive/Đình Quý_Coursework_AI4E/Pictures/Van/276.png', '/content/drive/MyDrive/Đình Quý_Coursework_AI4E/Pictures/Van/403.png', '/content/drive/MyDrive/Đình Quý_Coursework_AI4E/Pictures/Van/61.png', '/content/drive/MyDrive/Đình Quý_Coursework_AI4E/Pictures/Van/253.png', '/content/drive/MyDrive/Đình Quý_Coursework_AI4E/Pictures/Van/126.png', '/content/drive/MyDrive/Đình Quý_Coursework_AI4E/Pictures/Van/93.png', '/content/drive/MyDrive/Đình Quý_Coursework_AI4E/Pictures/Van/383.png', '/content/drive/MyDrive/Đình Quý_Coursework_AI4E/Pictures/Van/168.png', '/content/drive/MyDrive/Đình Quý_Coursework_AI4E/Pictures/Van/260.png', '/content/drive/MyDrive/Đình Quý_Coursework_AI4E/Pictures/Van/188.png', '/content/drive/MyDrive/Đình Quý_Coursework_AI4E/Pictures/Van/220.png', '/content/drive/MyDrive/Đình Quý_Coursework_AI4E/Pictures/Van/212.png', '/content/drive/MyDrive/Đình Quý_Coursework_AI4E/Pictures/Van/14.png', '/content/drive/MyDrive/Đình Quý_Coursework_AI4E/Pictures/Van/364.png', '/content/drive/MyDrive/Đình Quý_Coursework_AI4E/Pictures/Van/256.png', '/content/drive/MyDrive/Đình Quý_Coursework_AI4E/Pictures/Van/443.png', '/content/drive/MyDrive/Đình Quý_Coursework_AI4E/Pictures/Van/99.png', '/content/drive/MyDrive/Đình Quý_Coursework_AI4E/Pictures/Van/436.png', '/content/drive/MyDrive/Đình Quý_Coursework_AI4E/Pictures/Van/7.png', '/content/drive/MyDrive/Đình Quý_Coursework_AI4E/Pictures/Van/29.png', '/content/drive/MyDrive/Đình Quý_Coursework_AI4E/Pictures/Van/301.png', '/content/drive/MyDrive/Đình Quý_Coursework_AI4E/Pictures/Van/33.png', '/content/drive/MyDrive/Đình Quý_Coursework_AI4E/Pictures/Van/294.png', '/content/drive/MyDrive/Đình Quý_Coursework_AI4E/Pictures/Van/244.png', '/content/drive/MyDrive/Đình Quý_Coursework_AI4E/Pictures/Van/28.png', '/content/drive/MyDrive/Đình Quý_Coursework_AI4E/Pictures/Van/50.png', '/content/drive/MyDrive/Đình Quý_Coursework_AI4E/Pictures/Van/350.png', '/content/drive/MyDrive/Đình Quý_Coursework_AI4E/Pictures/Van/272.png', '/content/drive/MyDrive/Đình Quý_Coursework_AI4E/Pictures/Van/438.png', '/content/drive/MyDrive/Đình Quý_Coursework_AI4E/Pictures/Van/142.png', '/content/drive/MyDrive/Đình Quý_Coursework_AI4E/Pictures/Van/40.png', '/content/drive/MyDrive/Đình Quý_Coursework_AI4E/Pictures/Van/189.png', '/content/drive/MyDrive/Đình Quý_Coursework_AI4E/Pictures/Tuan/37.png', '/content/drive/MyDrive/Đình Quý_Coursework_AI4E/Pictures/Tuan/7.png', '/content/drive/MyDrive/Đình Quý_Coursework_AI4E/Pictures/Tuan/324.png', '/content/drive/MyDrive/Đình Quý_Coursework_AI4E/Pictures/Tuan/165.png', '/content/drive/MyDrive/Đình Quý_Coursework_AI4E/Pictures/Tuan/241.png', '/content/drive/MyDrive/Đình Quý_Coursework_AI4E/Pictures/Tuan/15.png', '/content/drive/MyDrive/Đình Quý_Coursework_AI4E/Pictures/Tuan/330.png', '/content/drive/MyDrive/Đình Quý_Coursework_AI4E/Pictures/Tuan/352.png', '/content/drive/MyDrive/Đình Quý_Coursework_AI4E/Pictures/Tuan/226.png', '/content/drive/MyDrive/Đình Quý_Coursework_AI4E/Pictures/Tuan/55.png', '/content/drive/MyDrive/Đình Quý_Coursework_AI4E/Pictures/Tuan/210.png', '/content/drive/MyDrive/Đình Quý_Coursework_AI4E/Pictures/Tuan/511.png', '/content/drive/MyDrive/Đình Quý_Coursework_AI4E/Pictures/Tuan/490.png', '/content/drive/MyDrive/Đình Quý_Coursework_AI4E/Pictures/Tuan/304.png', '/content/drive/MyDrive/Đình Quý_Coursework_AI4E/Pictures/Tuan/38.png', '/content/drive/MyDrive/Đình Quý_Coursework_AI4E/Pictures/Tuan/154.png', '/content/drive/MyDrive/Đình Quý_Coursework_AI4E/Pictures/Tuan/285.png', '/content/drive/MyDrive/Đình Quý_Coursework_AI4E/Pictures/Tuan/88.png', '/content/drive/MyDrive/Đình Quý_Coursework_AI4E/Pictures/Tuan/194.png', '/content/drive/MyDrive/Đình Quý_Coursework_AI4E/Pictures/Tuan/120.png', '/content/drive/MyDrive/Đình Quý_Coursework_AI4E/Pictures/Tuan/484.png', '/content/drive/MyDrive/Đình Quý_Coursework_AI4E/Pictures/Tuan/286.png', '/content/drive/MyDrive/Đình Quý_Coursework_AI4E/Pictures/Tuan/489.png', '/content/drive/MyDrive/Đình Quý_Coursework_AI4E/Pictures/Tuan/173.png', '/content/drive/MyDrive/Đình Quý_Coursework_AI4E/Pictures/Tuan/422.png', '/content/drive/MyDrive/Đình Quý_Coursework_AI4E/Pictures/Tuan/58.png', '/content/drive/MyDrive/Đình Quý_Coursework_AI4E/Pictures/Tuan/424.png', '/content/drive/MyDrive/Đình Quý_Coursework_AI4E/Pictures/Tuan/499.png', '/content/drive/MyDrive/Đình Quý_Coursework_AI4E/Pictures/Tuan/115.png', '/content/drive/MyDrive/Đình Quý_Coursework_AI4E/Pictures/Tuan/47.png', '/content/drive/MyDrive/Đình Quý_Coursework_AI4E/Pictures/Tuan/464.png', '/content/drive/MyDrive/Đình Quý_Coursework_AI4E/Pictures/Tuan/202.png', '/content/drive/MyDrive/Đình Quý_Coursework_AI4E/Pictures/Tuan/505.png', '/content/drive/MyDrive/Đình Quý_Coursework_AI4E/Pictures/Tuan/522.png', '/content/drive/MyDrive/Đình Quý_Coursework_AI4E/Pictures/Tuan/277.png', '/content/drive/MyDrive/Đình Quý_Coursework_AI4E/Pictures/Tuan/418.png', '/content/drive/MyDrive/Đình Quý_Coursework_AI4E/Pictures/Tuan/380.png', '/content/drive/MyDrive/Đình Quý_Coursework_AI4E/Pictures/Tuan/373.png', '/content/drive/MyDrive/Đình Quý_Coursework_AI4E/Pictures/Tuan/519.png', '/content/drive/MyDrive/Đình Quý_Coursework_AI4E/Pictures/Tuan/43.png', '/content/drive/MyDrive/Đình Quý_Coursework_AI4E/Pictures/Tuan/338.png', '/content/drive/MyDrive/Đình Quý_Coursework_AI4E/Pictures/Tuan/184.png', '/content/drive/MyDrive/Đình Quý_Coursework_AI4E/Pictures/Tuan/45.png', '/content/drive/MyDrive/Đình Quý_Coursework_AI4E/Pictures/Tuan/110.png', '/content/drive/MyDrive/Đình Quý_Coursework_AI4E/Pictures/Tuan/327.png', '/content/drive/MyDrive/Đình Quý_Coursework_AI4E/Pictures/Tuan/366.png', '/content/drive/MyDrive/Đình Quý_Coursework_AI4E/Pictures/Tuan/526.png', '/content/drive/MyDrive/Đình Quý_Coursework_AI4E/Pictures/Tuan/197.png', '/content/drive/MyDrive/Đình Quý_Coursework_AI4E/Pictures/Tuan/435.png', '/content/drive/MyDrive/Đình Quý_Coursework_AI4E/Pictures/Tuan/528.png', '/content/drive/MyDrive/Đình Quý_Coursework_AI4E/Pictures/Tuan/477.png', '/content/drive/MyDrive/Đình Quý_Coursework_AI4E/Pictures/Tuan/334.png', '/content/drive/MyDrive/Đình Quý_Coursework_AI4E/Pictures/Tuan/521.png', '/content/drive/MyDrive/Đình Quý_Coursework_AI4E/Pictures/Tuan/523.png', '/content/drive/MyDrive/Đình Quý_Coursework_AI4E/Pictures/Tuan/515.png', '/content/drive/MyDrive/Đình Quý_Coursework_AI4E/Pictures/Tuan/400.png', '/content/drive/MyDrive/Đình Quý_Coursework_AI4E/Pictures/Tuan/117.png', '/content/drive/MyDrive/Đình Quý_Coursework_AI4E/Pictures/Tuan/293.png', '/content/drive/MyDrive/Đình Quý_Coursework_AI4E/Pictures/Tuan/30.png', '/content/drive/MyDrive/Đình Quý_Coursework_AI4E/Pictures/Tuan/480.png', '/content/drive/MyDrive/Đình Quý_Coursework_AI4E/Pictures/Tuan/8.png', '/content/drive/MyDrive/Đình Quý_Coursework_AI4E/Pictures/Tuan/228.png', '/content/drive/MyDrive/Đình Quý_Coursework_AI4E/Pictures/Tuan/181.png', '/content/drive/MyDrive/Đình Quý_Coursework_AI4E/Pictures/Tuan/305.png', '/content/drive/MyDrive/Đình Quý_Coursework_AI4E/Pictures/Tuan/445.png', '/content/drive/MyDrive/Đình Quý_Coursework_AI4E/Pictures/Tuan/428.png', '/content/drive/MyDrive/Đình Quý_Coursework_AI4E/Pictures/Tuan/444.png', '/content/drive/MyDrive/Đình Quý_Coursework_AI4E/Pictures/Tuan/193.png', '/content/drive/MyDrive/Đình Quý_Coursework_AI4E/Pictures/Tuan/502.png', '/content/drive/MyDrive/Đình Quý_Coursework_AI4E/Pictures/Tuan/534.png', '/content/drive/MyDrive/Đình Quý_Coursework_AI4E/Pictures/Tuan/244.png', '/content/drive/MyDrive/Đình Quý_Coursework_AI4E/Pictures/Tuan/447.png', '/content/drive/MyDrive/Đình Quý_Coursework_AI4E/Pictures/Tuan/423.png', '/content/drive/MyDrive/Đình Quý_Coursework_AI4E/Pictures/Tuan/317.png', '/content/drive/MyDrive/Đình Quý_Coursework_AI4E/Pictures/Tuan/50.png', '/content/drive/MyDrive/Đình Quý_Coursework_AI4E/Pictures/Tuan/306.png', '/content/drive/MyDrive/Đình Quý_Coursework_AI4E/Pictures/Tuan/195.png', '/content/drive/MyDrive/Đình Quý_Coursework_AI4E/Pictures/Tuan/419.png', '/content/drive/MyDrive/Đình Quý_Coursework_AI4E/Pictures/Tuan/182.png', '/content/drive/MyDrive/Đình Quý_Coursework_AI4E/Pictures/Tuan/163.png', '/content/drive/MyDrive/Đình Quý_Coursework_AI4E/Pictures/Tuan/432.png', '/content/drive/MyDrive/Đình Quý_Coursework_AI4E/Pictures/Tuan/1.png', '/content/drive/MyDrive/Đình Quý_Coursework_AI4E/Pictures/Tuan/318.png', '/content/drive/MyDrive/Đình Quý_Coursework_AI4E/Pictures/Tuan/440.png', '/content/drive/MyDrive/Đình Quý_Coursework_AI4E/Pictures/Tuan/169.png', '/content/drive/MyDrive/Đình Quý_Coursework_AI4E/Pictures/Tuan/410.png', '/content/drive/MyDrive/Đình Quý_Coursework_AI4E/Pictures/Tuan/282.png', '/content/drive/MyDrive/Đình Quý_Coursework_AI4E/Pictures/Tuan/493.png', '/content/drive/MyDrive/Đình Quý_Coursework_AI4E/Pictures/Tuan/360.png', '/content/drive/MyDrive/Đình Quý_Coursework_AI4E/Pictures/Tuan/144.png', '/content/drive/MyDrive/Đình Quý_Coursework_AI4E/Pictures/Tuan/340.png', '/content/drive/MyDrive/Đình Quý_Coursework_AI4E/Pictures/Tuan/385.png', '/content/drive/MyDrive/Đình Quý_Coursework_AI4E/Pictures/Tuan/5.png', '/content/drive/MyDrive/Đình Quý_Coursework_AI4E/Pictures/Tuan/268.png', '/content/drive/MyDrive/Đình Quý_Coursework_AI4E/Pictures/Tuan/375.png', '/content/drive/MyDrive/Đình Quý_Coursework_AI4E/Pictures/Tuan/336.png', '/content/drive/MyDrive/Đình Quý_Coursework_AI4E/Pictures/Tuan/206.png', '/content/drive/MyDrive/Đình Quý_Coursework_AI4E/Pictures/Tuan/250.png', '/content/drive/MyDrive/Đình Quý_Coursework_AI4E/Pictures/Tuan/454.png', '/content/drive/MyDrive/Đình Quý_Coursework_AI4E/Pictures/Tuan/335.png', '/content/drive/MyDrive/Đình Quý_Coursework_AI4E/Pictures/Tuan/269.png', '/content/drive/MyDrive/Đình Quý_Coursework_AI4E/Pictures/Tuan/378.png', '/content/drive/MyDrive/Đình Quý_Coursework_AI4E/Pictures/Tuan/34.png', '/content/drive/MyDrive/Đình Quý_Coursework_AI4E/Pictures/Tuan/414.png', '/content/drive/MyDrive/Đình Quý_Coursework_AI4E/Pictures/Tuan/518.png', '/content/drive/MyDrive/Đình Quý_Coursework_AI4E/Pictures/Tuan/397.png', '/content/drive/MyDrive/Đình Quý_Coursework_AI4E/Pictures/Tuan/427.png', '/content/drive/MyDrive/Đình Quý_Coursework_AI4E/Pictures/Tuan/453.png', '/content/drive/MyDrive/Đình Quý_Coursework_AI4E/Pictures/Xuan_Anh/616.png', '/content/drive/MyDrive/Đình Quý_Coursework_AI4E/Pictures/Xuan_Anh/560.png', '/content/drive/MyDrive/Đình Quý_Coursework_AI4E/Pictures/Xuan_Anh/522.png', '/content/drive/MyDrive/Đình Quý_Coursework_AI4E/Pictures/Xuan_Anh/633.png', '/content/drive/MyDrive/Đình Quý_Coursework_AI4E/Pictures/Xuan_Anh/139.png', '/content/drive/MyDrive/Đình Quý_Coursework_AI4E/Pictures/Xuan_Anh/107.png', '/content/drive/MyDrive/Đình Quý_Coursework_AI4E/Pictures/Xuan_Anh/764.png', '/content/drive/MyDrive/Đình Quý_Coursework_AI4E/Pictures/Xuan_Anh/316.png', '/content/drive/MyDrive/Đình Quý_Coursework_AI4E/Pictures/Xuan_Anh/434.png', '/content/drive/MyDrive/Đình Quý_Coursework_AI4E/Pictures/Xuan_Anh/12.png', '/content/drive/MyDrive/Đình Quý_Coursework_AI4E/Pictures/Xuan_Anh/763.png', '/content/drive/MyDrive/Đình Quý_Coursework_AI4E/Pictures/Xuan_Anh/653.png', '/content/drive/MyDrive/Đình Quý_Coursework_AI4E/Pictures/Xuan_Anh/423.png', '/content/drive/MyDrive/Đình Quý_Coursework_AI4E/Pictures/Xuan_Anh/305.png', '/content/drive/MyDrive/Đình Quý_Coursework_AI4E/Pictures/Xuan_Anh/623.png', '/content/drive/MyDrive/Đình Quý_Coursework_AI4E/Pictures/Xuan_Anh/442.png', '/content/drive/MyDrive/Đình Quý_Coursework_AI4E/Pictures/Xuan_Anh/346.png', '/content/drive/MyDrive/Đình Quý_Coursework_AI4E/Pictures/Xuan_Anh/53.png', '/content/drive/MyDrive/Đình Quý_Coursework_AI4E/Pictures/Xuan_Anh/155.png', '/content/drive/MyDrive/Đình Quý_Coursework_AI4E/Pictures/Xuan_Anh/177.png', '/content/drive/MyDrive/Đình Quý_Coursework_AI4E/Pictures/Xuan_Anh/327.png', '/content/drive/MyDrive/Đình Quý_Coursework_AI4E/Pictures/Xuan_Anh/2.png', '/content/drive/MyDrive/Đình Quý_Coursework_AI4E/Pictures/Xuan_Anh/68.png', '/content/drive/MyDrive/Đình Quý_Coursework_AI4E/Pictures/Xuan_Anh/654.png', '/content/drive/MyDrive/Đình Quý_Coursework_AI4E/Pictures/Xuan_Anh/835.png', '/content/drive/MyDrive/Đình Quý_Coursework_AI4E/Pictures/Xuan_Anh/266.png', '/content/drive/MyDrive/Đình Quý_Coursework_AI4E/Pictures/Xuan_Anh/431.png', '/content/drive/MyDrive/Đình Quý_Coursework_AI4E/Pictures/Xuan_Anh/184.png', '/content/drive/MyDrive/Đình Quý_Coursework_AI4E/Pictures/Xuan_Anh/583.png', '/content/drive/MyDrive/Đình Quý_Coursework_AI4E/Pictures/Xuan_Anh/617.png', '/content/drive/MyDrive/Đình Quý_Coursework_AI4E/Pictures/Xuan_Anh/555.png', '/content/drive/MyDrive/Đình Quý_Coursework_AI4E/Pictures/Xuan_Anh/280.png', '/content/drive/MyDrive/Đình Quý_Coursework_AI4E/Pictures/Xuan_Anh/556.png', '/content/drive/MyDrive/Đình Quý_Coursework_AI4E/Pictures/Xuan_Anh/190.png', '/content/drive/MyDrive/Đình Quý_Coursework_AI4E/Pictures/Xuan_Anh/374.png', '/content/drive/MyDrive/Đình Quý_Coursework_AI4E/Pictures/Xuan_Anh/144.png', '/content/drive/MyDrive/Đình Quý_Coursework_AI4E/Pictures/Xuan_Anh/600.png', '/content/drive/MyDrive/Đình Quý_Coursework_AI4E/Pictures/Xuan_Anh/97.png', '/content/drive/MyDrive/Đình Quý_Coursework_AI4E/Pictures/Xuan_Anh/807.png', '/content/drive/MyDrive/Đình Quý_Coursework_AI4E/Pictures/Xuan_Anh/698.png', '/content/drive/MyDrive/Đình Quý_Coursework_AI4E/Pictures/Xuan_Anh/534.png', '/content/drive/MyDrive/Đình Quý_Coursework_AI4E/Pictures/Xuan_Anh/257.png', '/content/drive/MyDrive/Đình Quý_Coursework_AI4E/Pictures/Xuan_Anh/670.png', '/content/drive/MyDrive/Đình Quý_Coursework_AI4E/Pictures/Xuan_Anh/147.png', '/content/drive/MyDrive/Đình Quý_Coursework_AI4E/Pictures/Xuan_Anh/732.png', '/content/drive/MyDrive/Đình Quý_Coursework_AI4E/Pictures/Xuan_Anh/309.png', '/content/drive/MyDrive/Đình Quý_Coursework_AI4E/Pictures/Xuan_Anh/757.png', '/content/drive/MyDrive/Đình Quý_Coursework_AI4E/Pictures/Xuan_Anh/637.png', '/content/drive/MyDrive/Đình Quý_Coursework_AI4E/Pictures/Xuan_Anh/585.png', '/content/drive/MyDrive/Đình Quý_Coursework_AI4E/Pictures/Xuan_Anh/615.png', '/content/drive/MyDrive/Đình Quý_Coursework_AI4E/Pictures/Xuan_Anh/202.png', '/content/drive/MyDrive/Đình Quý_Coursework_AI4E/Pictures/Xuan_Anh/225.png', '/content/drive/MyDrive/Đình Quý_Coursework_AI4E/Pictures/Xuan_Anh/688.png', '/content/drive/MyDrive/Đình Quý_Coursework_AI4E/Pictures/Xuan_Anh/786.png', '/content/drive/MyDrive/Đình Quý_Coursework_AI4E/Pictures/Xuan_Anh/824.png', '/content/drive/MyDrive/Đình Quý_Coursework_AI4E/Pictures/Xuan_Anh/810.png', '/content/drive/MyDrive/Đình Quý_Coursework_AI4E/Pictures/Xuan_Anh/352.png', '/content/drive/MyDrive/Đình Quý_Coursework_AI4E/Pictures/Xuan_Anh/841.png', '/content/drive/MyDrive/Đình Quý_Coursework_AI4E/Pictures/Xuan_Anh/9.png', '/content/drive/MyDrive/Đình Quý_Coursework_AI4E/Pictures/Xuan_Anh/188.png', '/content/drive/MyDrive/Đình Quý_Coursework_AI4E/Pictures/Xuan_Anh/421.png', '/content/drive/MyDrive/Đình Quý_Coursework_AI4E/Pictures/Xuan_Anh/665.png', '/content/drive/MyDrive/Đình Quý_Coursework_AI4E/Pictures/Xuan_Anh/366.png', '/content/drive/MyDrive/Đình Quý_Coursework_AI4E/Pictures/Xuan_Anh/368.png', '/content/drive/MyDrive/Đình Quý_Coursework_AI4E/Pictures/Xuan_Anh/249.png', '/content/drive/MyDrive/Đình Quý_Coursework_AI4E/Pictures/Xuan_Anh/450.png', '/content/drive/MyDrive/Đình Quý_Coursework_AI4E/Pictures/Xuan_Anh/123.png', '/content/drive/MyDrive/Đình Quý_Coursework_AI4E/Pictures/Xuan_Anh/508.png', '/content/drive/MyDrive/Đình Quý_Coursework_AI4E/Pictures/Xuan_Anh/454.png', '/content/drive/MyDrive/Đình Quý_Coursework_AI4E/Pictures/Xuan_Anh/373.png', '/content/drive/MyDrive/Đình Quý_Coursework_AI4E/Pictures/Xuan_Anh/216.png', '/content/drive/MyDrive/Đình Quý_Coursework_AI4E/Pictures/Xuan_Anh/223.png', '/content/drive/MyDrive/Đình Quý_Coursework_AI4E/Pictures/Xuan_Anh/288.png', '/content/drive/MyDrive/Đình Quý_Coursework_AI4E/Pictures/Xuan_Anh/661.png', '/content/drive/MyDrive/Đình Quý_Coursework_AI4E/Pictures/Xuan_Anh/64.png', '/content/drive/MyDrive/Đình Quý_Coursework_AI4E/Pictures/Xuan_Anh/427.png', '/content/drive/MyDrive/Đình Quý_Coursework_AI4E/Pictures/Xuan_Anh/66.png', '/content/drive/MyDrive/Đình Quý_Coursework_AI4E/Pictures/Xuan_Anh/825.png', '/content/drive/MyDrive/Đình Quý_Coursework_AI4E/Pictures/Xuan_Anh/469.png', '/content/drive/MyDrive/Đình Quý_Coursework_AI4E/Pictures/Xuan_Anh/571.png', '/content/drive/MyDrive/Đình Quý_Coursework_AI4E/Pictures/Xuan_Anh/331.png', '/content/drive/MyDrive/Đình Quý_Coursework_AI4E/Pictures/Xuan_Anh/559.png', '/content/drive/MyDrive/Đình Quý_Coursework_AI4E/Pictures/Xuan_Anh/521.png', '/content/drive/MyDrive/Đình Quý_Coursework_AI4E/Pictures/Xuan_Anh/765.png', '/content/drive/MyDrive/Đình Quý_Coursework_AI4E/Pictures/Xuan_Anh/492.png', '/content/drive/MyDrive/Đình Quý_Coursework_AI4E/Pictures/Xuan_Anh/796.png', '/content/drive/MyDrive/Đình Quý_Coursework_AI4E/Pictures/Xuan_Anh/546.png', '/content/drive/MyDrive/Đình Quý_Coursework_AI4E/Pictures/Xuan_Anh/343.png', '/content/drive/MyDrive/Đình Quý_Coursework_AI4E/Pictures/Xuan_Anh/834.png', '/content/drive/MyDrive/Đình Quý_Coursework_AI4E/Pictures/Xuan_Anh/42.png', '/content/drive/MyDrive/Đình Quý_Coursework_AI4E/Pictures/Xuan_Anh/164.png', '/content/drive/MyDrive/Đình Quý_Coursework_AI4E/Pictures/Xuan_Anh/609.png', '/content/drive/MyDrive/Đình Quý_Coursework_AI4E/Pictures/Xuan_Anh/855.png', '/content/drive/MyDrive/Đình Quý_Coursework_AI4E/Pictures/Xuan_Anh/768.png', '/content/drive/MyDrive/Đình Quý_Coursework_AI4E/Pictures/Xuan_Anh/5.png', '/content/drive/MyDrive/Đình Quý_Coursework_AI4E/Pictures/Xuan_Anh/334.png', '/content/drive/MyDrive/Đình Quý_Coursework_AI4E/Pictures/Xuan_Anh/399.png', '/content/drive/MyDrive/Đình Quý_Coursework_AI4E/Pictures/Xuan_Anh/242.png', '/content/drive/MyDrive/Đình Quý_Coursework_AI4E/Pictures/Xuan_Anh/771.png', '/content/drive/MyDrive/Đình Quý_Coursework_AI4E/Pictures/Xuan_Anh/198.png', '/content/drive/MyDrive/Đình Quý_Coursework_AI4E/Pictures/Xuan_Anh/329.png', '/content/drive/MyDrive/Đình Quý_Coursework_AI4E/Pictures/Xuan_Anh/345.png', '/content/drive/MyDrive/Đình Quý_Coursework_AI4E/Pictures/Xuan_Anh/722.png', '/content/drive/MyDrive/Đình Quý_Coursework_AI4E/Pictures/Xuan_Anh/701.png', '/content/drive/MyDrive/Đình Quý_Coursework_AI4E/Pictures/Xuan_Anh/441.png', '/content/drive/MyDrive/Đình Quý_Coursework_AI4E/Pictures/Xuan_Anh/47.png', '/content/drive/MyDrive/Đình Quý_Coursework_AI4E/Pictures/Xuan_Anh/185.png', '/content/drive/MyDrive/Đình Quý_Coursework_AI4E/Pictures/Xuan_Anh/541.png', '/content/drive/MyDrive/Đình Quý_Coursework_AI4E/Pictures/Xuan_Anh/88.png', '/content/drive/MyDrive/Đình Quý_Coursework_AI4E/Pictures/Xuan_Anh/675.png', '/content/drive/MyDrive/Đình Quý_Coursework_AI4E/Pictures/Xuan_Anh/742.png', '/content/drive/MyDrive/Đình Quý_Coursework_AI4E/Pictures/Xuan_Anh/319.png', '/content/drive/MyDrive/Đình Quý_Coursework_AI4E/Pictures/Xuan_Anh/490.png', '/content/drive/MyDrive/Đình Quý_Coursework_AI4E/Pictures/Xuan_Anh/23.png', '/content/drive/MyDrive/Đình Quý_Coursework_AI4E/Pictures/Xuan_Anh/598.png', '/content/drive/MyDrive/Đình Quý_Coursework_AI4E/Pictures/Xuan_Anh/181.png', '/content/drive/MyDrive/Đình Quý_Coursework_AI4E/Pictures/Xuan_Anh/392.png', '/content/drive/MyDrive/Đình Quý_Coursework_AI4E/Pictures/Xuan_Anh/298.png', '/content/drive/MyDrive/Đình Quý_Coursework_AI4E/Pictures/Xuan_Anh/435.png', '/content/drive/MyDrive/Đình Quý_Coursework_AI4E/Pictures/Xuan_Anh/241.png', '/content/drive/MyDrive/Đình Quý_Coursework_AI4E/Pictures/Xuan_Anh/578.png', '/content/drive/MyDrive/Đình Quý_Coursework_AI4E/Pictures/Xuan_Anh/799.png', '/content/drive/MyDrive/Đình Quý_Coursework_AI4E/Pictures/Xuan_Anh/389.png', '/content/drive/MyDrive/Đình Quý_Coursework_AI4E/Pictures/Xuan_Anh/152.png', '/content/drive/MyDrive/Đình Quý_Coursework_AI4E/Pictures/Xuan_Anh/817.png', '/content/drive/MyDrive/Đình Quý_Coursework_AI4E/Pictures/Xuan_Anh/733.png', '/content/drive/MyDrive/Đình Quý_Coursework_AI4E/Pictures/Xuan_Anh/201.png', '/content/drive/MyDrive/Đình Quý_Coursework_AI4E/Pictures/Xuan_Anh/250.png', '/content/drive/MyDrive/Đình Quý_Coursework_AI4E/Pictures/Xuan_Anh/140.png', '/content/drive/MyDrive/Đình Quý_Coursework_AI4E/Pictures/Xuan_Anh/14.png', '/content/drive/MyDrive/Đình Quý_Coursework_AI4E/Pictures/Xuan_Anh/348.png', '/content/drive/MyDrive/Đình Quý_Coursework_AI4E/Pictures/Xuan_Anh/593.png', '/content/drive/MyDrive/Đình Quý_Coursework_AI4E/Pictures/Xuan_Anh/295.png', '/content/drive/MyDrive/Đình Quý_Coursework_AI4E/Pictures/Xuan_Anh/465.png', '/content/drive/MyDrive/Đình Quý_Coursework_AI4E/Pictures/Xuan_Anh/457.png', '/content/drive/MyDrive/Đình Quý_Coursework_AI4E/Pictures/Xuan_Anh/481.png', '/content/drive/MyDrive/Đình Quý_Coursework_AI4E/Pictures/Xuan_Anh/253.png', '/content/drive/MyDrive/Đình Quý_Coursework_AI4E/Pictures/Xuan_Anh/581.png', '/content/drive/MyDrive/Đình Quý_Coursework_AI4E/Pictures/Xuan_Anh/194.png', '/content/drive/MyDrive/Đình Quý_Coursework_AI4E/Pictures/Xuan_Anh/120.png', '/content/drive/MyDrive/Đình Quý_Coursework_AI4E/Pictures/Xuan_Anh/369.png', '/content/drive/MyDrive/Đình Quý_Coursework_AI4E/Pictures/Xuan_Anh/785.png', '/content/drive/MyDrive/Đình Quý_Coursework_AI4E/Pictures/Xuan_Anh/748.png', '/content/drive/MyDrive/Đình Quý_Coursework_AI4E/Pictures/Xuan_Anh/314.png', '/content/drive/MyDrive/Đình Quý_Coursework_AI4E/Pictures/Xuan_Anh/171.png', '/content/drive/MyDrive/Đình Quý_Coursework_AI4E/Pictures/Xuan_Anh/846.png', '/content/drive/MyDrive/Đình Quý_Coursework_AI4E/Pictures/Xuan_Anh/658.png', '/content/drive/MyDrive/Đình Quý_Coursework_AI4E/Pictures/Xuan_Anh/304.png', '/content/drive/MyDrive/Đình Quý_Coursework_AI4E/Pictures/Xuan_Anh/56.png', '/content/drive/MyDrive/Đình Quý_Coursework_AI4E/Pictures/Xuan_Anh/561.png', '/content/drive/MyDrive/Đình Quý_Coursework_AI4E/Pictures/Xuan_Anh/0.png', '/content/drive/MyDrive/Đình Quý_Coursework_AI4E/Pictures/Xuan_Anh/746.png', '/content/drive/MyDrive/Đình Quý_Coursework_AI4E/Pictures/Xuan_Anh/666.png', '/content/drive/MyDrive/Đình Quý_Coursework_AI4E/Pictures/Xuan_Anh/689.png', '/content/drive/MyDrive/Đình Quý_Coursework_AI4E/Pictures/Xuan_Anh/463.png', '/content/drive/MyDrive/Đình Quý_Coursework_AI4E/Pictures/Xuan_Anh/62.png', '/content/drive/MyDrive/Đình Quý_Coursework_AI4E/Pictures/Xuan_Anh/245.png', '/content/drive/MyDrive/Đình Quý_Coursework_AI4E/Pictures/Xuan_Anh/46.png', '/content/drive/MyDrive/Đình Quý_Coursework_AI4E/Pictures/Xuan_Anh/635.png', '/content/drive/MyDrive/Đình Quý_Coursework_AI4E/Pictures/Xuan_Anh/674.png', '/content/drive/MyDrive/Đình Quý_Coursework_AI4E/Pictures/Xuan_Anh/515.png', '/content/drive/MyDrive/Đình Quý_Coursework_AI4E/Pictures/Xuan_Anh/526.png', '/content/drive/MyDrive/Đình Quý_Coursework_AI4E/Pictures/Xuan_Anh/859.png', '/content/drive/MyDrive/Đình Quý_Coursework_AI4E/Pictures/Xuan_Anh/812.png', '/content/drive/MyDrive/Đình Quý_Coursework_AI4E/Pictures/Xuan_Anh/519.png', '/content/drive/MyDrive/Đình Quý_Coursework_AI4E/Pictures/Xuan_Anh/382.png', '/content/drive/MyDrive/Đình Quý_Coursework_AI4E/Pictures/Xuan_Anh/525.png', '/content/drive/MyDrive/Đình Quý_Coursework_AI4E/Pictures/Xuan_Anh/681.png', '/content/drive/MyDrive/Đình Quý_Coursework_AI4E/Pictures/Xuan_Anh/599.png', '/content/drive/MyDrive/Đình Quý_Coursework_AI4E/Pictures/Xuan_Anh/397.png', '/content/drive/MyDrive/Đình Quý_Coursework_AI4E/Pictures/Xuan_Anh/586.png', '/content/drive/MyDrive/Đình Quý_Coursework_AI4E/Pictures/Xuan_Anh/233.png', '/content/drive/MyDrive/Đình Quý_Coursework_AI4E/Pictures/Xuan_Anh/452.png', '/content/drive/MyDrive/Đình Quý_Coursework_AI4E/Pictures/Viet_Duc/185.png', '/content/drive/MyDrive/Đình Quý_Coursework_AI4E/Pictures/Viet_Duc/517.png', '/content/drive/MyDrive/Đình Quý_Coursework_AI4E/Pictures/Viet_Duc/418.png', '/content/drive/MyDrive/Đình Quý_Coursework_AI4E/Pictures/Viet_Duc/596.png', '/content/drive/MyDrive/Đình Quý_Coursework_AI4E/Pictures/Viet_Duc/342.png', '/content/drive/MyDrive/Đình Quý_Coursework_AI4E/Pictures/Viet_Duc/458.png', '/content/drive/MyDrive/Đình Quý_Coursework_AI4E/Pictures/Viet_Duc/393.png', '/content/drive/MyDrive/Đình Quý_Coursework_AI4E/Pictures/Viet_Duc/398.png', '/content/drive/MyDrive/Đình Quý_Coursework_AI4E/Pictures/Viet_Duc/455.png', '/content/drive/MyDrive/Đình Quý_Coursework_AI4E/Pictures/Viet_Duc/67.png', '/content/drive/MyDrive/Đình Quý_Coursework_AI4E/Pictures/Viet_Duc/182.png', '/content/drive/MyDrive/Đình Quý_Coursework_AI4E/Pictures/Viet_Duc/192.png', '/content/drive/MyDrive/Đình Quý_Coursework_AI4E/Pictures/Viet_Duc/121.png', '/content/drive/MyDrive/Đình Quý_Coursework_AI4E/Pictures/Viet_Duc/34.png', '/content/drive/MyDrive/Đình Quý_Coursework_AI4E/Pictures/Viet_Duc/300.png', '/content/drive/MyDrive/Đình Quý_Coursework_AI4E/Pictures/Viet_Duc/362.png', '/content/drive/MyDrive/Đình Quý_Coursework_AI4E/Pictures/Viet_Duc/468.png', '/content/drive/MyDrive/Đình Quý_Coursework_AI4E/Pictures/Viet_Duc/200.png', '/content/drive/MyDrive/Đình Quý_Coursework_AI4E/Pictures/Viet_Duc/108.png', '/content/drive/MyDrive/Đình Quý_Coursework_AI4E/Pictures/Viet_Duc/52.png', '/content/drive/MyDrive/Đình Quý_Coursework_AI4E/Pictures/Viet_Duc/311.png', '/content/drive/MyDrive/Đình Quý_Coursework_AI4E/Pictures/Viet_Duc/524.png', '/content/drive/MyDrive/Đình Quý_Coursework_AI4E/Pictures/Viet_Duc/420.png', '/content/drive/MyDrive/Đình Quý_Coursework_AI4E/Pictures/Viet_Duc/525.png', '/content/drive/MyDrive/Đình Quý_Coursework_AI4E/Pictures/Viet_Duc/431.png', '/content/drive/MyDrive/Đình Quý_Coursework_AI4E/Pictures/Viet_Duc/559.png', '/content/drive/MyDrive/Đình Quý_Coursework_AI4E/Pictures/Viet_Duc/275.png', '/content/drive/MyDrive/Đình Quý_Coursework_AI4E/Pictures/Viet_Duc/570.png', '/content/drive/MyDrive/Đình Quý_Coursework_AI4E/Pictures/Viet_Duc/479.png', '/content/drive/MyDrive/Đình Quý_Coursework_AI4E/Pictures/Viet_Duc/287.png', '/content/drive/MyDrive/Đình Quý_Coursework_AI4E/Pictures/Viet_Duc/199.png', '/content/drive/MyDrive/Đình Quý_Coursework_AI4E/Pictures/Viet_Duc/408.png', '/content/drive/MyDrive/Đình Quý_Coursework_AI4E/Pictures/Viet_Duc/511.png', '/content/drive/MyDrive/Đình Quý_Coursework_AI4E/Pictures/Viet_Duc/383.png', '/content/drive/MyDrive/Đình Quý_Coursework_AI4E/Pictures/Viet_Duc/53.png', '/content/drive/MyDrive/Đình Quý_Coursework_AI4E/Pictures/Viet_Duc/521.png', '/content/drive/MyDrive/Đình Quý_Coursework_AI4E/Pictures/Viet_Duc/333.png', '/content/drive/MyDrive/Đình Quý_Coursework_AI4E/Pictures/Viet_Duc/432.png', '/content/drive/MyDrive/Đình Quý_Coursework_AI4E/Pictures/Viet_Duc/515.png', '/content/drive/MyDrive/Đình Quý_Coursework_AI4E/Pictures/Viet_Duc/264.png', '/content/drive/MyDrive/Đình Quý_Coursework_AI4E/Pictures/Viet_Duc/290.png', '/content/drive/MyDrive/Đình Quý_Coursework_AI4E/Pictures/Viet_Duc/297.png', '/content/drive/MyDrive/Đình Quý_Coursework_AI4E/Pictures/Viet_Duc/377.png', '/content/drive/MyDrive/Đình Quý_Coursework_AI4E/Pictures/Viet_Duc/257.png', '/content/drive/MyDrive/Đình Quý_Coursework_AI4E/Pictures/Viet_Duc/456.png', '/content/drive/MyDrive/Đình Quý_Coursework_AI4E/Pictures/Viet_Duc/545.png', '/content/drive/MyDrive/Đình Quý_Coursework_AI4E/Pictures/Viet_Duc/228.png', '/content/drive/MyDrive/Đình Quý_Coursework_AI4E/Pictures/Viet_Duc/553.png', '/content/drive/MyDrive/Đình Quý_Coursework_AI4E/Pictures/Viet_Duc/258.png', '/content/drive/MyDrive/Đình Quý_Coursework_AI4E/Pictures/Viet_Duc/171.png', '/content/drive/MyDrive/Đình Quý_Coursework_AI4E/Pictures/Viet_Duc/250.png', '/content/drive/MyDrive/Đình Quý_Coursework_AI4E/Pictures/Viet_Duc/349.png', '/content/drive/MyDrive/Đình Quý_Coursework_AI4E/Pictures/Viet_Duc/45.png', '/content/drive/MyDrive/Đình Quý_Coursework_AI4E/Pictures/Viet_Duc/541.png', '/content/drive/MyDrive/Đình Quý_Coursework_AI4E/Pictures/Viet_Duc/555.png', '/content/drive/MyDrive/Đình Quý_Coursework_AI4E/Pictures/Viet_Duc/366.png', '/content/drive/MyDrive/Đình Quý_Coursework_AI4E/Pictures/Viet_Duc/469.png', '/content/drive/MyDrive/Đình Quý_Coursework_AI4E/Pictures/Viet_Duc/535.png', '/content/drive/MyDrive/Đình Quý_Coursework_AI4E/Pictures/Viet_Duc/531.png', '/content/drive/MyDrive/Đình Quý_Coursework_AI4E/Pictures/Viet_Duc/72.png', '/content/drive/MyDrive/Đình Quý_Coursework_AI4E/Pictures/Viet_Duc/470.png', '/content/drive/MyDrive/Đình Quý_Coursework_AI4E/Pictures/Viet_Duc/164.png', '/content/drive/MyDrive/Đình Quý_Coursework_AI4E/Pictures/Viet_Duc/16.png', '/content/drive/MyDrive/Đình Quý_Coursework_AI4E/Pictures/Viet_Duc/386.png', '/content/drive/MyDrive/Đình Quý_Coursework_AI4E/Pictures/Viet_Duc/603.png', '/content/drive/MyDrive/Đình Quý_Coursework_AI4E/Pictures/Viet_Duc/3.png', '/content/drive/MyDrive/Đình Quý_Coursework_AI4E/Pictures/Viet_Duc/569.png', '/content/drive/MyDrive/Đình Quý_Coursework_AI4E/Pictures/Viet_Duc/454.png', '/content/drive/MyDrive/Đình Quý_Coursework_AI4E/Pictures/Viet_Duc/404.png', '/content/drive/MyDrive/Đình Quý_Coursework_AI4E/Pictures/Viet_Duc/348.png', '/content/drive/MyDrive/Đình Quý_Coursework_AI4E/Pictures/Viet_Duc/7.png', '/content/drive/MyDrive/Đình Quý_Coursework_AI4E/Pictures/Viet_Duc/90.png', '/content/drive/MyDrive/Đình Quý_Coursework_AI4E/Pictures/Viet_Duc/178.png', '/content/drive/MyDrive/Đình Quý_Coursework_AI4E/Pictures/Viet_Duc/110.png', '/content/drive/MyDrive/Đình Quý_Coursework_AI4E/Pictures/Viet_Duc/371.png', '/content/drive/MyDrive/Đình Quý_Coursework_AI4E/Pictures/Viet_Duc/104.png', '/content/drive/MyDrive/Đình Quý_Coursework_AI4E/Pictures/Viet_Duc/107.png', '/content/drive/MyDrive/Đình Quý_Coursework_AI4E/Pictures/Viet_Duc/533.png', '/content/drive/MyDrive/Đình Quý_Coursework_AI4E/Pictures/Viet_Duc/576.png', '/content/drive/MyDrive/Đình Quý_Coursework_AI4E/Pictures/Viet_Duc/134.png', '/content/drive/MyDrive/Đình Quý_Coursework_AI4E/Pictures/Viet_Duc/307.png', '/content/drive/MyDrive/Đình Quý_Coursework_AI4E/Pictures/Viet_Duc/209.png', '/content/drive/MyDrive/Đình Quý_Coursework_AI4E/Pictures/Viet_Duc/216.png', '/content/drive/MyDrive/Đình Quý_Coursework_AI4E/Pictures/Viet_Duc/51.png', '/content/drive/MyDrive/Đình Quý_Coursework_AI4E/Pictures/Viet_Duc/602.png', '/content/drive/MyDrive/Đình Quý_Coursework_AI4E/Pictures/Viet_Duc/335.png', '/content/drive/MyDrive/Đình Quý_Coursework_AI4E/Pictures/Viet_Duc/142.png', '/content/drive/MyDrive/Đình Quý_Coursework_AI4E/Pictures/Viet_Duc/81.png', '/content/drive/MyDrive/Đình Quý_Coursework_AI4E/Pictures/Viet_Duc/550.png', '/content/drive/MyDrive/Đình Quý_Coursework_AI4E/Pictures/Viet_Duc/103.png', '/content/drive/MyDrive/Đình Quý_Coursework_AI4E/Pictures/Viet_Duc/190.png', '/content/drive/MyDrive/Đình Quý_Coursework_AI4E/Pictures/Viet_Duc/493.png', '/content/drive/MyDrive/Đình Quý_Coursework_AI4E/Pictures/Viet_Duc/119.png', '/content/drive/MyDrive/Đình Quý_Coursework_AI4E/Pictures/Viet_Duc/138.png', '/content/drive/MyDrive/Đình Quý_Coursework_AI4E/Pictures/Viet_Duc/160.png', '/content/drive/MyDrive/Đình Quý_Coursework_AI4E/Pictures/Viet_Duc/595.png', '/content/drive/MyDrive/Đình Quý_Coursework_AI4E/Pictures/Viet_Duc/542.png', '/content/drive/MyDrive/Đình Quý_Coursework_AI4E/Pictures/Viet_Duc/534.png', '/content/drive/MyDrive/Đình Quý_Coursework_AI4E/Pictures/Viet_Duc/266.png', '/content/drive/MyDrive/Đình Quý_Coursework_AI4E/Pictures/Viet_Duc/566.png', '/content/drive/MyDrive/Đình Quý_Coursework_AI4E/Pictures/Viet_Duc/6.png', '/content/drive/MyDrive/Đình Quý_Coursework_AI4E/Pictures/Viet_Duc/341.png', '/content/drive/MyDrive/Đình Quý_Coursework_AI4E/Pictures/Viet_Duc/203.png', '/content/drive/MyDrive/Đình Quý_Coursework_AI4E/Pictures/Viet_Duc/351.png', '/content/drive/MyDrive/Đình Quý_Coursework_AI4E/Pictures/Viet_Duc/430.png', '/content/drive/MyDrive/Đình Quý_Coursework_AI4E/Pictures/Viet_Duc/549.png', '/content/drive/MyDrive/Đình Quý_Coursework_AI4E/Pictures/Viet_Duc/158.png', '/content/drive/MyDrive/Đình Quý_Coursework_AI4E/Pictures/Viet_Duc/24.png', '/content/drive/MyDrive/Đình Quý_Coursework_AI4E/Pictures/Viet_Duc/320.png', '/content/drive/MyDrive/Đình Quý_Coursework_AI4E/Pictures/Viet_Duc/353.png', '/content/drive/MyDrive/Đình Quý_Coursework_AI4E/Pictures/Viet_Duc/49.png', '/content/drive/MyDrive/Đình Quý_Coursework_AI4E/Pictures/Viet_Duc/259.png', '/content/drive/MyDrive/Đình Quý_Coursework_AI4E/Pictures/Viet_Duc/466.png', '/content/drive/MyDrive/Đình Quý_Coursework_AI4E/Pictures/Viet_Duc/499.png', '/content/drive/MyDrive/Đình Quý_Coursework_AI4E/Pictures/Viet_Duc/370.png', '/content/drive/MyDrive/Đình Quý_Coursework_AI4E/Pictures/Viet_Duc/352.png', '/content/drive/MyDrive/Đình Quý_Coursework_AI4E/Pictures/Viet_Duc/384.png', '/content/drive/MyDrive/Đình Quý_Coursework_AI4E/Pictures/Viet_Duc/123.png', '/content/drive/MyDrive/Đình Quý_Coursework_AI4E/Pictures/Viet_Duc/426.png', '/content/drive/MyDrive/Đình Quý_Coursework_AI4E/Pictures/Viet_Duc/465.png', '/content/drive/MyDrive/Đình Quý_Coursework_AI4E/Pictures/Viet_Duc/147.png', '/content/drive/MyDrive/Đình Quý_Coursework_AI4E/Pictures/Viet_Duc/574.png']\n"
          ]
        }
      ],
      "source": [
        "print(X_test)"
      ]
    },
    {
      "cell_type": "code",
      "execution_count": null,
      "metadata": {
        "id": "_a3Z8fVTcNZR"
      },
      "outputs": [],
      "source": [
        "# Use mtcnn to cut human faces\n",
        "with torch.no_grad()\n",
        "  X_train_set = []\n",
        "  for path in X_train:\n",
        "    img = Image.open(path)\n",
        "    face = mtcnn(img, return_prob = False)\n",
        "    X_train_set.append(face)\n",
        "\n",
        "  X_val_set = []\n",
        "  for path in X_val:\n",
        "    img = Image.open(path)\n",
        "    face = mtcnn(img, return_prob = False)  \n",
        "    X_val_set.append(face)\n",
        "\n",
        "  X_test_set = []\n",
        "  for path in X_test:\n",
        "    img = Image.open(path)\n",
        "    face = mtcnn(img, return_prob = False) \n",
        "    X_test_set.append(face)                        "
      ]
    },
    {
      "cell_type": "code",
      "execution_count": null,
      "metadata": {
        "id": "_5qrhdx-F7kM"
      },
      "outputs": [],
      "source": [
        "train_set = list(zip(X_train_set, y_train_encode))\n",
        "val_set = list(zip(X_val_set, y_val_encode))\n",
        "test_set = list(zip(X_test_set, y_test_encode))\n",
        "print(len(train_set))\n",
        "print(len(val_set))\n",
        "print(len(test_set))"
      ]
    },
    {
      "cell_type": "code",
      "execution_count": null,
      "metadata": {
        "id": "VbGlWxA9aBQ_"
      },
      "outputs": [],
      "source": [
        "train_set = [i for i in train_set if i[0] is not None]\n",
        "val_set = [i for i in val_set if i[0] is not None]\n",
        "test_set = [i for i in test_set if i[0] is not None]\n",
        "print(len(train_set))\n",
        "print(len(val_set))\n",
        "print(len(test_set))"
      ]
    },
    {
      "cell_type": "code",
      "execution_count": null,
      "metadata": {
        "id": "dd7UXYWkoz3o"
      },
      "outputs": [],
      "source": [
        "#torch.save(train_set, 'train_set_3.pt')\n",
        "#torch.save(val_set, 'val_set_3.pt')\n",
        "#torch.save(test_set, 'test_set_3.pt')\n",
        "\n",
        "train_set = torch.load('train_set_3.pt')\n",
        "val_set = torch.load('val_set_3.pt')\n",
        "test_set = torch.load('test_set_3.pt')"
      ]
    },
    {
      "cell_type": "code",
      "execution_count": null,
      "metadata": {
        "id": "NfpuYcU-m4hJ"
      },
      "outputs": [],
      "source": [
        "batch_size = 32\n",
        "train_loader = dutils.DataLoader(train_set, batch_size = batch_size, shuffle = True, drop_last = True)\n",
        "val_loader = dutils.DataLoader(val_set, batch_size = batch_size, shuffle = True, drop_last = False)"
      ]
    },
    {
      "cell_type": "code",
      "execution_count": null,
      "metadata": {
        "id": "9pSve36i_wo2"
      },
      "outputs": [],
      "source": [
        "device = 'cuda' if torch.cuda.is_available() else 'cpu'"
      ]
    },
    {
      "cell_type": "code",
      "execution_count": null,
      "metadata": {
        "id": "_AIZA0F8hDtA"
      },
      "outputs": [],
      "source": [
        "# freeze_layers function\n",
        "def freeze_layers(model, freezed_layers):\n",
        "    child_count = 0\n",
        "    for child in model.children():\n",
        "        child_count += 1\n",
        "        if child_count < (freezed_layers + 1):\n",
        "            for param in child.parameters():\n",
        "                param.requires_grad = False\n",
        "            print(\"child \", child_count, \" was frozen\")\n",
        "    return model"
      ]
    },
    {
      "cell_type": "code",
      "execution_count": null,
      "metadata": {
        "id": "ZG5w7WEI-nLm"
      },
      "outputs": [],
      "source": [
        "def train(model, train_loader, val_loader, lr, epochs):\n",
        "  # Put model on device\n",
        "  model = model.to(device)\n",
        "  # Optimization algorithm\n",
        "  optimizer = optim.Adam(lr = lr, params = model.parameters())\n",
        "\n",
        "  train_losses = []\n",
        "  val_losses = []\n",
        "  val_acc = []\n",
        "\n",
        "  best_val_loss = 1e100\n",
        "  best_state_dict = None\n",
        "\n",
        "  for ei in tqdm(range(epochs)):\n",
        "    train_lossi = []\n",
        "    for bi, (xi, yi) in enumerate(train_loader):\n",
        "      optimizer.zero_grad()\n",
        "      xi = xi.to(device)\n",
        "      yi = yi.type(torch.LongTensor) \n",
        "      yi = yi.to(device)\n",
        "      yi_hat = model(xi)\n",
        "      lossi = lossf(yi_hat, yi)\n",
        "      lossi.backward()\n",
        "      optimizer.step()\n",
        "      train_lossi.append(lossi.item())\n",
        "\n",
        "    val_lossi = []\n",
        "    correct = 0.\n",
        "    total = 0.\n",
        "    with torch.no_grad():\n",
        "      for bvi, (xvi, yvi) in enumerate(val_loader):\n",
        "        xvi = xvi.to(device)\n",
        "        yvi = yvi.type(torch.LongTensor) \n",
        "        yvi = yvi.to(device)\n",
        "        yvi_hat = model(xvi)\n",
        "        lossvi = lossf(yvi_hat, yvi)\n",
        "        val_lossi.append(lossvi.item())\n",
        "        yvi_hat = yvi_hat.argmax(dim = 1).long()\n",
        "        yvi = yvi.long()\n",
        "        correct += (yvi_hat == yvi).sum()\n",
        "        total += yvi.size(0)\n",
        "        acci = (correct / total).item()\n",
        "      val_acc.append(acci)\n",
        "\n",
        "    train_losses.append(torch.FloatTensor(train_lossi).mean().item())\n",
        "    val_losses.append(torch.FloatTensor(val_lossi).mean().item())\n",
        "    if val_losses[-1] < best_val_loss:\n",
        "      best_val_loss = val_losses[-1]\n",
        "      best_state_dict = model.state_dict()\n",
        "    tqdm.write(\" train_loss %.4f; val_loss %.4f; val_acc %.4f\" % (train_losses[-1], val_losses[-1], val_acc[-1]))\n",
        "  model.load_state_dict(best_state_dict)  # parameters of model\n",
        "  return model, train_losses, val_losses, val_acc"
      ]
    },
    {
      "cell_type": "code",
      "execution_count": null,
      "metadata": {
        "id": "XqMGKEVYo-s2"
      },
      "outputs": [],
      "source": [
        "# Define visualize_accuracy function\n",
        "def visualize_accuracy(val_acc):\n",
        "    plt.plot(val_acc, color = \"green\", linewidth = 1)\n",
        "    plt.xlabel('epoch')\n",
        "    plt.ylabel('accuracy')\n",
        "    plt.title('Valid accuracy')\n",
        "\n",
        "    plt.show()\n",
        "    print(\"=\"*200)"
      ]
    },
    {
      "cell_type": "code",
      "execution_count": null,
      "metadata": {
        "id": "moV1uvFuWM40"
      },
      "outputs": [],
      "source": [
        "# Define visualize_losses function\n",
        "def visualize_losses(train_losses, val_losses):\n",
        "    plt.plot(train_losses, color = \"green\", linewidth = 1)\n",
        "    plt.plot(val_losses, color = \"purple\", linestyle = \"--\", linewidth = 1)\n",
        "    plt.xlabel('epoch')\n",
        "    plt.ylabel('losses')\n",
        "    plt.legend(['Train', 'Valid'])\n",
        "    plt.title('Train - valid losses')\n",
        " \n",
        "    plt.show()"
      ]
    },
    {
      "cell_type": "markdown",
      "metadata": {
        "id": "2069xyzk_ABP"
      },
      "source": [
        "###VGG16"
      ]
    },
    {
      "cell_type": "code",
      "execution_count": null,
      "metadata": {
        "colab": {
          "base_uri": "https://localhost:8080/"
        },
        "id": "3SDjuZJIbowH",
        "outputId": "97ae8a94-2ab3-423d-ec9b-dd6aa9d7de97"
      },
      "outputs": [
        {
          "name": "stderr",
          "output_type": "stream",
          "text": [
            "/usr/local/lib/python3.10/dist-packages/torchvision/models/_utils.py:208: UserWarning: The parameter 'pretrained' is deprecated since 0.13 and may be removed in the future, please use 'weights' instead.\n",
            "  warnings.warn(\n",
            "/usr/local/lib/python3.10/dist-packages/torchvision/models/_utils.py:223: UserWarning: Arguments other than a weight enum or `None` for 'weights' are deprecated since 0.13 and may be removed in the future. The current behavior is equivalent to passing `weights=VGG16_Weights.IMAGENET1K_V1`. You can also use `weights=VGG16_Weights.DEFAULT` to get the most up-to-date weights.\n",
            "  warnings.warn(msg)\n",
            "Downloading: \"https://download.pytorch.org/models/vgg16-397923af.pth\" to /root/.cache/torch/hub/checkpoints/vgg16-397923af.pth\n",
            "100%|██████████| 528M/528M [00:02<00:00, 206MB/s]\n"
          ]
        }
      ],
      "source": [
        "# Load VGG16 model\n",
        "vgg = models.vgg16(pretrained = True)"
      ]
    },
    {
      "cell_type": "code",
      "execution_count": null,
      "metadata": {
        "colab": {
          "base_uri": "https://localhost:8080/"
        },
        "id": "9x7cYnmv9h7h",
        "outputId": "17695e86-cbd0-4ab2-ec27-ba1834af5916"
      },
      "outputs": [
        {
          "name": "stdout",
          "output_type": "stream",
          "text": [
            "child  1  was frozen\n",
            "child  2  was frozen\n"
          ]
        }
      ],
      "source": [
        "# Freeze layers 1-2 of VGG16\n",
        "vgg = freeze_layers(vgg, 2)"
      ]
    },
    {
      "cell_type": "code",
      "execution_count": null,
      "metadata": {
        "id": "Sn_4vZZeBH2R"
      },
      "outputs": [],
      "source": [
        "# Customize the final layer\n",
        "vgg.classifier = nn.Sequential(\n",
        "    nn.Linear(25088, 2048),\n",
        "    nn.LeakyReLU(),\n",
        "    nn.Dropout(0.4),\n",
        "    nn.Linear(2048, 256),\n",
        "    nn.LeakyReLU(),\n",
        "    nn.Dropout(0.4),\n",
        "    nn.Linear(256, 14),\n",
        "    nn.Softmax(dim = 1)\n",
        ")"
      ]
    },
    {
      "cell_type": "code",
      "execution_count": null,
      "metadata": {
        "id": "t3zsBa4XEu1U"
      },
      "outputs": [],
      "source": [
        "# Define Loss Function\n",
        "lossf = nn.CrossEntropyLoss()"
      ]
    },
    {
      "cell_type": "code",
      "execution_count": null,
      "metadata": {
        "colab": {
          "base_uri": "https://localhost:8080/"
        },
        "id": "ahOmfba7GUu5",
        "outputId": "33b13e4e-ad69-4ef6-d1a2-0efe4ac2a8cf"
      },
      "outputs": [
        {
          "name": "stderr",
          "output_type": "stream",
          "text": [
            "  1%|          | 1/100 [00:22<37:36, 22.80s/it]"
          ]
        },
        {
          "name": "stdout",
          "output_type": "stream",
          "text": [
            " train_loss 2.2825; val_loss 1.9804; val_acc 0.8648\n"
          ]
        },
        {
          "name": "stderr",
          "output_type": "stream",
          "text": [
            "  2%|▏         | 2/100 [00:38<30:04, 18.41s/it]"
          ]
        },
        {
          "name": "stdout",
          "output_type": "stream",
          "text": [
            " train_loss 1.8679; val_loss 1.8223; val_acc 0.9649\n"
          ]
        },
        {
          "name": "stderr",
          "output_type": "stream",
          "text": [
            "  3%|▎         | 3/100 [00:53<27:35, 17.07s/it]"
          ]
        },
        {
          "name": "stdout",
          "output_type": "stream",
          "text": [
            " train_loss 1.8022; val_loss 1.8003; val_acc 0.9701\n"
          ]
        },
        {
          "name": "stderr",
          "output_type": "stream",
          "text": [
            "  4%|▍         | 4/100 [01:09<26:23, 16.49s/it]"
          ]
        },
        {
          "name": "stdout",
          "output_type": "stream",
          "text": [
            " train_loss 1.7879; val_loss 1.7841; val_acc 0.9888\n"
          ]
        },
        {
          "name": "stderr",
          "output_type": "stream",
          "text": [
            "  5%|▌         | 5/100 [01:24<25:41, 16.23s/it]"
          ]
        },
        {
          "name": "stdout",
          "output_type": "stream",
          "text": [
            " train_loss 1.7685; val_loss 1.7699; val_acc 0.9972\n"
          ]
        },
        {
          "name": "stderr",
          "output_type": "stream",
          "text": [
            "  6%|▌         | 6/100 [01:40<25:15, 16.12s/it]"
          ]
        },
        {
          "name": "stdout",
          "output_type": "stream",
          "text": [
            " train_loss 1.7613; val_loss 1.7650; val_acc 0.9977\n"
          ]
        },
        {
          "name": "stderr",
          "output_type": "stream",
          "text": [
            "  7%|▋         | 7/100 [01:56<24:50, 16.02s/it]"
          ]
        },
        {
          "name": "stdout",
          "output_type": "stream",
          "text": [
            " train_loss 1.7586; val_loss 1.7610; val_acc 0.9986\n"
          ]
        },
        {
          "name": "stderr",
          "output_type": "stream",
          "text": [
            "  8%|▊         | 8/100 [02:12<24:25, 15.93s/it]"
          ]
        },
        {
          "name": "stdout",
          "output_type": "stream",
          "text": [
            " train_loss 1.7571; val_loss 1.7608; val_acc 0.9995\n"
          ]
        },
        {
          "name": "stderr",
          "output_type": "stream",
          "text": [
            "  9%|▉         | 9/100 [02:28<24:03, 15.87s/it]"
          ]
        },
        {
          "name": "stdout",
          "output_type": "stream",
          "text": [
            " train_loss 1.7568; val_loss 1.7598; val_acc 0.9986\n"
          ]
        },
        {
          "name": "stderr",
          "output_type": "stream",
          "text": [
            " 10%|█         | 10/100 [02:43<23:43, 15.81s/it]"
          ]
        },
        {
          "name": "stdout",
          "output_type": "stream",
          "text": [
            " train_loss 1.7560; val_loss 1.7584; val_acc 0.9995\n"
          ]
        },
        {
          "name": "stderr",
          "output_type": "stream",
          "text": [
            " 11%|█         | 11/100 [02:59<23:25, 15.80s/it]"
          ]
        },
        {
          "name": "stdout",
          "output_type": "stream",
          "text": [
            " train_loss 1.7559; val_loss 1.7585; val_acc 0.9991\n"
          ]
        },
        {
          "name": "stderr",
          "output_type": "stream",
          "text": [
            " 12%|█▏        | 12/100 [03:15<23:09, 15.79s/it]"
          ]
        },
        {
          "name": "stdout",
          "output_type": "stream",
          "text": [
            " train_loss 1.7557; val_loss 1.7578; val_acc 0.9991\n"
          ]
        },
        {
          "name": "stderr",
          "output_type": "stream",
          "text": [
            " 13%|█▎        | 13/100 [03:31<22:52, 15.77s/it]"
          ]
        },
        {
          "name": "stdout",
          "output_type": "stream",
          "text": [
            " train_loss 1.7555; val_loss 1.7577; val_acc 0.9995\n"
          ]
        },
        {
          "name": "stderr",
          "output_type": "stream",
          "text": [
            " 14%|█▍        | 14/100 [03:46<22:35, 15.76s/it]"
          ]
        },
        {
          "name": "stdout",
          "output_type": "stream",
          "text": [
            " train_loss 1.7557; val_loss 1.7583; val_acc 0.9991\n"
          ]
        },
        {
          "name": "stderr",
          "output_type": "stream",
          "text": [
            " 15%|█▌        | 15/100 [04:02<22:19, 15.75s/it]"
          ]
        },
        {
          "name": "stdout",
          "output_type": "stream",
          "text": [
            " train_loss 1.7556; val_loss 1.7568; val_acc 1.0000\n"
          ]
        },
        {
          "name": "stderr",
          "output_type": "stream",
          "text": [
            " 16%|█▌        | 16/100 [04:18<22:02, 15.75s/it]"
          ]
        },
        {
          "name": "stdout",
          "output_type": "stream",
          "text": [
            " train_loss 1.7554; val_loss 1.7566; val_acc 1.0000\n"
          ]
        },
        {
          "name": "stderr",
          "output_type": "stream",
          "text": [
            " 17%|█▋        | 17/100 [04:34<21:46, 15.74s/it]"
          ]
        },
        {
          "name": "stdout",
          "output_type": "stream",
          "text": [
            " train_loss 1.7552; val_loss 1.7567; val_acc 0.9995\n"
          ]
        },
        {
          "name": "stderr",
          "output_type": "stream",
          "text": [
            " 18%|█▊        | 18/100 [04:49<21:30, 15.74s/it]"
          ]
        },
        {
          "name": "stdout",
          "output_type": "stream",
          "text": [
            " train_loss 1.7551; val_loss 1.7569; val_acc 0.9995\n"
          ]
        },
        {
          "name": "stderr",
          "output_type": "stream",
          "text": [
            " 19%|█▉        | 19/100 [05:05<21:14, 15.73s/it]"
          ]
        },
        {
          "name": "stdout",
          "output_type": "stream",
          "text": [
            " train_loss 1.7551; val_loss 1.7568; val_acc 0.9991\n"
          ]
        },
        {
          "name": "stderr",
          "output_type": "stream",
          "text": [
            " 20%|██        | 20/100 [05:21<20:58, 15.73s/it]"
          ]
        },
        {
          "name": "stdout",
          "output_type": "stream",
          "text": [
            " train_loss 1.7551; val_loss 1.7569; val_acc 0.9995\n"
          ]
        },
        {
          "name": "stderr",
          "output_type": "stream",
          "text": [
            " 21%|██        | 21/100 [05:36<20:42, 15.73s/it]"
          ]
        },
        {
          "name": "stdout",
          "output_type": "stream",
          "text": [
            " train_loss 1.7551; val_loss 1.7563; val_acc 0.9995\n"
          ]
        },
        {
          "name": "stderr",
          "output_type": "stream",
          "text": [
            " 22%|██▏       | 22/100 [05:52<20:27, 15.73s/it]"
          ]
        },
        {
          "name": "stdout",
          "output_type": "stream",
          "text": [
            " train_loss 1.7550; val_loss 1.7566; val_acc 1.0000\n"
          ]
        },
        {
          "name": "stderr",
          "output_type": "stream",
          "text": [
            " 23%|██▎       | 23/100 [06:08<20:11, 15.74s/it]"
          ]
        },
        {
          "name": "stdout",
          "output_type": "stream",
          "text": [
            " train_loss 1.7550; val_loss 1.7564; val_acc 0.9995\n"
          ]
        },
        {
          "name": "stderr",
          "output_type": "stream",
          "text": [
            " 24%|██▍       | 24/100 [06:24<19:56, 15.74s/it]"
          ]
        },
        {
          "name": "stdout",
          "output_type": "stream",
          "text": [
            " train_loss 1.7550; val_loss 1.7565; val_acc 0.9995\n"
          ]
        },
        {
          "name": "stderr",
          "output_type": "stream",
          "text": [
            " 25%|██▌       | 25/100 [06:39<19:40, 15.74s/it]"
          ]
        },
        {
          "name": "stdout",
          "output_type": "stream",
          "text": [
            " train_loss 1.7550; val_loss 1.7557; val_acc 1.0000\n"
          ]
        },
        {
          "name": "stderr",
          "output_type": "stream",
          "text": [
            " 26%|██▌       | 26/100 [06:55<19:24, 15.74s/it]"
          ]
        },
        {
          "name": "stdout",
          "output_type": "stream",
          "text": [
            " train_loss 1.7550; val_loss 1.7560; val_acc 1.0000\n"
          ]
        },
        {
          "name": "stderr",
          "output_type": "stream",
          "text": [
            " 27%|██▋       | 27/100 [07:11<19:09, 15.75s/it]"
          ]
        },
        {
          "name": "stdout",
          "output_type": "stream",
          "text": [
            " train_loss 1.7549; val_loss 1.7556; val_acc 1.0000\n"
          ]
        },
        {
          "name": "stderr",
          "output_type": "stream",
          "text": [
            " 28%|██▊       | 28/100 [07:27<18:53, 15.75s/it]"
          ]
        },
        {
          "name": "stdout",
          "output_type": "stream",
          "text": [
            " train_loss 1.7551; val_loss 1.7559; val_acc 1.0000\n"
          ]
        },
        {
          "name": "stderr",
          "output_type": "stream",
          "text": [
            " 29%|██▉       | 29/100 [07:42<18:37, 15.74s/it]"
          ]
        },
        {
          "name": "stdout",
          "output_type": "stream",
          "text": [
            " train_loss 1.7550; val_loss 1.7558; val_acc 1.0000\n"
          ]
        },
        {
          "name": "stderr",
          "output_type": "stream",
          "text": [
            " 30%|███       | 30/100 [07:58<18:21, 15.74s/it]"
          ]
        },
        {
          "name": "stdout",
          "output_type": "stream",
          "text": [
            " train_loss 1.7550; val_loss 1.7555; val_acc 1.0000\n"
          ]
        },
        {
          "name": "stderr",
          "output_type": "stream",
          "text": [
            " 31%|███       | 31/100 [08:14<18:05, 15.74s/it]"
          ]
        },
        {
          "name": "stdout",
          "output_type": "stream",
          "text": [
            " train_loss 1.7550; val_loss 1.7559; val_acc 1.0000\n"
          ]
        },
        {
          "name": "stderr",
          "output_type": "stream",
          "text": [
            " 32%|███▏      | 32/100 [08:30<17:49, 15.73s/it]"
          ]
        },
        {
          "name": "stdout",
          "output_type": "stream",
          "text": [
            " train_loss 1.7550; val_loss 1.7562; val_acc 0.9991\n"
          ]
        },
        {
          "name": "stderr",
          "output_type": "stream",
          "text": [
            " 33%|███▎      | 33/100 [08:45<17:34, 15.74s/it]"
          ]
        },
        {
          "name": "stdout",
          "output_type": "stream",
          "text": [
            " train_loss 1.7564; val_loss 1.7577; val_acc 0.9986\n"
          ]
        },
        {
          "name": "stderr",
          "output_type": "stream",
          "text": [
            " 34%|███▍      | 34/100 [09:01<17:18, 15.74s/it]"
          ]
        },
        {
          "name": "stdout",
          "output_type": "stream",
          "text": [
            " train_loss 1.7552; val_loss 1.7571; val_acc 0.9991\n"
          ]
        },
        {
          "name": "stderr",
          "output_type": "stream",
          "text": [
            " 35%|███▌      | 35/100 [09:17<17:03, 15.74s/it]"
          ]
        },
        {
          "name": "stdout",
          "output_type": "stream",
          "text": [
            " train_loss 1.7551; val_loss 1.7558; val_acc 1.0000\n"
          ]
        },
        {
          "name": "stderr",
          "output_type": "stream",
          "text": [
            " 36%|███▌      | 36/100 [09:33<16:47, 15.74s/it]"
          ]
        },
        {
          "name": "stdout",
          "output_type": "stream",
          "text": [
            " train_loss 1.7549; val_loss 1.7563; val_acc 0.9995\n"
          ]
        },
        {
          "name": "stderr",
          "output_type": "stream",
          "text": [
            " 37%|███▋      | 37/100 [09:48<16:31, 15.73s/it]"
          ]
        },
        {
          "name": "stdout",
          "output_type": "stream",
          "text": [
            " train_loss 1.7549; val_loss 1.7558; val_acc 1.0000\n"
          ]
        },
        {
          "name": "stderr",
          "output_type": "stream",
          "text": [
            " 38%|███▊      | 38/100 [10:04<16:15, 15.73s/it]"
          ]
        },
        {
          "name": "stdout",
          "output_type": "stream",
          "text": [
            " train_loss 1.7549; val_loss 1.7558; val_acc 0.9995\n"
          ]
        },
        {
          "name": "stderr",
          "output_type": "stream",
          "text": [
            " 39%|███▉      | 39/100 [10:20<15:59, 15.73s/it]"
          ]
        },
        {
          "name": "stdout",
          "output_type": "stream",
          "text": [
            " train_loss 1.7549; val_loss 1.7557; val_acc 0.9995\n"
          ]
        },
        {
          "name": "stderr",
          "output_type": "stream",
          "text": [
            " 40%|████      | 40/100 [10:35<15:43, 15.73s/it]"
          ]
        },
        {
          "name": "stdout",
          "output_type": "stream",
          "text": [
            " train_loss 1.7549; val_loss 1.7560; val_acc 0.9995\n"
          ]
        },
        {
          "name": "stderr",
          "output_type": "stream",
          "text": [
            " 41%|████      | 41/100 [10:51<15:27, 15.73s/it]"
          ]
        },
        {
          "name": "stdout",
          "output_type": "stream",
          "text": [
            " train_loss 1.7568; val_loss 1.7598; val_acc 0.9986\n"
          ]
        },
        {
          "name": "stderr",
          "output_type": "stream",
          "text": [
            " 42%|████▏     | 42/100 [11:07<15:11, 15.72s/it]"
          ]
        },
        {
          "name": "stdout",
          "output_type": "stream",
          "text": [
            " train_loss 1.7553; val_loss 1.7568; val_acc 0.9991\n"
          ]
        },
        {
          "name": "stderr",
          "output_type": "stream",
          "text": [
            " 43%|████▎     | 43/100 [11:23<14:56, 15.72s/it]"
          ]
        },
        {
          "name": "stdout",
          "output_type": "stream",
          "text": [
            " train_loss 1.7549; val_loss 1.7558; val_acc 0.9995\n"
          ]
        },
        {
          "name": "stderr",
          "output_type": "stream",
          "text": [
            " 44%|████▍     | 44/100 [11:38<14:40, 15.73s/it]"
          ]
        },
        {
          "name": "stdout",
          "output_type": "stream",
          "text": [
            " train_loss 1.7549; val_loss 1.7558; val_acc 0.9995\n"
          ]
        },
        {
          "name": "stderr",
          "output_type": "stream",
          "text": [
            " 45%|████▌     | 45/100 [11:54<14:24, 15.72s/it]"
          ]
        },
        {
          "name": "stdout",
          "output_type": "stream",
          "text": [
            " train_loss 1.7563; val_loss 1.7573; val_acc 0.9981\n"
          ]
        },
        {
          "name": "stderr",
          "output_type": "stream",
          "text": [
            " 46%|████▌     | 46/100 [12:10<14:09, 15.73s/it]"
          ]
        },
        {
          "name": "stdout",
          "output_type": "stream",
          "text": [
            " train_loss 1.7550; val_loss 1.7568; val_acc 0.9991\n"
          ]
        },
        {
          "name": "stderr",
          "output_type": "stream",
          "text": [
            " 47%|████▋     | 47/100 [12:26<13:53, 15.73s/it]"
          ]
        },
        {
          "name": "stdout",
          "output_type": "stream",
          "text": [
            " train_loss 1.7549; val_loss 1.7566; val_acc 0.9986\n"
          ]
        },
        {
          "name": "stderr",
          "output_type": "stream",
          "text": [
            " 48%|████▊     | 48/100 [12:41<13:38, 15.73s/it]"
          ]
        },
        {
          "name": "stdout",
          "output_type": "stream",
          "text": [
            " train_loss 1.7549; val_loss 1.7569; val_acc 0.9981\n"
          ]
        },
        {
          "name": "stderr",
          "output_type": "stream",
          "text": [
            " 49%|████▉     | 49/100 [12:57<13:22, 15.73s/it]"
          ]
        },
        {
          "name": "stdout",
          "output_type": "stream",
          "text": [
            " train_loss 1.7549; val_loss 1.7557; val_acc 1.0000\n"
          ]
        },
        {
          "name": "stderr",
          "output_type": "stream",
          "text": [
            " 50%|█████     | 50/100 [13:13<13:06, 15.73s/it]"
          ]
        },
        {
          "name": "stdout",
          "output_type": "stream",
          "text": [
            " train_loss 1.7549; val_loss 1.7558; val_acc 0.9995\n"
          ]
        },
        {
          "name": "stderr",
          "output_type": "stream",
          "text": [
            " 51%|█████     | 51/100 [13:28<12:50, 15.73s/it]"
          ]
        },
        {
          "name": "stdout",
          "output_type": "stream",
          "text": [
            " train_loss 1.7549; val_loss 1.7554; val_acc 1.0000\n"
          ]
        },
        {
          "name": "stderr",
          "output_type": "stream",
          "text": [
            " 52%|█████▏    | 52/100 [13:44<12:35, 15.73s/it]"
          ]
        },
        {
          "name": "stdout",
          "output_type": "stream",
          "text": [
            " train_loss 1.7549; val_loss 1.7554; val_acc 1.0000\n"
          ]
        },
        {
          "name": "stderr",
          "output_type": "stream",
          "text": [
            " 53%|█████▎    | 53/100 [14:00<12:19, 15.73s/it]"
          ]
        },
        {
          "name": "stdout",
          "output_type": "stream",
          "text": [
            " train_loss 1.7549; val_loss 1.7559; val_acc 0.9995\n"
          ]
        },
        {
          "name": "stderr",
          "output_type": "stream",
          "text": [
            " 54%|█████▍    | 54/100 [14:16<12:03, 15.73s/it]"
          ]
        },
        {
          "name": "stdout",
          "output_type": "stream",
          "text": [
            " train_loss 1.7549; val_loss 1.7555; val_acc 0.9995\n"
          ]
        },
        {
          "name": "stderr",
          "output_type": "stream",
          "text": [
            " 55%|█████▌    | 55/100 [14:31<11:48, 15.74s/it]"
          ]
        },
        {
          "name": "stdout",
          "output_type": "stream",
          "text": [
            " train_loss 1.7548; val_loss 1.7556; val_acc 0.9995\n"
          ]
        },
        {
          "name": "stderr",
          "output_type": "stream",
          "text": [
            " 56%|█████▌    | 56/100 [14:47<11:33, 15.75s/it]"
          ]
        },
        {
          "name": "stdout",
          "output_type": "stream",
          "text": [
            " train_loss 1.7548; val_loss 1.7558; val_acc 0.9995\n"
          ]
        },
        {
          "name": "stderr",
          "output_type": "stream",
          "text": [
            " 57%|█████▋    | 57/100 [15:03<11:17, 15.76s/it]"
          ]
        },
        {
          "name": "stdout",
          "output_type": "stream",
          "text": [
            " train_loss 1.7548; val_loss 1.7556; val_acc 0.9995\n"
          ]
        },
        {
          "name": "stderr",
          "output_type": "stream",
          "text": [
            " 58%|█████▊    | 58/100 [15:19<11:01, 15.75s/it]"
          ]
        },
        {
          "name": "stdout",
          "output_type": "stream",
          "text": [
            " train_loss 1.7548; val_loss 1.7552; val_acc 1.0000\n"
          ]
        },
        {
          "name": "stderr",
          "output_type": "stream",
          "text": [
            " 59%|█████▉    | 59/100 [15:34<10:45, 15.74s/it]"
          ]
        },
        {
          "name": "stdout",
          "output_type": "stream",
          "text": [
            " train_loss 1.7548; val_loss 1.7556; val_acc 0.9995\n"
          ]
        },
        {
          "name": "stderr",
          "output_type": "stream",
          "text": [
            " 60%|██████    | 60/100 [15:50<10:28, 15.72s/it]"
          ]
        },
        {
          "name": "stdout",
          "output_type": "stream",
          "text": [
            " train_loss 1.7548; val_loss 1.7557; val_acc 0.9995\n"
          ]
        },
        {
          "name": "stderr",
          "output_type": "stream",
          "text": [
            " 61%|██████    | 61/100 [16:06<10:12, 15.71s/it]"
          ]
        },
        {
          "name": "stdout",
          "output_type": "stream",
          "text": [
            " train_loss 1.7548; val_loss 1.7559; val_acc 0.9995\n"
          ]
        },
        {
          "name": "stderr",
          "output_type": "stream",
          "text": [
            " 62%|██████▏   | 62/100 [16:21<09:56, 15.70s/it]"
          ]
        },
        {
          "name": "stdout",
          "output_type": "stream",
          "text": [
            " train_loss 1.7548; val_loss 1.7554; val_acc 1.0000\n"
          ]
        },
        {
          "name": "stderr",
          "output_type": "stream",
          "text": [
            " 63%|██████▎   | 63/100 [16:37<09:40, 15.70s/it]"
          ]
        },
        {
          "name": "stdout",
          "output_type": "stream",
          "text": [
            " train_loss 1.7548; val_loss 1.7554; val_acc 1.0000\n"
          ]
        },
        {
          "name": "stderr",
          "output_type": "stream",
          "text": [
            " 64%|██████▍   | 64/100 [16:53<09:25, 15.70s/it]"
          ]
        },
        {
          "name": "stdout",
          "output_type": "stream",
          "text": [
            " train_loss 1.7548; val_loss 1.7559; val_acc 0.9991\n"
          ]
        },
        {
          "name": "stderr",
          "output_type": "stream",
          "text": [
            " 65%|██████▌   | 65/100 [17:09<09:09, 15.70s/it]"
          ]
        },
        {
          "name": "stdout",
          "output_type": "stream",
          "text": [
            " train_loss 1.7548; val_loss 1.7552; val_acc 1.0000\n"
          ]
        },
        {
          "name": "stderr",
          "output_type": "stream",
          "text": [
            " 66%|██████▌   | 66/100 [17:24<08:53, 15.69s/it]"
          ]
        },
        {
          "name": "stdout",
          "output_type": "stream",
          "text": [
            " train_loss 1.7548; val_loss 1.7558; val_acc 0.9991\n"
          ]
        },
        {
          "name": "stderr",
          "output_type": "stream",
          "text": [
            " 67%|██████▋   | 67/100 [17:40<08:37, 15.69s/it]"
          ]
        },
        {
          "name": "stdout",
          "output_type": "stream",
          "text": [
            " train_loss 1.7548; val_loss 1.7553; val_acc 0.9995\n"
          ]
        },
        {
          "name": "stderr",
          "output_type": "stream",
          "text": [
            " 68%|██████▊   | 68/100 [17:56<08:22, 15.69s/it]"
          ]
        },
        {
          "name": "stdout",
          "output_type": "stream",
          "text": [
            " train_loss 1.7548; val_loss 1.7561; val_acc 0.9991\n"
          ]
        },
        {
          "name": "stderr",
          "output_type": "stream",
          "text": [
            " 69%|██████▉   | 69/100 [18:11<08:06, 15.70s/it]"
          ]
        },
        {
          "name": "stdout",
          "output_type": "stream",
          "text": [
            " train_loss 1.7548; val_loss 1.7568; val_acc 0.9981\n"
          ]
        },
        {
          "name": "stderr",
          "output_type": "stream",
          "text": [
            " 70%|███████   | 70/100 [18:27<07:50, 15.70s/it]"
          ]
        },
        {
          "name": "stdout",
          "output_type": "stream",
          "text": [
            " train_loss 1.7548; val_loss 1.7550; val_acc 1.0000\n"
          ]
        },
        {
          "name": "stderr",
          "output_type": "stream",
          "text": [
            " 71%|███████   | 71/100 [18:43<07:35, 15.69s/it]"
          ]
        },
        {
          "name": "stdout",
          "output_type": "stream",
          "text": [
            " train_loss 1.7548; val_loss 1.7555; val_acc 0.9995\n"
          ]
        },
        {
          "name": "stderr",
          "output_type": "stream",
          "text": [
            " 72%|███████▏  | 72/100 [18:58<07:19, 15.69s/it]"
          ]
        },
        {
          "name": "stdout",
          "output_type": "stream",
          "text": [
            " train_loss 1.7548; val_loss 1.7550; val_acc 1.0000\n"
          ]
        },
        {
          "name": "stderr",
          "output_type": "stream",
          "text": [
            " 73%|███████▎  | 73/100 [19:14<07:03, 15.70s/it]"
          ]
        },
        {
          "name": "stdout",
          "output_type": "stream",
          "text": [
            " train_loss 1.7548; val_loss 1.7551; val_acc 1.0000\n"
          ]
        },
        {
          "name": "stderr",
          "output_type": "stream",
          "text": [
            " 74%|███████▍  | 74/100 [19:30<06:48, 15.70s/it]"
          ]
        },
        {
          "name": "stdout",
          "output_type": "stream",
          "text": [
            " train_loss 1.7548; val_loss 1.7558; val_acc 0.9995\n"
          ]
        },
        {
          "name": "stderr",
          "output_type": "stream",
          "text": [
            " 75%|███████▌  | 75/100 [19:45<06:32, 15.69s/it]"
          ]
        },
        {
          "name": "stdout",
          "output_type": "stream",
          "text": [
            " train_loss 1.7548; val_loss 1.7556; val_acc 0.9991\n"
          ]
        },
        {
          "name": "stderr",
          "output_type": "stream",
          "text": [
            " 76%|███████▌  | 76/100 [20:01<06:16, 15.69s/it]"
          ]
        },
        {
          "name": "stdout",
          "output_type": "stream",
          "text": [
            " train_loss 1.7548; val_loss 1.7553; val_acc 0.9995\n"
          ]
        },
        {
          "name": "stderr",
          "output_type": "stream",
          "text": [
            " 77%|███████▋  | 77/100 [20:17<06:00, 15.69s/it]"
          ]
        },
        {
          "name": "stdout",
          "output_type": "stream",
          "text": [
            " train_loss 1.7548; val_loss 1.7557; val_acc 0.9991\n"
          ]
        },
        {
          "name": "stderr",
          "output_type": "stream",
          "text": [
            " 78%|███████▊  | 78/100 [20:33<05:45, 15.69s/it]"
          ]
        },
        {
          "name": "stdout",
          "output_type": "stream",
          "text": [
            " train_loss 1.7548; val_loss 1.7562; val_acc 0.9986\n"
          ]
        },
        {
          "name": "stderr",
          "output_type": "stream",
          "text": [
            " 79%|███████▉  | 79/100 [20:48<05:29, 15.69s/it]"
          ]
        },
        {
          "name": "stdout",
          "output_type": "stream",
          "text": [
            " train_loss 1.7548; val_loss 1.7560; val_acc 0.9986\n"
          ]
        },
        {
          "name": "stderr",
          "output_type": "stream",
          "text": [
            " 80%|████████  | 80/100 [21:04<05:13, 15.68s/it]"
          ]
        },
        {
          "name": "stdout",
          "output_type": "stream",
          "text": [
            " train_loss 1.7548; val_loss 1.7553; val_acc 1.0000\n"
          ]
        },
        {
          "name": "stderr",
          "output_type": "stream",
          "text": [
            " 81%|████████  | 81/100 [21:20<04:57, 15.68s/it]"
          ]
        },
        {
          "name": "stdout",
          "output_type": "stream",
          "text": [
            " train_loss 1.7548; val_loss 1.7552; val_acc 1.0000\n"
          ]
        },
        {
          "name": "stderr",
          "output_type": "stream",
          "text": [
            " 82%|████████▏ | 82/100 [21:35<04:42, 15.68s/it]"
          ]
        },
        {
          "name": "stdout",
          "output_type": "stream",
          "text": [
            " train_loss 1.7548; val_loss 1.7552; val_acc 1.0000\n"
          ]
        },
        {
          "name": "stderr",
          "output_type": "stream",
          "text": [
            " 83%|████████▎ | 83/100 [21:51<04:26, 15.68s/it]"
          ]
        },
        {
          "name": "stdout",
          "output_type": "stream",
          "text": [
            " train_loss 1.7548; val_loss 1.7552; val_acc 0.9995\n"
          ]
        },
        {
          "name": "stderr",
          "output_type": "stream",
          "text": [
            " 84%|████████▍ | 84/100 [22:07<04:10, 15.68s/it]"
          ]
        },
        {
          "name": "stdout",
          "output_type": "stream",
          "text": [
            " train_loss 1.7548; val_loss 1.7550; val_acc 1.0000\n"
          ]
        },
        {
          "name": "stderr",
          "output_type": "stream",
          "text": [
            " 85%|████████▌ | 85/100 [22:22<03:55, 15.68s/it]"
          ]
        },
        {
          "name": "stdout",
          "output_type": "stream",
          "text": [
            " train_loss 1.7548; val_loss 1.7552; val_acc 1.0000\n"
          ]
        },
        {
          "name": "stderr",
          "output_type": "stream",
          "text": [
            " 86%|████████▌ | 86/100 [22:38<03:39, 15.68s/it]"
          ]
        },
        {
          "name": "stdout",
          "output_type": "stream",
          "text": [
            " train_loss 1.7548; val_loss 1.7555; val_acc 0.9995\n"
          ]
        },
        {
          "name": "stderr",
          "output_type": "stream",
          "text": [
            " 87%|████████▋ | 87/100 [22:54<03:23, 15.67s/it]"
          ]
        },
        {
          "name": "stdout",
          "output_type": "stream",
          "text": [
            " train_loss 1.7548; val_loss 1.7552; val_acc 1.0000\n"
          ]
        },
        {
          "name": "stderr",
          "output_type": "stream",
          "text": [
            " 88%|████████▊ | 88/100 [23:09<03:08, 15.67s/it]"
          ]
        },
        {
          "name": "stdout",
          "output_type": "stream",
          "text": [
            " train_loss 1.7548; val_loss 1.7555; val_acc 0.9991\n"
          ]
        },
        {
          "name": "stderr",
          "output_type": "stream",
          "text": [
            " 89%|████████▉ | 89/100 [23:25<02:52, 15.67s/it]"
          ]
        },
        {
          "name": "stdout",
          "output_type": "stream",
          "text": [
            " train_loss 1.7553; val_loss 1.7819; val_acc 0.9757\n"
          ]
        },
        {
          "name": "stderr",
          "output_type": "stream",
          "text": [
            " 90%|█████████ | 90/100 [23:41<02:36, 15.68s/it]"
          ]
        },
        {
          "name": "stdout",
          "output_type": "stream",
          "text": [
            " train_loss 1.7612; val_loss 1.7628; val_acc 0.9930\n"
          ]
        },
        {
          "name": "stderr",
          "output_type": "stream",
          "text": [
            " 91%|█████████ | 91/100 [23:56<02:21, 15.68s/it]"
          ]
        },
        {
          "name": "stdout",
          "output_type": "stream",
          "text": [
            " train_loss 1.7579; val_loss 1.7578; val_acc 0.9981\n"
          ]
        },
        {
          "name": "stderr",
          "output_type": "stream",
          "text": [
            " 92%|█████████▏| 92/100 [24:12<02:05, 15.68s/it]"
          ]
        },
        {
          "name": "stdout",
          "output_type": "stream",
          "text": [
            " train_loss 1.7560; val_loss 1.7562; val_acc 0.9991\n"
          ]
        },
        {
          "name": "stderr",
          "output_type": "stream",
          "text": [
            " 93%|█████████▎| 93/100 [24:28<01:49, 15.68s/it]"
          ]
        },
        {
          "name": "stdout",
          "output_type": "stream",
          "text": [
            " train_loss 1.7549; val_loss 1.7557; val_acc 0.9995\n"
          ]
        },
        {
          "name": "stderr",
          "output_type": "stream",
          "text": [
            " 94%|█████████▍| 94/100 [24:43<01:34, 15.68s/it]"
          ]
        },
        {
          "name": "stdout",
          "output_type": "stream",
          "text": [
            " train_loss 1.7548; val_loss 1.7567; val_acc 0.9991\n"
          ]
        },
        {
          "name": "stderr",
          "output_type": "stream",
          "text": [
            " 95%|█████████▌| 95/100 [24:59<01:18, 15.68s/it]"
          ]
        },
        {
          "name": "stdout",
          "output_type": "stream",
          "text": [
            " train_loss 1.7549; val_loss 1.7570; val_acc 0.9972\n"
          ]
        },
        {
          "name": "stderr",
          "output_type": "stream",
          "text": [
            " 96%|█████████▌| 96/100 [25:15<01:02, 15.69s/it]"
          ]
        },
        {
          "name": "stdout",
          "output_type": "stream",
          "text": [
            " train_loss 1.7549; val_loss 1.7557; val_acc 0.9991\n"
          ]
        },
        {
          "name": "stderr",
          "output_type": "stream",
          "text": [
            " 97%|█████████▋| 97/100 [25:30<00:47, 15.68s/it]"
          ]
        },
        {
          "name": "stdout",
          "output_type": "stream",
          "text": [
            " train_loss 1.7549; val_loss 1.7565; val_acc 0.9991\n"
          ]
        },
        {
          "name": "stderr",
          "output_type": "stream",
          "text": [
            " 98%|█████████▊| 98/100 [25:46<00:31, 15.69s/it]"
          ]
        },
        {
          "name": "stdout",
          "output_type": "stream",
          "text": [
            " train_loss 1.7548; val_loss 1.7558; val_acc 0.9991\n"
          ]
        },
        {
          "name": "stderr",
          "output_type": "stream",
          "text": [
            " 99%|█████████▉| 99/100 [26:02<00:15, 15.69s/it]"
          ]
        },
        {
          "name": "stdout",
          "output_type": "stream",
          "text": [
            " train_loss 1.7548; val_loss 1.7555; val_acc 0.9995\n"
          ]
        },
        {
          "name": "stderr",
          "output_type": "stream",
          "text": [
            "100%|██████████| 100/100 [26:18<00:00, 15.78s/it]"
          ]
        },
        {
          "name": "stdout",
          "output_type": "stream",
          "text": [
            " train_loss 1.7548; val_loss 1.7554; val_acc 0.9995\n"
          ]
        },
        {
          "name": "stderr",
          "output_type": "stream",
          "text": [
            "\n"
          ]
        }
      ],
      "source": [
        "lr = 4e-5\n",
        "epochs = 100\n",
        "model, train_losses, val_losses, val_acc = train(vgg, train_loader, val_loader, lr = lr, epochs = epochs)"
      ]
    },
    {
      "cell_type": "code",
      "execution_count": null,
      "metadata": {
        "colab": {
          "base_uri": "https://localhost:8080/",
          "height": 964
        },
        "id": "rlYuJJPSV0Sl",
        "outputId": "e4ca2ba1-8880-4e37-a883-268fe331d649"
      },
      "outputs": [
        {
          "data": {
            "image/png": "[encoded data removed]",
            "text/plain": [
              "<Figure size 640x480 with 1 Axes>"
            ]
          },
          "metadata": {},
          "output_type": "display_data"
        },
        {
          "name": "stdout",
          "output_type": "stream",
          "text": [
            "========================================================================================================================================================================================================\n"
          ]
        },
        {
          "data": {
            "image/png": "[encoded data removed]",
            "text/plain": [
              "<Figure size 640x480 with 1 Axes>"
            ]
          },
          "metadata": {},
          "output_type": "display_data"
        }
      ],
      "source": [
        "visualize_accuracy(val_acc)\n",
        "visualize_losses(train_losses, val_losses)"
      ]
    },
    {
      "cell_type": "markdown",
      "metadata": {
        "id": "sMY4JpCCIcaC"
      },
      "source": [
        "### DENSENET121"
      ]
    },
    {
      "cell_type": "code",
      "execution_count": null,
      "metadata": {
        "colab": {
          "base_uri": "https://localhost:8080/"
        },
        "id": "7f7uG5UzTFJs",
        "outputId": "f3aaa8e8-5fae-42d5-fb63-54fde0bc3cc8"
      },
      "outputs": [
        {
          "name": "stderr",
          "output_type": "stream",
          "text": [
            "/usr/local/lib/python3.10/dist-packages/torchvision/models/_utils.py:223: UserWarning: Arguments other than a weight enum or `None` for 'weights' are deprecated since 0.13 and may be removed in the future. The current behavior is equivalent to passing `weights=DenseNet121_Weights.IMAGENET1K_V1`. You can also use `weights=DenseNet121_Weights.DEFAULT` to get the most up-to-date weights.\n",
            "  warnings.warn(msg)\n",
            "Downloading: \"https://download.pytorch.org/models/densenet121-a639ec97.pth\" to /root/.cache/torch/hub/checkpoints/densenet121-a639ec97.pth\n",
            "100%|██████████| 30.8M/30.8M [00:00<00:00, 378MB/s]\n"
          ]
        }
      ],
      "source": [
        "# Load Densenet-121 model\n",
        "densenet121 = models.densenet121(pretrained = True)"
      ]
    },
    {
      "cell_type": "code",
      "execution_count": null,
      "metadata": {
        "colab": {
          "base_uri": "https://localhost:8080/"
        },
        "id": "14ir5VMyALtN",
        "outputId": "1387d420-d779-4b67-a031-cd32732bd662"
      },
      "outputs": [
        {
          "name": "stdout",
          "output_type": "stream",
          "text": [
            "child  1  was frozen\n"
          ]
        }
      ],
      "source": [
        "# Freeze first layer of Densenet121\n",
        "densenet121 = freeze_layers(densenet121, 1)"
      ]
    },
    {
      "cell_type": "code",
      "execution_count": null,
      "metadata": {
        "id": "Xf1iA4uGAo34"
      },
      "outputs": [],
      "source": [
        "# Customize the final layer\n",
        "densenet121.classifier = nn.Linear(1024, 14)"
      ]
    },
    {
      "cell_type": "code",
      "execution_count": null,
      "metadata": {
        "id": "2_UqkygFJl5p"
      },
      "outputs": [],
      "source": [
        "# Define Loss function\n",
        "lossf = nn.CrossEntropyLoss()"
      ]
    },
    {
      "cell_type": "code",
      "execution_count": null,
      "metadata": {
        "colab": {
          "background_save": true,
          "base_uri": "https://localhost:8080/"
        },
        "id": "A6icbx1TKQkQ",
        "outputId": "ab0825c2-9b08-4878-a2d3-74b55e9abb18"
      },
      "outputs": [
        {
          "name": "stderr",
          "output_type": "stream",
          "text": [
            "  1%|          | 1/100 [00:10<17:40, 10.71s/it]"
          ]
        },
        {
          "name": "stdout",
          "output_type": "stream",
          "text": [
            " train_loss 2.3966; val_loss 2.1199; val_acc 0.4235\n"
          ]
        },
        {
          "name": "stderr",
          "output_type": "stream",
          "text": [
            "  2%|▏         | 2/100 [00:21<17:05, 10.47s/it]"
          ]
        },
        {
          "name": "stdout",
          "output_type": "stream",
          "text": [
            " train_loss 1.9336; val_loss 1.7289; val_acc 0.5957\n"
          ]
        },
        {
          "name": "stderr",
          "output_type": "stream",
          "text": [
            "  3%|▎         | 3/100 [00:31<16:48, 10.39s/it]"
          ]
        },
        {
          "name": "stdout",
          "output_type": "stream",
          "text": [
            " train_loss 1.5888; val_loss 1.4364; val_acc 0.7581\n"
          ]
        },
        {
          "name": "stderr",
          "output_type": "stream",
          "text": [
            "  4%|▍         | 4/100 [00:41<16:34, 10.36s/it]"
          ]
        },
        {
          "name": "stdout",
          "output_type": "stream",
          "text": [
            " train_loss 1.3287; val_loss 1.2129; val_acc 0.8077\n"
          ]
        },
        {
          "name": "stderr",
          "output_type": "stream",
          "text": [
            "  5%|▌         | 5/100 [00:51<16:22, 10.34s/it]"
          ]
        },
        {
          "name": "stdout",
          "output_type": "stream",
          "text": [
            " train_loss 1.1265; val_loss 1.0481; val_acc 0.8535\n"
          ]
        },
        {
          "name": "stderr",
          "output_type": "stream",
          "text": [
            "  6%|▌         | 6/100 [01:02<16:10, 10.33s/it]"
          ]
        },
        {
          "name": "stdout",
          "output_type": "stream",
          "text": [
            " train_loss 0.9764; val_loss 0.9225; val_acc 0.8699\n"
          ]
        },
        {
          "name": "stderr",
          "output_type": "stream",
          "text": [
            "  7%|▋         | 7/100 [01:12<15:59, 10.32s/it]"
          ]
        },
        {
          "name": "stdout",
          "output_type": "stream",
          "text": [
            " train_loss 0.8521; val_loss 0.8159; val_acc 0.9050\n"
          ]
        },
        {
          "name": "stderr",
          "output_type": "stream",
          "text": [
            "  8%|▊         | 8/100 [01:22<15:49, 10.32s/it]"
          ]
        },
        {
          "name": "stdout",
          "output_type": "stream",
          "text": [
            " train_loss 0.7558; val_loss 0.7218; val_acc 0.9233\n"
          ]
        },
        {
          "name": "stderr",
          "output_type": "stream",
          "text": [
            "  9%|▉         | 9/100 [01:33<15:38, 10.32s/it]"
          ]
        },
        {
          "name": "stdout",
          "output_type": "stream",
          "text": [
            " train_loss 0.6744; val_loss 0.6524; val_acc 0.9345\n"
          ]
        },
        {
          "name": "stderr",
          "output_type": "stream",
          "text": [
            " 10%|█         | 10/100 [01:43<15:28, 10.31s/it]"
          ]
        },
        {
          "name": "stdout",
          "output_type": "stream",
          "text": [
            " train_loss 0.6043; val_loss 0.5903; val_acc 0.9490\n"
          ]
        },
        {
          "name": "stderr",
          "output_type": "stream",
          "text": [
            " 11%|█         | 11/100 [01:53<15:17, 10.31s/it]"
          ]
        },
        {
          "name": "stdout",
          "output_type": "stream",
          "text": [
            " train_loss 0.5540; val_loss 0.5426; val_acc 0.9490\n"
          ]
        },
        {
          "name": "stderr",
          "output_type": "stream",
          "text": [
            " 12%|█▏        | 12/100 [02:04<15:07, 10.31s/it]"
          ]
        },
        {
          "name": "stdout",
          "output_type": "stream",
          "text": [
            " train_loss 0.4998; val_loss 0.4974; val_acc 0.9560\n"
          ]
        },
        {
          "name": "stderr",
          "output_type": "stream",
          "text": [
            " 13%|█▎        | 13/100 [02:14<14:57, 10.31s/it]"
          ]
        },
        {
          "name": "stdout",
          "output_type": "stream",
          "text": [
            " train_loss 0.4548; val_loss 0.4660; val_acc 0.9616\n"
          ]
        },
        {
          "name": "stderr",
          "output_type": "stream",
          "text": [
            " 14%|█▍        | 14/100 [02:24<14:46, 10.31s/it]"
          ]
        },
        {
          "name": "stdout",
          "output_type": "stream",
          "text": [
            " train_loss 0.4249; val_loss 0.4326; val_acc 0.9616\n"
          ]
        },
        {
          "name": "stderr",
          "output_type": "stream",
          "text": [
            " 15%|█▌        | 15/100 [02:35<14:40, 10.35s/it]"
          ]
        },
        {
          "name": "stdout",
          "output_type": "stream",
          "text": [
            " train_loss 0.3904; val_loss 0.4066; val_acc 0.9663\n"
          ]
        },
        {
          "name": "stderr",
          "output_type": "stream",
          "text": [
            " 16%|█▌        | 16/100 [02:45<14:28, 10.34s/it]"
          ]
        },
        {
          "name": "stdout",
          "output_type": "stream",
          "text": [
            " train_loss 0.3617; val_loss 0.3719; val_acc 0.9724\n"
          ]
        },
        {
          "name": "stderr",
          "output_type": "stream",
          "text": [
            " 17%|█▋        | 17/100 [02:55<14:17, 10.33s/it]"
          ]
        },
        {
          "name": "stdout",
          "output_type": "stream",
          "text": [
            " train_loss 0.3349; val_loss 0.3560; val_acc 0.9691\n"
          ]
        },
        {
          "name": "stderr",
          "output_type": "stream",
          "text": [
            " 18%|█▊        | 18/100 [03:06<14:06, 10.32s/it]"
          ]
        },
        {
          "name": "stdout",
          "output_type": "stream",
          "text": [
            " train_loss 0.3125; val_loss 0.3288; val_acc 0.9747\n"
          ]
        },
        {
          "name": "stderr",
          "output_type": "stream",
          "text": [
            " 19%|█▉        | 19/100 [03:16<13:55, 10.32s/it]"
          ]
        },
        {
          "name": "stdout",
          "output_type": "stream",
          "text": [
            " train_loss 0.2944; val_loss 0.3108; val_acc 0.9766\n"
          ]
        },
        {
          "name": "stderr",
          "output_type": "stream",
          "text": [
            " 20%|██        | 20/100 [03:26<13:44, 10.31s/it]"
          ]
        },
        {
          "name": "stdout",
          "output_type": "stream",
          "text": [
            " train_loss 0.2759; val_loss 0.2992; val_acc 0.9780\n"
          ]
        },
        {
          "name": "stderr",
          "output_type": "stream",
          "text": [
            " 21%|██        | 21/100 [03:36<13:34, 10.31s/it]"
          ]
        },
        {
          "name": "stdout",
          "output_type": "stream",
          "text": [
            " train_loss 0.2612; val_loss 0.2801; val_acc 0.9733\n"
          ]
        },
        {
          "name": "stderr",
          "output_type": "stream",
          "text": [
            " 22%|██▏       | 22/100 [03:47<13:23, 10.31s/it]"
          ]
        },
        {
          "name": "stdout",
          "output_type": "stream",
          "text": [
            " train_loss 0.2472; val_loss 0.2666; val_acc 0.9789\n"
          ]
        },
        {
          "name": "stderr",
          "output_type": "stream",
          "text": [
            " 23%|██▎       | 23/100 [03:57<13:13, 10.30s/it]"
          ]
        },
        {
          "name": "stdout",
          "output_type": "stream",
          "text": [
            " train_loss 0.2335; val_loss 0.2542; val_acc 0.9780\n"
          ]
        },
        {
          "name": "stderr",
          "output_type": "stream",
          "text": [
            " 24%|██▍       | 24/100 [04:07<13:02, 10.30s/it]"
          ]
        },
        {
          "name": "stdout",
          "output_type": "stream",
          "text": [
            " train_loss 0.2163; val_loss 0.2356; val_acc 0.9808\n"
          ]
        },
        {
          "name": "stderr",
          "output_type": "stream",
          "text": [
            " 25%|██▌       | 25/100 [04:18<12:52, 10.30s/it]"
          ]
        },
        {
          "name": "stdout",
          "output_type": "stream",
          "text": [
            " train_loss 0.2004; val_loss 0.2257; val_acc 0.9813\n"
          ]
        },
        {
          "name": "stderr",
          "output_type": "stream",
          "text": [
            " 26%|██▌       | 26/100 [04:28<12:42, 10.30s/it]"
          ]
        },
        {
          "name": "stdout",
          "output_type": "stream",
          "text": [
            " train_loss 0.1953; val_loss 0.2232; val_acc 0.9813\n"
          ]
        },
        {
          "name": "stderr",
          "output_type": "stream",
          "text": [
            " 27%|██▋       | 27/100 [04:38<12:31, 10.30s/it]"
          ]
        },
        {
          "name": "stdout",
          "output_type": "stream",
          "text": [
            " train_loss 0.1814; val_loss 0.2114; val_acc 0.9766\n"
          ]
        },
        {
          "name": "stderr",
          "output_type": "stream",
          "text": [
            " 28%|██▊       | 28/100 [04:49<12:22, 10.31s/it]"
          ]
        },
        {
          "name": "stdout",
          "output_type": "stream",
          "text": [
            " train_loss 0.1765; val_loss 0.2000; val_acc 0.9836\n"
          ]
        },
        {
          "name": "stderr",
          "output_type": "stream",
          "text": [
            " 29%|██▉       | 29/100 [04:59<12:12, 10.31s/it]"
          ]
        },
        {
          "name": "stdout",
          "output_type": "stream",
          "text": [
            " train_loss 0.1661; val_loss 0.1941; val_acc 0.9822\n"
          ]
        },
        {
          "name": "stderr",
          "output_type": "stream",
          "text": [
            " 30%|███       | 30/100 [05:09<12:02, 10.32s/it]"
          ]
        },
        {
          "name": "stdout",
          "output_type": "stream",
          "text": [
            " train_loss 0.1591; val_loss 0.1812; val_acc 0.9841\n"
          ]
        },
        {
          "name": "stderr",
          "output_type": "stream",
          "text": [
            " 31%|███       | 31/100 [05:20<11:52, 10.33s/it]"
          ]
        },
        {
          "name": "stdout",
          "output_type": "stream",
          "text": [
            " train_loss 0.1520; val_loss 0.1788; val_acc 0.9864\n"
          ]
        },
        {
          "name": "stderr",
          "output_type": "stream",
          "text": [
            " 32%|███▏      | 32/100 [05:30<11:42, 10.32s/it]"
          ]
        },
        {
          "name": "stdout",
          "output_type": "stream",
          "text": [
            " train_loss 0.1421; val_loss 0.1674; val_acc 0.9888\n"
          ]
        },
        {
          "name": "stderr",
          "output_type": "stream",
          "text": [
            " 33%|███▎      | 33/100 [05:40<11:31, 10.32s/it]"
          ]
        },
        {
          "name": "stdout",
          "output_type": "stream",
          "text": [
            " train_loss 0.1416; val_loss 0.1626; val_acc 0.9832\n"
          ]
        },
        {
          "name": "stderr",
          "output_type": "stream",
          "text": [
            " 34%|███▍      | 34/100 [05:51<11:21, 10.32s/it]"
          ]
        },
        {
          "name": "stdout",
          "output_type": "stream",
          "text": [
            " train_loss 0.1323; val_loss 0.1576; val_acc 0.9860\n"
          ]
        },
        {
          "name": "stderr",
          "output_type": "stream",
          "text": [
            " 35%|███▌      | 35/100 [06:01<11:11, 10.32s/it]"
          ]
        },
        {
          "name": "stdout",
          "output_type": "stream",
          "text": [
            " train_loss 0.1268; val_loss 0.1588; val_acc 0.9827\n"
          ]
        },
        {
          "name": "stderr",
          "output_type": "stream",
          "text": [
            " 36%|███▌      | 36/100 [06:11<11:01, 10.33s/it]"
          ]
        },
        {
          "name": "stdout",
          "output_type": "stream",
          "text": [
            " train_loss 0.1207; val_loss 0.1480; val_acc 0.9869\n"
          ]
        },
        {
          "name": "stderr",
          "output_type": "stream",
          "text": [
            " 37%|███▋      | 37/100 [06:22<10:50, 10.33s/it]"
          ]
        },
        {
          "name": "stdout",
          "output_type": "stream",
          "text": [
            " train_loss 0.1174; val_loss 0.1399; val_acc 0.9892\n"
          ]
        },
        {
          "name": "stderr",
          "output_type": "stream",
          "text": [
            " 38%|███▊      | 38/100 [06:32<10:40, 10.33s/it]"
          ]
        },
        {
          "name": "stdout",
          "output_type": "stream",
          "text": [
            " train_loss 0.1109; val_loss 0.1355; val_acc 0.9878\n"
          ]
        },
        {
          "name": "stderr",
          "output_type": "stream",
          "text": [
            " 39%|███▉      | 39/100 [06:42<10:29, 10.32s/it]"
          ]
        },
        {
          "name": "stdout",
          "output_type": "stream",
          "text": [
            " train_loss 0.1073; val_loss 0.1358; val_acc 0.9864\n"
          ]
        },
        {
          "name": "stderr",
          "output_type": "stream",
          "text": [
            " 40%|████      | 40/100 [06:53<10:18, 10.31s/it]"
          ]
        },
        {
          "name": "stdout",
          "output_type": "stream",
          "text": [
            " train_loss 0.1026; val_loss 0.1280; val_acc 0.9878\n"
          ]
        },
        {
          "name": "stderr",
          "output_type": "stream",
          "text": [
            " 41%|████      | 41/100 [07:03<10:08, 10.31s/it]"
          ]
        },
        {
          "name": "stdout",
          "output_type": "stream",
          "text": [
            " train_loss 0.0995; val_loss 0.1228; val_acc 0.9883\n"
          ]
        },
        {
          "name": "stderr",
          "output_type": "stream",
          "text": [
            " 42%|████▏     | 42/100 [07:13<09:57, 10.31s/it]"
          ]
        },
        {
          "name": "stdout",
          "output_type": "stream",
          "text": [
            " train_loss 0.0922; val_loss 0.1196; val_acc 0.9911\n"
          ]
        },
        {
          "name": "stderr",
          "output_type": "stream",
          "text": [
            " 43%|████▎     | 43/100 [07:23<09:47, 10.31s/it]"
          ]
        },
        {
          "name": "stdout",
          "output_type": "stream",
          "text": [
            " train_loss 0.0915; val_loss 0.1164; val_acc 0.9892\n"
          ]
        },
        {
          "name": "stderr",
          "output_type": "stream",
          "text": [
            " 44%|████▍     | 44/100 [07:34<09:37, 10.31s/it]"
          ]
        },
        {
          "name": "stdout",
          "output_type": "stream",
          "text": [
            " train_loss 0.0886; val_loss 0.1094; val_acc 0.9911\n"
          ]
        },
        {
          "name": "stderr",
          "output_type": "stream",
          "text": [
            " 45%|████▌     | 45/100 [07:44<09:26, 10.31s/it]"
          ]
        },
        {
          "name": "stdout",
          "output_type": "stream",
          "text": [
            " train_loss 0.0836; val_loss 0.1137; val_acc 0.9860\n"
          ]
        },
        {
          "name": "stderr",
          "output_type": "stream",
          "text": [
            " 46%|████▌     | 46/100 [07:54<09:16, 10.31s/it]"
          ]
        },
        {
          "name": "stdout",
          "output_type": "stream",
          "text": [
            " train_loss 0.0838; val_loss 0.1052; val_acc 0.9911\n"
          ]
        },
        {
          "name": "stderr",
          "output_type": "stream",
          "text": [
            " 47%|████▋     | 47/100 [08:05<09:06, 10.31s/it]"
          ]
        },
        {
          "name": "stdout",
          "output_type": "stream",
          "text": [
            " train_loss 0.0791; val_loss 0.1054; val_acc 0.9906\n"
          ]
        },
        {
          "name": "stderr",
          "output_type": "stream",
          "text": [
            " 48%|████▊     | 48/100 [08:15<08:55, 10.30s/it]"
          ]
        },
        {
          "name": "stdout",
          "output_type": "stream",
          "text": [
            " train_loss 0.0755; val_loss 0.1036; val_acc 0.9911\n"
          ]
        },
        {
          "name": "stderr",
          "output_type": "stream",
          "text": [
            " 49%|████▉     | 49/100 [08:25<08:45, 10.31s/it]"
          ]
        },
        {
          "name": "stdout",
          "output_type": "stream",
          "text": [
            " train_loss 0.0747; val_loss 0.1011; val_acc 0.9911\n"
          ]
        },
        {
          "name": "stderr",
          "output_type": "stream",
          "text": [
            " 50%|█████     | 50/100 [08:36<08:35, 10.31s/it]"
          ]
        },
        {
          "name": "stdout",
          "output_type": "stream",
          "text": [
            " train_loss 0.0707; val_loss 0.0969; val_acc 0.9897\n"
          ]
        },
        {
          "name": "stderr",
          "output_type": "stream",
          "text": [
            " 51%|█████     | 51/100 [08:46<08:25, 10.31s/it]"
          ]
        },
        {
          "name": "stdout",
          "output_type": "stream",
          "text": [
            " train_loss 0.0674; val_loss 0.0954; val_acc 0.9874\n"
          ]
        },
        {
          "name": "stderr",
          "output_type": "stream",
          "text": [
            " 52%|█████▏    | 52/100 [08:56<08:14, 10.30s/it]"
          ]
        },
        {
          "name": "stdout",
          "output_type": "stream",
          "text": [
            " train_loss 0.0675; val_loss 0.0956; val_acc 0.9892\n"
          ]
        },
        {
          "name": "stderr",
          "output_type": "stream",
          "text": [
            " 53%|█████▎    | 53/100 [09:06<08:04, 10.30s/it]"
          ]
        },
        {
          "name": "stdout",
          "output_type": "stream",
          "text": [
            " train_loss 0.0616; val_loss 0.0960; val_acc 0.9883\n"
          ]
        },
        {
          "name": "stderr",
          "output_type": "stream",
          "text": [
            " 54%|█████▍    | 54/100 [09:17<07:53, 10.30s/it]"
          ]
        },
        {
          "name": "stdout",
          "output_type": "stream",
          "text": [
            " train_loss 0.0594; val_loss 0.0884; val_acc 0.9902\n"
          ]
        },
        {
          "name": "stderr",
          "output_type": "stream",
          "text": [
            " 55%|█████▌    | 55/100 [09:27<07:43, 10.30s/it]"
          ]
        },
        {
          "name": "stdout",
          "output_type": "stream",
          "text": [
            " train_loss 0.0591; val_loss 0.0809; val_acc 0.9925\n"
          ]
        },
        {
          "name": "stderr",
          "output_type": "stream",
          "text": [
            " 56%|█████▌    | 56/100 [09:37<07:33, 10.30s/it]"
          ]
        },
        {
          "name": "stdout",
          "output_type": "stream",
          "text": [
            " train_loss 0.0590; val_loss 0.0804; val_acc 0.9930\n"
          ]
        },
        {
          "name": "stderr",
          "output_type": "stream",
          "text": [
            " 57%|█████▋    | 57/100 [09:48<07:23, 10.30s/it]"
          ]
        },
        {
          "name": "stdout",
          "output_type": "stream",
          "text": [
            " train_loss 0.0539; val_loss 0.0787; val_acc 0.9934\n"
          ]
        },
        {
          "name": "stderr",
          "output_type": "stream",
          "text": [
            " 58%|█████▊    | 58/100 [09:58<07:12, 10.30s/it]"
          ]
        },
        {
          "name": "stdout",
          "output_type": "stream",
          "text": [
            " train_loss 0.0549; val_loss 0.0801; val_acc 0.9911\n"
          ]
        },
        {
          "name": "stderr",
          "output_type": "stream",
          "text": [
            " 59%|█████▉    | 59/100 [10:08<07:02, 10.30s/it]"
          ]
        },
        {
          "name": "stdout",
          "output_type": "stream",
          "text": [
            " train_loss 0.0508; val_loss 0.0805; val_acc 0.9883\n"
          ]
        },
        {
          "name": "stderr",
          "output_type": "stream",
          "text": [
            " 60%|██████    | 60/100 [10:19<06:51, 10.30s/it]"
          ]
        },
        {
          "name": "stdout",
          "output_type": "stream",
          "text": [
            " train_loss 0.0492; val_loss 0.0775; val_acc 0.9906\n"
          ]
        },
        {
          "name": "stderr",
          "output_type": "stream",
          "text": [
            " 61%|██████    | 61/100 [10:29<06:41, 10.30s/it]"
          ]
        },
        {
          "name": "stdout",
          "output_type": "stream",
          "text": [
            " train_loss 0.0478; val_loss 0.0773; val_acc 0.9911\n"
          ]
        },
        {
          "name": "stderr",
          "output_type": "stream",
          "text": [
            " 62%|██████▏   | 62/100 [10:39<06:31, 10.30s/it]"
          ]
        },
        {
          "name": "stdout",
          "output_type": "stream",
          "text": [
            " train_loss 0.0478; val_loss 0.0744; val_acc 0.9911\n"
          ]
        },
        {
          "name": "stderr",
          "output_type": "stream",
          "text": [
            " 63%|██████▎   | 63/100 [10:49<06:21, 10.30s/it]"
          ]
        },
        {
          "name": "stdout",
          "output_type": "stream",
          "text": [
            " train_loss 0.0464; val_loss 0.0703; val_acc 0.9911\n"
          ]
        },
        {
          "name": "stderr",
          "output_type": "stream",
          "text": [
            " 64%|██████▍   | 64/100 [11:00<06:10, 10.30s/it]"
          ]
        },
        {
          "name": "stdout",
          "output_type": "stream",
          "text": [
            " train_loss 0.0450; val_loss 0.0706; val_acc 0.9930\n"
          ]
        },
        {
          "name": "stderr",
          "output_type": "stream",
          "text": [
            " 65%|██████▌   | 65/100 [11:10<06:00, 10.30s/it]"
          ]
        },
        {
          "name": "stdout",
          "output_type": "stream",
          "text": [
            " train_loss 0.0441; val_loss 0.0644; val_acc 0.9944\n"
          ]
        },
        {
          "name": "stderr",
          "output_type": "stream",
          "text": [
            " 66%|██████▌   | 66/100 [11:20<05:50, 10.30s/it]"
          ]
        },
        {
          "name": "stdout",
          "output_type": "stream",
          "text": [
            " train_loss 0.0409; val_loss 0.0643; val_acc 0.9920\n"
          ]
        },
        {
          "name": "stderr",
          "output_type": "stream",
          "text": [
            " 67%|██████▋   | 67/100 [11:31<05:39, 10.30s/it]"
          ]
        },
        {
          "name": "stdout",
          "output_type": "stream",
          "text": [
            " train_loss 0.0383; val_loss 0.0610; val_acc 0.9939\n"
          ]
        },
        {
          "name": "stderr",
          "output_type": "stream",
          "text": [
            " 68%|██████▊   | 68/100 [11:41<05:29, 10.30s/it]"
          ]
        },
        {
          "name": "stdout",
          "output_type": "stream",
          "text": [
            " train_loss 0.0383; val_loss 0.0599; val_acc 0.9953\n"
          ]
        },
        {
          "name": "stderr",
          "output_type": "stream",
          "text": [
            " 69%|██████▉   | 69/100 [11:51<05:19, 10.30s/it]"
          ]
        },
        {
          "name": "stdout",
          "output_type": "stream",
          "text": [
            " train_loss 0.0386; val_loss 0.0628; val_acc 0.9953\n"
          ]
        },
        {
          "name": "stderr",
          "output_type": "stream",
          "text": [
            " 70%|███████   | 70/100 [12:02<05:09, 10.30s/it]"
          ]
        },
        {
          "name": "stdout",
          "output_type": "stream",
          "text": [
            " train_loss 0.0362; val_loss 0.0573; val_acc 0.9949\n"
          ]
        },
        {
          "name": "stderr",
          "output_type": "stream",
          "text": [
            " 71%|███████   | 71/100 [12:12<04:58, 10.30s/it]"
          ]
        },
        {
          "name": "stdout",
          "output_type": "stream",
          "text": [
            " train_loss 0.0353; val_loss 0.0588; val_acc 0.9939\n"
          ]
        },
        {
          "name": "stderr",
          "output_type": "stream",
          "text": [
            " 72%|███████▏  | 72/100 [12:22<04:48, 10.30s/it]"
          ]
        },
        {
          "name": "stdout",
          "output_type": "stream",
          "text": [
            " train_loss 0.0360; val_loss 0.0591; val_acc 0.9930\n"
          ]
        },
        {
          "name": "stderr",
          "output_type": "stream",
          "text": [
            " 73%|███████▎  | 73/100 [12:33<04:38, 10.31s/it]"
          ]
        },
        {
          "name": "stdout",
          "output_type": "stream",
          "text": [
            " train_loss 0.0325; val_loss 0.0548; val_acc 0.9930\n"
          ]
        },
        {
          "name": "stderr",
          "output_type": "stream",
          "text": [
            " 74%|███████▍  | 74/100 [12:43<04:27, 10.30s/it]"
          ]
        },
        {
          "name": "stdout",
          "output_type": "stream",
          "text": [
            " train_loss 0.0329; val_loss 0.0552; val_acc 0.9939\n"
          ]
        },
        {
          "name": "stderr",
          "output_type": "stream",
          "text": [
            " 75%|███████▌  | 75/100 [12:53<04:17, 10.30s/it]"
          ]
        },
        {
          "name": "stdout",
          "output_type": "stream",
          "text": [
            " train_loss 0.0323; val_loss 0.0581; val_acc 0.9916\n"
          ]
        },
        {
          "name": "stderr",
          "output_type": "stream",
          "text": [
            " 76%|███████▌  | 76/100 [13:03<04:07, 10.30s/it]"
          ]
        },
        {
          "name": "stdout",
          "output_type": "stream",
          "text": [
            " train_loss 0.0301; val_loss 0.0589; val_acc 0.9911\n"
          ]
        },
        {
          "name": "stderr",
          "output_type": "stream",
          "text": [
            " 77%|███████▋  | 77/100 [13:14<03:56, 10.30s/it]"
          ]
        },
        {
          "name": "stdout",
          "output_type": "stream",
          "text": [
            " train_loss 0.0295; val_loss 0.0524; val_acc 0.9939\n"
          ]
        },
        {
          "name": "stderr",
          "output_type": "stream",
          "text": [
            " 78%|███████▊  | 78/100 [13:24<03:46, 10.30s/it]"
          ]
        },
        {
          "name": "stdout",
          "output_type": "stream",
          "text": [
            " train_loss 0.0291; val_loss 0.0533; val_acc 0.9939\n"
          ]
        },
        {
          "name": "stderr",
          "output_type": "stream",
          "text": [
            " 79%|███████▉  | 79/100 [13:34<03:36, 10.31s/it]"
          ]
        },
        {
          "name": "stdout",
          "output_type": "stream",
          "text": [
            " train_loss 0.0288; val_loss 0.0478; val_acc 0.9939\n"
          ]
        },
        {
          "name": "stderr",
          "output_type": "stream",
          "text": [
            " 80%|████████  | 80/100 [13:45<03:26, 10.30s/it]"
          ]
        },
        {
          "name": "stdout",
          "output_type": "stream",
          "text": [
            " train_loss 0.0261; val_loss 0.0521; val_acc 0.9949\n"
          ]
        },
        {
          "name": "stderr",
          "output_type": "stream",
          "text": [
            " 81%|████████  | 81/100 [13:55<03:15, 10.30s/it]"
          ]
        },
        {
          "name": "stdout",
          "output_type": "stream",
          "text": [
            " train_loss 0.0280; val_loss 0.0523; val_acc 0.9920\n"
          ]
        },
        {
          "name": "stderr",
          "output_type": "stream",
          "text": [
            " 82%|████████▏ | 82/100 [14:05<03:05, 10.30s/it]"
          ]
        },
        {
          "name": "stdout",
          "output_type": "stream",
          "text": [
            " train_loss 0.0279; val_loss 0.0475; val_acc 0.9953\n"
          ]
        },
        {
          "name": "stderr",
          "output_type": "stream",
          "text": [
            " 83%|████████▎ | 83/100 [14:16<02:55, 10.31s/it]"
          ]
        },
        {
          "name": "stdout",
          "output_type": "stream",
          "text": [
            " train_loss 0.0243; val_loss 0.0486; val_acc 0.9934\n"
          ]
        },
        {
          "name": "stderr",
          "output_type": "stream",
          "text": [
            " 84%|████████▍ | 84/100 [14:26<02:45, 10.31s/it]"
          ]
        },
        {
          "name": "stdout",
          "output_type": "stream",
          "text": [
            " train_loss 0.0238; val_loss 0.0450; val_acc 0.9953\n"
          ]
        },
        {
          "name": "stderr",
          "output_type": "stream",
          "text": [
            " 85%|████████▌ | 85/100 [14:36<02:34, 10.31s/it]"
          ]
        },
        {
          "name": "stdout",
          "output_type": "stream",
          "text": [
            " train_loss 0.0240; val_loss 0.0481; val_acc 0.9916\n"
          ]
        },
        {
          "name": "stderr",
          "output_type": "stream",
          "text": [
            " 86%|████████▌ | 86/100 [14:46<02:24, 10.30s/it]"
          ]
        },
        {
          "name": "stdout",
          "output_type": "stream",
          "text": [
            " train_loss 0.0232; val_loss 0.0469; val_acc 0.9939\n"
          ]
        },
        {
          "name": "stderr",
          "output_type": "stream",
          "text": [
            " 87%|████████▋ | 87/100 [14:57<02:13, 10.30s/it]"
          ]
        },
        {
          "name": "stdout",
          "output_type": "stream",
          "text": [
            " train_loss 0.0242; val_loss 0.0458; val_acc 0.9958\n"
          ]
        },
        {
          "name": "stderr",
          "output_type": "stream",
          "text": [
            " 88%|████████▊ | 88/100 [15:07<02:03, 10.31s/it]"
          ]
        },
        {
          "name": "stdout",
          "output_type": "stream",
          "text": [
            " train_loss 0.0223; val_loss 0.0445; val_acc 0.9934\n"
          ]
        },
        {
          "name": "stderr",
          "output_type": "stream",
          "text": [
            " 89%|████████▉ | 89/100 [15:17<01:53, 10.31s/it]"
          ]
        },
        {
          "name": "stdout",
          "output_type": "stream",
          "text": [
            " train_loss 0.0220; val_loss 0.0404; val_acc 0.9963\n"
          ]
        },
        {
          "name": "stderr",
          "output_type": "stream",
          "text": [
            " 90%|█████████ | 90/100 [15:28<01:43, 10.30s/it]"
          ]
        },
        {
          "name": "stdout",
          "output_type": "stream",
          "text": [
            " train_loss 0.0209; val_loss 0.0449; val_acc 0.9925\n"
          ]
        },
        {
          "name": "stderr",
          "output_type": "stream",
          "text": [
            " 91%|█████████ | 91/100 [15:38<01:32, 10.30s/it]"
          ]
        },
        {
          "name": "stdout",
          "output_type": "stream",
          "text": [
            " train_loss 0.0190; val_loss 0.0423; val_acc 0.9939\n"
          ]
        },
        {
          "name": "stderr",
          "output_type": "stream",
          "text": [
            " 92%|█████████▏| 92/100 [15:48<01:22, 10.30s/it]"
          ]
        },
        {
          "name": "stdout",
          "output_type": "stream",
          "text": [
            " train_loss 0.0194; val_loss 0.0427; val_acc 0.9963\n"
          ]
        },
        {
          "name": "stderr",
          "output_type": "stream",
          "text": [
            " 93%|█████████▎| 93/100 [15:59<01:12, 10.31s/it]"
          ]
        },
        {
          "name": "stdout",
          "output_type": "stream",
          "text": [
            " train_loss 0.0180; val_loss 0.0381; val_acc 0.9958\n"
          ]
        },
        {
          "name": "stderr",
          "output_type": "stream",
          "text": [
            " 94%|█████████▍| 94/100 [16:09<01:01, 10.30s/it]"
          ]
        },
        {
          "name": "stdout",
          "output_type": "stream",
          "text": [
            " train_loss 0.0188; val_loss 0.0393; val_acc 0.9949\n"
          ]
        },
        {
          "name": "stderr",
          "output_type": "stream",
          "text": [
            " 95%|█████████▌| 95/100 [16:19<00:51, 10.31s/it]"
          ]
        },
        {
          "name": "stdout",
          "output_type": "stream",
          "text": [
            " train_loss 0.0189; val_loss 0.0376; val_acc 0.9967\n"
          ]
        },
        {
          "name": "stderr",
          "output_type": "stream",
          "text": [
            " 96%|█████████▌| 96/100 [16:30<00:41, 10.31s/it]"
          ]
        },
        {
          "name": "stdout",
          "output_type": "stream",
          "text": [
            " train_loss 0.0189; val_loss 0.0392; val_acc 0.9934\n"
          ]
        },
        {
          "name": "stderr",
          "output_type": "stream",
          "text": [
            " 97%|█████████▋| 97/100 [16:40<00:30, 10.30s/it]"
          ]
        },
        {
          "name": "stdout",
          "output_type": "stream",
          "text": [
            " train_loss 0.0175; val_loss 0.0431; val_acc 0.9920\n"
          ]
        },
        {
          "name": "stderr",
          "output_type": "stream",
          "text": [
            " 98%|█████████▊| 98/100 [16:50<00:20, 10.30s/it]"
          ]
        },
        {
          "name": "stdout",
          "output_type": "stream",
          "text": [
            " train_loss 0.0185; val_loss 0.0349; val_acc 0.9953\n"
          ]
        },
        {
          "name": "stderr",
          "output_type": "stream",
          "text": [
            " 99%|█████████▉| 99/100 [17:00<00:10, 10.30s/it]"
          ]
        },
        {
          "name": "stdout",
          "output_type": "stream",
          "text": [
            " train_loss 0.0177; val_loss 0.0374; val_acc 0.9939\n"
          ]
        },
        {
          "name": "stderr",
          "output_type": "stream",
          "text": [
            "100%|██████████| 100/100 [17:11<00:00, 10.31s/it]"
          ]
        },
        {
          "name": "stdout",
          "output_type": "stream",
          "text": [
            " train_loss 0.0162; val_loss 0.0375; val_acc 0.9939\n"
          ]
        },
        {
          "name": "stderr",
          "output_type": "stream",
          "text": [
            "\n"
          ]
        }
      ],
      "source": [
        "lr = 1e-4\n",
        "epochs = 100\n",
        "model, train_losses, val_losses, val_acc = train(densenet121, train_loader, val_loader, lr = lr, epochs = epochs)"
      ]
    },
    {
      "cell_type": "code",
      "execution_count": null,
      "metadata": {
        "colab": {
          "background_save": true
        },
        "id": "4XVI1FFTKQzU",
        "outputId": "ee7b0be8-7557-4487-84f7-c9219b6dfbf0"
      },
      "outputs": [
        {
          "data": {
            "image/png": "[encoded data removed]",
            "text/plain": [
              "<Figure size 640x480 with 1 Axes>"
            ]
          },
          "metadata": {},
          "output_type": "display_data"
        },
        {
          "name": "stdout",
          "output_type": "stream",
          "text": [
            "========================================================================================================================================================================================================\n"
          ]
        },
        {
          "data": {
            "image/png": "[encoded data removed]",
            "text/plain": [
              "<Figure size 640x480 with 1 Axes>"
            ]
          },
          "metadata": {},
          "output_type": "display_data"
        }
      ],
      "source": [
        "visualize_accuracy(val_acc)\n",
        "visualize_losses(train_losses, val_losses)"
      ]
    },
    {
      "cell_type": "markdown",
      "metadata": {
        "id": "FCQ1He6QAiJU"
      },
      "source": [
        "###RESNET50"
      ]
    },
    {
      "cell_type": "code",
      "execution_count": null,
      "metadata": {
        "colab": {
          "background_save": true
        },
        "id": "5b5EWFPQxhEO",
        "outputId": "672adf9f-c0fc-4e74-f859-4c28ca099cf2"
      },
      "outputs": [
        {
          "name": "stderr",
          "output_type": "stream",
          "text": [
            "/usr/local/lib/python3.10/dist-packages/torchvision/models/_utils.py:223: UserWarning: Arguments other than a weight enum or `None` for 'weights' are deprecated since 0.13 and may be removed in the future. The current behavior is equivalent to passing `weights=ResNet50_Weights.IMAGENET1K_V1`. You can also use `weights=ResNet50_Weights.DEFAULT` to get the most up-to-date weights.\n",
            "  warnings.warn(msg)\n",
            "Downloading: \"https://download.pytorch.org/models/resnet50-0676ba61.pth\" to /root/.cache/torch/hub/checkpoints/resnet50-0676ba61.pth\n",
            "100%|██████████| 97.8M/97.8M [00:00<00:00, 337MB/s]"
          ]
        },
        {
          "name": "stdout",
          "output_type": "stream",
          "text": [
            "ResNet(\n",
            "  (conv1): Conv2d(3, 64, kernel_size=(7, 7), stride=(2, 2), padding=(3, 3), bias=False)\n",
            "  (bn1): BatchNorm2d(64, eps=1e-05, momentum=0.1, affine=True, track_running_stats=True)\n",
            "  (relu): ReLU(inplace=True)\n",
            "  (maxpool): MaxPool2d(kernel_size=3, stride=2, padding=1, dilation=1, ceil_mode=False)\n",
            "  (layer1): Sequential(\n",
            "    (0): Bottleneck(\n",
            "      (conv1): Conv2d(64, 64, kernel_size=(1, 1), stride=(1, 1), bias=False)\n",
            "      (bn1): BatchNorm2d(64, eps=1e-05, momentum=0.1, affine=True, track_running_stats=True)\n",
            "      (conv2): Conv2d(64, 64, kernel_size=(3, 3), stride=(1, 1), padding=(1, 1), bias=False)\n",
            "      (bn2): BatchNorm2d(64, eps=1e-05, momentum=0.1, affine=True, track_running_stats=True)\n",
            "      (conv3): Conv2d(64, 256, kernel_size=(1, 1), stride=(1, 1), bias=False)\n",
            "      (bn3): BatchNorm2d(256, eps=1e-05, momentum=0.1, affine=True, track_running_stats=True)\n",
            "      (relu): ReLU(inplace=True)\n",
            "      (downsample): Sequential(\n",
            "        (0): Conv2d(64, 256, kernel_size=(1, 1), stride=(1, 1), bias=False)\n",
            "        (1): BatchNorm2d(256, eps=1e-05, momentum=0.1, affine=True, track_running_stats=True)\n",
            "      )\n",
            "    )\n",
            "    (1): Bottleneck(\n",
            "      (conv1): Conv2d(256, 64, kernel_size=(1, 1), stride=(1, 1), bias=False)\n",
            "      (bn1): BatchNorm2d(64, eps=1e-05, momentum=0.1, affine=True, track_running_stats=True)\n",
            "      (conv2): Conv2d(64, 64, kernel_size=(3, 3), stride=(1, 1), padding=(1, 1), bias=False)\n",
            "      (bn2): BatchNorm2d(64, eps=1e-05, momentum=0.1, affine=True, track_running_stats=True)\n",
            "      (conv3): Conv2d(64, 256, kernel_size=(1, 1), stride=(1, 1), bias=False)\n",
            "      (bn3): BatchNorm2d(256, eps=1e-05, momentum=0.1, affine=True, track_running_stats=True)\n",
            "      (relu): ReLU(inplace=True)\n",
            "    )\n",
            "    (2): Bottleneck(\n",
            "      (conv1): Conv2d(256, 64, kernel_size=(1, 1), stride=(1, 1), bias=False)\n",
            "      (bn1): BatchNorm2d(64, eps=1e-05, momentum=0.1, affine=True, track_running_stats=True)\n",
            "      (conv2): Conv2d(64, 64, kernel_size=(3, 3), stride=(1, 1), padding=(1, 1), bias=False)\n",
            "      (bn2): BatchNorm2d(64, eps=1e-05, momentum=0.1, affine=True, track_running_stats=True)\n",
            "      (conv3): Conv2d(64, 256, kernel_size=(1, 1), stride=(1, 1), bias=False)\n",
            "      (bn3): BatchNorm2d(256, eps=1e-05, momentum=0.1, affine=True, track_running_stats=True)\n",
            "      (relu): ReLU(inplace=True)\n",
            "    )\n",
            "  )\n",
            "  (layer2): Sequential(\n",
            "    (0): Bottleneck(\n",
            "      (conv1): Conv2d(256, 128, kernel_size=(1, 1), stride=(1, 1), bias=False)\n",
            "      (bn1): BatchNorm2d(128, eps=1e-05, momentum=0.1, affine=True, track_running_stats=True)\n",
            "      (conv2): Conv2d(128, 128, kernel_size=(3, 3), stride=(2, 2), padding=(1, 1), bias=False)\n",
            "      (bn2): BatchNorm2d(128, eps=1e-05, momentum=0.1, affine=True, track_running_stats=True)\n",
            "      (conv3): Conv2d(128, 512, kernel_size=(1, 1), stride=(1, 1), bias=False)\n",
            "      (bn3): BatchNorm2d(512, eps=1e-05, momentum=0.1, affine=True, track_running_stats=True)\n",
            "      (relu): ReLU(inplace=True)\n",
            "      (downsample): Sequential(\n",
            "        (0): Conv2d(256, 512, kernel_size=(1, 1), stride=(2, 2), bias=False)\n",
            "        (1): BatchNorm2d(512, eps=1e-05, momentum=0.1, affine=True, track_running_stats=True)\n",
            "      )\n",
            "    )\n",
            "    (1): Bottleneck(\n",
            "      (conv1): Conv2d(512, 128, kernel_size=(1, 1), stride=(1, 1), bias=False)\n",
            "      (bn1): BatchNorm2d(128, eps=1e-05, momentum=0.1, affine=True, track_running_stats=True)\n",
            "      (conv2): Conv2d(128, 128, kernel_size=(3, 3), stride=(1, 1), padding=(1, 1), bias=False)\n",
            "      (bn2): BatchNorm2d(128, eps=1e-05, momentum=0.1, affine=True, track_running_stats=True)\n",
            "      (conv3): Conv2d(128, 512, kernel_size=(1, 1), stride=(1, 1), bias=False)\n",
            "      (bn3): BatchNorm2d(512, eps=1e-05, momentum=0.1, affine=True, track_running_stats=True)\n",
            "      (relu): ReLU(inplace=True)\n",
            "    )\n",
            "    (2): Bottleneck(\n",
            "      (conv1): Conv2d(512, 128, kernel_size=(1, 1), stride=(1, 1), bias=False)\n",
            "      (bn1): BatchNorm2d(128, eps=1e-05, momentum=0.1, affine=True, track_running_stats=True)\n",
            "      (conv2): Conv2d(128, 128, kernel_size=(3, 3), stride=(1, 1), padding=(1, 1), bias=False)\n",
            "      (bn2): BatchNorm2d(128, eps=1e-05, momentum=0.1, affine=True, track_running_stats=True)\n",
            "      (conv3): Conv2d(128, 512, kernel_size=(1, 1), stride=(1, 1), bias=False)\n",
            "      (bn3): BatchNorm2d(512, eps=1e-05, momentum=0.1, affine=True, track_running_stats=True)\n",
            "      (relu): ReLU(inplace=True)\n",
            "    )\n",
            "    (3): Bottleneck(\n",
            "      (conv1): Conv2d(512, 128, kernel_size=(1, 1), stride=(1, 1), bias=False)\n",
            "      (bn1): BatchNorm2d(128, eps=1e-05, momentum=0.1, affine=True, track_running_stats=True)\n",
            "      (conv2): Conv2d(128, 128, kernel_size=(3, 3), stride=(1, 1), padding=(1, 1), bias=False)\n",
            "      (bn2): BatchNorm2d(128, eps=1e-05, momentum=0.1, affine=True, track_running_stats=True)\n",
            "      (conv3): Conv2d(128, 512, kernel_size=(1, 1), stride=(1, 1), bias=False)\n",
            "      (bn3): BatchNorm2d(512, eps=1e-05, momentum=0.1, affine=True, track_running_stats=True)\n",
            "      (relu): ReLU(inplace=True)\n",
            "    )\n",
            "  )\n",
            "  (layer3): Sequential(\n",
            "    (0): Bottleneck(\n",
            "      (conv1): Conv2d(512, 256, kernel_size=(1, 1), stride=(1, 1), bias=False)\n",
            "      (bn1): BatchNorm2d(256, eps=1e-05, momentum=0.1, affine=True, track_running_stats=True)\n",
            "      (conv2): Conv2d(256, 256, kernel_size=(3, 3), stride=(2, 2), padding=(1, 1), bias=False)\n",
            "      (bn2): BatchNorm2d(256, eps=1e-05, momentum=0.1, affine=True, track_running_stats=True)\n",
            "      (conv3): Conv2d(256, 1024, kernel_size=(1, 1), stride=(1, 1), bias=False)\n",
            "      (bn3): BatchNorm2d(1024, eps=1e-05, momentum=0.1, affine=True, track_running_stats=True)\n",
            "      (relu): ReLU(inplace=True)\n",
            "      (downsample): Sequential(\n",
            "        (0): Conv2d(512, 1024, kernel_size=(1, 1), stride=(2, 2), bias=False)\n",
            "        (1): BatchNorm2d(1024, eps=1e-05, momentum=0.1, affine=True, track_running_stats=True)\n",
            "      )\n",
            "    )\n",
            "    (1): Bottleneck(\n",
            "      (conv1): Conv2d(1024, 256, kernel_size=(1, 1), stride=(1, 1), bias=False)\n",
            "      (bn1): BatchNorm2d(256, eps=1e-05, momentum=0.1, affine=True, track_running_stats=True)\n",
            "      (conv2): Conv2d(256, 256, kernel_size=(3, 3), stride=(1, 1), padding=(1, 1), bias=False)\n",
            "      (bn2): BatchNorm2d(256, eps=1e-05, momentum=0.1, affine=True, track_running_stats=True)\n",
            "      (conv3): Conv2d(256, 1024, kernel_size=(1, 1), stride=(1, 1), bias=False)\n",
            "      (bn3): BatchNorm2d(1024, eps=1e-05, momentum=0.1, affine=True, track_running_stats=True)\n",
            "      (relu): ReLU(inplace=True)\n",
            "    )\n",
            "    (2): Bottleneck(\n",
            "      (conv1): Conv2d(1024, 256, kernel_size=(1, 1), stride=(1, 1), bias=False)\n",
            "      (bn1): BatchNorm2d(256, eps=1e-05, momentum=0.1, affine=True, track_running_stats=True)\n",
            "      (conv2): Conv2d(256, 256, kernel_size=(3, 3), stride=(1, 1), padding=(1, 1), bias=False)\n",
            "      (bn2): BatchNorm2d(256, eps=1e-05, momentum=0.1, affine=True, track_running_stats=True)\n",
            "      (conv3): Conv2d(256, 1024, kernel_size=(1, 1), stride=(1, 1), bias=False)\n",
            "      (bn3): BatchNorm2d(1024, eps=1e-05, momentum=0.1, affine=True, track_running_stats=True)\n",
            "      (relu): ReLU(inplace=True)\n",
            "    )\n",
            "    (3): Bottleneck(\n",
            "      (conv1): Conv2d(1024, 256, kernel_size=(1, 1), stride=(1, 1), bias=False)\n",
            "      (bn1): BatchNorm2d(256, eps=1e-05, momentum=0.1, affine=True, track_running_stats=True)\n",
            "      (conv2): Conv2d(256, 256, kernel_size=(3, 3), stride=(1, 1), padding=(1, 1), bias=False)\n",
            "      (bn2): BatchNorm2d(256, eps=1e-05, momentum=0.1, affine=True, track_running_stats=True)\n",
            "      (conv3): Conv2d(256, 1024, kernel_size=(1, 1), stride=(1, 1), bias=False)\n",
            "      (bn3): BatchNorm2d(1024, eps=1e-05, momentum=0.1, affine=True, track_running_stats=True)\n",
            "      (relu): ReLU(inplace=True)\n",
            "    )\n",
            "    (4): Bottleneck(\n",
            "      (conv1): Conv2d(1024, 256, kernel_size=(1, 1), stride=(1, 1), bias=False)\n",
            "      (bn1): BatchNorm2d(256, eps=1e-05, momentum=0.1, affine=True, track_running_stats=True)\n",
            "      (conv2): Conv2d(256, 256, kernel_size=(3, 3), stride=(1, 1), padding=(1, 1), bias=False)\n",
            "      (bn2): BatchNorm2d(256, eps=1e-05, momentum=0.1, affine=True, track_running_stats=True)\n",
            "      (conv3): Conv2d(256, 1024, kernel_size=(1, 1), stride=(1, 1), bias=False)\n",
            "      (bn3): BatchNorm2d(1024, eps=1e-05, momentum=0.1, affine=True, track_running_stats=True)\n",
            "      (relu): ReLU(inplace=True)\n",
            "    )\n",
            "    (5): Bottleneck(\n",
            "      (conv1): Conv2d(1024, 256, kernel_size=(1, 1), stride=(1, 1), bias=False)\n",
            "      (bn1): BatchNorm2d(256, eps=1e-05, momentum=0.1, affine=True, track_running_stats=True)\n",
            "      (conv2): Conv2d(256, 256, kernel_size=(3, 3), stride=(1, 1), padding=(1, 1), bias=False)\n",
            "      (bn2): BatchNorm2d(256, eps=1e-05, momentum=0.1, affine=True, track_running_stats=True)\n",
            "      (conv3): Conv2d(256, 1024, kernel_size=(1, 1), stride=(1, 1), bias=False)\n",
            "      (bn3): BatchNorm2d(1024, eps=1e-05, momentum=0.1, affine=True, track_running_stats=True)\n",
            "      (relu): ReLU(inplace=True)\n",
            "    )\n",
            "  )\n",
            "  (layer4): Sequential(\n",
            "    (0): Bottleneck(\n",
            "      (conv1): Conv2d(1024, 512, kernel_size=(1, 1), stride=(1, 1), bias=False)\n",
            "      (bn1): BatchNorm2d(512, eps=1e-05, momentum=0.1, affine=True, track_running_stats=True)\n",
            "      (conv2): Conv2d(512, 512, kernel_size=(3, 3), stride=(2, 2), padding=(1, 1), bias=False)\n",
            "      (bn2): BatchNorm2d(512, eps=1e-05, momentum=0.1, affine=True, track_running_stats=True)\n",
            "      (conv3): Conv2d(512, 2048, kernel_size=(1, 1), stride=(1, 1), bias=False)\n",
            "      (bn3): BatchNorm2d(2048, eps=1e-05, momentum=0.1, affine=True, track_running_stats=True)\n",
            "      (relu): ReLU(inplace=True)\n",
            "      (downsample): Sequential(\n",
            "        (0): Conv2d(1024, 2048, kernel_size=(1, 1), stride=(2, 2), bias=False)\n",
            "        (1): BatchNorm2d(2048, eps=1e-05, momentum=0.1, affine=True, track_running_stats=True)\n",
            "      )\n",
            "    )\n",
            "    (1): Bottleneck(\n",
            "      (conv1): Conv2d(2048, 512, kernel_size=(1, 1), stride=(1, 1), bias=False)\n",
            "      (bn1): BatchNorm2d(512, eps=1e-05, momentum=0.1, affine=True, track_running_stats=True)\n",
            "      (conv2): Conv2d(512, 512, kernel_size=(3, 3), stride=(1, 1), padding=(1, 1), bias=False)\n",
            "      (bn2): BatchNorm2d(512, eps=1e-05, momentum=0.1, affine=True, track_running_stats=True)\n",
            "      (conv3): Conv2d(512, 2048, kernel_size=(1, 1), stride=(1, 1), bias=False)\n",
            "      (bn3): BatchNorm2d(2048, eps=1e-05, momentum=0.1, affine=True, track_running_stats=True)\n",
            "      (relu): ReLU(inplace=True)\n",
            "    )\n",
            "    (2): Bottleneck(\n",
            "      (conv1): Conv2d(2048, 512, kernel_size=(1, 1), stride=(1, 1), bias=False)\n",
            "      (bn1): BatchNorm2d(512, eps=1e-05, momentum=0.1, affine=True, track_running_stats=True)\n",
            "      (conv2): Conv2d(512, 512, kernel_size=(3, 3), stride=(1, 1), padding=(1, 1), bias=False)\n",
            "      (bn2): BatchNorm2d(512, eps=1e-05, momentum=0.1, affine=True, track_running_stats=True)\n",
            "      (conv3): Conv2d(512, 2048, kernel_size=(1, 1), stride=(1, 1), bias=False)\n",
            "      (bn3): BatchNorm2d(2048, eps=1e-05, momentum=0.1, affine=True, track_running_stats=True)\n",
            "      (relu): ReLU(inplace=True)\n",
            "    )\n",
            "  )\n",
            "  (avgpool): AdaptiveAvgPool2d(output_size=(1, 1))\n",
            "  (fc): Linear(in_features=2048, out_features=1000, bias=True)\n",
            ")\n"
          ]
        },
        {
          "name": "stderr",
          "output_type": "stream",
          "text": [
            "\n"
          ]
        }
      ],
      "source": [
        "# Load Resnet50 model\n",
        "resnet = models.resnet50(pretrained = True)\n",
        "print(resnet)"
      ]
    },
    {
      "cell_type": "code",
      "execution_count": null,
      "metadata": {
        "colab": {
          "background_save": true
        },
        "id": "QPne2mSviTt4",
        "outputId": "f3ed46de-9424-4acd-b798-043b8fa83c80"
      },
      "outputs": [
        {
          "name": "stdout",
          "output_type": "stream",
          "text": [
            "child  1  was frozen\n",
            "child  2  was frozen\n",
            "child  3  was frozen\n",
            "child  4  was frozen\n",
            "child  5  was frozen\n",
            "child  6  was frozen\n"
          ]
        }
      ],
      "source": [
        "# Freeze layer 1-6 of Resnet50\n",
        "resnet = freeze_layers(resnet, 6)"
      ]
    },
    {
      "cell_type": "code",
      "execution_count": null,
      "metadata": {
        "colab": {
          "background_save": true
        },
        "id": "hVjv_n2yypbO"
      },
      "outputs": [],
      "source": [
        "# Customize the final layer of Resnet50\n",
        "resnet.fc = nn.Sequential(\n",
        "    nn.Linear(2048, 1024),\n",
        "    nn.LeakyReLU(),\n",
        "    nn.Linear(1024, 256),\n",
        "    nn.LeakyReLU(),\n",
        "    nn.Dropout(0.4),\n",
        "    nn.Linear(256, 14),\n",
        "    nn.LogSoftmax(dim = 1)\n",
        ")"
      ]
    },
    {
      "cell_type": "code",
      "execution_count": null,
      "metadata": {
        "colab": {
          "background_save": true
        },
        "id": "ZTqBAIGW4Czo"
      },
      "outputs": [],
      "source": [
        "# Define Loss function\n",
        "lossf = nn.NLLLoss()"
      ]
    },
    {
      "cell_type": "code",
      "execution_count": null,
      "metadata": {
        "id": "K4sb9l3xGIob",
        "colab": {
          "base_uri": "https://localhost:8080/"
        },
        "outputId": "aea405d3-1ea2-4f81-c109-9587dcecdef1"
      },
      "outputs": [
        {
          "output_type": "stream",
          "name": "stderr",
          "text": [
            "  1%|          | 1/100 [00:16<27:11, 16.48s/it]"
          ]
        },
        {
          "output_type": "stream",
          "name": "stdout",
          "text": [
            " train_loss 0.0001; val_loss 0.0001; val_acc 1.0000\n"
          ]
        },
        {
          "output_type": "stream",
          "name": "stderr",
          "text": [
            "  2%|▏         | 2/100 [00:33<27:05, 16.59s/it]"
          ]
        },
        {
          "output_type": "stream",
          "name": "stdout",
          "text": [
            " train_loss 0.0003; val_loss 0.0052; val_acc 0.9995\n"
          ]
        },
        {
          "output_type": "stream",
          "name": "stderr",
          "text": [
            "  3%|▎         | 3/100 [00:50<27:01, 16.72s/it]"
          ]
        },
        {
          "output_type": "stream",
          "name": "stdout",
          "text": [
            " train_loss 0.0001; val_loss 0.0015; val_acc 0.9995\n"
          ]
        },
        {
          "output_type": "stream",
          "name": "stderr",
          "text": [
            "  4%|▍         | 4/100 [01:06<26:28, 16.55s/it]"
          ]
        },
        {
          "output_type": "stream",
          "name": "stdout",
          "text": [
            " train_loss 0.0000; val_loss 0.0002; val_acc 1.0000\n"
          ]
        },
        {
          "output_type": "stream",
          "name": "stderr",
          "text": [
            "  5%|▌         | 5/100 [01:22<26:02, 16.45s/it]"
          ]
        },
        {
          "output_type": "stream",
          "name": "stdout",
          "text": [
            " train_loss 0.0018; val_loss 0.0004; val_acc 1.0000\n"
          ]
        },
        {
          "output_type": "stream",
          "name": "stderr",
          "text": [
            "  6%|▌         | 6/100 [01:38<25:43, 16.42s/it]"
          ]
        },
        {
          "output_type": "stream",
          "name": "stdout",
          "text": [
            " train_loss 0.0000; val_loss 0.0048; val_acc 0.9991\n"
          ]
        },
        {
          "output_type": "stream",
          "name": "stderr",
          "text": [
            "  7%|▋         | 7/100 [01:55<25:26, 16.41s/it]"
          ]
        },
        {
          "output_type": "stream",
          "name": "stdout",
          "text": [
            " train_loss 0.0000; val_loss 0.0005; val_acc 1.0000\n"
          ]
        },
        {
          "output_type": "stream",
          "name": "stderr",
          "text": [
            "  8%|▊         | 8/100 [02:11<25:09, 16.41s/it]"
          ]
        },
        {
          "output_type": "stream",
          "name": "stdout",
          "text": [
            " train_loss 0.0000; val_loss 0.0010; val_acc 0.9995\n"
          ]
        },
        {
          "output_type": "stream",
          "name": "stderr",
          "text": [
            "  9%|▉         | 9/100 [02:28<24:52, 16.40s/it]"
          ]
        },
        {
          "output_type": "stream",
          "name": "stdout",
          "text": [
            " train_loss 0.0000; val_loss 0.0002; val_acc 1.0000\n"
          ]
        },
        {
          "output_type": "stream",
          "name": "stderr",
          "text": [
            " 10%|█         | 10/100 [02:44<24:34, 16.38s/it]"
          ]
        },
        {
          "output_type": "stream",
          "name": "stdout",
          "text": [
            " train_loss 0.0000; val_loss 0.0002; val_acc 1.0000\n"
          ]
        },
        {
          "output_type": "stream",
          "name": "stderr",
          "text": [
            " 11%|█         | 11/100 [03:00<24:17, 16.37s/it]"
          ]
        },
        {
          "output_type": "stream",
          "name": "stdout",
          "text": [
            " train_loss 0.0001; val_loss 0.0001; val_acc 1.0000\n"
          ]
        },
        {
          "output_type": "stream",
          "name": "stderr",
          "text": [
            " 12%|█▏        | 12/100 [03:17<24:00, 16.37s/it]"
          ]
        },
        {
          "output_type": "stream",
          "name": "stdout",
          "text": [
            " train_loss 0.0000; val_loss 0.0001; val_acc 1.0000\n"
          ]
        },
        {
          "output_type": "stream",
          "name": "stderr",
          "text": [
            " 13%|█▎        | 13/100 [03:33<23:43, 16.36s/it]"
          ]
        },
        {
          "output_type": "stream",
          "name": "stdout",
          "text": [
            " train_loss 0.0000; val_loss 0.0004; val_acc 1.0000\n"
          ]
        },
        {
          "output_type": "stream",
          "name": "stderr",
          "text": [
            " 14%|█▍        | 14/100 [03:49<23:27, 16.37s/it]"
          ]
        },
        {
          "output_type": "stream",
          "name": "stdout",
          "text": [
            " train_loss 0.0000; val_loss 0.0007; val_acc 0.9995\n"
          ]
        },
        {
          "output_type": "stream",
          "name": "stderr",
          "text": [
            " 15%|█▌        | 15/100 [04:06<23:11, 16.37s/it]"
          ]
        },
        {
          "output_type": "stream",
          "name": "stdout",
          "text": [
            " train_loss 0.0001; val_loss 0.0001; val_acc 1.0000\n"
          ]
        },
        {
          "output_type": "stream",
          "name": "stderr",
          "text": [
            " 16%|█▌        | 16/100 [04:22<22:55, 16.37s/it]"
          ]
        },
        {
          "output_type": "stream",
          "name": "stdout",
          "text": [
            " train_loss 0.0000; val_loss 0.0000; val_acc 1.0000\n"
          ]
        },
        {
          "output_type": "stream",
          "name": "stderr",
          "text": [
            " 17%|█▋        | 17/100 [04:39<22:39, 16.37s/it]"
          ]
        },
        {
          "output_type": "stream",
          "name": "stdout",
          "text": [
            " train_loss 0.0000; val_loss 0.0002; val_acc 1.0000\n"
          ]
        },
        {
          "output_type": "stream",
          "name": "stderr",
          "text": [
            " 18%|█▊        | 18/100 [04:55<22:22, 16.38s/it]"
          ]
        },
        {
          "output_type": "stream",
          "name": "stdout",
          "text": [
            " train_loss 0.0000; val_loss 0.0001; val_acc 1.0000\n"
          ]
        },
        {
          "output_type": "stream",
          "name": "stderr",
          "text": [
            " 19%|█▉        | 19/100 [05:11<22:06, 16.37s/it]"
          ]
        },
        {
          "output_type": "stream",
          "name": "stdout",
          "text": [
            " train_loss 0.0000; val_loss 0.0038; val_acc 0.9986\n"
          ]
        },
        {
          "output_type": "stream",
          "name": "stderr",
          "text": [
            " 20%|██        | 20/100 [05:28<21:49, 16.37s/it]"
          ]
        },
        {
          "output_type": "stream",
          "name": "stdout",
          "text": [
            " train_loss 0.0000; val_loss 0.0000; val_acc 1.0000\n"
          ]
        },
        {
          "output_type": "stream",
          "name": "stderr",
          "text": [
            " 21%|██        | 21/100 [05:44<21:33, 16.37s/it]"
          ]
        },
        {
          "output_type": "stream",
          "name": "stdout",
          "text": [
            " train_loss 0.0000; val_loss 0.0003; val_acc 1.0000\n"
          ]
        },
        {
          "output_type": "stream",
          "name": "stderr",
          "text": [
            " 22%|██▏       | 22/100 [06:00<21:17, 16.38s/it]"
          ]
        },
        {
          "output_type": "stream",
          "name": "stdout",
          "text": [
            " train_loss 0.0000; val_loss 0.0001; val_acc 1.0000\n"
          ]
        },
        {
          "output_type": "stream",
          "name": "stderr",
          "text": [
            " 23%|██▎       | 23/100 [06:17<21:00, 16.38s/it]"
          ]
        },
        {
          "output_type": "stream",
          "name": "stdout",
          "text": [
            " train_loss 0.0000; val_loss 0.0005; val_acc 0.9995\n"
          ]
        },
        {
          "output_type": "stream",
          "name": "stderr",
          "text": [
            " 24%|██▍       | 24/100 [06:33<20:43, 16.37s/it]"
          ]
        },
        {
          "output_type": "stream",
          "name": "stdout",
          "text": [
            " train_loss 0.0000; val_loss 0.0004; val_acc 1.0000\n"
          ]
        },
        {
          "output_type": "stream",
          "name": "stderr",
          "text": [
            " 25%|██▌       | 25/100 [06:49<20:27, 16.36s/it]"
          ]
        },
        {
          "output_type": "stream",
          "name": "stdout",
          "text": [
            " train_loss 0.0000; val_loss 0.0013; val_acc 0.9991\n"
          ]
        },
        {
          "output_type": "stream",
          "name": "stderr",
          "text": [
            " 26%|██▌       | 26/100 [07:06<20:10, 16.36s/it]"
          ]
        },
        {
          "output_type": "stream",
          "name": "stdout",
          "text": [
            " train_loss 0.0000; val_loss 0.0001; val_acc 1.0000\n"
          ]
        },
        {
          "output_type": "stream",
          "name": "stderr",
          "text": [
            " 27%|██▋       | 27/100 [07:22<19:54, 16.36s/it]"
          ]
        },
        {
          "output_type": "stream",
          "name": "stdout",
          "text": [
            " train_loss 0.0015; val_loss 0.0017; val_acc 0.9995\n"
          ]
        },
        {
          "output_type": "stream",
          "name": "stderr",
          "text": [
            " 28%|██▊       | 28/100 [07:39<19:37, 16.35s/it]"
          ]
        },
        {
          "output_type": "stream",
          "name": "stdout",
          "text": [
            " train_loss 0.0029; val_loss 0.0009; val_acc 1.0000\n"
          ]
        },
        {
          "output_type": "stream",
          "name": "stderr",
          "text": [
            " 29%|██▉       | 29/100 [07:55<19:20, 16.34s/it]"
          ]
        },
        {
          "output_type": "stream",
          "name": "stdout",
          "text": [
            " train_loss 0.0013; val_loss 0.0046; val_acc 0.9986\n"
          ]
        },
        {
          "output_type": "stream",
          "name": "stderr",
          "text": [
            " 30%|███       | 30/100 [08:11<19:03, 16.34s/it]"
          ]
        },
        {
          "output_type": "stream",
          "name": "stdout",
          "text": [
            " train_loss 0.0002; val_loss 0.0011; val_acc 0.9995\n"
          ]
        },
        {
          "output_type": "stream",
          "name": "stderr",
          "text": [
            " 31%|███       | 31/100 [08:28<18:47, 16.35s/it]"
          ]
        },
        {
          "output_type": "stream",
          "name": "stdout",
          "text": [
            " train_loss 0.0001; val_loss 0.0022; val_acc 0.9991\n"
          ]
        },
        {
          "output_type": "stream",
          "name": "stderr",
          "text": [
            " 32%|███▏      | 32/100 [08:44<18:31, 16.35s/it]"
          ]
        },
        {
          "output_type": "stream",
          "name": "stdout",
          "text": [
            " train_loss 0.0001; val_loss 0.0006; val_acc 1.0000\n"
          ]
        },
        {
          "output_type": "stream",
          "name": "stderr",
          "text": [
            " 33%|███▎      | 33/100 [09:00<18:15, 16.35s/it]"
          ]
        },
        {
          "output_type": "stream",
          "name": "stdout",
          "text": [
            " train_loss 0.0008; val_loss 0.0003; val_acc 1.0000\n"
          ]
        },
        {
          "output_type": "stream",
          "name": "stderr",
          "text": [
            " 34%|███▍      | 34/100 [09:17<17:59, 16.35s/it]"
          ]
        },
        {
          "output_type": "stream",
          "name": "stdout",
          "text": [
            " train_loss 0.0001; val_loss 0.0005; val_acc 0.9995\n"
          ]
        },
        {
          "output_type": "stream",
          "name": "stderr",
          "text": [
            " 35%|███▌      | 35/100 [09:33<17:43, 16.36s/it]"
          ]
        },
        {
          "output_type": "stream",
          "name": "stdout",
          "text": [
            " train_loss 0.0001; val_loss 0.0015; val_acc 0.9995\n"
          ]
        },
        {
          "output_type": "stream",
          "name": "stderr",
          "text": [
            " 36%|███▌      | 36/100 [09:49<17:27, 16.36s/it]"
          ]
        },
        {
          "output_type": "stream",
          "name": "stdout",
          "text": [
            " train_loss 0.0002; val_loss 0.0043; val_acc 0.9991\n"
          ]
        },
        {
          "output_type": "stream",
          "name": "stderr",
          "text": [
            " 37%|███▋      | 37/100 [10:06<17:10, 16.36s/it]"
          ]
        },
        {
          "output_type": "stream",
          "name": "stdout",
          "text": [
            " train_loss 0.0001; val_loss 0.0002; val_acc 1.0000\n"
          ]
        },
        {
          "output_type": "stream",
          "name": "stderr",
          "text": [
            " 38%|███▊      | 38/100 [10:22<16:54, 16.37s/it]"
          ]
        },
        {
          "output_type": "stream",
          "name": "stdout",
          "text": [
            " train_loss 0.0000; val_loss 0.0013; val_acc 0.9995\n"
          ]
        },
        {
          "output_type": "stream",
          "name": "stderr",
          "text": [
            " 39%|███▉      | 39/100 [10:38<16:38, 16.37s/it]"
          ]
        },
        {
          "output_type": "stream",
          "name": "stdout",
          "text": [
            " train_loss 0.0001; val_loss 0.0006; val_acc 0.9995\n"
          ]
        },
        {
          "output_type": "stream",
          "name": "stderr",
          "text": [
            " 40%|████      | 40/100 [10:55<16:22, 16.37s/it]"
          ]
        },
        {
          "output_type": "stream",
          "name": "stdout",
          "text": [
            " train_loss 0.0000; val_loss 0.0012; val_acc 0.9991\n"
          ]
        },
        {
          "output_type": "stream",
          "name": "stderr",
          "text": [
            " 41%|████      | 41/100 [11:11<16:05, 16.37s/it]"
          ]
        },
        {
          "output_type": "stream",
          "name": "stdout",
          "text": [
            " train_loss 0.0000; val_loss 0.0001; val_acc 1.0000\n"
          ]
        },
        {
          "output_type": "stream",
          "name": "stderr",
          "text": [
            " 42%|████▏     | 42/100 [11:28<15:49, 16.36s/it]"
          ]
        },
        {
          "output_type": "stream",
          "name": "stdout",
          "text": [
            " train_loss 0.0000; val_loss 0.0002; val_acc 1.0000\n"
          ]
        },
        {
          "output_type": "stream",
          "name": "stderr",
          "text": [
            " 43%|████▎     | 43/100 [11:44<15:32, 16.36s/it]"
          ]
        },
        {
          "output_type": "stream",
          "name": "stdout",
          "text": [
            " train_loss 0.0000; val_loss 0.0001; val_acc 1.0000\n"
          ]
        },
        {
          "output_type": "stream",
          "name": "stderr",
          "text": [
            " 44%|████▍     | 44/100 [12:00<15:16, 16.36s/it]"
          ]
        },
        {
          "output_type": "stream",
          "name": "stdout",
          "text": [
            " train_loss 0.0000; val_loss 0.0002; val_acc 1.0000\n"
          ]
        },
        {
          "output_type": "stream",
          "name": "stderr",
          "text": [
            " 45%|████▌     | 45/100 [12:17<14:59, 16.35s/it]"
          ]
        },
        {
          "output_type": "stream",
          "name": "stdout",
          "text": [
            " train_loss 0.0000; val_loss 0.0000; val_acc 1.0000\n"
          ]
        },
        {
          "output_type": "stream",
          "name": "stderr",
          "text": [
            " 46%|████▌     | 46/100 [12:33<14:42, 16.35s/it]"
          ]
        },
        {
          "output_type": "stream",
          "name": "stdout",
          "text": [
            " train_loss 0.0000; val_loss 0.0005; val_acc 0.9995\n"
          ]
        },
        {
          "output_type": "stream",
          "name": "stderr",
          "text": [
            " 47%|████▋     | 47/100 [12:49<14:26, 16.35s/it]"
          ]
        },
        {
          "output_type": "stream",
          "name": "stdout",
          "text": [
            " train_loss 0.0000; val_loss 0.0001; val_acc 1.0000\n"
          ]
        },
        {
          "output_type": "stream",
          "name": "stderr",
          "text": [
            " 48%|████▊     | 48/100 [13:06<14:10, 16.35s/it]"
          ]
        },
        {
          "output_type": "stream",
          "name": "stdout",
          "text": [
            " train_loss 0.0000; val_loss 0.0014; val_acc 0.9995\n"
          ]
        },
        {
          "output_type": "stream",
          "name": "stderr",
          "text": [
            " 49%|████▉     | 49/100 [13:22<13:53, 16.35s/it]"
          ]
        },
        {
          "output_type": "stream",
          "name": "stdout",
          "text": [
            " train_loss 0.0000; val_loss 0.0000; val_acc 1.0000\n"
          ]
        },
        {
          "output_type": "stream",
          "name": "stderr",
          "text": [
            " 50%|█████     | 50/100 [13:38<13:37, 16.36s/it]"
          ]
        },
        {
          "output_type": "stream",
          "name": "stdout",
          "text": [
            " train_loss 0.0000; val_loss 0.0000; val_acc 1.0000\n"
          ]
        },
        {
          "output_type": "stream",
          "name": "stderr",
          "text": [
            " 51%|█████     | 51/100 [13:55<13:21, 16.36s/it]"
          ]
        },
        {
          "output_type": "stream",
          "name": "stdout",
          "text": [
            " train_loss 0.0000; val_loss 0.0001; val_acc 1.0000\n"
          ]
        },
        {
          "output_type": "stream",
          "name": "stderr",
          "text": [
            " 52%|█████▏    | 52/100 [14:11<13:05, 16.36s/it]"
          ]
        },
        {
          "output_type": "stream",
          "name": "stdout",
          "text": [
            " train_loss 0.0000; val_loss 0.0007; val_acc 0.9995\n"
          ]
        },
        {
          "output_type": "stream",
          "name": "stderr",
          "text": [
            " 53%|█████▎    | 53/100 [14:27<12:49, 16.37s/it]"
          ]
        },
        {
          "output_type": "stream",
          "name": "stdout",
          "text": [
            " train_loss 0.0000; val_loss 0.0001; val_acc 1.0000\n"
          ]
        },
        {
          "output_type": "stream",
          "name": "stderr",
          "text": [
            " 54%|█████▍    | 54/100 [14:44<12:33, 16.37s/it]"
          ]
        },
        {
          "output_type": "stream",
          "name": "stdout",
          "text": [
            " train_loss 0.0000; val_loss 0.0004; val_acc 1.0000\n"
          ]
        },
        {
          "output_type": "stream",
          "name": "stderr",
          "text": [
            " 55%|█████▌    | 55/100 [15:00<12:17, 16.38s/it]"
          ]
        },
        {
          "output_type": "stream",
          "name": "stdout",
          "text": [
            " train_loss 0.0000; val_loss 0.0022; val_acc 0.9995\n"
          ]
        },
        {
          "output_type": "stream",
          "name": "stderr",
          "text": [
            " 56%|█████▌    | 56/100 [15:17<12:00, 16.38s/it]"
          ]
        },
        {
          "output_type": "stream",
          "name": "stdout",
          "text": [
            " train_loss 0.0000; val_loss 0.0005; val_acc 1.0000\n"
          ]
        },
        {
          "output_type": "stream",
          "name": "stderr",
          "text": [
            " 57%|█████▋    | 57/100 [15:33<11:44, 16.38s/it]"
          ]
        },
        {
          "output_type": "stream",
          "name": "stdout",
          "text": [
            " train_loss 0.0000; val_loss 0.0001; val_acc 1.0000\n"
          ]
        },
        {
          "output_type": "stream",
          "name": "stderr",
          "text": [
            " 58%|█████▊    | 58/100 [15:49<11:27, 16.37s/it]"
          ]
        },
        {
          "output_type": "stream",
          "name": "stdout",
          "text": [
            " train_loss 0.0000; val_loss 0.0000; val_acc 1.0000\n"
          ]
        },
        {
          "output_type": "stream",
          "name": "stderr",
          "text": [
            " 59%|█████▉    | 59/100 [16:06<11:11, 16.38s/it]"
          ]
        },
        {
          "output_type": "stream",
          "name": "stdout",
          "text": [
            " train_loss 0.0000; val_loss 0.0001; val_acc 1.0000\n"
          ]
        },
        {
          "output_type": "stream",
          "name": "stderr",
          "text": [
            " 60%|██████    | 60/100 [16:22<10:55, 16.38s/it]"
          ]
        },
        {
          "output_type": "stream",
          "name": "stdout",
          "text": [
            " train_loss 0.0000; val_loss 0.0003; val_acc 1.0000\n"
          ]
        },
        {
          "output_type": "stream",
          "name": "stderr",
          "text": [
            " 61%|██████    | 61/100 [16:39<10:39, 16.39s/it]"
          ]
        },
        {
          "output_type": "stream",
          "name": "stdout",
          "text": [
            " train_loss 0.0000; val_loss 0.0001; val_acc 1.0000\n"
          ]
        },
        {
          "output_type": "stream",
          "name": "stderr",
          "text": [
            " 62%|██████▏   | 62/100 [16:55<10:22, 16.39s/it]"
          ]
        },
        {
          "output_type": "stream",
          "name": "stdout",
          "text": [
            " train_loss 0.0000; val_loss 0.0001; val_acc 1.0000\n"
          ]
        },
        {
          "output_type": "stream",
          "name": "stderr",
          "text": [
            " 63%|██████▎   | 63/100 [17:11<10:06, 16.39s/it]"
          ]
        },
        {
          "output_type": "stream",
          "name": "stdout",
          "text": [
            " train_loss 0.0000; val_loss 0.0001; val_acc 1.0000\n"
          ]
        },
        {
          "output_type": "stream",
          "name": "stderr",
          "text": [
            " 64%|██████▍   | 64/100 [17:28<09:49, 16.38s/it]"
          ]
        },
        {
          "output_type": "stream",
          "name": "stdout",
          "text": [
            " train_loss 0.0000; val_loss 0.0005; val_acc 0.9995\n"
          ]
        },
        {
          "output_type": "stream",
          "name": "stderr",
          "text": [
            " 65%|██████▌   | 65/100 [17:44<09:32, 16.37s/it]"
          ]
        },
        {
          "output_type": "stream",
          "name": "stdout",
          "text": [
            " train_loss 0.0000; val_loss 0.0000; val_acc 1.0000\n"
          ]
        },
        {
          "output_type": "stream",
          "name": "stderr",
          "text": [
            " 66%|██████▌   | 66/100 [18:00<09:16, 16.37s/it]"
          ]
        },
        {
          "output_type": "stream",
          "name": "stdout",
          "text": [
            " train_loss 0.0000; val_loss 0.0001; val_acc 1.0000\n"
          ]
        },
        {
          "output_type": "stream",
          "name": "stderr",
          "text": [
            " 67%|██████▋   | 67/100 [18:17<09:00, 16.37s/it]"
          ]
        },
        {
          "output_type": "stream",
          "name": "stdout",
          "text": [
            " train_loss 0.0000; val_loss 0.0000; val_acc 1.0000\n"
          ]
        },
        {
          "output_type": "stream",
          "name": "stderr",
          "text": [
            " 68%|██████▊   | 68/100 [18:33<08:43, 16.37s/it]"
          ]
        },
        {
          "output_type": "stream",
          "name": "stdout",
          "text": [
            " train_loss 0.0000; val_loss 0.0001; val_acc 1.0000\n"
          ]
        },
        {
          "output_type": "stream",
          "name": "stderr",
          "text": [
            " 69%|██████▉   | 69/100 [18:49<08:27, 16.36s/it]"
          ]
        },
        {
          "output_type": "stream",
          "name": "stdout",
          "text": [
            " train_loss 0.0000; val_loss 0.0004; val_acc 1.0000\n"
          ]
        },
        {
          "output_type": "stream",
          "name": "stderr",
          "text": [
            " 70%|███████   | 70/100 [19:06<08:10, 16.36s/it]"
          ]
        },
        {
          "output_type": "stream",
          "name": "stdout",
          "text": [
            " train_loss 0.0000; val_loss 0.0000; val_acc 1.0000\n"
          ]
        },
        {
          "output_type": "stream",
          "name": "stderr",
          "text": [
            " 71%|███████   | 71/100 [19:22<07:54, 16.35s/it]"
          ]
        },
        {
          "output_type": "stream",
          "name": "stdout",
          "text": [
            " train_loss 0.0000; val_loss 0.0000; val_acc 1.0000\n"
          ]
        },
        {
          "output_type": "stream",
          "name": "stderr",
          "text": [
            " 72%|███████▏  | 72/100 [19:39<07:37, 16.35s/it]"
          ]
        },
        {
          "output_type": "stream",
          "name": "stdout",
          "text": [
            " train_loss 0.0000; val_loss 0.0000; val_acc 1.0000\n"
          ]
        },
        {
          "output_type": "stream",
          "name": "stderr",
          "text": [
            " 73%|███████▎  | 73/100 [19:55<07:21, 16.35s/it]"
          ]
        },
        {
          "output_type": "stream",
          "name": "stdout",
          "text": [
            " train_loss 0.0000; val_loss 0.0000; val_acc 1.0000\n"
          ]
        },
        {
          "output_type": "stream",
          "name": "stderr",
          "text": [
            " 74%|███████▍  | 74/100 [20:11<07:05, 16.35s/it]"
          ]
        },
        {
          "output_type": "stream",
          "name": "stdout",
          "text": [
            " train_loss 0.0000; val_loss 0.0005; val_acc 0.9995\n"
          ]
        },
        {
          "output_type": "stream",
          "name": "stderr",
          "text": [
            " 75%|███████▌  | 75/100 [20:28<06:48, 16.35s/it]"
          ]
        },
        {
          "output_type": "stream",
          "name": "stdout",
          "text": [
            " train_loss 0.0000; val_loss 0.0000; val_acc 1.0000\n"
          ]
        },
        {
          "output_type": "stream",
          "name": "stderr",
          "text": [
            " 76%|███████▌  | 76/100 [20:44<06:32, 16.35s/it]"
          ]
        },
        {
          "output_type": "stream",
          "name": "stdout",
          "text": [
            " train_loss 0.0000; val_loss 0.0000; val_acc 1.0000\n"
          ]
        },
        {
          "output_type": "stream",
          "name": "stderr",
          "text": [
            " 77%|███████▋  | 77/100 [21:00<06:16, 16.35s/it]"
          ]
        },
        {
          "output_type": "stream",
          "name": "stdout",
          "text": [
            " train_loss 0.0000; val_loss 0.0000; val_acc 1.0000\n"
          ]
        },
        {
          "output_type": "stream",
          "name": "stderr",
          "text": [
            " 78%|███████▊  | 78/100 [21:17<05:59, 16.36s/it]"
          ]
        },
        {
          "output_type": "stream",
          "name": "stdout",
          "text": [
            " train_loss 0.0000; val_loss 0.0008; val_acc 0.9991\n"
          ]
        },
        {
          "output_type": "stream",
          "name": "stderr",
          "text": [
            " 79%|███████▉  | 79/100 [21:33<05:43, 16.36s/it]"
          ]
        },
        {
          "output_type": "stream",
          "name": "stdout",
          "text": [
            " train_loss 0.0000; val_loss 0.0000; val_acc 1.0000\n"
          ]
        },
        {
          "output_type": "stream",
          "name": "stderr",
          "text": [
            " 80%|████████  | 80/100 [21:49<05:27, 16.36s/it]"
          ]
        },
        {
          "output_type": "stream",
          "name": "stdout",
          "text": [
            " train_loss 0.0000; val_loss 0.0000; val_acc 1.0000\n"
          ]
        },
        {
          "output_type": "stream",
          "name": "stderr",
          "text": [
            " 81%|████████  | 81/100 [22:06<05:10, 16.35s/it]"
          ]
        },
        {
          "output_type": "stream",
          "name": "stdout",
          "text": [
            " train_loss 0.0000; val_loss 0.0000; val_acc 1.0000\n"
          ]
        },
        {
          "output_type": "stream",
          "name": "stderr",
          "text": [
            " 82%|████████▏ | 82/100 [22:22<04:54, 16.35s/it]"
          ]
        },
        {
          "output_type": "stream",
          "name": "stdout",
          "text": [
            " train_loss 0.0000; val_loss 0.0001; val_acc 1.0000\n"
          ]
        },
        {
          "output_type": "stream",
          "name": "stderr",
          "text": [
            " 83%|████████▎ | 83/100 [22:38<04:38, 16.36s/it]"
          ]
        },
        {
          "output_type": "stream",
          "name": "stdout",
          "text": [
            " train_loss 0.0000; val_loss 0.0060; val_acc 0.9986\n"
          ]
        },
        {
          "output_type": "stream",
          "name": "stderr",
          "text": [
            " 84%|████████▍ | 84/100 [22:55<04:21, 16.36s/it]"
          ]
        },
        {
          "output_type": "stream",
          "name": "stdout",
          "text": [
            " train_loss 0.0000; val_loss 0.0000; val_acc 1.0000\n"
          ]
        },
        {
          "output_type": "stream",
          "name": "stderr",
          "text": [
            " 85%|████████▌ | 85/100 [23:11<04:05, 16.36s/it]"
          ]
        },
        {
          "output_type": "stream",
          "name": "stdout",
          "text": [
            " train_loss 0.0000; val_loss 0.0002; val_acc 1.0000\n"
          ]
        },
        {
          "output_type": "stream",
          "name": "stderr",
          "text": [
            " 86%|████████▌ | 86/100 [23:28<03:49, 16.36s/it]"
          ]
        },
        {
          "output_type": "stream",
          "name": "stdout",
          "text": [
            " train_loss 0.0000; val_loss 0.0000; val_acc 1.0000\n"
          ]
        },
        {
          "output_type": "stream",
          "name": "stderr",
          "text": [
            " 87%|████████▋ | 87/100 [23:44<03:32, 16.37s/it]"
          ]
        },
        {
          "output_type": "stream",
          "name": "stdout",
          "text": [
            " train_loss 0.0020; val_loss 0.0274; val_acc 0.9944\n"
          ]
        },
        {
          "output_type": "stream",
          "name": "stderr",
          "text": [
            " 88%|████████▊ | 88/100 [24:00<03:16, 16.37s/it]"
          ]
        },
        {
          "output_type": "stream",
          "name": "stdout",
          "text": [
            " train_loss 0.0002; val_loss 0.0005; val_acc 1.0000\n"
          ]
        },
        {
          "output_type": "stream",
          "name": "stderr",
          "text": [
            " 89%|████████▉ | 89/100 [24:17<03:00, 16.37s/it]"
          ]
        },
        {
          "output_type": "stream",
          "name": "stdout",
          "text": [
            " train_loss 0.0000; val_loss 0.0014; val_acc 0.9991\n"
          ]
        },
        {
          "output_type": "stream",
          "name": "stderr",
          "text": [
            " 90%|█████████ | 90/100 [24:33<02:43, 16.37s/it]"
          ]
        },
        {
          "output_type": "stream",
          "name": "stdout",
          "text": [
            " train_loss 0.0001; val_loss 0.0035; val_acc 0.9991\n"
          ]
        },
        {
          "output_type": "stream",
          "name": "stderr",
          "text": [
            " 91%|█████████ | 91/100 [24:49<02:27, 16.37s/it]"
          ]
        },
        {
          "output_type": "stream",
          "name": "stdout",
          "text": [
            " train_loss 0.0000; val_loss 0.0000; val_acc 1.0000\n"
          ]
        },
        {
          "output_type": "stream",
          "name": "stderr",
          "text": [
            " 92%|█████████▏| 92/100 [25:06<02:11, 16.38s/it]"
          ]
        },
        {
          "output_type": "stream",
          "name": "stdout",
          "text": [
            " train_loss 0.0000; val_loss 0.0001; val_acc 1.0000\n"
          ]
        },
        {
          "output_type": "stream",
          "name": "stderr",
          "text": [
            " 93%|█████████▎| 93/100 [25:22<01:54, 16.37s/it]"
          ]
        },
        {
          "output_type": "stream",
          "name": "stdout",
          "text": [
            " train_loss 0.0000; val_loss 0.0000; val_acc 1.0000\n"
          ]
        },
        {
          "output_type": "stream",
          "name": "stderr",
          "text": [
            " 94%|█████████▍| 94/100 [25:38<01:38, 16.37s/it]"
          ]
        },
        {
          "output_type": "stream",
          "name": "stdout",
          "text": [
            " train_loss 0.0000; val_loss 0.0004; val_acc 1.0000\n"
          ]
        },
        {
          "output_type": "stream",
          "name": "stderr",
          "text": [
            " 95%|█████████▌| 95/100 [25:55<01:21, 16.37s/it]"
          ]
        },
        {
          "output_type": "stream",
          "name": "stdout",
          "text": [
            " train_loss 0.0000; val_loss 0.0000; val_acc 1.0000\n"
          ]
        },
        {
          "output_type": "stream",
          "name": "stderr",
          "text": [
            " 96%|█████████▌| 96/100 [26:11<01:05, 16.37s/it]"
          ]
        },
        {
          "output_type": "stream",
          "name": "stdout",
          "text": [
            " train_loss 0.0000; val_loss 0.0000; val_acc 1.0000\n"
          ]
        },
        {
          "output_type": "stream",
          "name": "stderr",
          "text": [
            " 97%|█████████▋| 97/100 [26:28<00:49, 16.37s/it]"
          ]
        },
        {
          "output_type": "stream",
          "name": "stdout",
          "text": [
            " train_loss 0.0000; val_loss 0.0000; val_acc 1.0000\n"
          ]
        },
        {
          "output_type": "stream",
          "name": "stderr",
          "text": [
            " 98%|█████████▊| 98/100 [26:44<00:32, 16.37s/it]"
          ]
        },
        {
          "output_type": "stream",
          "name": "stdout",
          "text": [
            " train_loss 0.0000; val_loss 0.0001; val_acc 1.0000\n"
          ]
        },
        {
          "output_type": "stream",
          "name": "stderr",
          "text": [
            " 99%|█████████▉| 99/100 [27:00<00:16, 16.37s/it]"
          ]
        },
        {
          "output_type": "stream",
          "name": "stdout",
          "text": [
            " train_loss 0.0000; val_loss 0.0000; val_acc 1.0000\n"
          ]
        },
        {
          "output_type": "stream",
          "name": "stderr",
          "text": [
            "100%|██████████| 100/100 [27:17<00:00, 16.37s/it]"
          ]
        },
        {
          "output_type": "stream",
          "name": "stdout",
          "text": [
            " train_loss 0.0000; val_loss 0.0002; val_acc 1.0000\n"
          ]
        },
        {
          "output_type": "stream",
          "name": "stderr",
          "text": [
            "\n"
          ]
        }
      ],
      "source": [
        "lr = 1e-5\n",
        "epochs = 100\n",
        "model, train_losses, val_losses, val_acc = train(resnet, train_loader, val_loader, lr = lr, epochs = epochs)"
      ]
    },
    {
      "cell_type": "code",
      "execution_count": null,
      "metadata": {
        "colab": {
          "base_uri": "https://localhost:8080/",
          "height": 964
        },
        "id": "xnCMEJpMqOaG",
        "outputId": "8aa585fc-9c44-4174-c30a-3ead95a972cf"
      },
      "outputs": [
        {
          "output_type": "display_data",
          "data": {
            "text/plain": [
              "<Figure size 640x480 with 1 Axes>"
            ],
            "image/png": "[encoded data removed]"
          },
          "metadata": {}
        },
        {
          "output_type": "stream",
          "name": "stdout",
          "text": [
            "========================================================================================================================================================================================================\n"
          ]
        },
        {
          "output_type": "display_data",
          "data": {
            "text/plain": [
              "<Figure size 640x480 with 1 Axes>"
            ],
            "image/png": "[encoded data removed]"
          },
          "metadata": {}
        }
      ],
      "source": [
        "visualize_accuracy(val_acc)\n",
        "visualize_losses(train_losses, val_losses)"
      ]
    },
    {
      "cell_type": "markdown",
      "metadata": {
        "id": "3Y-K3IOuYB8N"
      },
      "source": [
        "### TEST CASE (WITH RESNET)"
      ]
    },
    {
      "cell_type": "code",
      "execution_count": null,
      "metadata": {
        "id": "YxNvTkuBQOBx"
      },
      "outputs": [],
      "source": [
        "# Define test_case function\n",
        "def test_case(picture_path):\n",
        "  img = Image.open(picture_path)\n",
        "  face, prob = mtcnn(img, return_prob = True)\n",
        "  if face is not None and prob > 0.90:\n",
        "    face = face.to(device)\n",
        "    recognition = model(face.unsqueeze(0))\n",
        "    recognition = recognition.argmax(dim = 1).long()\n",
        "    name = label_encoder.inverse_transform(recognition.cpu())\n",
        "    print(name[0])\n",
        "  else:\n",
        "    print(\"unrecognizable\")"
      ]
    },
    {
      "cell_type": "code",
      "execution_count": null,
      "metadata": {
        "colab": {
          "base_uri": "https://localhost:8080/"
        },
        "id": "WDKfGNd_tgkv",
        "outputId": "a6cdd7b4-49b1-4a58-be75-bd327c3d9c54"
      },
      "outputs": [
        {
          "output_type": "stream",
          "name": "stdout",
          "text": [
            "Xuan_Anh\n"
          ]
        }
      ],
      "source": [
        "picture_path = \"/content/drive/MyDrive/Đình Quý_Coursework_AI4E/Pictures/Tan/151.png\"\n",
        "test_case(picture_path)"
      ]
    },
    {
      "cell_type": "code",
      "source": [],
      "metadata": {
        "id": "lzaxD2vkDlcm"
      },
      "execution_count": null,
      "outputs": []
    }
  ],
  "metadata": {
    "accelerator": "GPU",
    "colab": {
      "provenance": [],
      "include_colab_link": true
    },
    "gpuClass": "standard",
    "kernelspec": {
      "display_name": "Python 3",
      "name": "python3"
    },
    "language_info": {
      "name": "python"
    }
  },
  "nbformat": 4,
  "nbformat_minor": 0
}