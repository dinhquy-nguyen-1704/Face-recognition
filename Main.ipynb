{
  "cells": [
    {
      "cell_type": "markdown",
      "metadata": {
        "id": "view-in-github",
        "colab_type": "text"
      },
      "source": [
        "<a href=\"https://colab.research.google.com/github/dinhquy-nguyen-1704/NguyenDinhQuy_01/blob/main/Main.ipynb\" target=\"_parent\"><img src=\"https://colab.research.google.com/assets/colab-badge.svg\" alt=\"Open In Colab\"/></a>"
      ]
    },
    {
      "cell_type": "code",
      "execution_count": null,
      "metadata": {
        "id": "hek48zksVjBN"
      },
      "outputs": [],
      "source": [
        "from google.colab import drive\n",
        "drive.mount('/content/drive')"
      ]
    },
    {
      "cell_type": "code",
      "execution_count": null,
      "metadata": {
        "id": "m-Rv3wn5dU_W"
      },
      "outputs": [],
      "source": [
        "%cd ''"
      ]
    },
    {
      "cell_type": "code",
      "execution_count": null,
      "metadata": {
        "id": "hr02qFF8xYVw"
      },
      "outputs": [],
      "source": [
        "! pip install facenet-pytorch"
      ]
    },
    {
      "cell_type": "code",
      "execution_count": null,
      "metadata": {
        "id": "gowLOQlCfSjS"
      },
      "outputs": [],
      "source": [
        "import os\n",
        "import random\n",
        "import torch\n",
        "import torch.nn as nn\n",
        "import torch.optim as optim\n",
        "import torchvision.transforms as transforms\n",
        "import torchvision.models as models\n",
        "import torch.utils.data as dutils\n",
        "from facenet_pytorch import MTCNN, InceptionResnetV1\n",
        "import time\n",
        "import numpy as np\n",
        "import matplotlib.pyplot as plt\n",
        "from PIL import Image\n",
        "import cv2\n",
        "from sklearn.model_selection import train_test_split\n",
        "from sklearn import preprocessing\n",
        "from tqdm import tqdm\n",
        "import warnings\n",
        "warnings.simplefilter(\"ignore\")"
      ]
    },
    {
      "cell_type": "code",
      "execution_count": null,
      "metadata": {
        "id": "9pSve36i_wo2",
        "colab": {
          "base_uri": "https://localhost:8080/"
        },
        "outputId": "0a2ccf63-503c-4536-844c-bf62c7ed3889"
      },
      "outputs": [
        {
          "output_type": "stream",
          "name": "stdout",
          "text": [
            "cuda\n"
          ]
        }
      ],
      "source": [
        "device =  torch.device('cuda' if torch.cuda.is_available() else 'cpu')\n",
        "print(device)"
      ]
    },
    {
      "cell_type": "code",
      "execution_count": null,
      "metadata": {
        "id": "h7Yu4ohluPYv"
      },
      "outputs": [],
      "source": [
        "mtcnn = MTCNN(image_size=160, margin = 0, device = device, min_face_size=20) # initializing mtcnn for face detection"
      ]
    },
    {
      "cell_type": "code",
      "execution_count": null,
      "metadata": {
        "id": "cC6FWnguUFCB"
      },
      "outputs": [],
      "source": [
        "X_train, X_val, X_test = [], [], []\n",
        "y_train, y_val, y_test = [], [], []\n",
        "data_folder = \"\"\n",
        "\n",
        "for folder in os.listdir(data_folder):\n",
        "  curr_path = os.path.join(data_folder, folder)\n",
        "  X_temp = []\n",
        "  y_temp = []\n",
        "  for pic_file in os.listdir(curr_path):\n",
        "    curr_file = os.path.join(curr_path, pic_file)\n",
        "    X_temp.append(curr_file)\n",
        "    y_temp.append(folder)\n",
        "\n",
        "  # for each folder, split the images in it into train, test, split set\n",
        "  X_train_val_temp, X_test_temp, y_train_val_temp, y_test_temp = train_test_split(X_temp, y_temp, test_size = 0.2, shuffle = True)\n",
        "  X_train_temp, X_val_temp, y_train_temp, y_val_temp = train_test_split(X_train_val_temp, y_train_val_temp, test_size = 0.375, shuffle = True)\n",
        "\n",
        "  X_train += X_train_temp\n",
        "  X_val += X_val_temp\n",
        "  X_test += X_test_temp\n",
        "\n",
        "  y_train += y_train_temp\n",
        "  y_val += y_val_temp\n",
        "  y_test += y_test_temp"
      ]
    },
    {
      "cell_type": "code",
      "execution_count": null,
      "metadata": {
        "id": "zJebILZ2S1AN"
      },
      "outputs": [],
      "source": [
        "# Encode label\n",
        "label_encoder = preprocessing.LabelEncoder()\n",
        "y_train_encode = label_encoder.fit_transform(y_train)\n",
        "y_val_encode = label_encoder.transform(y_val)\n",
        "y_test_encode = label_encoder.transform(y_test)\n",
        "\n",
        "y_train_encode = torch.Tensor(y_train_encode)\n",
        "y_val_encode = torch.Tensor(y_val_encode)\n",
        "y_test_encode = torch.Tensor(y_test_encode)"
      ]
    },
    {
      "cell_type": "code",
      "execution_count": null,
      "metadata": {
        "id": "_a3Z8fVTcNZR"
      },
      "outputs": [],
      "source": [
        "# Use mtcnn to cut human faces\n",
        "X_train_set = []\n",
        "for path in X_train:\n",
        "  img = Image.open(path)\n",
        "  face = mtcnn(img, return_prob = False)\n",
        "  X_train_set.append(face)\n",
        "\n",
        "X_val_set = []\n",
        "for path in X_val:\n",
        "  img = Image.open(path)\n",
        "  face = mtcnn(img, return_prob = False)  \n",
        "  X_val_set.append(face)\n",
        "\n",
        "X_test_set = []\n",
        "for path in X_test:\n",
        "  img = Image.open(path)\n",
        "  face = mtcnn(img, return_prob = False) \n",
        "  X_test_set.append(face)                        "
      ]
    },
    {
      "cell_type": "code",
      "execution_count": null,
      "metadata": {
        "id": "_5qrhdx-F7kM"
      },
      "outputs": [],
      "source": [
        "train_set = list(zip(X_train_set, y_train_encode))\n",
        "val_set = list(zip(X_val_set, y_val_encode))\n",
        "test_set = list(zip(X_test_set, y_test_encode))\n",
        "print(len(train_set))\n",
        "print(len(val_set))\n",
        "print(len(test_set))"
      ]
    },
    {
      "cell_type": "code",
      "execution_count": null,
      "metadata": {
        "id": "VbGlWxA9aBQ_"
      },
      "outputs": [],
      "source": [
        "train_set = [i for i in train_set if i[0] is not None]\n",
        "val_set = [i for i in val_set if i[0] is not None]\n",
        "test_set = [i for i in test_set if i[0] is not None]\n",
        "print(len(train_set))\n",
        "print(len(val_set))\n",
        "print(len(test_set))"
      ]
    },
    {
      "cell_type": "code",
      "execution_count": null,
      "metadata": {
        "id": "dd7UXYWkoz3o"
      },
      "outputs": [],
      "source": [
        "#torch.save(train_set, 'train_set_3.pt')\n",
        "#torch.save(val_set, 'val_set_3.pt')\n",
        "#torch.save(test_set, 'test_set_3.pt')\n",
        "\n",
        "train_set = torch.load('train_set_3.pt')\n",
        "val_set = torch.load('val_set_3.pt')\n",
        "test_set = torch.load('test_set_3.pt')"
      ]
    },
    {
      "cell_type": "code",
      "execution_count": null,
      "metadata": {
        "id": "NfpuYcU-m4hJ"
      },
      "outputs": [],
      "source": [
        "batch_size = 32\n",
        "train_loader = dutils.DataLoader(train_set, batch_size = batch_size, shuffle = True, drop_last = True)\n",
        "val_loader = dutils.DataLoader(val_set, batch_size = batch_size, shuffle = True, drop_last = False)"
      ]
    },
    {
      "cell_type": "code",
      "execution_count": null,
      "metadata": {
        "id": "_AIZA0F8hDtA"
      },
      "outputs": [],
      "source": [
        "# freeze_layers function\n",
        "def freeze_layers(model, freezed_layers):\n",
        "    child_count = 0\n",
        "    for child in model.children():\n",
        "        child_count += 1\n",
        "        if child_count < (freezed_layers + 1):\n",
        "            for param in child.parameters():\n",
        "                param.requires_grad = False\n",
        "            print(\"child \", child_count, \" was frozen\")\n",
        "    return model"
      ]
    },
    {
      "cell_type": "code",
      "execution_count": null,
      "metadata": {
        "id": "ZG5w7WEI-nLm"
      },
      "outputs": [],
      "source": [
        "def train(model, train_loader, val_loader, lr, epochs):\n",
        "  # Put model on device\n",
        "  model = model.to(device)\n",
        "  # Optimization algorithm\n",
        "  optimizer = optim.Adam(lr = lr, params = model.parameters())\n",
        "\n",
        "  train_losses = []\n",
        "  val_losses = []\n",
        "  val_acc = []\n",
        "\n",
        "  best_val_loss = 1e100\n",
        "  best_state_dict = None\n",
        "\n",
        "  for ei in tqdm(range(epochs)):\n",
        "    train_lossi = []\n",
        "    for bi, (xi, yi) in enumerate(train_loader):\n",
        "      optimizer.zero_grad()\n",
        "      xi = xi.to(device)\n",
        "      yi = yi.type(torch.LongTensor) \n",
        "      yi = yi.to(device)\n",
        "      yi_hat = model(xi)\n",
        "      lossi = lossf(yi_hat, yi)\n",
        "      lossi.backward()\n",
        "      optimizer.step()\n",
        "      train_lossi.append(lossi.item())\n",
        "\n",
        "    val_lossi = []\n",
        "    correct = 0.\n",
        "    total = 0.\n",
        "    with torch.no_grad():\n",
        "      for bvi, (xvi, yvi) in enumerate(val_loader):\n",
        "        xvi = xvi.to(device)\n",
        "        yvi = yvi.type(torch.LongTensor) \n",
        "        yvi = yvi.to(device)\n",
        "        yvi_hat = model(xvi)\n",
        "        lossvi = lossf(yvi_hat, yvi)\n",
        "        val_lossi.append(lossvi.item())\n",
        "        yvi_hat = yvi_hat.argmax(dim = 1).long()\n",
        "        yvi = yvi.long()\n",
        "        correct += (yvi_hat == yvi).sum()\n",
        "        total += yvi.size(0)\n",
        "        acci = (correct / total).item()\n",
        "      val_acc.append(acci)      \n",
        "\n",
        "    train_losses.append(torch.FloatTensor(train_lossi).mean().item())\n",
        "    val_losses.append(torch.FloatTensor(val_lossi).mean().item())\n",
        "    if val_losses[-1] < best_val_loss:\n",
        "      best_val_loss = val_losses[-1]\n",
        "      best_state_dict = model.state_dict()\n",
        "    tqdm.write(\" train_loss %.4f; val_loss %.4f; val_acc %.4f\" % (train_losses[-1], val_losses[-1], val_acc[-1]))\n",
        "  model.load_state_dict(best_state_dict)  # parameters of moded\n",
        "\n",
        "  return model, train_losses, val_losses, val_acc"
      ]
    },
    {
      "cell_type": "code",
      "execution_count": null,
      "metadata": {
        "id": "XqMGKEVYo-s2"
      },
      "outputs": [],
      "source": [
        "# Define visualize_accuracy function\n",
        "def visualize_accuracy(val_acc):\n",
        "    plt.plot(val_acc, color = \"green\", linewidth = 1)\n",
        "    plt.xlabel('epoch')\n",
        "    plt.ylabel('accuracy')\n",
        "    plt.title('Valid accuracy')\n",
        "\n",
        "    plt.show()\n",
        "    print(\"=\"*100)"
      ]
    },
    {
      "cell_type": "code",
      "execution_count": null,
      "metadata": {
        "id": "moV1uvFuWM40"
      },
      "outputs": [],
      "source": [
        "# Define visualize_losses function\n",
        "def visualize_losses(train_losses, val_losses):\n",
        "    plt.plot(train_losses, color = \"green\", linewidth = 1)\n",
        "    plt.plot(val_losses, color = \"purple\", linestyle = \"--\", linewidth = 1)\n",
        "    plt.xlabel('epoch')\n",
        "    plt.ylabel('losses')\n",
        "    plt.legend(['Train', 'Valid'])\n",
        "    plt.title('Train - valid losses')\n",
        " \n",
        "    plt.show()"
      ]
    },
    {
      "cell_type": "markdown",
      "metadata": {
        "id": "sMY4JpCCIcaC"
      },
      "source": [
        "### DENSENET121"
      ]
    },
    {
      "cell_type": "code",
      "execution_count": null,
      "metadata": {
        "colab": {
          "base_uri": "https://localhost:8080/"
        },
        "id": "7f7uG5UzTFJs",
        "outputId": "4d6e4628-f8f4-408c-e349-911259bbb050"
      },
      "outputs": [
        {
          "output_type": "stream",
          "name": "stderr",
          "text": [
            "Downloading: \"https://download.pytorch.org/models/densenet121-a639ec97.pth\" to /root/.cache/torch/hub/checkpoints/densenet121-a639ec97.pth\n",
            "100%|██████████| 30.8M/30.8M [00:00<00:00, 56.5MB/s]\n"
          ]
        }
      ],
      "source": [
        "# Load Densenet-121 model\n",
        "densenet121 = models.densenet121(pretrained = True)"
      ]
    },
    {
      "cell_type": "code",
      "execution_count": null,
      "metadata": {
        "colab": {
          "base_uri": "https://localhost:8080/"
        },
        "id": "14ir5VMyALtN",
        "outputId": "63a0b160-a262-448b-b324-b445f9f3d007"
      },
      "outputs": [
        {
          "output_type": "stream",
          "name": "stdout",
          "text": [
            "child  1  was frozen\n"
          ]
        }
      ],
      "source": [
        "# Freeze first layer of Densenet121\n",
        "densenet121 = freeze_layers(densenet121, 1)"
      ]
    },
    {
      "cell_type": "code",
      "execution_count": null,
      "metadata": {
        "id": "Xf1iA4uGAo34"
      },
      "outputs": [],
      "source": [
        "# Customize the final layer\n",
        "densenet121.classifier = nn.Linear(1024, 14)"
      ]
    },
    {
      "cell_type": "code",
      "execution_count": null,
      "metadata": {
        "id": "2_UqkygFJl5p"
      },
      "outputs": [],
      "source": [
        "# Define Loss function\n",
        "lossf = nn.CrossEntropyLoss()"
      ]
    },
    {
      "cell_type": "code",
      "execution_count": null,
      "metadata": {
        "colab": {
          "base_uri": "https://localhost:8080/"
        },
        "id": "A6icbx1TKQkQ",
        "outputId": "103e856d-fe45-4609-e029-1fc94a5240a5"
      },
      "outputs": [
        {
          "output_type": "stream",
          "name": "stderr",
          "text": [
            "  1%|          | 1/100 [00:11<18:36, 11.27s/it]"
          ]
        },
        {
          "output_type": "stream",
          "name": "stdout",
          "text": [
            " train_loss 2.4217; val_loss 2.1585; val_acc 0.4066\n"
          ]
        },
        {
          "output_type": "stream",
          "name": "stderr",
          "text": [
            "  2%|▏         | 2/100 [00:22<17:55, 10.97s/it]"
          ]
        },
        {
          "output_type": "stream",
          "name": "stdout",
          "text": [
            " train_loss 1.9432; val_loss 1.7585; val_acc 0.6341\n"
          ]
        },
        {
          "output_type": "stream",
          "name": "stderr",
          "text": [
            "  3%|▎         | 3/100 [00:32<17:33, 10.86s/it]"
          ]
        },
        {
          "output_type": "stream",
          "name": "stdout",
          "text": [
            " train_loss 1.5937; val_loss 1.4597; val_acc 0.7506\n"
          ]
        },
        {
          "output_type": "stream",
          "name": "stderr",
          "text": [
            "  4%|▍         | 4/100 [00:43<17:18, 10.82s/it]"
          ]
        },
        {
          "output_type": "stream",
          "name": "stdout",
          "text": [
            " train_loss 1.3337; val_loss 1.2321; val_acc 0.8166\n"
          ]
        },
        {
          "output_type": "stream",
          "name": "stderr",
          "text": [
            "  5%|▌         | 5/100 [00:54<17:05, 10.79s/it]"
          ]
        },
        {
          "output_type": "stream",
          "name": "stdout",
          "text": [
            " train_loss 1.1278; val_loss 1.0564; val_acc 0.8765\n"
          ]
        },
        {
          "output_type": "stream",
          "name": "stderr",
          "text": [
            "  6%|▌         | 6/100 [01:05<16:53, 10.79s/it]"
          ]
        },
        {
          "output_type": "stream",
          "name": "stdout",
          "text": [
            " train_loss 0.9743; val_loss 0.9286; val_acc 0.8942\n"
          ]
        },
        {
          "output_type": "stream",
          "name": "stderr",
          "text": [
            "  7%|▋         | 7/100 [01:15<16:42, 10.78s/it]"
          ]
        },
        {
          "output_type": "stream",
          "name": "stdout",
          "text": [
            " train_loss 0.8475; val_loss 0.8213; val_acc 0.9102\n"
          ]
        },
        {
          "output_type": "stream",
          "name": "stderr",
          "text": [
            "  8%|▊         | 8/100 [01:26<16:30, 10.77s/it]"
          ]
        },
        {
          "output_type": "stream",
          "name": "stdout",
          "text": [
            " train_loss 0.7558; val_loss 0.7314; val_acc 0.9289\n"
          ]
        },
        {
          "output_type": "stream",
          "name": "stderr",
          "text": [
            "  9%|▉         | 9/100 [01:37<16:19, 10.76s/it]"
          ]
        },
        {
          "output_type": "stream",
          "name": "stdout",
          "text": [
            " train_loss 0.6697; val_loss 0.6608; val_acc 0.9354\n"
          ]
        },
        {
          "output_type": "stream",
          "name": "stderr",
          "text": [
            " 10%|█         | 10/100 [01:48<16:08, 10.76s/it]"
          ]
        },
        {
          "output_type": "stream",
          "name": "stdout",
          "text": [
            " train_loss 0.6012; val_loss 0.6065; val_acc 0.9406\n"
          ]
        },
        {
          "output_type": "stream",
          "name": "stderr",
          "text": [
            " 11%|█         | 11/100 [01:58<15:57, 10.76s/it]"
          ]
        },
        {
          "output_type": "stream",
          "name": "stdout",
          "text": [
            " train_loss 0.5434; val_loss 0.5464; val_acc 0.9537\n"
          ]
        },
        {
          "output_type": "stream",
          "name": "stderr",
          "text": [
            " 12%|█▏        | 12/100 [02:09<15:47, 10.76s/it]"
          ]
        },
        {
          "output_type": "stream",
          "name": "stdout",
          "text": [
            " train_loss 0.4980; val_loss 0.5072; val_acc 0.9569\n"
          ]
        },
        {
          "output_type": "stream",
          "name": "stderr",
          "text": [
            " 13%|█▎        | 13/100 [02:20<15:36, 10.76s/it]"
          ]
        },
        {
          "output_type": "stream",
          "name": "stdout",
          "text": [
            " train_loss 0.4624; val_loss 0.4630; val_acc 0.9598\n"
          ]
        },
        {
          "output_type": "stream",
          "name": "stderr",
          "text": [
            " 14%|█▍        | 14/100 [02:31<15:25, 10.76s/it]"
          ]
        },
        {
          "output_type": "stream",
          "name": "stdout",
          "text": [
            " train_loss 0.4230; val_loss 0.4406; val_acc 0.9584\n"
          ]
        },
        {
          "output_type": "stream",
          "name": "stderr",
          "text": [
            " 15%|█▌        | 15/100 [02:41<15:14, 10.76s/it]"
          ]
        },
        {
          "output_type": "stream",
          "name": "stdout",
          "text": [
            " train_loss 0.3894; val_loss 0.4042; val_acc 0.9635\n"
          ]
        },
        {
          "output_type": "stream",
          "name": "stderr",
          "text": [
            " 16%|█▌        | 16/100 [02:52<15:03, 10.75s/it]"
          ]
        },
        {
          "output_type": "stream",
          "name": "stdout",
          "text": [
            " train_loss 0.3632; val_loss 0.3788; val_acc 0.9686\n"
          ]
        },
        {
          "output_type": "stream",
          "name": "stderr",
          "text": [
            " 17%|█▋        | 17/100 [03:03<14:52, 10.75s/it]"
          ]
        },
        {
          "output_type": "stream",
          "name": "stdout",
          "text": [
            " train_loss 0.3376; val_loss 0.3553; val_acc 0.9715\n"
          ]
        },
        {
          "output_type": "stream",
          "name": "stderr",
          "text": [
            " 18%|█▊        | 18/100 [03:14<14:41, 10.75s/it]"
          ]
        },
        {
          "output_type": "stream",
          "name": "stdout",
          "text": [
            " train_loss 0.3118; val_loss 0.3366; val_acc 0.9696\n"
          ]
        },
        {
          "output_type": "stream",
          "name": "stderr",
          "text": [
            " 19%|█▉        | 19/100 [03:24<14:30, 10.75s/it]"
          ]
        },
        {
          "output_type": "stream",
          "name": "stdout",
          "text": [
            " train_loss 0.2973; val_loss 0.3187; val_acc 0.9715\n"
          ]
        },
        {
          "output_type": "stream",
          "name": "stderr",
          "text": [
            " 20%|██        | 20/100 [03:35<14:20, 10.75s/it]"
          ]
        },
        {
          "output_type": "stream",
          "name": "stdout",
          "text": [
            " train_loss 0.2750; val_loss 0.2979; val_acc 0.9705\n"
          ]
        },
        {
          "output_type": "stream",
          "name": "stderr",
          "text": [
            " 21%|██        | 21/100 [03:46<14:09, 10.75s/it]"
          ]
        },
        {
          "output_type": "stream",
          "name": "stdout",
          "text": [
            " train_loss 0.2597; val_loss 0.2863; val_acc 0.9771\n"
          ]
        },
        {
          "output_type": "stream",
          "name": "stderr",
          "text": [
            " 22%|██▏       | 22/100 [03:57<13:58, 10.75s/it]"
          ]
        },
        {
          "output_type": "stream",
          "name": "stdout",
          "text": [
            " train_loss 0.2391; val_loss 0.2720; val_acc 0.9775\n"
          ]
        },
        {
          "output_type": "stream",
          "name": "stderr",
          "text": [
            " 23%|██▎       | 23/100 [04:07<13:47, 10.75s/it]"
          ]
        },
        {
          "output_type": "stream",
          "name": "stdout",
          "text": [
            " train_loss 0.2312; val_loss 0.2558; val_acc 0.9808\n"
          ]
        },
        {
          "output_type": "stream",
          "name": "stderr",
          "text": [
            " 24%|██▍       | 24/100 [04:18<13:37, 10.75s/it]"
          ]
        },
        {
          "output_type": "stream",
          "name": "stdout",
          "text": [
            " train_loss 0.2149; val_loss 0.2417; val_acc 0.9799\n"
          ]
        },
        {
          "output_type": "stream",
          "name": "stderr",
          "text": [
            " 25%|██▌       | 25/100 [04:29<13:26, 10.75s/it]"
          ]
        },
        {
          "output_type": "stream",
          "name": "stdout",
          "text": [
            " train_loss 0.2067; val_loss 0.2337; val_acc 0.9771\n"
          ]
        },
        {
          "output_type": "stream",
          "name": "stderr",
          "text": [
            " 26%|██▌       | 26/100 [04:40<13:16, 10.76s/it]"
          ]
        },
        {
          "output_type": "stream",
          "name": "stdout",
          "text": [
            " train_loss 0.1970; val_loss 0.2239; val_acc 0.9827\n"
          ]
        },
        {
          "output_type": "stream",
          "name": "stderr",
          "text": [
            " 27%|██▋       | 27/100 [04:50<13:05, 10.75s/it]"
          ]
        },
        {
          "output_type": "stream",
          "name": "stdout",
          "text": [
            " train_loss 0.1881; val_loss 0.2148; val_acc 0.9803\n"
          ]
        },
        {
          "output_type": "stream",
          "name": "stderr",
          "text": [
            " 28%|██▊       | 28/100 [05:01<12:54, 10.75s/it]"
          ]
        },
        {
          "output_type": "stream",
          "name": "stdout",
          "text": [
            " train_loss 0.1758; val_loss 0.2064; val_acc 0.9818\n"
          ]
        },
        {
          "output_type": "stream",
          "name": "stderr",
          "text": [
            " 29%|██▉       | 29/100 [05:12<12:43, 10.75s/it]"
          ]
        },
        {
          "output_type": "stream",
          "name": "stdout",
          "text": [
            " train_loss 0.1647; val_loss 0.1932; val_acc 0.9822\n"
          ]
        },
        {
          "output_type": "stream",
          "name": "stderr",
          "text": [
            " 30%|███       | 30/100 [05:23<12:32, 10.75s/it]"
          ]
        },
        {
          "output_type": "stream",
          "name": "stdout",
          "text": [
            " train_loss 0.1634; val_loss 0.1904; val_acc 0.9799\n"
          ]
        },
        {
          "output_type": "stream",
          "name": "stderr",
          "text": [
            " 31%|███       | 31/100 [05:33<12:22, 10.76s/it]"
          ]
        },
        {
          "output_type": "stream",
          "name": "stdout",
          "text": [
            " train_loss 0.1526; val_loss 0.1815; val_acc 0.9818\n"
          ]
        },
        {
          "output_type": "stream",
          "name": "stderr",
          "text": [
            " 32%|███▏      | 32/100 [05:44<12:11, 10.75s/it]"
          ]
        },
        {
          "output_type": "stream",
          "name": "stdout",
          "text": [
            " train_loss 0.1433; val_loss 0.1755; val_acc 0.9832\n"
          ]
        },
        {
          "output_type": "stream",
          "name": "stderr",
          "text": [
            " 33%|███▎      | 33/100 [05:55<12:00, 10.75s/it]"
          ]
        },
        {
          "output_type": "stream",
          "name": "stdout",
          "text": [
            " train_loss 0.1397; val_loss 0.1674; val_acc 0.9832\n"
          ]
        },
        {
          "output_type": "stream",
          "name": "stderr",
          "text": [
            " 34%|███▍      | 34/100 [06:06<11:49, 10.75s/it]"
          ]
        },
        {
          "output_type": "stream",
          "name": "stdout",
          "text": [
            " train_loss 0.1327; val_loss 0.1598; val_acc 0.9850\n"
          ]
        },
        {
          "output_type": "stream",
          "name": "stderr",
          "text": [
            " 35%|███▌      | 35/100 [06:16<11:38, 10.75s/it]"
          ]
        },
        {
          "output_type": "stream",
          "name": "stdout",
          "text": [
            " train_loss 0.1280; val_loss 0.1564; val_acc 0.9878\n"
          ]
        },
        {
          "output_type": "stream",
          "name": "stderr",
          "text": [
            " 36%|███▌      | 36/100 [06:27<11:28, 10.75s/it]"
          ]
        },
        {
          "output_type": "stream",
          "name": "stdout",
          "text": [
            " train_loss 0.1201; val_loss 0.1476; val_acc 0.9850\n"
          ]
        },
        {
          "output_type": "stream",
          "name": "stderr",
          "text": [
            " 37%|███▋      | 37/100 [06:38<11:17, 10.75s/it]"
          ]
        },
        {
          "output_type": "stream",
          "name": "stdout",
          "text": [
            " train_loss 0.1206; val_loss 0.1470; val_acc 0.9864\n"
          ]
        },
        {
          "output_type": "stream",
          "name": "stderr",
          "text": [
            " 38%|███▊      | 38/100 [06:49<11:06, 10.75s/it]"
          ]
        },
        {
          "output_type": "stream",
          "name": "stdout",
          "text": [
            " train_loss 0.1133; val_loss 0.1385; val_acc 0.9860\n"
          ]
        },
        {
          "output_type": "stream",
          "name": "stderr",
          "text": [
            " 39%|███▉      | 39/100 [06:59<10:55, 10.75s/it]"
          ]
        },
        {
          "output_type": "stream",
          "name": "stdout",
          "text": [
            " train_loss 0.1106; val_loss 0.1337; val_acc 0.9888\n"
          ]
        },
        {
          "output_type": "stream",
          "name": "stderr",
          "text": [
            " 40%|████      | 40/100 [07:10<10:45, 10.75s/it]"
          ]
        },
        {
          "output_type": "stream",
          "name": "stdout",
          "text": [
            " train_loss 0.1044; val_loss 0.1248; val_acc 0.9869\n"
          ]
        },
        {
          "output_type": "stream",
          "name": "stderr",
          "text": [
            " 41%|████      | 41/100 [07:21<10:34, 10.75s/it]"
          ]
        },
        {
          "output_type": "stream",
          "name": "stdout",
          "text": [
            " train_loss 0.0990; val_loss 0.1227; val_acc 0.9897\n"
          ]
        },
        {
          "output_type": "stream",
          "name": "stderr",
          "text": [
            " 42%|████▏     | 42/100 [07:32<10:23, 10.75s/it]"
          ]
        },
        {
          "output_type": "stream",
          "name": "stdout",
          "text": [
            " train_loss 0.0963; val_loss 0.1276; val_acc 0.9878\n"
          ]
        },
        {
          "output_type": "stream",
          "name": "stderr",
          "text": [
            " 43%|████▎     | 43/100 [07:42<10:12, 10.75s/it]"
          ]
        },
        {
          "output_type": "stream",
          "name": "stdout",
          "text": [
            " train_loss 0.0917; val_loss 0.1211; val_acc 0.9878\n"
          ]
        },
        {
          "output_type": "stream",
          "name": "stderr",
          "text": [
            " 44%|████▍     | 44/100 [07:53<10:01, 10.75s/it]"
          ]
        },
        {
          "output_type": "stream",
          "name": "stdout",
          "text": [
            " train_loss 0.0881; val_loss 0.1174; val_acc 0.9897\n"
          ]
        },
        {
          "output_type": "stream",
          "name": "stderr",
          "text": [
            " 45%|████▌     | 45/100 [08:04<09:51, 10.75s/it]"
          ]
        },
        {
          "output_type": "stream",
          "name": "stdout",
          "text": [
            " train_loss 0.0836; val_loss 0.1149; val_acc 0.9878\n"
          ]
        },
        {
          "output_type": "stream",
          "name": "stderr",
          "text": [
            " 46%|████▌     | 46/100 [08:15<09:40, 10.75s/it]"
          ]
        },
        {
          "output_type": "stream",
          "name": "stdout",
          "text": [
            " train_loss 0.0814; val_loss 0.1094; val_acc 0.9892\n"
          ]
        },
        {
          "output_type": "stream",
          "name": "stderr",
          "text": [
            " 47%|████▋     | 47/100 [08:25<09:29, 10.74s/it]"
          ]
        },
        {
          "output_type": "stream",
          "name": "stdout",
          "text": [
            " train_loss 0.0789; val_loss 0.1065; val_acc 0.9920\n"
          ]
        },
        {
          "output_type": "stream",
          "name": "stderr",
          "text": [
            " 48%|████▊     | 48/100 [08:36<09:18, 10.75s/it]"
          ]
        },
        {
          "output_type": "stream",
          "name": "stdout",
          "text": [
            " train_loss 0.0775; val_loss 0.1063; val_acc 0.9874\n"
          ]
        },
        {
          "output_type": "stream",
          "name": "stderr",
          "text": [
            " 49%|████▉     | 49/100 [08:47<09:08, 10.75s/it]"
          ]
        },
        {
          "output_type": "stream",
          "name": "stdout",
          "text": [
            " train_loss 0.0734; val_loss 0.1010; val_acc 0.9920\n"
          ]
        },
        {
          "output_type": "stream",
          "name": "stderr",
          "text": [
            " 50%|█████     | 50/100 [08:58<08:57, 10.75s/it]"
          ]
        },
        {
          "output_type": "stream",
          "name": "stdout",
          "text": [
            " train_loss 0.0707; val_loss 0.0988; val_acc 0.9906\n"
          ]
        },
        {
          "output_type": "stream",
          "name": "stderr",
          "text": [
            " 51%|█████     | 51/100 [09:08<08:47, 10.76s/it]"
          ]
        },
        {
          "output_type": "stream",
          "name": "stdout",
          "text": [
            " train_loss 0.0672; val_loss 0.0915; val_acc 0.9902\n"
          ]
        },
        {
          "output_type": "stream",
          "name": "stderr",
          "text": [
            " 52%|█████▏    | 52/100 [09:19<08:36, 10.75s/it]"
          ]
        },
        {
          "output_type": "stream",
          "name": "stdout",
          "text": [
            " train_loss 0.0630; val_loss 0.0924; val_acc 0.9925\n"
          ]
        },
        {
          "output_type": "stream",
          "name": "stderr",
          "text": [
            " 53%|█████▎    | 53/100 [09:30<08:25, 10.75s/it]"
          ]
        },
        {
          "output_type": "stream",
          "name": "stdout",
          "text": [
            " train_loss 0.0644; val_loss 0.0901; val_acc 0.9902\n"
          ]
        },
        {
          "output_type": "stream",
          "name": "stderr",
          "text": [
            " 54%|█████▍    | 54/100 [09:41<08:14, 10.74s/it]"
          ]
        },
        {
          "output_type": "stream",
          "name": "stdout",
          "text": [
            " train_loss 0.0619; val_loss 0.0863; val_acc 0.9916\n"
          ]
        },
        {
          "output_type": "stream",
          "name": "stderr",
          "text": [
            " 55%|█████▌    | 55/100 [09:51<08:03, 10.75s/it]"
          ]
        },
        {
          "output_type": "stream",
          "name": "stdout",
          "text": [
            " train_loss 0.0578; val_loss 0.0854; val_acc 0.9925\n"
          ]
        },
        {
          "output_type": "stream",
          "name": "stderr",
          "text": [
            " 56%|█████▌    | 56/100 [10:02<07:52, 10.74s/it]"
          ]
        },
        {
          "output_type": "stream",
          "name": "stdout",
          "text": [
            " train_loss 0.0603; val_loss 0.0858; val_acc 0.9920\n"
          ]
        },
        {
          "output_type": "stream",
          "name": "stderr",
          "text": [
            " 57%|█████▋    | 57/100 [10:13<07:42, 10.75s/it]"
          ]
        },
        {
          "output_type": "stream",
          "name": "stdout",
          "text": [
            " train_loss 0.0554; val_loss 0.0807; val_acc 0.9925\n"
          ]
        },
        {
          "output_type": "stream",
          "name": "stderr",
          "text": [
            " 58%|█████▊    | 58/100 [10:24<07:31, 10.75s/it]"
          ]
        },
        {
          "output_type": "stream",
          "name": "stdout",
          "text": [
            " train_loss 0.0544; val_loss 0.0819; val_acc 0.9916\n"
          ]
        },
        {
          "output_type": "stream",
          "name": "stderr",
          "text": [
            " 59%|█████▉    | 59/100 [10:34<07:20, 10.74s/it]"
          ]
        },
        {
          "output_type": "stream",
          "name": "stdout",
          "text": [
            " train_loss 0.0526; val_loss 0.0778; val_acc 0.9920\n"
          ]
        },
        {
          "output_type": "stream",
          "name": "stderr",
          "text": [
            " 60%|██████    | 60/100 [10:45<07:09, 10.75s/it]"
          ]
        },
        {
          "output_type": "stream",
          "name": "stdout",
          "text": [
            " train_loss 0.0502; val_loss 0.0751; val_acc 0.9925\n"
          ]
        },
        {
          "output_type": "stream",
          "name": "stderr",
          "text": [
            " 61%|██████    | 61/100 [10:56<06:58, 10.74s/it]"
          ]
        },
        {
          "output_type": "stream",
          "name": "stdout",
          "text": [
            " train_loss 0.0483; val_loss 0.0779; val_acc 0.9906\n"
          ]
        },
        {
          "output_type": "stream",
          "name": "stderr",
          "text": [
            " 62%|██████▏   | 62/100 [11:07<06:48, 10.75s/it]"
          ]
        },
        {
          "output_type": "stream",
          "name": "stdout",
          "text": [
            " train_loss 0.0477; val_loss 0.0712; val_acc 0.9916\n"
          ]
        },
        {
          "output_type": "stream",
          "name": "stderr",
          "text": [
            " 63%|██████▎   | 63/100 [11:17<06:37, 10.75s/it]"
          ]
        },
        {
          "output_type": "stream",
          "name": "stdout",
          "text": [
            " train_loss 0.0454; val_loss 0.0709; val_acc 0.9934\n"
          ]
        },
        {
          "output_type": "stream",
          "name": "stderr",
          "text": [
            " 64%|██████▍   | 64/100 [11:28<06:27, 10.75s/it]"
          ]
        },
        {
          "output_type": "stream",
          "name": "stdout",
          "text": [
            " train_loss 0.0425; val_loss 0.0715; val_acc 0.9911\n"
          ]
        },
        {
          "output_type": "stream",
          "name": "stderr",
          "text": [
            " 65%|██████▌   | 65/100 [11:39<06:16, 10.75s/it]"
          ]
        },
        {
          "output_type": "stream",
          "name": "stdout",
          "text": [
            " train_loss 0.0433; val_loss 0.0658; val_acc 0.9939\n"
          ]
        },
        {
          "output_type": "stream",
          "name": "stderr",
          "text": [
            " 66%|██████▌   | 66/100 [11:50<06:05, 10.76s/it]"
          ]
        },
        {
          "output_type": "stream",
          "name": "stdout",
          "text": [
            " train_loss 0.0407; val_loss 0.0637; val_acc 0.9944\n"
          ]
        },
        {
          "output_type": "stream",
          "name": "stderr",
          "text": [
            " 67%|██████▋   | 67/100 [12:00<05:54, 10.75s/it]"
          ]
        },
        {
          "output_type": "stream",
          "name": "stdout",
          "text": [
            " train_loss 0.0407; val_loss 0.0653; val_acc 0.9892\n"
          ]
        },
        {
          "output_type": "stream",
          "name": "stderr",
          "text": [
            " 68%|██████▊   | 68/100 [12:11<05:44, 10.75s/it]"
          ]
        },
        {
          "output_type": "stream",
          "name": "stdout",
          "text": [
            " train_loss 0.0390; val_loss 0.0630; val_acc 0.9925\n"
          ]
        },
        {
          "output_type": "stream",
          "name": "stderr",
          "text": [
            " 69%|██████▉   | 69/100 [12:22<05:33, 10.76s/it]"
          ]
        },
        {
          "output_type": "stream",
          "name": "stdout",
          "text": [
            " train_loss 0.0404; val_loss 0.0639; val_acc 0.9911\n"
          ]
        },
        {
          "output_type": "stream",
          "name": "stderr",
          "text": [
            " 70%|███████   | 70/100 [12:33<05:22, 10.75s/it]"
          ]
        },
        {
          "output_type": "stream",
          "name": "stdout",
          "text": [
            " train_loss 0.0382; val_loss 0.0607; val_acc 0.9911\n"
          ]
        },
        {
          "output_type": "stream",
          "name": "stderr",
          "text": [
            " 71%|███████   | 71/100 [12:43<05:11, 10.75s/it]"
          ]
        },
        {
          "output_type": "stream",
          "name": "stdout",
          "text": [
            " train_loss 0.0368; val_loss 0.0587; val_acc 0.9949\n"
          ]
        },
        {
          "output_type": "stream",
          "name": "stderr",
          "text": [
            " 72%|███████▏  | 72/100 [12:54<05:01, 10.75s/it]"
          ]
        },
        {
          "output_type": "stream",
          "name": "stdout",
          "text": [
            " train_loss 0.0339; val_loss 0.0586; val_acc 0.9949\n"
          ]
        },
        {
          "output_type": "stream",
          "name": "stderr",
          "text": [
            " 73%|███████▎  | 73/100 [13:05<04:50, 10.75s/it]"
          ]
        },
        {
          "output_type": "stream",
          "name": "stdout",
          "text": [
            " train_loss 0.0340; val_loss 0.0623; val_acc 0.9925\n"
          ]
        },
        {
          "output_type": "stream",
          "name": "stderr",
          "text": [
            " 74%|███████▍  | 74/100 [13:16<04:39, 10.75s/it]"
          ]
        },
        {
          "output_type": "stream",
          "name": "stdout",
          "text": [
            " train_loss 0.0324; val_loss 0.0622; val_acc 0.9925\n"
          ]
        },
        {
          "output_type": "stream",
          "name": "stderr",
          "text": [
            " 75%|███████▌  | 75/100 [13:26<04:28, 10.76s/it]"
          ]
        },
        {
          "output_type": "stream",
          "name": "stdout",
          "text": [
            " train_loss 0.0336; val_loss 0.0562; val_acc 0.9930\n"
          ]
        },
        {
          "output_type": "stream",
          "name": "stderr",
          "text": [
            " 76%|███████▌  | 76/100 [13:37<04:18, 10.76s/it]"
          ]
        },
        {
          "output_type": "stream",
          "name": "stdout",
          "text": [
            " train_loss 0.0309; val_loss 0.0547; val_acc 0.9939\n"
          ]
        },
        {
          "output_type": "stream",
          "name": "stderr",
          "text": [
            " 77%|███████▋  | 77/100 [13:48<04:07, 10.75s/it]"
          ]
        },
        {
          "output_type": "stream",
          "name": "stdout",
          "text": [
            " train_loss 0.0311; val_loss 0.0544; val_acc 0.9920\n"
          ]
        },
        {
          "output_type": "stream",
          "name": "stderr",
          "text": [
            " 78%|███████▊  | 78/100 [13:59<03:56, 10.75s/it]"
          ]
        },
        {
          "output_type": "stream",
          "name": "stdout",
          "text": [
            " train_loss 0.0305; val_loss 0.0514; val_acc 0.9939\n"
          ]
        },
        {
          "output_type": "stream",
          "name": "stderr",
          "text": [
            " 79%|███████▉  | 79/100 [14:09<03:45, 10.75s/it]"
          ]
        },
        {
          "output_type": "stream",
          "name": "stdout",
          "text": [
            " train_loss 0.0298; val_loss 0.0517; val_acc 0.9934\n"
          ]
        },
        {
          "output_type": "stream",
          "name": "stderr",
          "text": [
            " 80%|████████  | 80/100 [14:20<03:34, 10.75s/it]"
          ]
        },
        {
          "output_type": "stream",
          "name": "stdout",
          "text": [
            " train_loss 0.0282; val_loss 0.0508; val_acc 0.9944\n"
          ]
        },
        {
          "output_type": "stream",
          "name": "stderr",
          "text": [
            " 81%|████████  | 81/100 [14:31<03:24, 10.74s/it]"
          ]
        },
        {
          "output_type": "stream",
          "name": "stdout",
          "text": [
            " train_loss 0.0283; val_loss 0.0478; val_acc 0.9949\n"
          ]
        },
        {
          "output_type": "stream",
          "name": "stderr",
          "text": [
            " 82%|████████▏ | 82/100 [14:42<03:13, 10.75s/it]"
          ]
        },
        {
          "output_type": "stream",
          "name": "stdout",
          "text": [
            " train_loss 0.0260; val_loss 0.0512; val_acc 0.9920\n"
          ]
        },
        {
          "output_type": "stream",
          "name": "stderr",
          "text": [
            " 83%|████████▎ | 83/100 [14:52<03:02, 10.75s/it]"
          ]
        },
        {
          "output_type": "stream",
          "name": "stdout",
          "text": [
            " train_loss 0.0256; val_loss 0.0477; val_acc 0.9934\n"
          ]
        },
        {
          "output_type": "stream",
          "name": "stderr",
          "text": [
            " 84%|████████▍ | 84/100 [15:03<02:51, 10.75s/it]"
          ]
        },
        {
          "output_type": "stream",
          "name": "stdout",
          "text": [
            " train_loss 0.0234; val_loss 0.0461; val_acc 0.9944\n"
          ]
        },
        {
          "output_type": "stream",
          "name": "stderr",
          "text": [
            " 85%|████████▌ | 85/100 [15:14<02:41, 10.75s/it]"
          ]
        },
        {
          "output_type": "stream",
          "name": "stdout",
          "text": [
            " train_loss 0.0244; val_loss 0.0461; val_acc 0.9958\n"
          ]
        },
        {
          "output_type": "stream",
          "name": "stderr",
          "text": [
            " 86%|████████▌ | 86/100 [15:25<02:30, 10.74s/it]"
          ]
        },
        {
          "output_type": "stream",
          "name": "stdout",
          "text": [
            " train_loss 0.0249; val_loss 0.0464; val_acc 0.9953\n"
          ]
        },
        {
          "output_type": "stream",
          "name": "stderr",
          "text": [
            " 87%|████████▋ | 87/100 [15:35<02:19, 10.75s/it]"
          ]
        },
        {
          "output_type": "stream",
          "name": "stdout",
          "text": [
            " train_loss 0.0237; val_loss 0.0450; val_acc 0.9949\n"
          ]
        },
        {
          "output_type": "stream",
          "name": "stderr",
          "text": [
            " 88%|████████▊ | 88/100 [15:46<02:08, 10.75s/it]"
          ]
        },
        {
          "output_type": "stream",
          "name": "stdout",
          "text": [
            " train_loss 0.0221; val_loss 0.0428; val_acc 0.9934\n"
          ]
        },
        {
          "output_type": "stream",
          "name": "stderr",
          "text": [
            " 89%|████████▉ | 89/100 [15:57<01:58, 10.74s/it]"
          ]
        },
        {
          "output_type": "stream",
          "name": "stdout",
          "text": [
            " train_loss 0.0237; val_loss 0.0432; val_acc 0.9944\n"
          ]
        },
        {
          "output_type": "stream",
          "name": "stderr",
          "text": [
            " 90%|█████████ | 90/100 [16:08<01:47, 10.74s/it]"
          ]
        },
        {
          "output_type": "stream",
          "name": "stdout",
          "text": [
            " train_loss 0.0221; val_loss 0.0464; val_acc 0.9939\n"
          ]
        },
        {
          "output_type": "stream",
          "name": "stderr",
          "text": [
            " 91%|█████████ | 91/100 [16:18<01:36, 10.74s/it]"
          ]
        },
        {
          "output_type": "stream",
          "name": "stdout",
          "text": [
            " train_loss 0.0206; val_loss 0.0433; val_acc 0.9944\n"
          ]
        },
        {
          "output_type": "stream",
          "name": "stderr",
          "text": [
            " 92%|█████████▏| 92/100 [16:29<01:25, 10.74s/it]"
          ]
        },
        {
          "output_type": "stream",
          "name": "stdout",
          "text": [
            " train_loss 0.0212; val_loss 0.0430; val_acc 0.9944\n"
          ]
        },
        {
          "output_type": "stream",
          "name": "stderr",
          "text": [
            " 93%|█████████▎| 93/100 [16:40<01:15, 10.74s/it]"
          ]
        },
        {
          "output_type": "stream",
          "name": "stdout",
          "text": [
            " train_loss 0.0196; val_loss 0.0406; val_acc 0.9939\n"
          ]
        },
        {
          "output_type": "stream",
          "name": "stderr",
          "text": [
            " 94%|█████████▍| 94/100 [16:51<01:04, 10.74s/it]"
          ]
        },
        {
          "output_type": "stream",
          "name": "stdout",
          "text": [
            " train_loss 0.0192; val_loss 0.0401; val_acc 0.9930\n"
          ]
        },
        {
          "output_type": "stream",
          "name": "stderr",
          "text": [
            " 95%|█████████▌| 95/100 [17:01<00:53, 10.74s/it]"
          ]
        },
        {
          "output_type": "stream",
          "name": "stdout",
          "text": [
            " train_loss 0.0187; val_loss 0.0437; val_acc 0.9944\n"
          ]
        },
        {
          "output_type": "stream",
          "name": "stderr",
          "text": [
            " 96%|█████████▌| 96/100 [17:12<00:42, 10.75s/it]"
          ]
        },
        {
          "output_type": "stream",
          "name": "stdout",
          "text": [
            " train_loss 0.0176; val_loss 0.0380; val_acc 0.9958\n"
          ]
        },
        {
          "output_type": "stream",
          "name": "stderr",
          "text": [
            " 97%|█████████▋| 97/100 [17:23<00:32, 10.74s/it]"
          ]
        },
        {
          "output_type": "stream",
          "name": "stdout",
          "text": [
            " train_loss 0.0171; val_loss 0.0369; val_acc 0.9934\n"
          ]
        },
        {
          "output_type": "stream",
          "name": "stderr",
          "text": [
            " 98%|█████████▊| 98/100 [17:34<00:21, 10.75s/it]"
          ]
        },
        {
          "output_type": "stream",
          "name": "stdout",
          "text": [
            " train_loss 0.0175; val_loss 0.0396; val_acc 0.9939\n"
          ]
        },
        {
          "output_type": "stream",
          "name": "stderr",
          "text": [
            " 99%|█████████▉| 99/100 [17:44<00:10, 10.75s/it]"
          ]
        },
        {
          "output_type": "stream",
          "name": "stdout",
          "text": [
            " train_loss 0.0165; val_loss 0.0408; val_acc 0.9949\n"
          ]
        },
        {
          "output_type": "stream",
          "name": "stderr",
          "text": [
            "100%|██████████| 100/100 [17:55<00:00, 10.76s/it]"
          ]
        },
        {
          "output_type": "stream",
          "name": "stdout",
          "text": [
            " train_loss 0.0165; val_loss 0.0394; val_acc 0.9949\n"
          ]
        },
        {
          "output_type": "stream",
          "name": "stderr",
          "text": [
            "\n"
          ]
        }
      ],
      "source": [
        "lr = 1e-4\n",
        "epochs = 100\n",
        "model, train_losses, val_losses, val_acc = train(densenet121, train_loader, val_loader, lr = lr, epochs = epochs)"
      ]
    },
    {
      "cell_type": "code",
      "execution_count": null,
      "metadata": {
        "colab": {
          "base_uri": "https://localhost:8080/",
          "height": 944
        },
        "id": "4XVI1FFTKQzU",
        "outputId": "021f002f-6c1e-4cb3-e981-c4ebb2eb069b"
      },
      "outputs": [
        {
          "output_type": "display_data",
          "data": {
            "text/plain": [
              "<Figure size 640x480 with 1 Axes>"
            ],
            "image/png": "[encoded data removed]"
          },
          "metadata": {}
        },
        {
          "output_type": "stream",
          "name": "stdout",
          "text": [
            "====================================================================================================\n"
          ]
        },
        {
          "output_type": "display_data",
          "data": {
            "text/plain": [
              "<Figure size 640x480 with 1 Axes>"
            ],
            "image/png": "[encoded data removed]"
          },
          "metadata": {}
        }
      ],
      "source": [
        "visualize_accuracy(val_acc)\n",
        "visualize_losses(train_losses, val_losses)"
      ]
    },
    {
      "cell_type": "markdown",
      "metadata": {
        "id": "FCQ1He6QAiJU"
      },
      "source": [
        "###RESNET50"
      ]
    },
    {
      "cell_type": "code",
      "execution_count": null,
      "metadata": {
        "id": "5b5EWFPQxhEO",
        "colab": {
          "base_uri": "https://localhost:8080/"
        },
        "outputId": "792b79e5-3dfb-4cf4-a9f6-8d37b27ea7e0"
      },
      "outputs": [
        {
          "output_type": "stream",
          "name": "stderr",
          "text": [
            "Downloading: \"https://download.pytorch.org/models/resnet50-0676ba61.pth\" to /root/.cache/torch/hub/checkpoints/resnet50-0676ba61.pth\n",
            "100%|██████████| 97.8M/97.8M [00:00<00:00, 228MB/s]\n"
          ]
        }
      ],
      "source": [
        "# Load Resnet50 model\n",
        "resnet = models.resnet50(pretrained = True)"
      ]
    },
    {
      "cell_type": "code",
      "execution_count": null,
      "metadata": {
        "colab": {
          "base_uri": "https://localhost:8080/"
        },
        "id": "QPne2mSviTt4",
        "outputId": "c429a332-7ae4-4d95-e92c-dec4e704f53b"
      },
      "outputs": [
        {
          "output_type": "stream",
          "name": "stdout",
          "text": [
            "child  1  was frozen\n",
            "child  2  was frozen\n",
            "child  3  was frozen\n",
            "child  4  was frozen\n",
            "child  5  was frozen\n",
            "child  6  was frozen\n"
          ]
        }
      ],
      "source": [
        "# Freeze layer 1-6 of Resnet50\n",
        "resnet = freeze_layers(resnet, 6)"
      ]
    },
    {
      "cell_type": "code",
      "execution_count": null,
      "metadata": {
        "id": "hVjv_n2yypbO"
      },
      "outputs": [],
      "source": [
        "# Customize the final layer of Resnet50\n",
        "resnet.fc = nn.Sequential(\n",
        "    nn.Linear(2048, 1024),\n",
        "    nn.LeakyReLU(),\n",
        "    nn.Linear(1024, 256),\n",
        "    nn.LeakyReLU(),\n",
        "    nn.Dropout(0.4),\n",
        "    nn.Linear(256, 14),\n",
        "    nn.LogSoftmax(dim = 1)\n",
        ")"
      ]
    },
    {
      "cell_type": "code",
      "execution_count": null,
      "metadata": {
        "id": "ZTqBAIGW4Czo"
      },
      "outputs": [],
      "source": [
        "# Define Loss function\n",
        "lossf = nn.NLLLoss()"
      ]
    },
    {
      "cell_type": "code",
      "execution_count": null,
      "metadata": {
        "id": "K4sb9l3xGIob",
        "colab": {
          "base_uri": "https://localhost:8080/"
        },
        "outputId": "9d103897-81a7-48c1-e1e7-a81926948da5"
      },
      "outputs": [
        {
          "output_type": "stream",
          "name": "stderr",
          "text": [
            "  1%|          | 1/100 [00:17<29:32, 17.90s/it]"
          ]
        },
        {
          "output_type": "stream",
          "name": "stdout",
          "text": [
            " train_loss 2.3408; val_loss 1.9016; val_acc 0.4909\n"
          ]
        },
        {
          "output_type": "stream",
          "name": "stderr",
          "text": [
            "  2%|▏         | 2/100 [00:35<28:31, 17.46s/it]"
          ]
        },
        {
          "output_type": "stream",
          "name": "stdout",
          "text": [
            " train_loss 1.3977; val_loss 0.9174; val_acc 0.8582\n"
          ]
        },
        {
          "output_type": "stream",
          "name": "stderr",
          "text": [
            "  3%|▎         | 3/100 [00:52<28:00, 17.32s/it]"
          ]
        },
        {
          "output_type": "stream",
          "name": "stdout",
          "text": [
            " train_loss 0.5678; val_loss 0.2944; val_acc 0.9724\n"
          ]
        },
        {
          "output_type": "stream",
          "name": "stderr",
          "text": [
            "  4%|▍         | 4/100 [01:09<27:35, 17.24s/it]"
          ]
        },
        {
          "output_type": "stream",
          "name": "stdout",
          "text": [
            " train_loss 0.1874; val_loss 0.1182; val_acc 0.9930\n"
          ]
        },
        {
          "output_type": "stream",
          "name": "stderr",
          "text": [
            "  5%|▌         | 5/100 [01:26<27:13, 17.19s/it]"
          ]
        },
        {
          "output_type": "stream",
          "name": "stdout",
          "text": [
            " train_loss 0.0738; val_loss 0.0601; val_acc 0.9972\n"
          ]
        },
        {
          "output_type": "stream",
          "name": "stderr",
          "text": [
            "  6%|▌         | 6/100 [01:43<26:53, 17.17s/it]"
          ]
        },
        {
          "output_type": "stream",
          "name": "stdout",
          "text": [
            " train_loss 0.0387; val_loss 0.0352; val_acc 0.9995\n"
          ]
        },
        {
          "output_type": "stream",
          "name": "stderr",
          "text": [
            "  7%|▋         | 7/100 [02:00<26:35, 17.16s/it]"
          ]
        },
        {
          "output_type": "stream",
          "name": "stdout",
          "text": [
            " train_loss 0.0241; val_loss 0.0257; val_acc 0.9995\n"
          ]
        },
        {
          "output_type": "stream",
          "name": "stderr",
          "text": [
            "  8%|▊         | 8/100 [02:17<26:19, 17.17s/it]"
          ]
        },
        {
          "output_type": "stream",
          "name": "stdout",
          "text": [
            " train_loss 0.0170; val_loss 0.0229; val_acc 0.9977\n"
          ]
        },
        {
          "output_type": "stream",
          "name": "stderr",
          "text": [
            "  9%|▉         | 9/100 [02:35<26:01, 17.16s/it]"
          ]
        },
        {
          "output_type": "stream",
          "name": "stdout",
          "text": [
            " train_loss 0.0140; val_loss 0.0166; val_acc 0.9991\n"
          ]
        },
        {
          "output_type": "stream",
          "name": "stderr",
          "text": [
            " 10%|█         | 10/100 [02:52<25:43, 17.15s/it]"
          ]
        },
        {
          "output_type": "stream",
          "name": "stdout",
          "text": [
            " train_loss 0.0105; val_loss 0.0113; val_acc 0.9995\n"
          ]
        },
        {
          "output_type": "stream",
          "name": "stderr",
          "text": [
            " 11%|█         | 11/100 [03:09<25:26, 17.16s/it]"
          ]
        },
        {
          "output_type": "stream",
          "name": "stdout",
          "text": [
            " train_loss 0.0077; val_loss 0.0118; val_acc 0.9986\n"
          ]
        },
        {
          "output_type": "stream",
          "name": "stderr",
          "text": [
            " 12%|█▏        | 12/100 [03:26<25:08, 17.14s/it]"
          ]
        },
        {
          "output_type": "stream",
          "name": "stdout",
          "text": [
            " train_loss 0.0063; val_loss 0.0124; val_acc 0.9991\n"
          ]
        },
        {
          "output_type": "stream",
          "name": "stderr",
          "text": [
            " 13%|█▎        | 13/100 [03:43<24:51, 17.14s/it]"
          ]
        },
        {
          "output_type": "stream",
          "name": "stdout",
          "text": [
            " train_loss 0.0051; val_loss 0.0086; val_acc 0.9991\n"
          ]
        },
        {
          "output_type": "stream",
          "name": "stderr",
          "text": [
            " 14%|█▍        | 14/100 [04:00<24:34, 17.14s/it]"
          ]
        },
        {
          "output_type": "stream",
          "name": "stdout",
          "text": [
            " train_loss 0.0057; val_loss 0.0102; val_acc 0.9981\n"
          ]
        },
        {
          "output_type": "stream",
          "name": "stderr",
          "text": [
            " 15%|█▌        | 15/100 [04:17<24:17, 17.15s/it]"
          ]
        },
        {
          "output_type": "stream",
          "name": "stdout",
          "text": [
            " train_loss 0.0054; val_loss 0.0123; val_acc 0.9972\n"
          ]
        },
        {
          "output_type": "stream",
          "name": "stderr",
          "text": [
            " 16%|█▌        | 16/100 [04:35<24:00, 17.15s/it]"
          ]
        },
        {
          "output_type": "stream",
          "name": "stdout",
          "text": [
            " train_loss 0.0039; val_loss 0.0061; val_acc 0.9991\n"
          ]
        },
        {
          "output_type": "stream",
          "name": "stderr",
          "text": [
            " 17%|█▋        | 17/100 [04:52<23:43, 17.15s/it]"
          ]
        },
        {
          "output_type": "stream",
          "name": "stdout",
          "text": [
            " train_loss 0.0030; val_loss 0.0078; val_acc 0.9986\n"
          ]
        },
        {
          "output_type": "stream",
          "name": "stderr",
          "text": [
            " 18%|█▊        | 18/100 [05:09<23:26, 17.15s/it]"
          ]
        },
        {
          "output_type": "stream",
          "name": "stdout",
          "text": [
            " train_loss 0.0028; val_loss 0.0041; val_acc 0.9995\n"
          ]
        },
        {
          "output_type": "stream",
          "name": "stderr",
          "text": [
            " 19%|█▉        | 19/100 [05:26<23:10, 17.16s/it]"
          ]
        },
        {
          "output_type": "stream",
          "name": "stdout",
          "text": [
            " train_loss 0.0021; val_loss 0.0071; val_acc 0.9991\n"
          ]
        },
        {
          "output_type": "stream",
          "name": "stderr",
          "text": [
            " 20%|██        | 20/100 [05:43<22:52, 17.15s/it]"
          ]
        },
        {
          "output_type": "stream",
          "name": "stdout",
          "text": [
            " train_loss 0.0018; val_loss 0.0061; val_acc 0.9991\n"
          ]
        },
        {
          "output_type": "stream",
          "name": "stderr",
          "text": [
            " 21%|██        | 21/100 [06:00<22:35, 17.16s/it]"
          ]
        },
        {
          "output_type": "stream",
          "name": "stdout",
          "text": [
            " train_loss 0.0019; val_loss 0.0049; val_acc 0.9995\n"
          ]
        },
        {
          "output_type": "stream",
          "name": "stderr",
          "text": [
            " 22%|██▏       | 22/100 [06:17<22:18, 17.16s/it]"
          ]
        },
        {
          "output_type": "stream",
          "name": "stdout",
          "text": [
            " train_loss 0.0016; val_loss 0.0060; val_acc 0.9986\n"
          ]
        },
        {
          "output_type": "stream",
          "name": "stderr",
          "text": [
            " 23%|██▎       | 23/100 [06:35<22:00, 17.15s/it]"
          ]
        },
        {
          "output_type": "stream",
          "name": "stdout",
          "text": [
            " train_loss 0.0015; val_loss 0.0037; val_acc 0.9991\n"
          ]
        },
        {
          "output_type": "stream",
          "name": "stderr",
          "text": [
            " 24%|██▍       | 24/100 [06:52<21:43, 17.15s/it]"
          ]
        },
        {
          "output_type": "stream",
          "name": "stdout",
          "text": [
            " train_loss 0.0013; val_loss 0.0031; val_acc 0.9995\n"
          ]
        },
        {
          "output_type": "stream",
          "name": "stderr",
          "text": [
            " 25%|██▌       | 25/100 [07:09<21:27, 17.16s/it]"
          ]
        },
        {
          "output_type": "stream",
          "name": "stdout",
          "text": [
            " train_loss 0.0011; val_loss 0.0017; val_acc 1.0000\n"
          ]
        },
        {
          "output_type": "stream",
          "name": "stderr",
          "text": [
            " 26%|██▌       | 26/100 [07:26<21:10, 17.16s/it]"
          ]
        },
        {
          "output_type": "stream",
          "name": "stdout",
          "text": [
            " train_loss 0.0011; val_loss 0.0035; val_acc 0.9995\n"
          ]
        },
        {
          "output_type": "stream",
          "name": "stderr",
          "text": [
            " 27%|██▋       | 27/100 [07:43<20:52, 17.16s/it]"
          ]
        },
        {
          "output_type": "stream",
          "name": "stdout",
          "text": [
            " train_loss 0.0011; val_loss 0.0018; val_acc 1.0000\n"
          ]
        },
        {
          "output_type": "stream",
          "name": "stderr",
          "text": [
            " 28%|██▊       | 28/100 [08:00<20:35, 17.15s/it]"
          ]
        },
        {
          "output_type": "stream",
          "name": "stdout",
          "text": [
            " train_loss 0.0010; val_loss 0.0036; val_acc 0.9991\n"
          ]
        },
        {
          "output_type": "stream",
          "name": "stderr",
          "text": [
            " 29%|██▉       | 29/100 [08:18<20:18, 17.16s/it]"
          ]
        },
        {
          "output_type": "stream",
          "name": "stdout",
          "text": [
            " train_loss 0.0034; val_loss 0.0038; val_acc 0.9995\n"
          ]
        },
        {
          "output_type": "stream",
          "name": "stderr",
          "text": [
            " 30%|███       | 30/100 [08:35<20:01, 17.17s/it]"
          ]
        },
        {
          "output_type": "stream",
          "name": "stdout",
          "text": [
            " train_loss 0.0036; val_loss 0.0034; val_acc 0.9991\n"
          ]
        },
        {
          "output_type": "stream",
          "name": "stderr",
          "text": [
            " 31%|███       | 31/100 [08:52<19:44, 17.16s/it]"
          ]
        },
        {
          "output_type": "stream",
          "name": "stdout",
          "text": [
            " train_loss 0.0013; val_loss 0.0044; val_acc 0.9986\n"
          ]
        },
        {
          "output_type": "stream",
          "name": "stderr",
          "text": [
            " 32%|███▏      | 32/100 [09:09<19:26, 17.16s/it]"
          ]
        },
        {
          "output_type": "stream",
          "name": "stdout",
          "text": [
            " train_loss 0.0011; val_loss 0.0051; val_acc 0.9991\n"
          ]
        },
        {
          "output_type": "stream",
          "name": "stderr",
          "text": [
            " 33%|███▎      | 33/100 [09:26<19:10, 17.16s/it]"
          ]
        },
        {
          "output_type": "stream",
          "name": "stdout",
          "text": [
            " train_loss 0.0025; val_loss 0.0038; val_acc 0.9981\n"
          ]
        },
        {
          "output_type": "stream",
          "name": "stderr",
          "text": [
            " 34%|███▍      | 34/100 [09:43<18:52, 17.16s/it]"
          ]
        },
        {
          "output_type": "stream",
          "name": "stdout",
          "text": [
            " train_loss 0.0010; val_loss 0.0019; val_acc 0.9995\n"
          ]
        },
        {
          "output_type": "stream",
          "name": "stderr",
          "text": [
            " 35%|███▌      | 35/100 [10:01<18:36, 17.17s/it]"
          ]
        },
        {
          "output_type": "stream",
          "name": "stdout",
          "text": [
            " train_loss 0.0020; val_loss 0.0044; val_acc 0.9991\n"
          ]
        },
        {
          "output_type": "stream",
          "name": "stderr",
          "text": [
            " 36%|███▌      | 36/100 [10:18<18:18, 17.16s/it]"
          ]
        },
        {
          "output_type": "stream",
          "name": "stdout",
          "text": [
            " train_loss 0.0015; val_loss 0.0038; val_acc 0.9991\n"
          ]
        },
        {
          "output_type": "stream",
          "name": "stderr",
          "text": [
            " 37%|███▋      | 37/100 [10:35<18:01, 17.17s/it]"
          ]
        },
        {
          "output_type": "stream",
          "name": "stdout",
          "text": [
            " train_loss 0.0016; val_loss 0.0079; val_acc 0.9986\n"
          ]
        },
        {
          "output_type": "stream",
          "name": "stderr",
          "text": [
            " 38%|███▊      | 38/100 [10:52<17:43, 17.16s/it]"
          ]
        },
        {
          "output_type": "stream",
          "name": "stdout",
          "text": [
            " train_loss 0.0007; val_loss 0.0033; val_acc 0.9995\n"
          ]
        },
        {
          "output_type": "stream",
          "name": "stderr",
          "text": [
            " 39%|███▉      | 39/100 [11:09<17:27, 17.16s/it]"
          ]
        },
        {
          "output_type": "stream",
          "name": "stdout",
          "text": [
            " train_loss 0.0004; val_loss 0.0025; val_acc 0.9991\n"
          ]
        },
        {
          "output_type": "stream",
          "name": "stderr",
          "text": [
            " 40%|████      | 40/100 [11:26<17:08, 17.15s/it]"
          ]
        },
        {
          "output_type": "stream",
          "name": "stdout",
          "text": [
            " train_loss 0.0004; val_loss 0.0049; val_acc 0.9991\n"
          ]
        },
        {
          "output_type": "stream",
          "name": "stderr",
          "text": [
            " 41%|████      | 41/100 [11:44<16:51, 17.15s/it]"
          ]
        },
        {
          "output_type": "stream",
          "name": "stdout",
          "text": [
            " train_loss 0.0005; val_loss 0.0031; val_acc 0.9995\n"
          ]
        },
        {
          "output_type": "stream",
          "name": "stderr",
          "text": [
            " 42%|████▏     | 42/100 [12:01<16:34, 17.15s/it]"
          ]
        },
        {
          "output_type": "stream",
          "name": "stdout",
          "text": [
            " train_loss 0.0006; val_loss 0.0067; val_acc 0.9986\n"
          ]
        },
        {
          "output_type": "stream",
          "name": "stderr",
          "text": [
            " 43%|████▎     | 43/100 [12:18<16:17, 17.14s/it]"
          ]
        },
        {
          "output_type": "stream",
          "name": "stdout",
          "text": [
            " train_loss 0.0005; val_loss 0.0040; val_acc 0.9986\n"
          ]
        },
        {
          "output_type": "stream",
          "name": "stderr",
          "text": [
            " 44%|████▍     | 44/100 [12:35<15:59, 17.14s/it]"
          ]
        },
        {
          "output_type": "stream",
          "name": "stdout",
          "text": [
            " train_loss 0.0004; val_loss 0.0069; val_acc 0.9981\n"
          ]
        },
        {
          "output_type": "stream",
          "name": "stderr",
          "text": [
            " 45%|████▌     | 45/100 [12:52<15:42, 17.15s/it]"
          ]
        },
        {
          "output_type": "stream",
          "name": "stdout",
          "text": [
            " train_loss 0.0004; val_loss 0.0034; val_acc 0.9991\n"
          ]
        },
        {
          "output_type": "stream",
          "name": "stderr",
          "text": [
            " 46%|████▌     | 46/100 [13:09<15:25, 17.14s/it]"
          ]
        },
        {
          "output_type": "stream",
          "name": "stdout",
          "text": [
            " train_loss 0.0004; val_loss 0.0032; val_acc 0.9991\n"
          ]
        },
        {
          "output_type": "stream",
          "name": "stderr",
          "text": [
            " 47%|████▋     | 47/100 [13:26<15:08, 17.14s/it]"
          ]
        },
        {
          "output_type": "stream",
          "name": "stdout",
          "text": [
            " train_loss 0.0004; val_loss 0.0012; val_acc 1.0000\n"
          ]
        },
        {
          "output_type": "stream",
          "name": "stderr",
          "text": [
            " 48%|████▊     | 48/100 [13:43<14:51, 17.14s/it]"
          ]
        },
        {
          "output_type": "stream",
          "name": "stdout",
          "text": [
            " train_loss 0.0003; val_loss 0.0018; val_acc 0.9995\n"
          ]
        },
        {
          "output_type": "stream",
          "name": "stderr",
          "text": [
            " 49%|████▉     | 49/100 [14:01<14:34, 17.15s/it]"
          ]
        },
        {
          "output_type": "stream",
          "name": "stdout",
          "text": [
            " train_loss 0.0003; val_loss 0.0016; val_acc 0.9995\n"
          ]
        },
        {
          "output_type": "stream",
          "name": "stderr",
          "text": [
            " 50%|█████     | 50/100 [14:18<14:17, 17.14s/it]"
          ]
        },
        {
          "output_type": "stream",
          "name": "stdout",
          "text": [
            " train_loss 0.0002; val_loss 0.0047; val_acc 0.9986\n"
          ]
        },
        {
          "output_type": "stream",
          "name": "stderr",
          "text": [
            " 51%|█████     | 51/100 [14:35<13:59, 17.14s/it]"
          ]
        },
        {
          "output_type": "stream",
          "name": "stdout",
          "text": [
            " train_loss 0.0002; val_loss 0.0026; val_acc 0.9991\n"
          ]
        },
        {
          "output_type": "stream",
          "name": "stderr",
          "text": [
            " 52%|█████▏    | 52/100 [14:52<13:42, 17.14s/it]"
          ]
        },
        {
          "output_type": "stream",
          "name": "stdout",
          "text": [
            " train_loss 0.0003; val_loss 0.0006; val_acc 1.0000\n"
          ]
        },
        {
          "output_type": "stream",
          "name": "stderr",
          "text": [
            " 53%|█████▎    | 53/100 [15:09<13:25, 17.14s/it]"
          ]
        },
        {
          "output_type": "stream",
          "name": "stdout",
          "text": [
            " train_loss 0.0002; val_loss 0.0034; val_acc 0.9991\n"
          ]
        },
        {
          "output_type": "stream",
          "name": "stderr",
          "text": [
            " 54%|█████▍    | 54/100 [15:26<13:08, 17.14s/it]"
          ]
        },
        {
          "output_type": "stream",
          "name": "stdout",
          "text": [
            " train_loss 0.0004; val_loss 0.0065; val_acc 0.9986\n"
          ]
        },
        {
          "output_type": "stream",
          "name": "stderr",
          "text": [
            " 55%|█████▌    | 55/100 [15:43<12:51, 17.13s/it]"
          ]
        },
        {
          "output_type": "stream",
          "name": "stdout",
          "text": [
            " train_loss 0.0004; val_loss 0.0040; val_acc 0.9991\n"
          ]
        },
        {
          "output_type": "stream",
          "name": "stderr",
          "text": [
            " 56%|█████▌    | 56/100 [16:01<12:34, 17.14s/it]"
          ]
        },
        {
          "output_type": "stream",
          "name": "stdout",
          "text": [
            " train_loss 0.0002; val_loss 0.0024; val_acc 0.9995\n"
          ]
        },
        {
          "output_type": "stream",
          "name": "stderr",
          "text": [
            " 57%|█████▋    | 57/100 [16:18<12:16, 17.14s/it]"
          ]
        },
        {
          "output_type": "stream",
          "name": "stdout",
          "text": [
            " train_loss 0.0001; val_loss 0.0046; val_acc 0.9991\n"
          ]
        },
        {
          "output_type": "stream",
          "name": "stderr",
          "text": [
            " 58%|█████▊    | 58/100 [16:35<11:59, 17.14s/it]"
          ]
        },
        {
          "output_type": "stream",
          "name": "stdout",
          "text": [
            " train_loss 0.0001; val_loss 0.0007; val_acc 1.0000\n"
          ]
        },
        {
          "output_type": "stream",
          "name": "stderr",
          "text": [
            " 59%|█████▉    | 59/100 [16:52<11:42, 17.14s/it]"
          ]
        },
        {
          "output_type": "stream",
          "name": "stdout",
          "text": [
            " train_loss 0.0002; val_loss 0.0031; val_acc 0.9986\n"
          ]
        },
        {
          "output_type": "stream",
          "name": "stderr",
          "text": [
            " 60%|██████    | 60/100 [17:09<11:25, 17.14s/it]"
          ]
        },
        {
          "output_type": "stream",
          "name": "stdout",
          "text": [
            " train_loss 0.0001; val_loss 0.0018; val_acc 0.9995\n"
          ]
        },
        {
          "output_type": "stream",
          "name": "stderr",
          "text": [
            " 61%|██████    | 61/100 [17:26<11:08, 17.14s/it]"
          ]
        },
        {
          "output_type": "stream",
          "name": "stdout",
          "text": [
            " train_loss 0.0001; val_loss 0.0031; val_acc 0.9991\n"
          ]
        },
        {
          "output_type": "stream",
          "name": "stderr",
          "text": [
            " 62%|██████▏   | 62/100 [17:43<10:51, 17.15s/it]"
          ]
        },
        {
          "output_type": "stream",
          "name": "stdout",
          "text": [
            " train_loss 0.0001; val_loss 0.0058; val_acc 0.9991\n"
          ]
        },
        {
          "output_type": "stream",
          "name": "stderr",
          "text": [
            " 63%|██████▎   | 63/100 [18:01<10:34, 17.14s/it]"
          ]
        },
        {
          "output_type": "stream",
          "name": "stdout",
          "text": [
            " train_loss 0.0011; val_loss 0.0053; val_acc 0.9986\n"
          ]
        },
        {
          "output_type": "stream",
          "name": "stderr",
          "text": [
            " 64%|██████▍   | 64/100 [18:18<10:16, 17.14s/it]"
          ]
        },
        {
          "output_type": "stream",
          "name": "stdout",
          "text": [
            " train_loss 0.0006; val_loss 0.0038; val_acc 0.9986\n"
          ]
        },
        {
          "output_type": "stream",
          "name": "stderr",
          "text": [
            " 65%|██████▌   | 65/100 [18:35<09:59, 17.13s/it]"
          ]
        },
        {
          "output_type": "stream",
          "name": "stdout",
          "text": [
            " train_loss 0.0002; val_loss 0.0053; val_acc 0.9991\n"
          ]
        },
        {
          "output_type": "stream",
          "name": "stderr",
          "text": [
            " 66%|██████▌   | 66/100 [18:52<09:42, 17.13s/it]"
          ]
        },
        {
          "output_type": "stream",
          "name": "stdout",
          "text": [
            " train_loss 0.0002; val_loss 0.0010; val_acc 0.9995\n"
          ]
        },
        {
          "output_type": "stream",
          "name": "stderr",
          "text": [
            " 67%|██████▋   | 67/100 [19:09<09:25, 17.14s/it]"
          ]
        },
        {
          "output_type": "stream",
          "name": "stdout",
          "text": [
            " train_loss 0.0001; val_loss 0.0047; val_acc 0.9991\n"
          ]
        },
        {
          "output_type": "stream",
          "name": "stderr",
          "text": [
            " 68%|██████▊   | 68/100 [19:26<09:08, 17.14s/it]"
          ]
        },
        {
          "output_type": "stream",
          "name": "stdout",
          "text": [
            " train_loss 0.0001; val_loss 0.0057; val_acc 0.9991\n"
          ]
        },
        {
          "output_type": "stream",
          "name": "stderr",
          "text": [
            " 69%|██████▉   | 69/100 [19:43<08:51, 17.15s/it]"
          ]
        },
        {
          "output_type": "stream",
          "name": "stdout",
          "text": [
            " train_loss 0.0001; val_loss 0.0019; val_acc 0.9991\n"
          ]
        },
        {
          "output_type": "stream",
          "name": "stderr",
          "text": [
            " 70%|███████   | 70/100 [20:01<08:34, 17.14s/it]"
          ]
        },
        {
          "output_type": "stream",
          "name": "stdout",
          "text": [
            " train_loss 0.0009; val_loss 0.0014; val_acc 0.9991\n"
          ]
        },
        {
          "output_type": "stream",
          "name": "stderr",
          "text": [
            " 71%|███████   | 71/100 [20:18<08:17, 17.15s/it]"
          ]
        },
        {
          "output_type": "stream",
          "name": "stdout",
          "text": [
            " train_loss 0.0002; val_loss 0.0024; val_acc 0.9991\n"
          ]
        },
        {
          "output_type": "stream",
          "name": "stderr",
          "text": [
            " 72%|███████▏  | 72/100 [20:35<08:00, 17.15s/it]"
          ]
        },
        {
          "output_type": "stream",
          "name": "stdout",
          "text": [
            " train_loss 0.0001; val_loss 0.0006; val_acc 1.0000\n"
          ]
        },
        {
          "output_type": "stream",
          "name": "stderr",
          "text": [
            " 73%|███████▎  | 73/100 [20:52<07:42, 17.14s/it]"
          ]
        },
        {
          "output_type": "stream",
          "name": "stdout",
          "text": [
            " train_loss 0.0001; val_loss 0.0030; val_acc 0.9995\n"
          ]
        },
        {
          "output_type": "stream",
          "name": "stderr",
          "text": [
            " 74%|███████▍  | 74/100 [21:09<07:25, 17.15s/it]"
          ]
        },
        {
          "output_type": "stream",
          "name": "stdout",
          "text": [
            " train_loss 0.0001; val_loss 0.0008; val_acc 1.0000\n"
          ]
        },
        {
          "output_type": "stream",
          "name": "stderr",
          "text": [
            " 75%|███████▌  | 75/100 [21:26<07:08, 17.14s/it]"
          ]
        },
        {
          "output_type": "stream",
          "name": "stdout",
          "text": [
            " train_loss 0.0001; val_loss 0.0064; val_acc 0.9991\n"
          ]
        },
        {
          "output_type": "stream",
          "name": "stderr",
          "text": [
            " 76%|███████▌  | 76/100 [21:43<06:51, 17.13s/it]"
          ]
        },
        {
          "output_type": "stream",
          "name": "stdout",
          "text": [
            " train_loss 0.0001; val_loss 0.0034; val_acc 0.9986\n"
          ]
        },
        {
          "output_type": "stream",
          "name": "stderr",
          "text": [
            " 77%|███████▋  | 77/100 [22:01<06:34, 17.13s/it]"
          ]
        },
        {
          "output_type": "stream",
          "name": "stdout",
          "text": [
            " train_loss 0.0002; val_loss 0.0032; val_acc 0.9991\n"
          ]
        },
        {
          "output_type": "stream",
          "name": "stderr",
          "text": [
            " 78%|███████▊  | 78/100 [22:18<06:16, 17.13s/it]"
          ]
        },
        {
          "output_type": "stream",
          "name": "stdout",
          "text": [
            " train_loss 0.0001; val_loss 0.0008; val_acc 0.9995\n"
          ]
        },
        {
          "output_type": "stream",
          "name": "stderr",
          "text": [
            " 79%|███████▉  | 79/100 [22:35<05:59, 17.14s/it]"
          ]
        },
        {
          "output_type": "stream",
          "name": "stdout",
          "text": [
            " train_loss 0.0001; val_loss 0.0011; val_acc 0.9995\n"
          ]
        },
        {
          "output_type": "stream",
          "name": "stderr",
          "text": [
            " 80%|████████  | 80/100 [22:52<05:42, 17.13s/it]"
          ]
        },
        {
          "output_type": "stream",
          "name": "stdout",
          "text": [
            " train_loss 0.0001; val_loss 0.0044; val_acc 0.9995\n"
          ]
        },
        {
          "output_type": "stream",
          "name": "stderr",
          "text": [
            " 81%|████████  | 81/100 [23:09<05:25, 17.13s/it]"
          ]
        },
        {
          "output_type": "stream",
          "name": "stdout",
          "text": [
            " train_loss 0.0001; val_loss 0.0072; val_acc 0.9986\n"
          ]
        },
        {
          "output_type": "stream",
          "name": "stderr",
          "text": [
            " 82%|████████▏ | 82/100 [23:26<05:08, 17.14s/it]"
          ]
        },
        {
          "output_type": "stream",
          "name": "stdout",
          "text": [
            " train_loss 0.0001; val_loss 0.0050; val_acc 0.9995\n"
          ]
        },
        {
          "output_type": "stream",
          "name": "stderr",
          "text": [
            " 83%|████████▎ | 83/100 [23:43<04:51, 17.14s/it]"
          ]
        },
        {
          "output_type": "stream",
          "name": "stdout",
          "text": [
            " train_loss 0.0001; val_loss 0.0058; val_acc 0.9986\n"
          ]
        },
        {
          "output_type": "stream",
          "name": "stderr",
          "text": [
            " 84%|████████▍ | 84/100 [24:00<04:34, 17.14s/it]"
          ]
        },
        {
          "output_type": "stream",
          "name": "stdout",
          "text": [
            " train_loss 0.0001; val_loss 0.0001; val_acc 1.0000\n"
          ]
        },
        {
          "output_type": "stream",
          "name": "stderr",
          "text": [
            " 85%|████████▌ | 85/100 [24:18<04:17, 17.15s/it]"
          ]
        },
        {
          "output_type": "stream",
          "name": "stdout",
          "text": [
            " train_loss 0.0000; val_loss 0.0029; val_acc 0.9995\n"
          ]
        },
        {
          "output_type": "stream",
          "name": "stderr",
          "text": [
            " 86%|████████▌ | 86/100 [24:35<03:59, 17.14s/it]"
          ]
        },
        {
          "output_type": "stream",
          "name": "stdout",
          "text": [
            " train_loss 0.0000; val_loss 0.0006; val_acc 0.9995\n"
          ]
        },
        {
          "output_type": "stream",
          "name": "stderr",
          "text": [
            " 87%|████████▋ | 87/100 [24:52<03:42, 17.14s/it]"
          ]
        },
        {
          "output_type": "stream",
          "name": "stdout",
          "text": [
            " train_loss 0.0000; val_loss 0.0026; val_acc 0.9991\n"
          ]
        },
        {
          "output_type": "stream",
          "name": "stderr",
          "text": [
            " 88%|████████▊ | 88/100 [25:09<03:25, 17.14s/it]"
          ]
        },
        {
          "output_type": "stream",
          "name": "stdout",
          "text": [
            " train_loss 0.0000; val_loss 0.0062; val_acc 0.9981\n"
          ]
        },
        {
          "output_type": "stream",
          "name": "stderr",
          "text": [
            " 89%|████████▉ | 89/100 [25:26<03:08, 17.14s/it]"
          ]
        },
        {
          "output_type": "stream",
          "name": "stdout",
          "text": [
            " train_loss 0.0000; val_loss 0.0010; val_acc 0.9995\n"
          ]
        },
        {
          "output_type": "stream",
          "name": "stderr",
          "text": [
            " 90%|█████████ | 90/100 [25:43<02:51, 17.14s/it]"
          ]
        },
        {
          "output_type": "stream",
          "name": "stdout",
          "text": [
            " train_loss 0.0000; val_loss 0.0005; val_acc 0.9995\n"
          ]
        },
        {
          "output_type": "stream",
          "name": "stderr",
          "text": [
            " 91%|█████████ | 91/100 [26:00<02:34, 17.14s/it]"
          ]
        },
        {
          "output_type": "stream",
          "name": "stdout",
          "text": [
            " train_loss 0.0000; val_loss 0.0004; val_acc 0.9995\n"
          ]
        },
        {
          "output_type": "stream",
          "name": "stderr",
          "text": [
            " 92%|█████████▏| 92/100 [26:18<02:17, 17.14s/it]"
          ]
        },
        {
          "output_type": "stream",
          "name": "stdout",
          "text": [
            " train_loss 0.0000; val_loss 0.0010; val_acc 0.9995\n"
          ]
        },
        {
          "output_type": "stream",
          "name": "stderr",
          "text": [
            " 93%|█████████▎| 93/100 [26:35<02:00, 17.15s/it]"
          ]
        },
        {
          "output_type": "stream",
          "name": "stdout",
          "text": [
            " train_loss 0.0000; val_loss 0.0057; val_acc 0.9995\n"
          ]
        },
        {
          "output_type": "stream",
          "name": "stderr",
          "text": [
            " 94%|█████████▍| 94/100 [26:52<01:42, 17.15s/it]"
          ]
        },
        {
          "output_type": "stream",
          "name": "stdout",
          "text": [
            " train_loss 0.0000; val_loss 0.0003; val_acc 1.0000\n"
          ]
        },
        {
          "output_type": "stream",
          "name": "stderr",
          "text": [
            " 95%|█████████▌| 95/100 [27:09<01:25, 17.15s/it]"
          ]
        },
        {
          "output_type": "stream",
          "name": "stdout",
          "text": [
            " train_loss 0.0002; val_loss 0.0046; val_acc 0.9991\n"
          ]
        },
        {
          "output_type": "stream",
          "name": "stderr",
          "text": [
            " 96%|█████████▌| 96/100 [27:26<01:08, 17.14s/it]"
          ]
        },
        {
          "output_type": "stream",
          "name": "stdout",
          "text": [
            " train_loss 0.0001; val_loss 0.0040; val_acc 0.9991\n"
          ]
        },
        {
          "output_type": "stream",
          "name": "stderr",
          "text": [
            " 97%|█████████▋| 97/100 [27:43<00:51, 17.14s/it]"
          ]
        },
        {
          "output_type": "stream",
          "name": "stdout",
          "text": [
            " train_loss 0.0000; val_loss 0.0073; val_acc 0.9981\n"
          ]
        },
        {
          "output_type": "stream",
          "name": "stderr",
          "text": [
            " 98%|█████████▊| 98/100 [28:01<00:34, 17.15s/it]"
          ]
        },
        {
          "output_type": "stream",
          "name": "stdout",
          "text": [
            " train_loss 0.0000; val_loss 0.0016; val_acc 0.9991\n"
          ]
        },
        {
          "output_type": "stream",
          "name": "stderr",
          "text": [
            " 99%|█████████▉| 99/100 [28:18<00:17, 17.15s/it]"
          ]
        },
        {
          "output_type": "stream",
          "name": "stdout",
          "text": [
            " train_loss 0.0000; val_loss 0.0033; val_acc 0.9986\n"
          ]
        },
        {
          "output_type": "stream",
          "name": "stderr",
          "text": [
            "100%|██████████| 100/100 [28:35<00:00, 17.15s/it]"
          ]
        },
        {
          "output_type": "stream",
          "name": "stdout",
          "text": [
            " train_loss 0.0000; val_loss 0.0031; val_acc 0.9991\n"
          ]
        },
        {
          "output_type": "stream",
          "name": "stderr",
          "text": [
            "\n"
          ]
        }
      ],
      "source": [
        "lr = 1e-5\n",
        "epochs = 100\n",
        "model, train_losses, val_losses, val_acc = train(resnet, train_loader, val_loader, lr = lr, epochs = epochs)"
      ]
    },
    {
      "cell_type": "code",
      "execution_count": null,
      "metadata": {
        "colab": {
          "base_uri": "https://localhost:8080/",
          "height": 944
        },
        "id": "xnCMEJpMqOaG",
        "outputId": "fd9f69ad-829d-4eab-cb92-947697eb56e5"
      },
      "outputs": [
        {
          "output_type": "display_data",
          "data": {
            "text/plain": [
              "<Figure size 640x480 with 1 Axes>"
            ],
            "image/png": "[encoded data removed]"
          },
          "metadata": {}
        },
        {
          "output_type": "stream",
          "name": "stdout",
          "text": [
            "====================================================================================================\n"
          ]
        },
        {
          "output_type": "display_data",
          "data": {
            "text/plain": [
              "<Figure size 640x480 with 1 Axes>"
            ],
            "image/png": "[encoded data removed]"
          },
          "metadata": {}
        }
      ],
      "source": [
        "visualize_accuracy(val_acc)\n",
        "visualize_losses(train_losses, val_losses)"
      ]
    },
    {
      "cell_type": "markdown",
      "metadata": {
        "id": "2069xyzk_ABP"
      },
      "source": [
        "###VGG16"
      ]
    },
    {
      "cell_type": "code",
      "execution_count": null,
      "metadata": {
        "id": "3SDjuZJIbowH"
      },
      "outputs": [],
      "source": [
        "# Load VGG16 model\n",
        "vgg = models.vgg16(pretrained = True)"
      ]
    },
    {
      "cell_type": "code",
      "execution_count": null,
      "metadata": {
        "colab": {
          "base_uri": "https://localhost:8080/"
        },
        "id": "9x7cYnmv9h7h",
        "outputId": "7b077c2d-976a-48c0-bc23-f2ae480dc607"
      },
      "outputs": [
        {
          "output_type": "stream",
          "name": "stdout",
          "text": [
            "child  1  was frozen\n",
            "child  2  was frozen\n"
          ]
        }
      ],
      "source": [
        "# Freeze layers 1-2 of VGG16\n",
        "vgg = freeze_layers(vgg, 2)"
      ]
    },
    {
      "cell_type": "code",
      "execution_count": null,
      "metadata": {
        "id": "Sn_4vZZeBH2R"
      },
      "outputs": [],
      "source": [
        "# Customize the final layer\n",
        "vgg.classifier = nn.Sequential(\n",
        "    nn.Linear(25088, 2048),\n",
        "    nn.LeakyReLU(),\n",
        "    nn.Dropout(0.4),\n",
        "    nn.Linear(2048, 256),\n",
        "    nn.LeakyReLU(),\n",
        "    nn.Dropout(0.4),\n",
        "    nn.Linear(256, 14),\n",
        "    nn.Softmax(dim = 1)\n",
        ")"
      ]
    },
    {
      "cell_type": "code",
      "execution_count": null,
      "metadata": {
        "id": "t3zsBa4XEu1U"
      },
      "outputs": [],
      "source": [
        "# Define Loss Function\n",
        "lossf = nn.CrossEntropyLoss()"
      ]
    },
    {
      "cell_type": "code",
      "execution_count": null,
      "metadata": {
        "colab": {
          "base_uri": "https://localhost:8080/"
        },
        "id": "ahOmfba7GUu5",
        "outputId": "44e711c5-f667-46a3-c59f-6713aadea45e"
      },
      "outputs": [
        {
          "output_type": "stream",
          "name": "stderr",
          "text": [
            "  1%|          | 1/100 [00:16<26:41, 16.17s/it]"
          ]
        },
        {
          "output_type": "stream",
          "name": "stdout",
          "text": [
            " train_loss 2.2497; val_loss 1.9582; val_acc 0.8685\n"
          ]
        },
        {
          "output_type": "stream",
          "name": "stderr",
          "text": [
            "  2%|▏         | 2/100 [00:32<26:30, 16.23s/it]"
          ]
        },
        {
          "output_type": "stream",
          "name": "stdout",
          "text": [
            " train_loss 1.8648; val_loss 1.8194; val_acc 0.9644\n"
          ]
        },
        {
          "output_type": "stream",
          "name": "stderr",
          "text": [
            "  3%|▎         | 3/100 [00:48<26:26, 16.35s/it]"
          ]
        },
        {
          "output_type": "stream",
          "name": "stdout",
          "text": [
            " train_loss 1.8006; val_loss 1.7985; val_acc 0.9677\n"
          ]
        },
        {
          "output_type": "stream",
          "name": "stderr",
          "text": [
            "  4%|▍         | 4/100 [01:05<26:08, 16.33s/it]"
          ]
        },
        {
          "output_type": "stream",
          "name": "stdout",
          "text": [
            " train_loss 1.7824; val_loss 1.7789; val_acc 0.9934\n"
          ]
        },
        {
          "output_type": "stream",
          "name": "stderr",
          "text": [
            "  5%|▌         | 5/100 [01:21<25:47, 16.29s/it]"
          ]
        },
        {
          "output_type": "stream",
          "name": "stdout",
          "text": [
            " train_loss 1.7681; val_loss 1.7696; val_acc 0.9963\n"
          ]
        },
        {
          "output_type": "stream",
          "name": "stderr",
          "text": [
            "  6%|▌         | 6/100 [01:37<25:28, 16.26s/it]"
          ]
        },
        {
          "output_type": "stream",
          "name": "stdout",
          "text": [
            " train_loss 1.7607; val_loss 1.7665; val_acc 0.9958\n"
          ]
        },
        {
          "output_type": "stream",
          "name": "stderr",
          "text": [
            "  7%|▋         | 7/100 [01:53<25:11, 16.25s/it]"
          ]
        },
        {
          "output_type": "stream",
          "name": "stdout",
          "text": [
            " train_loss 1.7585; val_loss 1.7630; val_acc 0.9995\n"
          ]
        },
        {
          "output_type": "stream",
          "name": "stderr",
          "text": [
            "  8%|▊         | 8/100 [02:10<24:55, 16.26s/it]"
          ]
        },
        {
          "output_type": "stream",
          "name": "stdout",
          "text": [
            " train_loss 1.7575; val_loss 1.7605; val_acc 0.9986\n"
          ]
        },
        {
          "output_type": "stream",
          "name": "stderr",
          "text": [
            "  9%|▉         | 9/100 [02:26<24:39, 16.25s/it]"
          ]
        },
        {
          "output_type": "stream",
          "name": "stdout",
          "text": [
            " train_loss 1.7566; val_loss 1.7608; val_acc 0.9977\n"
          ]
        },
        {
          "output_type": "stream",
          "name": "stderr",
          "text": [
            " 10%|█         | 10/100 [02:42<24:22, 16.25s/it]"
          ]
        },
        {
          "output_type": "stream",
          "name": "stdout",
          "text": [
            " train_loss 1.7560; val_loss 1.7593; val_acc 1.0000\n"
          ]
        },
        {
          "output_type": "stream",
          "name": "stderr",
          "text": [
            " 11%|█         | 11/100 [02:58<24:06, 16.25s/it]"
          ]
        },
        {
          "output_type": "stream",
          "name": "stdout",
          "text": [
            " train_loss 1.7557; val_loss 1.7579; val_acc 0.9995\n"
          ]
        },
        {
          "output_type": "stream",
          "name": "stderr",
          "text": [
            " 12%|█▏        | 12/100 [03:15<23:49, 16.24s/it]"
          ]
        },
        {
          "output_type": "stream",
          "name": "stdout",
          "text": [
            " train_loss 1.7556; val_loss 1.7585; val_acc 0.9991\n"
          ]
        },
        {
          "output_type": "stream",
          "name": "stderr",
          "text": [
            " 13%|█▎        | 13/100 [03:31<23:33, 16.25s/it]"
          ]
        },
        {
          "output_type": "stream",
          "name": "stdout",
          "text": [
            " train_loss 1.7555; val_loss 1.7576; val_acc 1.0000\n"
          ]
        },
        {
          "output_type": "stream",
          "name": "stderr",
          "text": [
            " 14%|█▍        | 14/100 [03:47<23:17, 16.25s/it]"
          ]
        },
        {
          "output_type": "stream",
          "name": "stdout",
          "text": [
            " train_loss 1.7553; val_loss 1.7576; val_acc 0.9991\n"
          ]
        },
        {
          "output_type": "stream",
          "name": "stderr",
          "text": [
            " 15%|█▌        | 15/100 [04:03<23:01, 16.25s/it]"
          ]
        },
        {
          "output_type": "stream",
          "name": "stdout",
          "text": [
            " train_loss 1.7556; val_loss 1.7573; val_acc 1.0000\n"
          ]
        },
        {
          "output_type": "stream",
          "name": "stderr",
          "text": [
            " 16%|█▌        | 16/100 [04:20<22:45, 16.26s/it]"
          ]
        },
        {
          "output_type": "stream",
          "name": "stdout",
          "text": [
            " train_loss 1.7554; val_loss 1.7572; val_acc 1.0000\n"
          ]
        },
        {
          "output_type": "stream",
          "name": "stderr",
          "text": [
            " 17%|█▋        | 17/100 [04:36<22:28, 16.25s/it]"
          ]
        },
        {
          "output_type": "stream",
          "name": "stdout",
          "text": [
            " train_loss 1.7553; val_loss 1.7565; val_acc 1.0000\n"
          ]
        },
        {
          "output_type": "stream",
          "name": "stderr",
          "text": [
            " 18%|█▊        | 18/100 [04:52<22:11, 16.24s/it]"
          ]
        },
        {
          "output_type": "stream",
          "name": "stdout",
          "text": [
            " train_loss 1.7555; val_loss 1.7577; val_acc 0.9991\n"
          ]
        },
        {
          "output_type": "stream",
          "name": "stderr",
          "text": [
            " 19%|█▉        | 19/100 [05:08<21:55, 16.24s/it]"
          ]
        },
        {
          "output_type": "stream",
          "name": "stdout",
          "text": [
            " train_loss 1.7552; val_loss 1.7565; val_acc 1.0000\n"
          ]
        },
        {
          "output_type": "stream",
          "name": "stderr",
          "text": [
            " 20%|██        | 20/100 [05:25<21:39, 16.24s/it]"
          ]
        },
        {
          "output_type": "stream",
          "name": "stdout",
          "text": [
            " train_loss 1.7552; val_loss 1.7564; val_acc 0.9995\n"
          ]
        },
        {
          "output_type": "stream",
          "name": "stderr",
          "text": [
            " 21%|██        | 21/100 [05:41<21:23, 16.24s/it]"
          ]
        },
        {
          "output_type": "stream",
          "name": "stdout",
          "text": [
            " train_loss 1.7551; val_loss 1.7569; val_acc 1.0000\n"
          ]
        },
        {
          "output_type": "stream",
          "name": "stderr",
          "text": [
            " 22%|██▏       | 22/100 [05:57<21:06, 16.23s/it]"
          ]
        },
        {
          "output_type": "stream",
          "name": "stdout",
          "text": [
            " train_loss 1.7551; val_loss 1.7562; val_acc 1.0000\n"
          ]
        },
        {
          "output_type": "stream",
          "name": "stderr",
          "text": [
            " 23%|██▎       | 23/100 [06:13<20:49, 16.23s/it]"
          ]
        },
        {
          "output_type": "stream",
          "name": "stdout",
          "text": [
            " train_loss 1.7550; val_loss 1.7563; val_acc 0.9995\n"
          ]
        },
        {
          "output_type": "stream",
          "name": "stderr",
          "text": [
            " 24%|██▍       | 24/100 [06:30<20:33, 16.23s/it]"
          ]
        },
        {
          "output_type": "stream",
          "name": "stdout",
          "text": [
            " train_loss 1.7550; val_loss 1.7569; val_acc 0.9986\n"
          ]
        },
        {
          "output_type": "stream",
          "name": "stderr",
          "text": [
            " 25%|██▌       | 25/100 [06:46<20:18, 16.24s/it]"
          ]
        },
        {
          "output_type": "stream",
          "name": "stdout",
          "text": [
            " train_loss 1.7550; val_loss 1.7568; val_acc 0.9995\n"
          ]
        },
        {
          "output_type": "stream",
          "name": "stderr",
          "text": [
            " 26%|██▌       | 26/100 [07:02<20:02, 16.25s/it]"
          ]
        },
        {
          "output_type": "stream",
          "name": "stdout",
          "text": [
            " train_loss 1.7549; val_loss 1.7563; val_acc 1.0000\n"
          ]
        },
        {
          "output_type": "stream",
          "name": "stderr",
          "text": [
            " 27%|██▋       | 27/100 [07:18<19:46, 16.25s/it]"
          ]
        },
        {
          "output_type": "stream",
          "name": "stdout",
          "text": [
            " train_loss 1.7549; val_loss 1.7555; val_acc 1.0000\n"
          ]
        },
        {
          "output_type": "stream",
          "name": "stderr",
          "text": [
            " 28%|██▊       | 28/100 [07:35<19:30, 16.25s/it]"
          ]
        },
        {
          "output_type": "stream",
          "name": "stdout",
          "text": [
            " train_loss 1.7549; val_loss 1.7558; val_acc 1.0000\n"
          ]
        },
        {
          "output_type": "stream",
          "name": "stderr",
          "text": [
            " 29%|██▉       | 29/100 [07:51<19:13, 16.25s/it]"
          ]
        },
        {
          "output_type": "stream",
          "name": "stdout",
          "text": [
            " train_loss 1.7549; val_loss 1.7564; val_acc 1.0000\n"
          ]
        },
        {
          "output_type": "stream",
          "name": "stderr",
          "text": [
            " 30%|███       | 30/100 [08:07<18:57, 16.24s/it]"
          ]
        },
        {
          "output_type": "stream",
          "name": "stdout",
          "text": [
            " train_loss 1.7549; val_loss 1.7559; val_acc 1.0000\n"
          ]
        },
        {
          "output_type": "stream",
          "name": "stderr",
          "text": [
            " 31%|███       | 31/100 [08:23<18:41, 16.25s/it]"
          ]
        },
        {
          "output_type": "stream",
          "name": "stdout",
          "text": [
            " train_loss 1.7549; val_loss 1.7559; val_acc 1.0000\n"
          ]
        },
        {
          "output_type": "stream",
          "name": "stderr",
          "text": [
            " 32%|███▏      | 32/100 [08:40<18:24, 16.25s/it]"
          ]
        },
        {
          "output_type": "stream",
          "name": "stdout",
          "text": [
            " train_loss 1.7549; val_loss 1.7560; val_acc 0.9995\n"
          ]
        },
        {
          "output_type": "stream",
          "name": "stderr",
          "text": [
            " 33%|███▎      | 33/100 [08:56<18:08, 16.24s/it]"
          ]
        },
        {
          "output_type": "stream",
          "name": "stdout",
          "text": [
            " train_loss 1.7549; val_loss 1.7560; val_acc 1.0000\n"
          ]
        },
        {
          "output_type": "stream",
          "name": "stderr",
          "text": [
            " 34%|███▍      | 34/100 [09:12<17:51, 16.24s/it]"
          ]
        },
        {
          "output_type": "stream",
          "name": "stdout",
          "text": [
            " train_loss 1.7549; val_loss 1.7560; val_acc 1.0000\n"
          ]
        },
        {
          "output_type": "stream",
          "name": "stderr",
          "text": [
            " 35%|███▌      | 35/100 [09:28<17:35, 16.24s/it]"
          ]
        },
        {
          "output_type": "stream",
          "name": "stdout",
          "text": [
            " train_loss 1.7549; val_loss 1.7559; val_acc 1.0000\n"
          ]
        },
        {
          "output_type": "stream",
          "name": "stderr",
          "text": [
            " 36%|███▌      | 36/100 [09:44<17:19, 16.24s/it]"
          ]
        },
        {
          "output_type": "stream",
          "name": "stdout",
          "text": [
            " train_loss 1.7549; val_loss 1.7556; val_acc 0.9995\n"
          ]
        },
        {
          "output_type": "stream",
          "name": "stderr",
          "text": [
            " 37%|███▋      | 37/100 [10:01<17:02, 16.24s/it]"
          ]
        },
        {
          "output_type": "stream",
          "name": "stdout",
          "text": [
            " train_loss 1.7549; val_loss 1.7564; val_acc 0.9991\n"
          ]
        },
        {
          "output_type": "stream",
          "name": "stderr",
          "text": [
            " 38%|███▊      | 38/100 [10:17<16:46, 16.24s/it]"
          ]
        },
        {
          "output_type": "stream",
          "name": "stdout",
          "text": [
            " train_loss 1.7549; val_loss 1.7598; val_acc 0.9958\n"
          ]
        },
        {
          "output_type": "stream",
          "name": "stderr",
          "text": [
            " 39%|███▉      | 39/100 [10:33<16:30, 16.24s/it]"
          ]
        },
        {
          "output_type": "stream",
          "name": "stdout",
          "text": [
            " train_loss 1.7550; val_loss 1.7567; val_acc 0.9986\n"
          ]
        },
        {
          "output_type": "stream",
          "name": "stderr",
          "text": [
            " 40%|████      | 40/100 [10:49<16:14, 16.24s/it]"
          ]
        },
        {
          "output_type": "stream",
          "name": "stdout",
          "text": [
            " train_loss 1.7562; val_loss 1.7736; val_acc 0.9869\n"
          ]
        },
        {
          "output_type": "stream",
          "name": "stderr",
          "text": [
            " 41%|████      | 41/100 [11:06<15:57, 16.23s/it]"
          ]
        },
        {
          "output_type": "stream",
          "name": "stdout",
          "text": [
            " train_loss 1.7591; val_loss 1.7620; val_acc 0.9963\n"
          ]
        },
        {
          "output_type": "stream",
          "name": "stderr",
          "text": [
            " 42%|████▏     | 42/100 [11:22<15:41, 16.23s/it]"
          ]
        },
        {
          "output_type": "stream",
          "name": "stdout",
          "text": [
            " train_loss 1.7564; val_loss 1.7724; val_acc 0.9855\n"
          ]
        },
        {
          "output_type": "stream",
          "name": "stderr",
          "text": [
            " 43%|████▎     | 43/100 [11:38<15:25, 16.23s/it]"
          ]
        },
        {
          "output_type": "stream",
          "name": "stdout",
          "text": [
            " train_loss 1.7559; val_loss 1.7577; val_acc 0.9977\n"
          ]
        },
        {
          "output_type": "stream",
          "name": "stderr",
          "text": [
            " 44%|████▍     | 44/100 [11:54<15:08, 16.23s/it]"
          ]
        },
        {
          "output_type": "stream",
          "name": "stdout",
          "text": [
            " train_loss 1.7556; val_loss 1.7561; val_acc 1.0000\n"
          ]
        },
        {
          "output_type": "stream",
          "name": "stderr",
          "text": [
            " 45%|████▌     | 45/100 [12:11<14:52, 16.23s/it]"
          ]
        },
        {
          "output_type": "stream",
          "name": "stdout",
          "text": [
            " train_loss 1.7549; val_loss 1.7569; val_acc 0.9991\n"
          ]
        },
        {
          "output_type": "stream",
          "name": "stderr",
          "text": [
            " 46%|████▌     | 46/100 [12:27<14:36, 16.24s/it]"
          ]
        },
        {
          "output_type": "stream",
          "name": "stdout",
          "text": [
            " train_loss 1.7550; val_loss 1.7558; val_acc 0.9995\n"
          ]
        },
        {
          "output_type": "stream",
          "name": "stderr",
          "text": [
            " 47%|████▋     | 47/100 [12:43<14:20, 16.23s/it]"
          ]
        },
        {
          "output_type": "stream",
          "name": "stdout",
          "text": [
            " train_loss 1.7552; val_loss 1.7560; val_acc 0.9995\n"
          ]
        },
        {
          "output_type": "stream",
          "name": "stderr",
          "text": [
            " 48%|████▊     | 48/100 [12:59<14:04, 16.23s/it]"
          ]
        },
        {
          "output_type": "stream",
          "name": "stdout",
          "text": [
            " train_loss 1.7549; val_loss 1.7566; val_acc 0.9986\n"
          ]
        },
        {
          "output_type": "stream",
          "name": "stderr",
          "text": [
            " 49%|████▉     | 49/100 [13:15<13:47, 16.23s/it]"
          ]
        },
        {
          "output_type": "stream",
          "name": "stdout",
          "text": [
            " train_loss 1.7549; val_loss 1.7555; val_acc 0.9995\n"
          ]
        },
        {
          "output_type": "stream",
          "name": "stderr",
          "text": [
            " 50%|█████     | 50/100 [13:32<13:31, 16.23s/it]"
          ]
        },
        {
          "output_type": "stream",
          "name": "stdout",
          "text": [
            " train_loss 1.7549; val_loss 1.7561; val_acc 0.9995\n"
          ]
        },
        {
          "output_type": "stream",
          "name": "stderr",
          "text": [
            " 51%|█████     | 51/100 [13:48<13:15, 16.24s/it]"
          ]
        },
        {
          "output_type": "stream",
          "name": "stdout",
          "text": [
            " train_loss 1.7549; val_loss 1.7558; val_acc 0.9995\n"
          ]
        },
        {
          "output_type": "stream",
          "name": "stderr",
          "text": [
            " 52%|█████▏    | 52/100 [14:04<12:59, 16.24s/it]"
          ]
        },
        {
          "output_type": "stream",
          "name": "stdout",
          "text": [
            " train_loss 1.7548; val_loss 1.7559; val_acc 0.9995\n"
          ]
        },
        {
          "output_type": "stream",
          "name": "stderr",
          "text": [
            " 53%|█████▎    | 53/100 [14:20<12:43, 16.24s/it]"
          ]
        },
        {
          "output_type": "stream",
          "name": "stdout",
          "text": [
            " train_loss 1.7548; val_loss 1.7556; val_acc 1.0000\n"
          ]
        },
        {
          "output_type": "stream",
          "name": "stderr",
          "text": [
            " 54%|█████▍    | 54/100 [14:37<12:27, 16.25s/it]"
          ]
        },
        {
          "output_type": "stream",
          "name": "stdout",
          "text": [
            " train_loss 1.7549; val_loss 1.7553; val_acc 0.9995\n"
          ]
        },
        {
          "output_type": "stream",
          "name": "stderr",
          "text": [
            " 55%|█████▌    | 55/100 [14:53<12:11, 16.25s/it]"
          ]
        },
        {
          "output_type": "stream",
          "name": "stdout",
          "text": [
            " train_loss 1.7548; val_loss 1.7554; val_acc 0.9995\n"
          ]
        },
        {
          "output_type": "stream",
          "name": "stderr",
          "text": [
            " 56%|█████▌    | 56/100 [15:09<11:55, 16.25s/it]"
          ]
        },
        {
          "output_type": "stream",
          "name": "stdout",
          "text": [
            " train_loss 1.7548; val_loss 1.7552; val_acc 1.0000\n"
          ]
        },
        {
          "output_type": "stream",
          "name": "stderr",
          "text": [
            " 57%|█████▋    | 57/100 [15:25<11:38, 16.25s/it]"
          ]
        },
        {
          "output_type": "stream",
          "name": "stdout",
          "text": [
            " train_loss 1.7548; val_loss 1.7557; val_acc 0.9995\n"
          ]
        },
        {
          "output_type": "stream",
          "name": "stderr",
          "text": [
            " 58%|█████▊    | 58/100 [15:42<11:22, 16.25s/it]"
          ]
        },
        {
          "output_type": "stream",
          "name": "stdout",
          "text": [
            " train_loss 1.7548; val_loss 1.7552; val_acc 1.0000\n"
          ]
        },
        {
          "output_type": "stream",
          "name": "stderr",
          "text": [
            " 59%|█████▉    | 59/100 [15:58<11:06, 16.25s/it]"
          ]
        },
        {
          "output_type": "stream",
          "name": "stdout",
          "text": [
            " train_loss 1.7548; val_loss 1.7552; val_acc 1.0000\n"
          ]
        },
        {
          "output_type": "stream",
          "name": "stderr",
          "text": [
            " 60%|██████    | 60/100 [16:14<10:50, 16.25s/it]"
          ]
        },
        {
          "output_type": "stream",
          "name": "stdout",
          "text": [
            " train_loss 1.7548; val_loss 1.7557; val_acc 0.9995\n"
          ]
        },
        {
          "output_type": "stream",
          "name": "stderr",
          "text": [
            " 61%|██████    | 61/100 [16:31<10:33, 16.25s/it]"
          ]
        },
        {
          "output_type": "stream",
          "name": "stdout",
          "text": [
            " train_loss 1.7551; val_loss 1.7564; val_acc 0.9991\n"
          ]
        },
        {
          "output_type": "stream",
          "name": "stderr",
          "text": [
            " 62%|██████▏   | 62/100 [16:47<10:17, 16.25s/it]"
          ]
        },
        {
          "output_type": "stream",
          "name": "stdout",
          "text": [
            " train_loss 1.7563; val_loss 1.7577; val_acc 0.9981\n"
          ]
        },
        {
          "output_type": "stream",
          "name": "stderr",
          "text": [
            " 63%|██████▎   | 63/100 [17:03<10:01, 16.25s/it]"
          ]
        },
        {
          "output_type": "stream",
          "name": "stdout",
          "text": [
            " train_loss 1.7556; val_loss 1.7655; val_acc 0.9911\n"
          ]
        },
        {
          "output_type": "stream",
          "name": "stderr",
          "text": [
            " 64%|██████▍   | 64/100 [17:19<09:45, 16.25s/it]"
          ]
        },
        {
          "output_type": "stream",
          "name": "stdout",
          "text": [
            " train_loss 1.7564; val_loss 1.7575; val_acc 0.9986\n"
          ]
        },
        {
          "output_type": "stream",
          "name": "stderr",
          "text": [
            " 65%|██████▌   | 65/100 [17:36<09:28, 16.25s/it]"
          ]
        },
        {
          "output_type": "stream",
          "name": "stdout",
          "text": [
            " train_loss 1.7576; val_loss 1.7601; val_acc 0.9967\n"
          ]
        },
        {
          "output_type": "stream",
          "name": "stderr",
          "text": [
            " 66%|██████▌   | 66/100 [17:52<09:12, 16.25s/it]"
          ]
        },
        {
          "output_type": "stream",
          "name": "stdout",
          "text": [
            " train_loss 1.7562; val_loss 1.7589; val_acc 0.9967\n"
          ]
        },
        {
          "output_type": "stream",
          "name": "stderr",
          "text": [
            " 67%|██████▋   | 67/100 [18:08<08:55, 16.24s/it]"
          ]
        },
        {
          "output_type": "stream",
          "name": "stdout",
          "text": [
            " train_loss 1.7550; val_loss 1.7576; val_acc 0.9981\n"
          ]
        },
        {
          "output_type": "stream",
          "name": "stderr",
          "text": [
            " 68%|██████▊   | 68/100 [18:24<08:39, 16.24s/it]"
          ]
        },
        {
          "output_type": "stream",
          "name": "stdout",
          "text": [
            " train_loss 1.7549; val_loss 1.7558; val_acc 0.9995\n"
          ]
        },
        {
          "output_type": "stream",
          "name": "stderr",
          "text": [
            " 69%|██████▉   | 69/100 [18:40<08:23, 16.23s/it]"
          ]
        },
        {
          "output_type": "stream",
          "name": "stdout",
          "text": [
            " train_loss 1.7548; val_loss 1.7559; val_acc 0.9991\n"
          ]
        },
        {
          "output_type": "stream",
          "name": "stderr",
          "text": [
            " 70%|███████   | 70/100 [18:57<08:07, 16.23s/it]"
          ]
        },
        {
          "output_type": "stream",
          "name": "stdout",
          "text": [
            " train_loss 1.7549; val_loss 1.7571; val_acc 0.9981\n"
          ]
        },
        {
          "output_type": "stream",
          "name": "stderr",
          "text": [
            " 71%|███████   | 71/100 [19:13<07:50, 16.23s/it]"
          ]
        },
        {
          "output_type": "stream",
          "name": "stdout",
          "text": [
            " train_loss 1.7549; val_loss 1.7561; val_acc 0.9991\n"
          ]
        },
        {
          "output_type": "stream",
          "name": "stderr",
          "text": [
            " 72%|███████▏  | 72/100 [19:29<07:34, 16.23s/it]"
          ]
        },
        {
          "output_type": "stream",
          "name": "stdout",
          "text": [
            " train_loss 1.7548; val_loss 1.7561; val_acc 0.9995\n"
          ]
        },
        {
          "output_type": "stream",
          "name": "stderr",
          "text": [
            " 73%|███████▎  | 73/100 [19:45<07:18, 16.23s/it]"
          ]
        },
        {
          "output_type": "stream",
          "name": "stdout",
          "text": [
            " train_loss 1.7549; val_loss 1.7555; val_acc 0.9995\n"
          ]
        },
        {
          "output_type": "stream",
          "name": "stderr",
          "text": [
            " 74%|███████▍  | 74/100 [20:02<07:01, 16.23s/it]"
          ]
        },
        {
          "output_type": "stream",
          "name": "stdout",
          "text": [
            " train_loss 1.7548; val_loss 1.7554; val_acc 0.9995\n"
          ]
        },
        {
          "output_type": "stream",
          "name": "stderr",
          "text": [
            " 75%|███████▌  | 75/100 [20:18<06:45, 16.23s/it]"
          ]
        },
        {
          "output_type": "stream",
          "name": "stdout",
          "text": [
            " train_loss 1.7548; val_loss 1.7558; val_acc 0.9995\n"
          ]
        },
        {
          "output_type": "stream",
          "name": "stderr",
          "text": [
            " 76%|███████▌  | 76/100 [20:34<06:29, 16.24s/it]"
          ]
        },
        {
          "output_type": "stream",
          "name": "stdout",
          "text": [
            " train_loss 1.7549; val_loss 1.7563; val_acc 0.9986\n"
          ]
        },
        {
          "output_type": "stream",
          "name": "stderr",
          "text": [
            " 77%|███████▋  | 77/100 [20:50<06:13, 16.24s/it]"
          ]
        },
        {
          "output_type": "stream",
          "name": "stdout",
          "text": [
            " train_loss 1.7549; val_loss 1.7558; val_acc 0.9995\n"
          ]
        },
        {
          "output_type": "stream",
          "name": "stderr",
          "text": [
            " 78%|███████▊  | 78/100 [21:07<05:57, 16.25s/it]"
          ]
        },
        {
          "output_type": "stream",
          "name": "stdout",
          "text": [
            " train_loss 1.7548; val_loss 1.7561; val_acc 0.9986\n"
          ]
        },
        {
          "output_type": "stream",
          "name": "stderr",
          "text": [
            " 79%|███████▉  | 79/100 [21:23<05:41, 16.25s/it]"
          ]
        },
        {
          "output_type": "stream",
          "name": "stdout",
          "text": [
            " train_loss 1.7548; val_loss 1.7554; val_acc 0.9995\n"
          ]
        },
        {
          "output_type": "stream",
          "name": "stderr",
          "text": [
            " 80%|████████  | 80/100 [21:39<05:25, 16.25s/it]"
          ]
        },
        {
          "output_type": "stream",
          "name": "stdout",
          "text": [
            " train_loss 1.7548; val_loss 1.7558; val_acc 0.9991\n"
          ]
        },
        {
          "output_type": "stream",
          "name": "stderr",
          "text": [
            " 81%|████████  | 81/100 [21:55<05:08, 16.26s/it]"
          ]
        },
        {
          "output_type": "stream",
          "name": "stdout",
          "text": [
            " train_loss 1.7548; val_loss 1.7559; val_acc 0.9991\n"
          ]
        },
        {
          "output_type": "stream",
          "name": "stderr",
          "text": [
            " 82%|████████▏ | 82/100 [22:12<04:52, 16.26s/it]"
          ]
        },
        {
          "output_type": "stream",
          "name": "stdout",
          "text": [
            " train_loss 1.7548; val_loss 1.7562; val_acc 0.9991\n"
          ]
        },
        {
          "output_type": "stream",
          "name": "stderr",
          "text": [
            " 83%|████████▎ | 83/100 [22:28<04:36, 16.26s/it]"
          ]
        },
        {
          "output_type": "stream",
          "name": "stdout",
          "text": [
            " train_loss 1.7548; val_loss 1.7555; val_acc 0.9995\n"
          ]
        },
        {
          "output_type": "stream",
          "name": "stderr",
          "text": [
            " 84%|████████▍ | 84/100 [22:44<04:20, 16.26s/it]"
          ]
        },
        {
          "output_type": "stream",
          "name": "stdout",
          "text": [
            " train_loss 1.7548; val_loss 1.7554; val_acc 1.0000\n"
          ]
        },
        {
          "output_type": "stream",
          "name": "stderr",
          "text": [
            " 85%|████████▌ | 85/100 [23:00<04:03, 16.26s/it]"
          ]
        },
        {
          "output_type": "stream",
          "name": "stdout",
          "text": [
            " train_loss 1.7548; val_loss 1.7562; val_acc 0.9986\n"
          ]
        },
        {
          "output_type": "stream",
          "name": "stderr",
          "text": [
            " 86%|████████▌ | 86/100 [23:17<03:47, 16.26s/it]"
          ]
        },
        {
          "output_type": "stream",
          "name": "stdout",
          "text": [
            " train_loss 1.7548; val_loss 1.7553; val_acc 1.0000\n"
          ]
        },
        {
          "output_type": "stream",
          "name": "stderr",
          "text": [
            " 87%|████████▋ | 87/100 [23:33<03:31, 16.26s/it]"
          ]
        },
        {
          "output_type": "stream",
          "name": "stdout",
          "text": [
            " train_loss 1.7548; val_loss 1.7558; val_acc 0.9991\n"
          ]
        },
        {
          "output_type": "stream",
          "name": "stderr",
          "text": [
            " 88%|████████▊ | 88/100 [23:49<03:14, 16.25s/it]"
          ]
        },
        {
          "output_type": "stream",
          "name": "stdout",
          "text": [
            " train_loss 1.7548; val_loss 1.7560; val_acc 0.9991\n"
          ]
        },
        {
          "output_type": "stream",
          "name": "stderr",
          "text": [
            " 89%|████████▉ | 89/100 [24:05<02:58, 16.24s/it]"
          ]
        },
        {
          "output_type": "stream",
          "name": "stdout",
          "text": [
            " train_loss 1.7548; val_loss 1.7555; val_acc 0.9995\n"
          ]
        },
        {
          "output_type": "stream",
          "name": "stderr",
          "text": [
            " 90%|█████████ | 90/100 [24:22<02:42, 16.25s/it]"
          ]
        },
        {
          "output_type": "stream",
          "name": "stdout",
          "text": [
            " train_loss 1.7548; val_loss 1.7559; val_acc 0.9991\n"
          ]
        },
        {
          "output_type": "stream",
          "name": "stderr",
          "text": [
            " 91%|█████████ | 91/100 [24:38<02:26, 16.25s/it]"
          ]
        },
        {
          "output_type": "stream",
          "name": "stdout",
          "text": [
            " train_loss 1.7548; val_loss 1.7550; val_acc 1.0000\n"
          ]
        },
        {
          "output_type": "stream",
          "name": "stderr",
          "text": [
            " 92%|█████████▏| 92/100 [24:54<02:09, 16.24s/it]"
          ]
        },
        {
          "output_type": "stream",
          "name": "stdout",
          "text": [
            " train_loss 1.7548; val_loss 1.7551; val_acc 1.0000\n"
          ]
        },
        {
          "output_type": "stream",
          "name": "stderr",
          "text": [
            " 93%|█████████▎| 93/100 [25:10<01:53, 16.24s/it]"
          ]
        },
        {
          "output_type": "stream",
          "name": "stdout",
          "text": [
            " train_loss 1.7548; val_loss 1.7551; val_acc 1.0000\n"
          ]
        },
        {
          "output_type": "stream",
          "name": "stderr",
          "text": [
            " 94%|█████████▍| 94/100 [25:27<01:37, 16.24s/it]"
          ]
        },
        {
          "output_type": "stream",
          "name": "stdout",
          "text": [
            " train_loss 1.7548; val_loss 1.7555; val_acc 0.9995\n"
          ]
        },
        {
          "output_type": "stream",
          "name": "stderr",
          "text": [
            " 95%|█████████▌| 95/100 [25:43<01:21, 16.23s/it]"
          ]
        },
        {
          "output_type": "stream",
          "name": "stdout",
          "text": [
            " train_loss 1.7548; val_loss 1.7553; val_acc 1.0000\n"
          ]
        },
        {
          "output_type": "stream",
          "name": "stderr",
          "text": [
            " 96%|█████████▌| 96/100 [25:59<01:04, 16.23s/it]"
          ]
        },
        {
          "output_type": "stream",
          "name": "stdout",
          "text": [
            " train_loss 1.7548; val_loss 1.7553; val_acc 1.0000\n"
          ]
        },
        {
          "output_type": "stream",
          "name": "stderr",
          "text": [
            " 97%|█████████▋| 97/100 [26:15<00:48, 16.24s/it]"
          ]
        },
        {
          "output_type": "stream",
          "name": "stdout",
          "text": [
            " train_loss 1.7548; val_loss 1.7557; val_acc 0.9995\n"
          ]
        },
        {
          "output_type": "stream",
          "name": "stderr",
          "text": [
            " 98%|█████████▊| 98/100 [26:32<00:32, 16.24s/it]"
          ]
        },
        {
          "output_type": "stream",
          "name": "stdout",
          "text": [
            " train_loss 1.7548; val_loss 1.7558; val_acc 0.9991\n"
          ]
        },
        {
          "output_type": "stream",
          "name": "stderr",
          "text": [
            " 99%|█████████▉| 99/100 [26:48<00:16, 16.24s/it]"
          ]
        },
        {
          "output_type": "stream",
          "name": "stdout",
          "text": [
            " train_loss 1.7548; val_loss 1.7550; val_acc 1.0000\n"
          ]
        },
        {
          "output_type": "stream",
          "name": "stderr",
          "text": [
            "100%|██████████| 100/100 [27:04<00:00, 16.24s/it]"
          ]
        },
        {
          "output_type": "stream",
          "name": "stdout",
          "text": [
            " train_loss 1.7548; val_loss 1.7554; val_acc 0.9995\n"
          ]
        },
        {
          "output_type": "stream",
          "name": "stderr",
          "text": [
            "\n"
          ]
        }
      ],
      "source": [
        "lr = 4e-5\n",
        "epochs = 100\n",
        "model, train_losses, val_losses, val_acc = train(vgg, train_loader, val_loader, lr = lr, epochs = epochs)"
      ]
    },
    {
      "cell_type": "code",
      "execution_count": null,
      "metadata": {
        "colab": {
          "base_uri": "https://localhost:8080/",
          "height": 944
        },
        "id": "rlYuJJPSV0Sl",
        "outputId": "20f51044-6180-4d27-bd5b-7f6eacca5a22"
      },
      "outputs": [
        {
          "output_type": "display_data",
          "data": {
            "text/plain": [
              "<Figure size 640x480 with 1 Axes>"
            ],
            "image/png": "[encoded data removed]"
          },
          "metadata": {}
        },
        {
          "output_type": "stream",
          "name": "stdout",
          "text": [
            "====================================================================================================\n"
          ]
        },
        {
          "output_type": "display_data",
          "data": {
            "text/plain": [
              "<Figure size 640x480 with 1 Axes>"
            ],
            "image/png": "[encoded data removed]"
          },
          "metadata": {}
        }
      ],
      "source": [
        "visualize_accuracy(val_acc)\n",
        "visualize_losses(train_losses, val_losses)"
      ]
    },
    {
      "cell_type": "code",
      "source": [
        "torch.save(model, \"model.pt\")"
      ],
      "metadata": {
        "id": "0lAGBIDDS8gd"
      },
      "execution_count": null,
      "outputs": []
    },
    {
      "cell_type": "code",
      "source": [
        "model_extraction = model\n",
        "model_extraction.classifier = nn.Sequential(\n",
        "    nn.Linear(25088, 2048),\n",
        "    nn.LeakyReLU()\n",
        ")\n",
        "model_extraction.to(device)"
      ],
      "metadata": {
        "id": "YYqGz4Za-vrQ"
      },
      "execution_count": null,
      "outputs": []
    },
    {
      "cell_type": "code",
      "source": [
        "embedding_list = []\n",
        "name_encode_list = []\n",
        "\n",
        "with torch.no_grad():\n",
        "  for bi, (xi, yi) in enumerate(train_loader):\n",
        "    emb = model_extraction(xi.to(device))\n",
        "    yi = yi.type(torch.LongTensor) \n",
        "    yi = yi.to(device)\n",
        "\n",
        "    for i in emb.tolist():\n",
        "      embedding_list.append(torch.FloatTensor(i))\n",
        "    for i in yi.tolist():\n",
        "      name_encode_list.append(torch.FloatTensor(i))"
      ],
      "metadata": {
        "id": "515ngcjDFjkX"
      },
      "execution_count": null,
      "outputs": []
    },
    {
      "cell_type": "markdown",
      "metadata": {
        "id": "3Y-K3IOuYB8N"
      },
      "source": [
        "### TEST CASE (WITH VGG)"
      ]
    },
    {
      "cell_type": "code",
      "execution_count": null,
      "metadata": {
        "id": "YxNvTkuBQOBx"
      },
      "outputs": [],
      "source": [
        "# Define test_case function\n",
        "def test_case(picture_path):\n",
        "  with torch.no_grad():\n",
        "    cos = torch.nn.CosineSimilarity(dim=0)\n",
        "    output_list = []\n",
        "    img = Image.open(picture_path)\n",
        "    face, prob = mtcnn(img, return_prob = True)\n",
        "    if face is not None and prob > 0.90:\n",
        "\n",
        "      # Cosine similarity\n",
        "      face = face.to(device)\n",
        "      face_emb = model_extraction(face.unsqueeze(0))\n",
        "\n",
        "      for i in embedding_list:\n",
        "        output = cos(face_emb[0], i.to(device)).item()\n",
        "        output_list.append(output)\n",
        "\n",
        "      max_output = max(output_list)\n",
        "      print(\"Cosine similarity:\", max_output)\n",
        "      if max_output < 0.9:\n",
        "        print(\"unrecognizable\") \n",
        "\n",
        "      else:\n",
        "        model = torch.load(\"model.pt\")\n",
        "        recognition = model(face.unsqueeze(0))\n",
        "        recognition = recognition.argmax(dim = 1).long()\n",
        "        name = label_encoder.inverse_transform(recognition.cpu())\n",
        "        print(name[0])\n",
        "    else:\n",
        "      print(\"unrecognizable\")"
      ]
    },
    {
      "cell_type": "code",
      "execution_count": null,
      "metadata": {
        "id": "WDKfGNd_tgkv"
      },
      "outputs": [],
      "source": [
        "picture_path = \"\"\n",
        "test_case(picture_path)"
      ]
    }
  ],
  "metadata": {
    "accelerator": "GPU",
    "colab": {
      "provenance": [],
      "include_colab_link": true
    },
    "gpuClass": "standard",
    "kernelspec": {
      "display_name": "Python 3",
      "name": "python3"
    },
    "language_info": {
      "name": "python"
    }
  },
  "nbformat": 4,
  "nbformat_minor": 0
}